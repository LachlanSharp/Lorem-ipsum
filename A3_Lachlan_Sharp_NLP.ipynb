{
  "nbformat": 4,
  "nbformat_minor": 0,
  "metadata": {
    "kernelspec": {
      "display_name": "Python 3",
      "language": "python",
      "name": "python3"
    },
    "language_info": {
      "codemirror_mode": {
        "name": "ipython",
        "version": 3
      },
      "file_extension": ".py",
      "mimetype": "text/x-python",
      "name": "python",
      "nbconvert_exporter": "python",
      "pygments_lexer": "ipython3",
      "version": "3.7.3"
    },
    "colab": {
      "name": "A3_Lachlan_Sharp_NLP.ipynb",
      "provenance": [],
      "collapsed_sections": [],
      "toc_visible": true,
      "include_colab_link": true
    }
  },
  "cells": [
    {
      "cell_type": "markdown",
      "metadata": {
        "id": "view-in-github",
        "colab_type": "text"
      },
      "source": [
        "<a href=\"https://colab.research.google.com/github/LachlanSharp/Lorem-ipsum/blob/main/A3_Lachlan_Sharp_NLP.ipynb\" target=\"_parent\"><img src=\"https://colab.research.google.com/assets/colab-badge.svg\" alt=\"Open In Colab\"/></a>"
      ]
    },
    {
      "cell_type": "markdown",
      "metadata": {
        "id": "g1wmZs7Xhb8p"
      },
      "source": [
        "# MA5851 - Assessment 3: WebCrawler and NLP System\n",
        "\n",
        "---\n",
        "\n",
        "* **Task 3**: NLP Tasks\n",
        "* **Author**: Lachlan Sharp\n",
        "* **Due Date**: 2021-12-08\n",
        "\n",
        "---\n",
        "\n"
      ]
    },
    {
      "cell_type": "markdown",
      "metadata": {
        "id": "gnMbbfi8luSa"
      },
      "source": [
        ""
      ]
    },
    {
      "cell_type": "markdown",
      "metadata": {
        "id": "txHzM7fKzhak"
      },
      "source": [
        "---\n",
        "\n",
        "# Setup of data-project "
      ]
    },
    {
      "cell_type": "markdown",
      "metadata": {
        "id": "nfad1tSKhvzj"
      },
      "source": [
        "## Import Dependencies"
      ]
    },
    {
      "cell_type": "code",
      "metadata": {
        "id": "IgmbsYikhoE6",
        "colab": {
          "base_uri": "https://localhost:8080/"
        },
        "outputId": "2dcd22bd-b2a6-444b-fe73-07f76715bae3"
      },
      "source": [
        "import os.path # Operating system interface\n",
        "\n",
        "import numpy as np # array/matrices support\n",
        "import pandas as pd # data analaysis\n",
        "\n",
        "# plotting libraries\n",
        "import matplotlib.pyplot as plt\n",
        "%matplotlib inline\n",
        "import seaborn as sns # statistical data visulisation\n",
        "\n",
        "import random # Generate pseudo-random numbers\n",
        "\n",
        "import gensim # Topic modelling\n",
        "import gensim.corpora as corpora\n",
        "from gensim.utils import simple_preprocess\n",
        "from gensim.models import CoherenceModel\n",
        "from gensim.models import Phrases\n",
        "\n",
        "import nltk # Natural Language Toolkit\n",
        "nltk.download('stopwords')\n",
        "nltk.download('wordnet')\n",
        "nltk.download('punkt')\n",
        "nltk.download('averaged_perceptron_tagger')\n",
        "nltk.download('vader_lexicon')\n",
        "from nltk.tag import pos_tag\n",
        "from nltk.tokenize import word_tokenize\n",
        "from nltk.corpus import stopwords\n",
        "from nltk.stem import WordNetLemmatizer\n",
        "from nltk.sentiment.vader import SentimentIntensityAnalyzer\n",
        "\n",
        "!pip install unidecode\n",
        "from unidecode import unidecode # ASCII representation of Unicode strings\n",
        "import html # HyperText Markup Language support\n",
        "import re # regular expressions\n",
        "\n",
        "from pprint import pprint # Data pretty printer\n",
        "\n",
        "# Get python version\n",
        "import platform # Platform’s identifying data\n",
        "print('\\nPython version {}'.format(platform.python_version()))"
      ],
      "execution_count": 306,
      "outputs": [
        {
          "output_type": "stream",
          "name": "stdout",
          "text": [
            "[nltk_data] Downloading package stopwords to /root/nltk_data...\n",
            "[nltk_data]   Package stopwords is already up-to-date!\n",
            "[nltk_data] Downloading package wordnet to /root/nltk_data...\n",
            "[nltk_data]   Package wordnet is already up-to-date!\n",
            "[nltk_data] Downloading package punkt to /root/nltk_data...\n",
            "[nltk_data]   Package punkt is already up-to-date!\n",
            "[nltk_data] Downloading package averaged_perceptron_tagger to\n",
            "[nltk_data]     /root/nltk_data...\n",
            "[nltk_data]   Package averaged_perceptron_tagger is already up-to-\n",
            "[nltk_data]       date!\n",
            "[nltk_data] Downloading package vader_lexicon to /root/nltk_data...\n",
            "[nltk_data]   Package vader_lexicon is already up-to-date!\n",
            "Requirement already satisfied: unidecode in /usr/local/lib/python3.7/dist-packages (1.3.2)\n",
            "\n",
            "Python version 3.7.12\n"
          ]
        }
      ]
    },
    {
      "cell_type": "markdown",
      "metadata": {
        "id": "jxOxDSnfgIEO"
      },
      "source": [
        "## User defined functions\n"
      ]
    },
    {
      "cell_type": "code",
      "metadata": {
        "id": "zUo8VrsPOiYq"
      },
      "source": [
        "def mk_dir(path):\n",
        "    \"\"\"\n",
        "    Creates a directory if it doesn't exist\n",
        "\n",
        "    Parameters:\n",
        "    -----------\n",
        "    str : path\n",
        "        The full directory path for the folder to be created.\n",
        "        Note: the path should not terminate with a '/'\n",
        "\n",
        "    Returns:\n",
        "    --------\n",
        "    bool\n",
        "        If folder exists, True, otherwise, False\n",
        "    \"\"\"\n",
        "    if not os.path.exists(path):\n",
        "        try:\n",
        "            os.makedirs(path)\n",
        "        except:\n",
        "            pass\n",
        "    return os.path.exists(path)\n",
        "\n",
        "\n",
        "def print_column_search_contains(df, pattern, print_long = True, max_print_per_feature = 1000):\n",
        "    \"\"\"\n",
        "    Iterates through the columns of a dataframe and prints entry which\n",
        "    contain matches to the passed regex pattern.\n",
        "\n",
        "    The function is intended as data exploration tool.\n",
        "    \"\"\"\n",
        "\n",
        "    for colname in df.select_dtypes(include='object').columns:\n",
        "        print(colname)\n",
        "        print(\"`{}`\\t(First {} results)\".format(colname, max_print_per_feature))\n",
        "        print(\"========================\")\n",
        "        string_list = [val for val in df[colname] if isinstance(val, str)]\n",
        "        string_list = [string for string in string_list if bool(re.search(pattern, string))]\n",
        "        if print_long:\n",
        "            for x in string_list[:max_print_per_feature]:\n",
        "                print(x)           \n",
        "        else:\n",
        "            print(string_list[:max_print_per_feature])\n",
        "        print()\n",
        "\n",
        "\n",
        "\n",
        "\n",
        "def get_column_search_findall(df, pattern, unique_only=True):\n",
        "    \"\"\"\n",
        "    Iterates through the columns of a dataframe and prints entry which\n",
        "    contain matches to the passed regex.\n",
        "\n",
        "    The function is intended as data exploration tool.\n",
        "    \"\"\"\n",
        "    search_results = []\n",
        "    for colname in df.select_dtypes(include='object').columns:\n",
        "        string_list = [val for val in df[colname] if isinstance(val, str)]\n",
        "        string_list = [re.findall(pattern, string) for string in string_list if bool(re.search(pattern, string))]\n",
        "        for string in string_list:\n",
        "            search_results.append(string)\n",
        "    \n",
        "    search_results = sum(search_results,[])\n",
        "    if unique_only:\n",
        "        search_results = list(set(search_results))\n",
        "    return search_results\n",
        "\n",
        "\n",
        "\n",
        "def set_dictionary_subst(oldtext_list, newtext = ''):\n",
        "    \"\"\"\n",
        "    Creates a dictionary of replacement values for use with pandas \n",
        "    `.replace()` method.\n",
        "\n",
        "    Implementation would be as follows:\n",
        "\n",
        "        subst_dict = set_dictionary_subst(oldtext_list, newtext = '')\n",
        "        df.replace(to_replace = replace_dict, regex = True)\n",
        "\n",
        "    Parameter:\n",
        "    ----------\n",
        "    oldtext : list (of str)\n",
        "        A list of strings to be replaced\n",
        "    newtext: str\n",
        "        A text value to be substituted\n",
        "\n",
        "    Returns:\n",
        "    --------\n",
        "    dict\n",
        "        A dictionary of regex escaped entries consisting of\n",
        "            oldtext : newtext\n",
        "    \"\"\"\n",
        "\n",
        "    if isinstance(oldtext_list, list):\n",
        "        # Get unique entries by converting the list to a set\n",
        "        subst_dict = {re.escape(oldtext) : newtext for oldtext in set(oldtext_list)}\n",
        "    elif isinstance(oldtext_list, set):\n",
        "        # Convert to dictionary\n",
        "        subst_dict = {re.escape(oldtext) : newtext for oldtext in oldtext_list}        \n",
        "    elif isinstance(oldtext_list, dict):\n",
        "        subst_dict = oldtext_list\n",
        "    else:\n",
        "        subst_dict = oldtext_list\n",
        "        print(f'parameter `oldtext_list` unexpected type: {type(oldtext_list)}')\n",
        "\n",
        "    return subst_dict\n",
        "\n",
        "\n",
        "\n",
        "def stop_and_lemm(document\n",
        "                  ,stopwords\n",
        "                  ,lemmatizer\n",
        "                  ,retain_pos={ 'ALL' : '.' }\n",
        "                  ):\n",
        "    \"\"\"\n",
        "    Removes stopwords from a document and performs stemming.\n",
        "\n",
        "    Parameters:\n",
        "    -----------\n",
        "    document : str\n",
        "        the text to be processed\n",
        "    stopwords : list[str]\n",
        "        a list of words to be removed\n",
        "    lemmatizer : function (e.g. nltk.stem.wordnet.WordNetLemmatizer)\n",
        "        a function that can perform lemmatization using a `.lemmatize()` method\n",
        "    dict : retain_pos\n",
        "        a dictionary specifiy which parts of speach (POS) should be retained.\n",
        "        e.g. {'NOUN' : 'N', 'ADJ' : 'J', 'VERB' : 'V', 'ADV' : 'R' }\n",
        "        - dictionary values are used to generate a regex for the POS tag match\n",
        "        - dictionary key are for readability only\n",
        "\n",
        "\n",
        "    Returns:\n",
        "    -------\n",
        "    str\n",
        "        the document text after processing\n",
        "    \"\"\"\n",
        "\n",
        "    # Split document into a list of individual words\n",
        "    word_tokens = word_tokenize(document) # nltk\n",
        "    \n",
        "    # Retain part of speach tags\n",
        "    if retain_pos is not None and len(retain_pos) > 0:\n",
        "        regex_pos = \"^(\" + \"|\".join(retain_pos.values()) + \")\"    \n",
        "        pos_tokens = pos_tag(word_tokens)\n",
        "        word_tokens = [token for token, pos in pos_tokens if bool(re.search(regex_pos, pos))]\n",
        "\n",
        "    # Lematization and removal of stopwords\n",
        "    word_tokens = [lemmatizer.lemmatize(token) for token in word_tokens if token not in set(stopwords)]\n",
        "\n",
        "    # Rejoin text\n",
        "    document = ' '.join(word_tokens)\n",
        "    return document\n",
        "\n",
        "\n",
        "\n",
        "def word_frequencies(corpus, top_n = 50):\n",
        "    \"\"\"\n",
        "    Generates a tally of word frequency from a body of text\n",
        "\n",
        "    Paramters:\n",
        "    ---------\n",
        "    corpus : \n",
        "        an iterable object of text documents\n",
        "    top_n : int\n",
        "        The top-n occuring words by frequency\n",
        "\n",
        "    Returns:\n",
        "    --------\n",
        "    pandas.dataframe\n",
        "        A dataframe of two columns: 'word' and 'count'\n",
        "\n",
        "    \"\"\"\n",
        "\n",
        "    all_words = ' '.join([document for document in corpus]) \n",
        "    all_words = all_words.split() \n",
        "    fdist = nltk.FreqDist(all_words) \n",
        "    df_words = pd.DataFrame({'word':list(fdist.keys()), 'count':list(fdist.values())}) \n",
        "    \n",
        "    # selecting top-n most frequent words \n",
        "    return df_words.nlargest(columns=\"count\", n = top_n)\n",
        "\n",
        "\n",
        "\n",
        "# Get the dominant topics for each document\n",
        "def get_lda_dominant_topics(lda_model, corpus, top_n_words=10, delim_words=','):\n",
        "\n",
        "    # Initialise result set\n",
        "    df_topics = pd.DataFrame()\n",
        "\n",
        "    for index_doc, c in enumerate(lda_model[corpus]):\n",
        "        # Initalise results for document\n",
        "        topic1_id = -1\n",
        "        topic1_wt = 0\n",
        "        topic1_words = \"\"    \n",
        "        topic2_id = -1\n",
        "        topic2_wt = 0\n",
        "        topic2_words = \"\"  \n",
        "\n",
        "        # sort topics in decreasing order of contribution\n",
        "        topics = sorted(c[0], key = lambda x: x[1], reverse=True)\n",
        "\n",
        "        if len(topics) > 0:         \n",
        "            topic1 = topics[0]\n",
        "            topic1_id = topic1[0]\n",
        "            topic1_wt = topic1[1]\n",
        "            topic1_show = best_model.show_topic(topicid=topic1_id ,topn=top_n_words)\n",
        "            topic1_words = [word for word, wt in topic1_show]\n",
        "            topic1_words = delim_words.join(topic1_words)\n",
        "\n",
        "        if len(topics) > 1:\n",
        "            topic2 = topics[1]\n",
        "            topic2_id = topic2[0]\n",
        "            topic2_wt = topic2[1]\n",
        "            topic2_show = best_model.show_topic(topicid=topic2_id ,topn=top_n_words)\n",
        "            topic2_words = [word for word, wt in topic2_show]\n",
        "            topic2_words = delim_words.join(topic2_words)\n",
        "\n",
        "        # Append to result set\n",
        "        df_topics = df_topics.append(\n",
        "            pd.Series([int(index_doc), int(topic1_id), topic1_wt, topic1_words, int(topic2_id), topic2_wt, topic2_words])\n",
        "            ,ignore_index=True\n",
        "            )\n",
        "\n",
        "    # Set column names & data types\n",
        "    df_topics.columns = ['index_doc', 'Primary_topic', 'Primary_topic_contribution', 'Primary_topic_keywords', 'Secondary_topic', 'Secondary_topic_contribution', 'Secondary_topic_keywords']\n",
        "    df_topics = df_topics.astype({'index_doc': 'int64', 'Primary_topic': 'int64', 'Secondary_topic': 'int64'}, errors='ignore')\n",
        "    return df_topics\n",
        "\n",
        "\n",
        "\n",
        "def sentiment_colours():\n",
        "    return { 'positive' : 'C0', 'neutral' : 'black', 'negative' : 'C1' }"
      ],
      "execution_count": 271,
      "outputs": []
    },
    {
      "cell_type": "markdown",
      "metadata": {
        "id": "XQhVyeQjws3J"
      },
      "source": [
        "## Set directory paths\n",
        "\n",
        "Set pertinent file paths and names."
      ]
    },
    {
      "cell_type": "markdown",
      "metadata": {
        "id": "gqg9KLiezoUg"
      },
      "source": [
        "### Mount Google Drive\n",
        "\n",
        "This section applies to use of this Python notebook within Google Colab."
      ]
    },
    {
      "cell_type": "code",
      "metadata": {
        "id": "-BOZaHKeyQr_",
        "colab": {
          "base_uri": "https://localhost:8080/"
        },
        "outputId": "ee1c544e-6a94-4c17-e88d-98d73e5143f5"
      },
      "source": [
        "# Mount Google Drive\n",
        "from google.colab import drive\n",
        "drive.mount('/content/drive')"
      ],
      "execution_count": 4,
      "outputs": [
        {
          "output_type": "stream",
          "name": "stdout",
          "text": [
            "Mounted at /content/drive\n"
          ]
        }
      ]
    },
    {
      "cell_type": "markdown",
      "metadata": {
        "id": "K1ThXe1I69ga"
      },
      "source": [
        "### Set file paths"
      ]
    },
    {
      "cell_type": "code",
      "metadata": {
        "id": "vYqAA03QiNjg",
        "colab": {
          "base_uri": "https://localhost:8080/"
        },
        "outputId": "ca91e976-8b4e-4ad1-d915-eb250fef1f3e"
      },
      "source": [
        "# Set directory paths root filepath for data-project\n",
        "filepath_root = '/content/drive/MyDrive/Colab Notebooks/MA5851/Assessment 3' # data-project root\n",
        "filepath_data = os.path.join(filepath_root, 'data') # data folder\n",
        "print(\"Directory 'data' exists?: {}\".format(mk_dir(filepath_data)))\n",
        "\n",
        "# Set filenames\n",
        "filename_tophorse_items_df = \"df_tophorse_items.csv\"\n",
        "filename_tophorse_item_details_df = \"df_tophorse_item_details.csv\"\n",
        "\n",
        "filename_horseforum_threads_df = \"df_horseforum_threads.csv\" \n",
        "filename_horseforum_thread_posts_df = \"df_horseforum_thread_posts.csv\"\n",
        "filename_horseforum_thread_pages_df = \"df_horseforum_thread_pages.csv\"\n",
        "\n",
        "filename_horseforum_threads_cleaned_df = \"df_horseforum_threads_cleaned.csv\" "
      ],
      "execution_count": 5,
      "outputs": [
        {
          "output_type": "stream",
          "name": "stdout",
          "text": [
            "Directory 'data' exists?: True\n"
          ]
        }
      ]
    },
    {
      "cell_type": "markdown",
      "metadata": {
        "id": "1faP-niEnOj2"
      },
      "source": [
        "# Import data"
      ]
    },
    {
      "cell_type": "markdown",
      "metadata": {
        "id": "96ZpbJkUnmlA"
      },
      "source": [
        "Load data obtained via the web crawler."
      ]
    },
    {
      "cell_type": "code",
      "metadata": {
        "id": "l8_83E-dnQnc"
      },
      "source": [
        "df_horseforum_threads_raw = pd.read_csv(os.path.join(filepath_data, filename_horseforum_threads_df))\n",
        "print(\"Re-imported threads data: {x[0]} rows × {x[1]} cols\".format(x = df_horseforum_threads_raw.shape))\n",
        "df_horseforum_thread_posts_raw = pd.read_csv(os.path.join(filepath_data, filename_horseforum_thread_posts_df))\n",
        "print(\"Re-imported posts data: {x[0]} rows × {x[1]} cols\".format(x = df_horseforum_thread_posts_raw.shape))\n",
        "df_horseforum_thread_pages_raw = pd.read_csv(os.path.join(filepath_data, filename_horseforum_thread_pages_df))\n",
        "print(\"Re-imported pages data {x[0]} rows × {x[1]} cols\".format(x = df_horseforum_thread_pages_raw.shape))"
      ],
      "execution_count": null,
      "outputs": []
    },
    {
      "cell_type": "markdown",
      "metadata": {
        "id": "QR0roDN_I8kD"
      },
      "source": [
        "## Explore"
      ]
    },
    {
      "cell_type": "code",
      "metadata": {
        "id": "vYsQ_qOrJCb4"
      },
      "source": [
        "df_horseforum_thread_posts_raw.info()"
      ],
      "execution_count": null,
      "outputs": []
    },
    {
      "cell_type": "markdown",
      "metadata": {
        "id": "OcBmCD1fJEP6"
      },
      "source": [
        "Feature post_text was NaN in case where a user only posted and image (i.e., a picture of a horse) but no text."
      ]
    },
    {
      "cell_type": "code",
      "metadata": {
        "id": "pmU0igQwJMLX"
      },
      "source": [
        "df_horseforum_thread_posts_raw[df_horseforum_thread_posts_raw['post_text'].isnull()]"
      ],
      "execution_count": null,
      "outputs": []
    },
    {
      "cell_type": "markdown",
      "metadata": {
        "id": "hEpWYzdTJOi-"
      },
      "source": [
        "## Wrangle"
      ]
    },
    {
      "cell_type": "markdown",
      "metadata": {
        "id": "ZBSb8eRSPeZl"
      },
      "source": [
        "### Rename `df_horseforum_threads` columns"
      ]
    },
    {
      "cell_type": "code",
      "metadata": {
        "id": "QzIZUCbtPmU5"
      },
      "source": [
        "df_horseforum_threads_raw.rename(\n",
        "    {colname: colname.replace(\"item_\", \"thread_\") for colname in df_horseforum_threads_raw.columns}\n",
        "    ,axis=1\n",
        "    ,inplace=True\n",
        "     )\n",
        "df_horseforum_threads_raw.head()"
      ],
      "execution_count": null,
      "outputs": []
    },
    {
      "cell_type": "markdown",
      "metadata": {
        "id": "bloTdieoJZ2g"
      },
      "source": [
        "### Thread's participant count"
      ]
    },
    {
      "cell_type": "markdown",
      "metadata": {
        "id": "Vw5DnhbO2fhB"
      },
      "source": [
        "Participant count for each *thread* was captured (repeatedly) from each of the thread's *pages*. The following combines the `participant_count` feature into the main *thread* dataset.\n",
        "\n",
        "* *Note*: Participant count could have also been derived via agreggation of the `df_horseforum_thread_posts_raw` dataset."
      ]
    },
    {
      "cell_type": "code",
      "metadata": {
        "id": "jBpVO9PmQ89I"
      },
      "source": [
        "# Convert `participant_count` to integer\n",
        "df_horseforum_thread_pages_raw[['participant_count']] = df_horseforum_thread_pages_raw[['participant_count']].fillna(value=0)\n",
        "df_horseforum_thread_pages_raw['participant_count'] = df_horseforum_thread_pages_raw['participant_count'].apply(int)\n",
        "df_horseforum_thread_pages_raw[df_horseforum_thread_pages_raw['participant_count'] == 0]"
      ],
      "execution_count": null,
      "outputs": []
    },
    {
      "cell_type": "code",
      "metadata": {
        "id": "IqP8NUah0krT"
      },
      "source": [
        "# Add `participant_count` feature to the \"thread\" dataset (from \"pages\" dataset)\n",
        "df_horseforum_threads = pd.merge(\n",
        "    df_horseforum_threads_raw\n",
        "    ,df_horseforum_thread_pages_raw.drop(['page_url_path'], axis=1).drop_duplicates()\n",
        "    ,how='left'    \n",
        "    ,left_on='thread_url_path'\n",
        "    ,right_on='thread_url_path'\n",
        "    )\n",
        "\n",
        "df_horseforum_threads"
      ],
      "execution_count": null,
      "outputs": []
    },
    {
      "cell_type": "markdown",
      "metadata": {
        "id": "cfCc0YO727wo"
      },
      "source": [
        "### Cosolidate thread corpus\n",
        "\n",
        "Each *thread* consisted of multiple *posts*, where each unique post is its own observation. For the purpose topic modelling, the posts of each thread need to be combined to create one \"document\" per thread. The wrangleing steps were as follows:\n",
        "\n",
        "1. Coalesce `NaN` values in the `post_text` feature to empty strings.\n",
        "2. Group the dataset to produce a list of all posts for a given thread.\n",
        "3. Concatenate the list of posts into a single document (string).\n",
        "4. Combine the thread's title into the thread's document"
      ]
    },
    {
      "cell_type": "code",
      "metadata": {
        "id": "xEOllqEnXDQp"
      },
      "source": [
        "# Initialise a \"processed\" version of the orginal data frame\n",
        "df_horseforum_thread_posts = df_horseforum_thread_posts_raw.copy()\n",
        "\n",
        "# Convert NaN to empty string\n",
        "df_horseforum_thread_posts[['post_text']] = df_horseforum_thread_posts[['post_text']].fillna(value=\"\")"
      ],
      "execution_count": null,
      "outputs": []
    },
    {
      "cell_type": "code",
      "metadata": {
        "id": "u1PynE3NXH_H"
      },
      "source": [
        "# Group by feature `thread_url_path` to aggregate feature `post_text` into a `list`.\n",
        "tmpdf = df_horseforum_thread_posts.groupby(['thread_url_path'], as_index = False).agg({'post_text': list})\n",
        "\n",
        "# Concatenate a thread's posts into a single document\n",
        "tmpdf['thread_document'] = tmpdf['post_text'].apply('\\n'.join)"
      ],
      "execution_count": null,
      "outputs": []
    },
    {
      "cell_type": "code",
      "metadata": {
        "id": "Gj93_4hX-dyQ"
      },
      "source": [
        "# Combine the aggregated post features into the main thread data frame\n",
        "df_horseforum_threads = pd.merge(\n",
        "    df_horseforum_threads.drop(['post_text','thread_document']\n",
        "                               ,axis=1\n",
        "                               ,errors='ignore' # in case cell run multiple times\n",
        "                               ) \n",
        "    ,tmpdf\n",
        "    ,how='left'    \n",
        "    ,left_on='thread_url_path'\n",
        "    ,right_on='thread_url_path'\n",
        "    )\n",
        "\n",
        "# Convert NaN to empty string (occured because of the join)\n",
        "df_horseforum_threads[['thread_document']] = df_horseforum_threads[['thread_document']].fillna(value=\"\")\n",
        "\n",
        "df_horseforum_threads['thread_document'] = df_horseforum_threads['thread_title'] + \"\\n\" + df_horseforum_threads['thread_document']\n",
        "\n",
        "df_horseforum_threads"
      ],
      "execution_count": null,
      "outputs": []
    },
    {
      "cell_type": "code",
      "metadata": {
        "id": "xC8OFOFUyHYN"
      },
      "source": [
        "# Producin\n",
        "df_horseforum_threads.info()"
      ],
      "execution_count": null,
      "outputs": []
    },
    {
      "cell_type": "markdown",
      "metadata": {
        "id": "z75NS-w5K72t"
      },
      "source": [
        "# NLP - cleaning corpus"
      ]
    },
    {
      "cell_type": "markdown",
      "metadata": {
        "id": "-VF2mCwxLMDi"
      },
      "source": [
        "The following performs common cleaning tasks for the corups:\n",
        "\n",
        "* Remove HTML / URLs / email\n",
        "* Convert encodings\n",
        "* Lower case\n",
        "* Punctuation\n",
        "* Removal of stopwords"
      ]
    },
    {
      "cell_type": "code",
      "metadata": {
        "id": "sE-6Ci13pOSl"
      },
      "source": [
        "# Intialise a new feature to store the \"cleaned\" document for each thread\n",
        "df_horseforum_threads['cleaned_document'] = df_horseforum_threads['thread_document']"
      ],
      "execution_count": null,
      "outputs": []
    },
    {
      "cell_type": "markdown",
      "metadata": {
        "id": "uBams5jNLJvW"
      },
      "source": [
        "## Remove HTML / URLs / email"
      ]
    },
    {
      "cell_type": "markdown",
      "metadata": {
        "id": "ViM7E82ApEBi"
      },
      "source": [
        "### Identify"
      ]
    },
    {
      "cell_type": "markdown",
      "metadata": {
        "id": "093szzNGoKwd"
      },
      "source": [
        "**Websites & URLs**"
      ]
    },
    {
      "cell_type": "code",
      "metadata": {
        "colab": {
          "base_uri": "https://localhost:8080/"
        },
        "id": "eztgehN4LEBn",
        "outputId": "b513f3da-c374-45ef-f1dc-648535c708ea"
      },
      "source": [
        "# Search for website URLs\n",
        "regex_pattern_website = r'(https?://\\S+|ftp://|www[.]\\S+)'\n",
        "\n",
        "# ...too much output to print\n",
        "#print_column_search_contains(\n",
        "#    df_horseforum_threads[['cleaned_document']]\n",
        "#    ,regex_pattern_website\n",
        "#    ,print_long = False\n",
        "#    ,max_print_per_feature = 10\n",
        "#    )\n",
        "found_websites = get_column_search_findall(df_horseforum_threads[['cleaned_document']]\n",
        "                                            ,pattern=regex_pattern_website\n",
        "                                            ,unique_only=False)\n",
        "print(\"Total URLs found: {}\".format(len(found_websites)))\n",
        "\n",
        "found_websites = list(set(found_websites))\n",
        "print(\"Unique URLs found: {}\".format(len(found_websites)))\n",
        "print()\n",
        "\n",
        "print(\"Random sample of URLs:\")\n",
        "if len(found_websites) > 0:\n",
        "    pprint(\n",
        "        random.sample(\n",
        "            found_websites\n",
        "            ,min(10, len(found_websites))\n",
        "            )\n",
        "        )\n",
        "else:\n",
        "    print([])"
      ],
      "execution_count": null,
      "outputs": [
        {
          "output_type": "stream",
          "name": "stdout",
          "text": [
            "Total URLs found: 5760\n",
            "Unique URLs found: 4541\n",
            "\n",
            "Random sample of URLs:\n",
            "['www.arabhorse.com',\n",
            " 'http://forums.prospero.com/alexbrown/messages?msg=23344.1&gt;',\n",
            " 'www.barnmice.com',\n",
            " 'http://www.horseforum.com/horse-health/how-much-more-weight-does-he-95173/',\n",
            " 'https://thehorse.com/110110/all-about-alfalfa/',\n",
            " 'https://goo.gl/forms/112vgkLMYV8uj5Wx2',\n",
            " 'http://i.imgur.com/EmtXI7M.jpg',\n",
            " 'http://www.horseforum.com/horse-grooming/crystal-looking-dranduf-mane-tail-131573/#post1606223',\n",
            " 'http://www.aaep.org/core_vaccinations.htm',\n",
            " 'http://www.prevenile.com/PDF/PreveNile']\n"
          ]
        }
      ]
    },
    {
      "cell_type": "markdown",
      "metadata": {
        "id": "0r1s5RbqpwJZ"
      },
      "source": [
        "As an exploratory task, unique URL domains were investigated."
      ]
    },
    {
      "cell_type": "code",
      "metadata": {
        "colab": {
          "base_uri": "https://localhost:8080/"
        },
        "id": "dVw9NQR6jgnS",
        "outputId": "f0b31728-f420-4f29-d4d8-d98a06fd6363"
      },
      "source": [
        "domains_list = [re.findall(r'^[^/]+', url_cleaned) for url_cleaned in [re.sub(r'https?://|ftp://', '', url) for url in found_websites]]\n",
        "domains = []\n",
        "for domain in domains_list:\n",
        "    domains.append(domain)\n",
        "domains = sum(domains,[])\n",
        "domains = set(domains)\n",
        "\n",
        "print(\"Unique URL domains found: {}\".format(len(domains)))\n",
        "print()\n",
        "\n",
        "print(\"Random sample of domains:\")\n",
        "if len(domains) > 0:\n",
        "    pprint(\n",
        "        random.sample(\n",
        "            domains\n",
        "            ,min(10, len(domains))\n",
        "            )\n",
        "        )\n",
        "else:\n",
        "    print([])"
      ],
      "execution_count": null,
      "outputs": [
        {
          "output_type": "stream",
          "name": "stdout",
          "text": [
            "Unique URL domains found: 1716\n",
            "\n",
            "Random sample of domains:\n",
            "['www.independentequineagents.com',\n",
            " 'www.icelandichorses.co.uk',\n",
            " 'media.wix.com',\n",
            " 'www.eclipseforwounds.com',\n",
            " 'www.paddockparadise.wetpaint.com',\n",
            " 'www.synergistsaddles.com',\n",
            " 'www.admani.com',\n",
            " 'www.claramasondvm.com',\n",
            " 'www.cvmbs.colostate.edu',\n",
            " 'www.greatmats.com']\n"
          ]
        }
      ]
    },
    {
      "cell_type": "markdown",
      "metadata": {
        "id": "hOMsp3rJldIG"
      },
      "source": [
        "**Email addresses**"
      ]
    },
    {
      "cell_type": "code",
      "metadata": {
        "colab": {
          "base_uri": "https://localhost:8080/"
        },
        "id": "ONohAWI3lfeT",
        "outputId": "887bc054-5a32-41d8-bbe0-21739c97a6cb"
      },
      "source": [
        "# Search for email addresses\n",
        "regex_pattern_email = r'(?i)\\b[A-Z0-9._%+-]+@[A-Z0-9.-]+\\.[A-Z]{2,}\\b'\n",
        "found_email = get_column_search_findall(df_horseforum_threads[['cleaned_document']]\n",
        "                                            ,pattern=regex_pattern_email\n",
        "                                            ,unique_only=False)\n",
        "print(\"Total email addresses found: {}\".format(len(found_email)))\n",
        "\n",
        "found_email = list(set(found_email))\n",
        "print(\"Unique email addresses found: {}\".format(len(found_email)))\n",
        "print()\n",
        "\n",
        "print(\"Random sample of email addresses:\")\n",
        "if len(found_email) > 0:\n",
        "    pprint(\n",
        "        random.sample(\n",
        "            found_email\n",
        "            ,min(10, len(found_email))\n",
        "            )\n",
        "        )\n",
        "else:\n",
        "    print([])"
      ],
      "execution_count": null,
      "outputs": [
        {
          "output_type": "stream",
          "name": "stdout",
          "text": [
            "Total email addresses found: 0\n",
            "Unique email addresses found: 0\n",
            "\n",
            "Random sample of email addresses:\n",
            "[]\n"
          ]
        }
      ]
    },
    {
      "cell_type": "markdown",
      "metadata": {
        "id": "39PvLdvUoF0r"
      },
      "source": [
        "**HTML tags**"
      ]
    },
    {
      "cell_type": "code",
      "metadata": {
        "colab": {
          "base_uri": "https://localhost:8080/"
        },
        "id": "RlabgX0uoFM6",
        "outputId": "76775969-5e69-440d-d7e8-6181a04b5be8"
      },
      "source": [
        "# Search for HTML tags\n",
        "regex_pattern_html_tag = r'<[^>]+>'\n",
        "found_tag = get_column_search_findall(df_horseforum_threads[['cleaned_document']]\n",
        "                                            ,pattern=regex_pattern_html_tag\n",
        "                                            ,unique_only=False)\n",
        "print(\"Total tags found: {}\".format(len(found_tag)))\n",
        "\n",
        "found_tag = list(set(found_tag))\n",
        "print(\"Unique tags found: {}\".format(len(found_tag)))\n",
        "print()\n",
        "\n",
        "print(\"Random sample of tags:\")\n",
        "if len(found_tag) > 0:\n",
        "    pprint(\n",
        "        random.sample(\n",
        "            found_tag\n",
        "            ,min(10, len(found_tag))\n",
        "            )\n",
        "        )\n",
        "else:\n",
        "    print([])"
      ],
      "execution_count": null,
      "outputs": [
        {
          "output_type": "stream",
          "name": "stdout",
          "text": [
            "Total tags found: 2\n",
            "Unique tags found: 2\n",
            "\n",
            "Random sample of tags:\n",
            "['<SPAN class=threadTitle>', '<</SPAN>']\n"
          ]
        }
      ]
    },
    {
      "cell_type": "markdown",
      "metadata": {
        "id": "PiloLtzFpKkN"
      },
      "source": [
        "### Remove"
      ]
    },
    {
      "cell_type": "markdown",
      "metadata": {
        "id": "jR2ax089qAm5"
      },
      "source": [
        "The following sections removes the following identified elements from the thread's document:\n",
        "\n",
        "* URLs\n",
        "* email addresses\n",
        "* HTML tags\n",
        "\n",
        "\n",
        "\n",
        "<div class=\"alert alert-block alert-success\">\n",
        "\n",
        "<table>\n",
        "<tr>\n",
        "<td>\n",
        "\n",
        "*Note*: A prior methodlogy attempted to remove the unwanted elements by converting them to a dictionary (via user-defined function `set_dictionary_subst(found_websites)`)  and using `pandas` `replace()` method as below&mdash;however this proved to be much to slow for a corpus this size.\n",
        "\n",
        "```python\n",
        "df_horseforum_threads['cleaned_document'].replace(subst_dict_websites, regex = True, inplace=True)\n",
        "```\n",
        "\n",
        "</td>\n",
        "</tr>\n",
        "</table>\n",
        "</div>"
      ]
    },
    {
      "cell_type": "code",
      "metadata": {
        "colab": {
          "base_uri": "https://localhost:8080/"
        },
        "id": "UhUsI4_xwAz_",
        "outputId": "c79d407f-5902-4aec-d508-df647e12659f"
      },
      "source": [
        "# Remove unwanted elements\n",
        "print(\"Remove website URLs...\")\n",
        "df_horseforum_threads['cleaned_document'] = [re.sub(regex_pattern_website, '', text) for text in df_horseforum_threads['cleaned_document']]\n",
        "print(\"Remove email addresses...\")\n",
        "df_horseforum_threads['cleaned_document'] = [re.sub(regex_pattern_email, '', text) for text in df_horseforum_threads['cleaned_document']]\n",
        "print(\"Remove HTML tags...\")\n",
        "df_horseforum_threads['cleaned_document'] = [re.sub(regex_pattern_html_tag, '', text) for text in df_horseforum_threads['cleaned_document']]\n",
        "print(\"...completed\")"
      ],
      "execution_count": null,
      "outputs": [
        {
          "output_type": "stream",
          "name": "stdout",
          "text": [
            "Remove website URLs...\n",
            "Remove email addresses...\n",
            "Remove HTML tags...\n",
            "...completed\n"
          ]
        }
      ]
    },
    {
      "cell_type": "markdown",
      "metadata": {
        "id": "cxQf1-xiuSbZ"
      },
      "source": [
        "## Character Encoding"
      ]
    },
    {
      "cell_type": "markdown",
      "metadata": {
        "id": "-48gQTc_uVVV"
      },
      "source": [
        "**Unicode to ASCII**\n",
        "\n",
        "In case there were any diacritic characters ('accented' characters), e.g.: à, ě, ī, ō, ū etc., such Unicode characters were decoded into \"equivalent\" ASCII characters. This was accomplished  using the Python `unidecode` library (https://pypi.org/project/Unidecode/).\n",
        "\n",
        "**HTML escape characters**\n",
        "\n",
        "Any HTML character escapes (refer https://www.w3.org/International/questions/qa-escapes),  were \"unescaped\" using the  `html.unescape()` function (e.g., quotations marks: `&quot;` $\\rightarrow$ `\"`).\n"
      ]
    },
    {
      "cell_type": "code",
      "metadata": {
        "colab": {
          "base_uri": "https://localhost:8080/"
        },
        "id": "q4E9NnWPt7g0",
        "outputId": "e271407f-e59e-46ce-b725-ed8428438fca"
      },
      "source": [
        "# Unescape HTML characters\n",
        "print(\"Unescape HTML escapes...\")\n",
        "df_horseforum_threads['cleaned_document'] = [html.unescape(text) if isinstance(text, str) else text for text in df_horseforum_threads['cleaned_document']]\n",
        "# Convert Unicode to ASCII\n",
        "print(\"Convert Unicode to ASCII...\")\n",
        "df_horseforum_threads['cleaned_document'] = [unidecode(text) if isinstance(text, str) else text for text in df_horseforum_threads['cleaned_document']]\n",
        "print(\"...completed\")"
      ],
      "execution_count": null,
      "outputs": [
        {
          "output_type": "stream",
          "name": "stdout",
          "text": [
            "Unescape HTML escapes...\n",
            "Convert Unicode to ASCII...\n",
            "...completed\n"
          ]
        }
      ]
    },
    {
      "cell_type": "markdown",
      "metadata": {
        "id": "vXubGS5957Bx"
      },
      "source": [
        "## Replace new-lines, punctuation, digits, excess whitespace"
      ]
    },
    {
      "cell_type": "markdown",
      "metadata": {
        "id": "r0kphmFWf5rm"
      },
      "source": [
        "Punctuation is still retained at this point as it is required for sentiment analysis."
      ]
    },
    {
      "cell_type": "code",
      "metadata": {
        "colab": {
          "base_uri": "https://localhost:8080/",
          "height": 424
        },
        "id": "HAAFSnDK6ErA",
        "outputId": "38945d83-ed3a-479f-95ef-79fd8389f07f"
      },
      "source": [
        "df_horseforum_threads['cleaned_document'].replace(\n",
        "    {\n",
        "        r'(\\n|\\r)+' : \" \"   # replace new-lines\n",
        "        ,r'\\b\\d+\\b' : \" \"   # replace strings of digits\n",
        "        ,r'\\s+' : ' '       # reduce multiple spaces\n",
        "     }\n",
        "    ,regex = True\n",
        "    ,inplace = True)\n",
        "df_horseforum_threads"
      ],
      "execution_count": null,
      "outputs": [
        {
          "output_type": "execute_result",
          "data": {
            "text/html": [
              "<div>\n",
              "<style scoped>\n",
              "    .dataframe tbody tr th:only-of-type {\n",
              "        vertical-align: middle;\n",
              "    }\n",
              "\n",
              "    .dataframe tbody tr th {\n",
              "        vertical-align: top;\n",
              "    }\n",
              "\n",
              "    .dataframe thead th {\n",
              "        text-align: right;\n",
              "    }\n",
              "</style>\n",
              "<table border=\"1\" class=\"dataframe\">\n",
              "  <thead>\n",
              "    <tr style=\"text-align: right;\">\n",
              "      <th></th>\n",
              "      <th>thread_url_path</th>\n",
              "      <th>thread_document</th>\n",
              "      <th>cleaned_document</th>\n",
              "      <th>cleaned_document_tm</th>\n",
              "    </tr>\n",
              "  </thead>\n",
              "  <tbody>\n",
              "    <tr>\n",
              "      <th>0</th>\n",
              "      <td>/threads/please-read-before-posting-both-older...</td>\n",
              "      <td>PLEASE READ BEFORE POSTING (both older and new...</td>\n",
              "      <td>PLEASE READ BEFORE POSTING both older and newe...</td>\n",
              "      <td>please read posting older newer horseforum com...</td>\n",
              "    </tr>\n",
              "    <tr>\n",
              "      <th>1</th>\n",
              "      <td>/threads/poisonous-plants-from-hf-member-locat...</td>\n",
              "      <td>poisonous plants from HF member locations\\nMOD...</td>\n",
              "      <td>poisonous plants from HF member locations MOD ...</td>\n",
              "      <td>poisonous plant hf member location note jaydee...</td>\n",
              "    </tr>\n",
              "    <tr>\n",
              "      <th>2</th>\n",
              "      <td>/threads/the-care-of-an-emaciated-horse.100412/</td>\n",
              "      <td>The Care of an Emaciated Horse\\nMy friend and ...</td>\n",
              "      <td>The Care of an Emaciated Horse My friend and I...</td>\n",
              "      <td>care emaciated horse friend experienced horse ...</td>\n",
              "    </tr>\n",
              "    <tr>\n",
              "      <th>3</th>\n",
              "      <td>/threads/making-a-vet-kit.251/</td>\n",
              "      <td>Making a Vet Kit\\nHey guys! I am posting this ...</td>\n",
              "      <td>Making a Vet Kit Hey guys I am posting this th...</td>\n",
              "      <td>making vet kit hey guy posting thread primaril...</td>\n",
              "    </tr>\n",
              "    <tr>\n",
              "      <th>4</th>\n",
              "      <td>/threads/information-on-myopathies-pssm1-pssm2...</td>\n",
              "      <td>Information on Myopathies - PSSM1, PSSM2, MFM,...</td>\n",
              "      <td>Information on Myopathies PSSM1 PSSM2 MFM and ...</td>\n",
              "      <td>information myopathy pssm1 pssm2 mfm rer pssm1...</td>\n",
              "    </tr>\n",
              "    <tr>\n",
              "      <th>...</th>\n",
              "      <td>...</td>\n",
              "      <td>...</td>\n",
              "      <td>...</td>\n",
              "      <td>...</td>\n",
              "    </tr>\n",
              "    <tr>\n",
              "      <th>20949</th>\n",
              "      <td>/threads/recovery-from-torn-rear-suspensory-li...</td>\n",
              "      <td>Recovery from Torn Rear Suspensory Ligament\\nH...</td>\n",
              "      <td>Recovery from Torn Rear Suspensory Ligament Hi...</td>\n",
              "      <td>recovery torn rear suspensory ligament hi stan...</td>\n",
              "    </tr>\n",
              "    <tr>\n",
              "      <th>20950</th>\n",
              "      <td>/threads/how-to-get-horses-to-gaine-weight.99/</td>\n",
              "      <td>how to get horses to gaine weight\\nI found out...</td>\n",
              "      <td>how to get horses to gaine weight I found out ...</td>\n",
              "      <td>get horse gaine weight found give horse black ...</td>\n",
              "    </tr>\n",
              "    <tr>\n",
              "      <th>20951</th>\n",
              "      <td>/threads/paxil.102/</td>\n",
              "      <td>PAXIL?\\nWe have a horse who is just a simply h...</td>\n",
              "      <td>PAXIL We have a horse who is just a simply hig...</td>\n",
              "      <td>paxil horse simply high strung sort favorite t...</td>\n",
              "    </tr>\n",
              "    <tr>\n",
              "      <th>20952</th>\n",
              "      <td>/threads/loose-stool.101/</td>\n",
              "      <td>Loose stool\\nI have a three year old filly tha...</td>\n",
              "      <td>Loose stool I have a three year old filly that...</td>\n",
              "      <td>loose stool year old filly tends nervous gut f...</td>\n",
              "    </tr>\n",
              "    <tr>\n",
              "      <th>20953</th>\n",
              "      <td>/threads/quietex.49/</td>\n",
              "      <td>Quietex\\nI have a 4 year old Paint Gelding who...</td>\n",
              "      <td>Quietex I have a year old Paint Gelding who is...</td>\n",
              "      <td>quietex year old paint gelding difficult shoe ...</td>\n",
              "    </tr>\n",
              "  </tbody>\n",
              "</table>\n",
              "<p>20954 rows × 4 columns</p>\n",
              "</div>"
            ],
            "text/plain": [
              "                                         thread_url_path  ...                                cleaned_document_tm\n",
              "0      /threads/please-read-before-posting-both-older...  ...  please read posting older newer horseforum com...\n",
              "1      /threads/poisonous-plants-from-hf-member-locat...  ...  poisonous plant hf member location note jaydee...\n",
              "2        /threads/the-care-of-an-emaciated-horse.100412/  ...  care emaciated horse friend experienced horse ...\n",
              "3                         /threads/making-a-vet-kit.251/  ...  making vet kit hey guy posting thread primaril...\n",
              "4      /threads/information-on-myopathies-pssm1-pssm2...  ...  information myopathy pssm1 pssm2 mfm rer pssm1...\n",
              "...                                                  ...  ...                                                ...\n",
              "20949  /threads/recovery-from-torn-rear-suspensory-li...  ...  recovery torn rear suspensory ligament hi stan...\n",
              "20950     /threads/how-to-get-horses-to-gaine-weight.99/  ...  get horse gaine weight found give horse black ...\n",
              "20951                                /threads/paxil.102/  ...  paxil horse simply high strung sort favorite t...\n",
              "20952                          /threads/loose-stool.101/  ...  loose stool year old filly tends nervous gut f...\n",
              "20953                               /threads/quietex.49/  ...  quietex year old paint gelding difficult shoe ...\n",
              "\n",
              "[20954 rows x 4 columns]"
            ]
          },
          "metadata": {},
          "execution_count": 13
        }
      ]
    },
    {
      "cell_type": "markdown",
      "metadata": {
        "id": "cvVqovLM-PMo"
      },
      "source": [
        "# NLP - Topic modelling"
      ]
    },
    {
      "cell_type": "code",
      "metadata": {
        "id": "0uqO25lM-vpJ"
      },
      "source": [
        "# Intialise new feature for topic modelling\n",
        "df_horseforum_threads['cleaned_document_tm'] = df_horseforum_threads['cleaned_document']"
      ],
      "execution_count": null,
      "outputs": []
    },
    {
      "cell_type": "markdown",
      "metadata": {
        "id": "os3qE70M-p2t"
      },
      "source": [
        "### Lower case"
      ]
    },
    {
      "cell_type": "markdown",
      "metadata": {
        "id": "ifqQei2K_3Qs"
      },
      "source": [
        "Letter casing is not modified for sentiment alanysis as it capitalization can convey sentiment. In contrast to topic modelling, changing text to lower case reduces dimensionality."
      ]
    },
    {
      "cell_type": "code",
      "metadata": {
        "colab": {
          "base_uri": "https://localhost:8080/"
        },
        "id": "Ao5rhc7Q-nvs",
        "outputId": "4529fd8b-8c02-46b5-8619-e817a2631d2b"
      },
      "source": [
        "# Convert text to lower case\n",
        "print(\"Convert to lower case...\")\n",
        "df_horseforum_threads['cleaned_document_tm'] = df_horseforum_threads['cleaned_document_tm'].apply(str.lower)\n",
        "print(\"...completed\")"
      ],
      "execution_count": null,
      "outputs": [
        {
          "output_type": "stream",
          "name": "stdout",
          "text": [
            "Convert to lower case...\n",
            "...completed\n"
          ]
        }
      ]
    },
    {
      "cell_type": "markdown",
      "metadata": {
        "id": "TAeps2TRgG81"
      },
      "source": [
        "### Remove punctuation & non-word characters"
      ]
    },
    {
      "cell_type": "code",
      "metadata": {
        "id": "KtzOhshbgKyB"
      },
      "source": [
        "# Remove punctuation & non-word characters\n",
        "df_horseforum_threads['cleaned_document_tm'].replace(\n",
        "    { \n",
        "        r'\\W' : \" \"        # replace non-word characters\n",
        "     }\n",
        "    ,regex = True\n",
        "    ,inplace = True)\n",
        "df_horseforum_threads"
      ],
      "execution_count": null,
      "outputs": []
    },
    {
      "cell_type": "markdown",
      "metadata": {
        "id": "jRrLnbsd6Y5n"
      },
      "source": [
        "## Stopwords, Lemmatization, and Parts-of-speach (POS)"
      ]
    },
    {
      "cell_type": "code",
      "metadata": {
        "colab": {
          "base_uri": "https://localhost:8080/"
        },
        "id": "88_hrppGLcnf",
        "outputId": "ce534941-3f94-416b-d535-1d914e8256d2"
      },
      "source": [
        "%%time\n",
        "# Remove stops words and lemmatize\n",
        "stop_words = stopwords.words('english')\n",
        "#stop_words.extend([''])\n",
        "lemmatizer = WordNetLemmatizer()\n",
        "retain_pos = {'NOUN' : 'N', 'ADJ' : 'J', 'VERB' : 'V', 'ADV' : 'R' }\n",
        "print(\"Removal stopwords and lemmatization...\")\n",
        "df_horseforum_threads['cleaned_document_tm'] = df_horseforum_threads['cleaned_document_tm'].apply(\n",
        "    lambda document: stop_and_lemm(document\n",
        "                                   ,stopwords = stop_words\n",
        "                                   ,lemmatizer = lemmatizer\n",
        "                                   ,retain_pos = retain_pos)\n",
        "    )\n",
        "print(\"...completed\")"
      ],
      "execution_count": null,
      "outputs": [
        {
          "output_type": "stream",
          "name": "stdout",
          "text": [
            "Removal stopwords and lemmatization...\n",
            "...completed\n",
            "CPU times: user 23min 3s, sys: 3.62 s, total: 23min 6s\n",
            "Wall time: 23min 8s\n"
          ]
        }
      ]
    },
    {
      "cell_type": "markdown",
      "metadata": {
        "id": "Nja-g-y9Fdst"
      },
      "source": [
        "### Word frequency plots"
      ]
    },
    {
      "cell_type": "markdown",
      "metadata": {
        "id": "DUFtoOU4G4li"
      },
      "source": [
        "The following plot compares the frequency of word count between the corpus having been stemmed or lemmatized."
      ]
    },
    {
      "cell_type": "code",
      "metadata": {
        "colab": {
          "base_uri": "https://localhost:8080/",
          "height": 893
        },
        "id": "yJFZeMCjEsYn",
        "outputId": "973fbd52-ecd1-424f-93fc-b08495c9bcb0"
      },
      "source": [
        "# visualize words and frequencies\n",
        "fig, ax = plt.subplots(nrows=1, ncols=1, figsize=(12, 15))\n",
        "\n",
        "# Plot Lemmatized word freq.\n",
        "sns.barplot(ax=ax\n",
        "            ,data=word_frequencies(df_horseforum_threads['cleaned_document_tm'], top_n = 100)\n",
        "            ,x=\"count\"\n",
        "            ,y=\"word\")\n",
        "\n",
        "ax.set_title(\"Lemmatized\") \n",
        "ax.set_xlabel(\"word\")\n",
        "ax.set_ylabel(\"count\")\n",
        "\n",
        "# Display plot\n",
        "plt.show()"
      ],
      "execution_count": null,
      "outputs": [
        {
          "output_type": "display_data",
          "data": {
            "image/png": "[encoded data removed]",
            "text/plain": [
              "<Figure size 864x1080 with 1 Axes>"
            ]
          },
          "metadata": {
            "needs_background": "light"
          }
        }
      ]
    },
    {
      "cell_type": "markdown",
      "metadata": {
        "id": "L4oqCPbKdTY6"
      },
      "source": [
        "### Save processed corpus"
      ]
    },
    {
      "cell_type": "code",
      "metadata": {
        "id": "xOYNT5bKdYNh"
      },
      "source": [
        "# Save dataframe locally\n",
        "df_horseforum_threads[['thread_url_path', 'thread_document', 'cleaned_document', 'cleaned_document_tm']].to_csv(os.path.join(filepath_data, filename_horseforum_threads_cleaned_df), index=False)"
      ],
      "execution_count": null,
      "outputs": []
    },
    {
      "cell_type": "code",
      "metadata": {
        "colab": {
          "base_uri": "https://localhost:8080/"
        },
        "id": "inALkfkP8bZA",
        "outputId": "af4612c6-c278-49ff-9bb1-e57f2d6057c4"
      },
      "source": [
        "df_horseforum_threads = pd.read_csv(os.path.join(filepath_data, filename_horseforum_threads_cleaned_df))\n",
        "df_horseforum_threads.fillna('', inplace=True)\n",
        "df_horseforum_threads.shape"
      ],
      "execution_count": 19,
      "outputs": [
        {
          "output_type": "execute_result",
          "data": {
            "text/plain": [
              "(20954, 4)"
            ]
          },
          "metadata": {},
          "execution_count": 19
        }
      ]
    },
    {
      "cell_type": "markdown",
      "metadata": {
        "id": "f1W5ZPbXEspG"
      },
      "source": [
        "## Term weights"
      ]
    },
    {
      "cell_type": "markdown",
      "metadata": {
        "id": "zlYwoLUGQY68"
      },
      "source": [
        "### Bigrams"
      ]
    },
    {
      "cell_type": "code",
      "metadata": {
        "colab": {
          "base_uri": "https://localhost:8080/"
        },
        "id": "CvEYFHHoUy5f",
        "outputId": "bae73448-6acd-4e3c-f1e0-9965cacad44b"
      },
      "source": [
        "%%time\n",
        "\n",
        "# Convert each thread's document into a list of words\n",
        "corpus_documents = df_horseforum_threads['cleaned_document_tm'].values.tolist()\n",
        "corpus_documents = [word_tokenize(document) for document in corpus_documents]\n",
        "\n",
        "# Build the bigram model\n",
        "bigram_phrases = gensim.models.Phrases(corpus_documents, min_count=5, threshold=100) # higher threshold fewer phrases.\n",
        "bigram_phraser = gensim.models.phrases.Phraser(bigram_phrases)\n",
        "def set_bigrams(corpus):\n",
        "    return [bigram_phraser[document] for document in corpus]\n",
        "\n",
        "# Form Bigrams\n",
        "corpus_document_tokens = set_bigrams(corpus_documents)"
      ],
      "execution_count": 20,
      "outputs": [
        {
          "output_type": "stream",
          "name": "stdout",
          "text": [
            "CPU times: user 2min 9s, sys: 1.46 s, total: 2min 10s\n",
            "Wall time: 2min 10s\n"
          ]
        }
      ]
    },
    {
      "cell_type": "markdown",
      "metadata": {
        "id": "FYmxxf8jQcyf"
      },
      "source": [
        "### TF-IDF"
      ]
    },
    {
      "cell_type": "code",
      "metadata": {
        "colab": {
          "base_uri": "https://localhost:8080/"
        },
        "id": "42x-H5o7L4jc",
        "outputId": "05d6e6f7-d01e-44ba-8706-e8f78d5406b0"
      },
      "source": [
        "%%time\n",
        "#LDA topic model requires two things: the dictionary(id2word) and the corpus\n",
        "# Create Dictionary\n",
        "corpus_dict = corpora.Dictionary(corpus_document_tokens)\n",
        "\n",
        "#filtering words less frequent and high frequent\n",
        "corpus_dict.filter_extremes(no_below=100, no_above=0.75, keep_n=150000)\n",
        "\n",
        "# Term Document Frequency (Bag of Words Approach)\n",
        "corpus_bow = [corpus_dict.doc2bow(document) for document in corpus_document_tokens]\n",
        "tfidf = gensim.models.TfidfModel(corpus_bow)\n",
        "corpus_tfidf = tfidf[corpus_bow]"
      ],
      "execution_count": 25,
      "outputs": [
        {
          "output_type": "stream",
          "name": "stdout",
          "text": [
            "CPU times: user 16.1 s, sys: 719 ms, total: 16.8 s\n",
            "Wall time: 16.8 s\n"
          ]
        }
      ]
    },
    {
      "cell_type": "code",
      "metadata": {
        "id": "UsOZPDaCtPYC"
      },
      "source": [
        "# Inspect some of the dictionary entries\n",
        "count = 0\n",
        "for k, v in corpus_dict.iteritems():\n",
        "    print(k, v)\n",
        "    count += 1\n",
        "    if count > 10:\n",
        "        break"
      ],
      "execution_count": null,
      "outputs": []
    },
    {
      "cell_type": "markdown",
      "metadata": {
        "id": "fEU1RaESOYuN"
      },
      "source": [
        "## LDA Model"
      ]
    },
    {
      "cell_type": "code",
      "metadata": {
        "colab": {
          "base_uri": "https://localhost:8080/"
        },
        "id": "GjfJDEJEfBvq",
        "outputId": "44caadc7-f93b-48e9-9dce-746f0c5445f5"
      },
      "source": [
        "%%time\n",
        "# Building the LDA topic model\n",
        "lda_model = gensim.models.LdaMulticore(\n",
        "    corpus=corpus_tfidf\n",
        "    ,id2word=corpus_dict    \n",
        "    ,num_topics=20\n",
        "    ,passes=4\n",
        "    ,random_state=987\n",
        "    ,per_word_topics=True\n",
        "    ,workers=4\n",
        "    )"
      ],
      "execution_count": 27,
      "outputs": [
        {
          "output_type": "stream",
          "name": "stdout",
          "text": [
            "CPU times: user 3min 44s, sys: 8.94 s, total: 3min 53s\n",
            "Wall time: 4min 32s\n"
          ]
        }
      ]
    },
    {
      "cell_type": "code",
      "metadata": {
        "colab": {
          "base_uri": "https://localhost:8080/"
        },
        "id": "yLqMS7q4a_C0",
        "outputId": "2d808b5e-d3c6-4909-bc97-12a2f9383979"
      },
      "source": [
        "%%time\n",
        "# Print the Keywords in the topics\n",
        "pprint(lda_model.print_topics())\n",
        "doc_lda = lda_model[corpus_tfidf]"
      ],
      "execution_count": 28,
      "outputs": [
        {
          "output_type": "stream",
          "name": "stdout",
          "text": [
            "[(0,\n",
            "  '0.034*\"blanket\" + 0.013*\"water\" + 0.013*\"cold\" + 0.011*\"winter\" + '\n",
            "  '0.010*\"coat\" + 0.009*\"drink\" + 0.008*\"sweat\" + 0.007*\"shelter\" + '\n",
            "  '0.007*\"sheet\" + 0.007*\"warm\"'),\n",
            " (1,\n",
            "  '0.003*\"ocd\" + 0.003*\"crippled\" + 0.002*\"laminitis\" + 0.002*\"leg\" + '\n",
            "  '0.001*\"vet\" + 0.001*\"farrier\" + 0.001*\"hay\" + 0.001*\"teeth\" + '\n",
            "  '0.001*\"muscle\" + 0.001*\"shoe\"'),\n",
            " (2,\n",
            "  '0.002*\"sarcoid\" + 0.002*\"supplement\" + 0.002*\"tick\" + 0.002*\"loving\" + '\n",
            "  '0.002*\"joint\" + 0.002*\"pony\" + 0.002*\"msm\" + 0.002*\"udder\" + '\n",
            "  '0.002*\"wondering\" + 0.002*\"feed\"'),\n",
            " (3,\n",
            "  '0.033*\"cribbing\" + 0.022*\"crib\" + 0.012*\"collar\" + 0.011*\"cribber\" + '\n",
            "  '0.010*\"wood\" + 0.007*\"chew\" + 0.007*\"chewing\" + 0.007*\"wart\" + 0.007*\"salt\" '\n",
            "  '+ 0.007*\"boredom\"'),\n",
            " (4,\n",
            "  '0.013*\"feed\" + 0.011*\"hay\" + 0.008*\"weight\" + 0.006*\"grain\" + '\n",
            "  '0.006*\"alfalfa\" + 0.005*\"feeding\" + 0.005*\"supplement\" + 0.005*\"grass\" + '\n",
            "  '0.005*\"pellet\" + 0.005*\"beet_pulp\"'),\n",
            " (5,\n",
            "  '0.006*\"height\" + 0.004*\"string\" + 0.003*\"elbow\" + 0.003*\"measure\" + '\n",
            "  '0.002*\"growing\" + 0.002*\"measurement\" + 0.002*\"grow\" + 0.002*\"inch\" + '\n",
            "  '0.002*\"measured\" + 0.002*\"ohio\"'),\n",
            " (6,\n",
            "  '0.025*\"hoof\" + 0.015*\"thrush\" + 0.015*\"foot\" + 0.013*\"farrier\" + '\n",
            "  '0.011*\"frog\" + 0.010*\"shoe\" + 0.008*\"sole\" + 0.008*\"trim\" + 0.008*\"abscess\" '\n",
            "  '+ 0.007*\"crack\"'),\n",
            " (7,\n",
            "  '0.004*\"fracture\" + 0.004*\"hypp\" + 0.002*\"bone\" + 0.002*\"yall\" + '\n",
            "  '0.002*\"impressive\" + 0.002*\"poisonous\" + 0.002*\"hoof\" + 0.002*\"topically\" + '\n",
            "  '0.002*\"protruding\" + 0.002*\"sinus\"'),\n",
            " (8,\n",
            "  '0.002*\"leg\" + 0.002*\"swollen\" + 0.002*\"vet\" + 0.001*\"fetlock\" + '\n",
            "  '0.001*\"tail\" + 0.001*\"hoof\" + 0.001*\"stocked\" + 0.001*\"wrap\" + '\n",
            "  '0.001*\"swelling\" + 0.001*\"saddle\"'),\n",
            " (9,\n",
            "  '0.011*\"hernia\" + 0.005*\"nelson\" + 0.003*\"title\" + 0.003*\"vaccine\" + '\n",
            "  '0.002*\"vet\" + 0.002*\"barbed_wire\" + 0.002*\"fly\" + 0.001*\"leg\" + '\n",
            "  '0.001*\"posted_mobile\" + 0.001*\"device\"'),\n",
            " (10,\n",
            "  '0.029*\"proud_flesh\" + 0.023*\"wound\" + 0.015*\"insurance\" + 0.015*\"wrap\" + '\n",
            "  '0.012*\"bandage\" + 0.006*\"underwood\" + 0.006*\"hematoma\" + '\n",
            "  '0.006*\"wonder_dust\" + 0.005*\"pigeon_fever\" + 0.005*\"healing\"'),\n",
            " (11,\n",
            "  '0.003*\"clover\" + 0.002*\"feed\" + 0.002*\"hay\" + 0.002*\"wound\" + 0.002*\"ulcer\" '\n",
            "  '+ 0.002*\"sand\" + 0.001*\"yearling\" + 0.001*\"tick\" + 0.001*\"technical\" + '\n",
            "  '0.001*\"vet\"'),\n",
            " (12,\n",
            "  '0.012*\"sunscreen\" + 0.012*\"ear\" + 0.012*\"fly\" + 0.012*\"tick\" + 0.012*\"nose\" '\n",
            "  '+ 0.011*\"sunburn\" + 0.011*\"fly_mask\" + 0.009*\"garlic\" + 0.008*\"eye\" + '\n",
            "  '0.008*\"pink\"'),\n",
            " (13,\n",
            "  '0.022*\"shoe\" + 0.014*\"farrier\" + 0.012*\"foot\" + 0.011*\"hoof\" + '\n",
            "  '0.011*\"barefoot\" + 0.008*\"trim\" + 0.007*\"heel\" + 0.007*\"navicular\" + '\n",
            "  '0.007*\"boot\" + 0.007*\"toe\"'),\n",
            " (14,\n",
            "  '0.009*\"fly\" + 0.007*\"hair\" + 0.007*\"skin\" + 0.007*\"spray\" + '\n",
            "  '0.006*\"rain_rot\" + 0.005*\"scab\" + 0.004*\"wound\" + 0.003*\"use\" + '\n",
            "  '0.003*\"allergy\" + 0.003*\"scratch\"'),\n",
            " (15,\n",
            "  '0.002*\"eye\" + 0.002*\"fish\" + 0.002*\"everyones\" + 0.001*\"abs\" + '\n",
            "  '0.001*\"wound\" + 0.001*\"hay\" + 0.001*\"vet\" + 0.001*\"thought\" + 0.001*\"fly\" + '\n",
            "  '0.001*\"feed\"'),\n",
            " (16,\n",
            "  '0.013*\"worm\" + 0.008*\"deworming\" + 0.007*\"parasite\" + 0.006*\"wormer\" + '\n",
            "  '0.006*\"worming\" + 0.006*\"ivermectin\" + 0.005*\"grass\" + 0.005*\"dewormer\" + '\n",
            "  '0.005*\"deworm\" + 0.004*\"wormed\"'),\n",
            " (17,\n",
            "  '0.010*\"saddle\" + 0.008*\"joint\" + 0.006*\"muscle\" + 0.006*\"chiro\" + '\n",
            "  '0.005*\"chiropractor\" + 0.005*\"arthritis\" + 0.005*\"supplement\" + '\n",
            "  '0.004*\"hock\" + 0.004*\"injection\" + 0.004*\"back\"'),\n",
            " (18,\n",
            "  '0.003*\"vet\" + 0.002*\"leg\" + 0.002*\"mare\" + 0.002*\"eye\" + 0.002*\"stall\" + '\n",
            "  '0.002*\"teeth\" + 0.002*\"call\" + 0.002*\"back\" + 0.001*\"said\" + '\n",
            "  '0.001*\"swelling\"'),\n",
            " (19,\n",
            "  '0.044*\"vaccine\" + 0.019*\"rabies\" + 0.019*\"vaccination\" + 0.018*\"shot\" + '\n",
            "  '0.017*\"strangles\" + 0.011*\"west_nile\" + 0.010*\"vaccinated\" + '\n",
            "  '0.010*\"coggins\" + 0.010*\"vaccinate\" + 0.008*\"tetanus\"')]\n",
            "CPU times: user 28 ms, sys: 1.04 ms, total: 29 ms\n",
            "Wall time: 25.9 ms\n"
          ]
        }
      ]
    },
    {
      "cell_type": "code",
      "metadata": {
        "colab": {
          "base_uri": "https://localhost:8080/"
        },
        "id": "K4NN3Z_nbGg6",
        "outputId": "81c36db4-73d6-4896-b390-5a1d4aaf95a5"
      },
      "source": [
        "%%time\n",
        "#Model perplexity and topic coherence provide a convenient measure to judge how good a given topic model is\n",
        "# Compute Perplexity\n",
        "print('\\nPerplexity: ', lda_model.log_perplexity(corpus_tfidf))  # a measure of how good the model is. lower the better.\n",
        "\n",
        "# Compute Coherence Score\n",
        "coherence_model_lda = CoherenceModel(model=lda_model, texts=corpus_document_tokens, dictionary=corpus_dict, coherence='c_v')\n",
        "coherence_lda = coherence_model_lda.get_coherence()\n",
        "print('\\nCoherence Score: ', coherence_lda)\n",
        "print()"
      ],
      "execution_count": 29,
      "outputs": [
        {
          "output_type": "stream",
          "name": "stdout",
          "text": [
            "\n",
            "Perplexity:  -8.95537617771589\n",
            "\n",
            "Coherence Score:  0.5471759586203258\n",
            "CPU times: user 6min 20s, sys: 1min 12s, total: 7min 33s\n",
            "Wall time: 6min 13s\n"
          ]
        }
      ]
    },
    {
      "cell_type": "code",
      "metadata": {
        "colab": {
          "base_uri": "https://localhost:8080/"
        },
        "id": "glVkNv1kv0nN",
        "outputId": "c2b43516-98a5-4617-90f0-af0961321eb4"
      },
      "source": [
        "# Demonstrate model output\n",
        "for c in lda_model[corpus_tfidf[200:203]]:\n",
        "    print(\"Document Topics      : \", c[0])      # [(Topics, Perc Contrib)]\n",
        "    print(\"Word id, Topics      : \", c[1][:3])  # [(Word id, [Topics])]\n",
        "    print(\"Phi Values (word id) : \", c[2][:2])  # [(Word id, [(Topic, Phi Value)])]\n",
        "    print(\"Word, Topics         : \", [(corpus_dict[wd], topic) for wd, topic in c[1][:2]])   # [(Word, [Topics])]\n",
        "    print(\"Phi Values (word)    : \", [(corpus_dict[wd], topic) for wd, topic in c[2][:2]])  # [(Word, [(Topic, Phi Value)])]\n",
        "    print(\"------------------------------------------------------\\n\")"
      ],
      "execution_count": 175,
      "outputs": [
        {
          "output_type": "stream",
          "name": "stdout",
          "text": [
            "Document Topics      :  [(17, 0.62220454), (18, 0.2875049)]\n",
            "Word id, Topics      :  [(7, [17, 18]), (15, [17, 18]), (44, [])]\n",
            "Phi Values (word id) :  [(7, [(17, 0.023451352), (18, 0.011533074)]), (15, [(17, 0.013047433), (18, 0.012049108)])]\n",
            "Word, Topics         :  [('answer', [17, 18]), ('called', [17, 18])]\n",
            "Phi Values (word)    :  [('answer', [(17, 0.023451352), (18, 0.011533074)]), ('called', [(17, 0.013047433), (18, 0.012049108)])]\n",
            "------------------------------------------------------\n",
            "\n",
            "Document Topics      :  [(18, 0.93796796)]\n",
            "Word id, Topics      :  [(12, [18]), (13, [18]), (17, [])]\n",
            "Phi Values (word id) :  [(12, [(18, 0.022659974)]), (13, [(18, 0.03943657)])]\n",
            "Word, Topics         :  [('beneficial', [18]), ('better', [18])]\n",
            "Phi Values (word)    :  [('beneficial', [(18, 0.022659974)]), ('better', [(18, 0.03943657)])]\n",
            "------------------------------------------------------\n",
            "\n",
            "Document Topics      :  [(18, 0.89130056)]\n",
            "Word id, Topics      :  [(5, [18]), (19, [18]), (37, [18])]\n",
            "Phi Values (word id) :  [(5, [(18, 0.058798127)]), (19, [(18, 0.091913134)])]\n",
            "Word, Topics         :  [('allowed', [18]), ('clarify', [18])]\n",
            "Phi Values (word)    :  [('allowed', [(18, 0.058798127)]), ('clarify', [(18, 0.091913134)])]\n",
            "------------------------------------------------------\n",
            "\n"
          ]
        }
      ]
    },
    {
      "cell_type": "code",
      "metadata": {
        "colab": {
          "base_uri": "https://localhost:8080/"
        },
        "id": "UkSmEM1Vv_OQ",
        "outputId": "a9184054-015a-4de3-8d32-38d1b0226de5"
      },
      "source": [
        "lda_model.show_topic(15,topn=15)"
      ],
      "execution_count": 166,
      "outputs": [
        {
          "output_type": "execute_result",
          "data": {
            "text/plain": [
              "[('eye', 0.0024417036),\n",
              " ('fish', 0.0018604682),\n",
              " ('everyones', 0.0016634893),\n",
              " ('abs', 0.0014639957),\n",
              " ('wound', 0.0013550447),\n",
              " ('hay', 0.0012605097),\n",
              " ('vet', 0.0012604508),\n",
              " ('thought', 0.0012409256),\n",
              " ('fly', 0.0011621524),\n",
              " ('feed', 0.0010895176),\n",
              " ('skin', 0.0010209617),\n",
              " ('uveitis', 0.0009766361),\n",
              " ('wondering', 0.0009614488),\n",
              " ('water', 0.0009073765),\n",
              " ('look', 0.00088214705)]"
            ]
          },
          "metadata": {},
          "execution_count": 166
        }
      ]
    },
    {
      "cell_type": "markdown",
      "metadata": {
        "id": "5G_ohKGeYejq"
      },
      "source": [
        "## Hypertune LDA"
      ]
    },
    {
      "cell_type": "code",
      "metadata": {
        "id": "5szw7dTsYej2"
      },
      "source": [
        "# How to find the optimal number of topics for LDA?\n",
        "def hypertune_LDA_num_topics(dictionary, corpus, texts, num_topics_seq):\n",
        "    \"\"\"\n",
        "    Compute coherence score for various number of topics\n",
        "\n",
        "    Parameters:\n",
        "    ----------\n",
        "    dict : Gensim dictionary\n",
        "    corpus : Gensim corpus\n",
        "    list of [list of str] : texts\n",
        "        A list of documents, where each document is a list of words.\n",
        "    list of int: num_topics_seq\n",
        "        A list of num_topics values, e.g., [10, 25, 50] etc.\n",
        "\n",
        "    Returns:\n",
        "    -------\n",
        "    model_list : List of LDA topic models\n",
        "    coherence_values : Coherence values corresponding to the LDA model with respective number of topics\n",
        "    \"\"\"\n",
        "    coherence_values = []\n",
        "    model_list = []\n",
        "    for num_topics in num_topics_seq:\n",
        "        print(\"Modeling {} topics...\".format(num_topics))\n",
        "        model = gensim.models.LdaMulticore(\n",
        "            corpus=corpus\n",
        "            ,id2word=dictionary    \n",
        "            ,num_topics=num_topics\n",
        "            ,passes=2\n",
        "            ,random_state=987\n",
        "            ,per_word_topics=True\n",
        "            ,workers=4\n",
        "            )\n",
        "        model_list.append(model)\n",
        "        coherencemodel = CoherenceModel(model=model, texts=texts, dictionary=dictionary, coherence='c_v')\n",
        "        coherence_values.append(coherencemodel.get_coherence())\n",
        "    print(\"...completed\")\n",
        "    return model_list, coherence_values"
      ],
      "execution_count": 168,
      "outputs": []
    },
    {
      "cell_type": "code",
      "metadata": {
        "id": "M6mInBBcYej2",
        "colab": {
          "base_uri": "https://localhost:8080/"
        },
        "outputId": "b5992a32-f91c-4bd9-fbeb-1bc3ae778f36"
      },
      "source": [
        "%%time\n",
        "num_topics_seq = [x for x in range(4, 25, 2)]\n",
        "print(\"Hypertune `num_topics`, seqeunce:\", num_topics_seq)\n",
        "model_list, coherence_values = hypertune_LDA_num_topics(dictionary=corpus_dict, corpus=corpus_tfidf, texts=corpus_document_tokens, num_topics_seq = num_topics_seq)\n",
        "print()"
      ],
      "execution_count": 169,
      "outputs": [
        {
          "output_type": "stream",
          "name": "stdout",
          "text": [
            "Hypertune `num_topics`, seqeunce: [4, 8, 12, 16, 20, 24]\n",
            "Modeling 4 topics...\n",
            "Modeling 8 topics...\n",
            "Modeling 12 topics...\n",
            "Modeling 16 topics...\n",
            "Modeling 20 topics...\n",
            "Modeling 24 topics...\n",
            "...completed\n",
            "\n",
            "CPU times: user 33min 50s, sys: 34.4 s, total: 34min 24s\n",
            "Wall time: 35min 54s\n"
          ]
        }
      ]
    },
    {
      "cell_type": "code",
      "metadata": {
        "id": "wggV_1V9Yej2",
        "colab": {
          "base_uri": "https://localhost:8080/",
          "height": 401
        },
        "outputId": "bc9b9c9b-6f77-43cc-f052-2a3a3a162ea1"
      },
      "source": [
        "# Select best model trialed\n",
        "max_coherence = max(coherence_values)\n",
        "index_max_coherence = coherence_values.index(max_coherence)\n",
        "best_num_topics = num_topics_seq[index_max_coherence]\n",
        "best_model = model_list[index_max_coherence]\n",
        "print(\"Best model: {} topics (coherence = {})\".format(best_num_topics, round(max_coherence, 4)))\n",
        "\n",
        "# Show model results\n",
        "plt.plot(num_topics_seq, coherence_values)\n",
        "plt.xlabel(\"Num Topics\")\n",
        "plt.ylabel(\"Coherence score\")\n",
        "plt.legend((\"coherence_values\"), loc='best')\n",
        "plt.show()\n",
        "\n",
        "# Print the coherence scores\n",
        "for n, coherence in zip(num_topics_seq, coherence_values):\n",
        "    print(\"{} topics: coherance = {}\".format(n, round(coherence, 4)))"
      ],
      "execution_count": 170,
      "outputs": [
        {
          "output_type": "stream",
          "name": "stdout",
          "text": [
            "Best model: 16 topics (coherence = 0.5448)\n"
          ]
        },
        {
          "output_type": "display_data",
          "data": {
            "image/png": "[encoded data removed]",
            "text/plain": [
              "<Figure size 432x288 with 1 Axes>"
            ]
          },
          "metadata": {
            "needs_background": "light"
          }
        },
        {
          "output_type": "stream",
          "name": "stdout",
          "text": [
            "4 topics: coherance = 0.5218\n",
            "8 topics: coherance = 0.5259\n",
            "12 topics: coherance = 0.464\n",
            "16 topics: coherance = 0.5448\n",
            "20 topics: coherance = 0.517\n",
            "24 topics: coherance = 0.4563\n"
          ]
        }
      ]
    },
    {
      "cell_type": "code",
      "metadata": {
        "id": "l_Ii0BLTYej3",
        "colab": {
          "base_uri": "https://localhost:8080/"
        },
        "outputId": "17f214b7-9c8e-428f-f613-1c53bd200be4"
      },
      "source": [
        "# Select best model trialed and print the topics, \n",
        "model_topics = best_model.show_topics(formatted=False)\n",
        "pprint(best_model.print_topics(num_words=10))"
      ],
      "execution_count": 173,
      "outputs": [
        {
          "output_type": "stream",
          "name": "stdout",
          "text": [
            "[(0,\n",
            "  '0.009*\"feed\" + 0.006*\"hay\" + 0.005*\"supplement\" + 0.005*\"weight\" + '\n",
            "  '0.004*\"grain\" + 0.004*\"alfalfa\" + 0.003*\"beet_pulp\" + 0.003*\"feeding\" + '\n",
            "  '0.003*\"pellet\" + 0.003*\"ulcer\"'),\n",
            " (1,\n",
            "  '0.012*\"teeth\" + 0.007*\"dentist\" + 0.005*\"wolf_teeth\" + 0.004*\"mouth\" + '\n",
            "  '0.004*\"tooth\" + 0.004*\"sedation\" + 0.004*\"equine_dentist\" + 0.003*\"float\" + '\n",
            "  '0.003*\"canine\" + 0.003*\"dental\"'),\n",
            " (2,\n",
            "  '0.004*\"farrier\" + 0.003*\"hoof\" + 0.003*\"shoe\" + 0.003*\"foot\" + 0.002*\"vet\" '\n",
            "  '+ 0.002*\"animal\" + 0.002*\"people\" + 0.002*\"owner\" + 0.002*\"care\" + '\n",
            "  '0.002*\"feed\"'),\n",
            " (3,\n",
            "  '0.010*\"hay\" + 0.007*\"grass\" + 0.006*\"feed\" + 0.005*\"weight\" + '\n",
            "  '0.004*\"alfalfa\" + 0.004*\"pasture\" + 0.004*\"bale\" + 0.003*\"grain\" + '\n",
            "  '0.003*\"feeding\" + 0.003*\"eat\"'),\n",
            " (4,\n",
            "  '0.013*\"hoof\" + 0.010*\"shoe\" + 0.009*\"farrier\" + 0.009*\"foot\" + '\n",
            "  '0.006*\"thrush\" + 0.006*\"trim\" + 0.006*\"barefoot\" + 0.005*\"frog\" + '\n",
            "  '0.005*\"boot\" + 0.004*\"heel\"'),\n",
            " (5,\n",
            "  '0.005*\"cribbing\" + 0.003*\"crib\" + 0.003*\"muscle\" + 0.003*\"weight\" + '\n",
            "  '0.003*\"blanket\" + 0.003*\"foal\" + 0.002*\"mare\" + 0.002*\"collar\" + '\n",
            "  '0.002*\"teeth\" + 0.002*\"winter\"'),\n",
            " (6,\n",
            "  '0.008*\"worm\" + 0.006*\"vaccine\" + 0.006*\"deworming\" + 0.005*\"parasite\" + '\n",
            "  '0.004*\"wormer\" + 0.004*\"ivermectin\" + 0.004*\"worming\" + 0.004*\"shot\" + '\n",
            "  '0.003*\"rabies\" + 0.003*\"coggins\"'),\n",
            " (7,\n",
            "  '0.003*\"duck\" + 0.003*\"insurance\" + 0.003*\"hoof\" + 0.003*\"foot\" + '\n",
            "  '0.002*\"farrier\" + 0.002*\"leg\" + 0.002*\"shoe\" + 0.002*\"vet\" + 0.002*\"heel\" + '\n",
            "  '0.002*\"injury\"'),\n",
            " (8,\n",
            "  '0.002*\"leg\" + 0.002*\"shoe\" + 0.002*\"hoof\" + 0.002*\"vet\" + 0.002*\"sway\" + '\n",
            "  '0.002*\"back\" + 0.002*\"saddle\" + 0.002*\"hay\" + 0.002*\"foot\" + 0.002*\"tail\"'),\n",
            " (9,\n",
            "  '0.006*\"saddle\" + 0.006*\"hair\" + 0.004*\"skin\" + 0.003*\"tail\" + '\n",
            "  '0.003*\"vaccine\" + 0.003*\"fly\" + 0.003*\"ear\" + 0.003*\"mane\" + 0.003*\"louse\" '\n",
            "  '+ 0.003*\"vet\"'),\n",
            " (10,\n",
            "  '0.007*\"wound\" + 0.004*\"leg\" + 0.003*\"clean\" + 0.003*\"sheath\" + '\n",
            "  '0.003*\"proud_flesh\" + 0.003*\"cut\" + 0.003*\"water\" + 0.003*\"wrap\" + '\n",
            "  '0.003*\"skin\" + 0.003*\"vet\"'),\n",
            " (11,\n",
            "  '0.005*\"feed\" + 0.004*\"hay\" + 0.004*\"oil\" + 0.004*\"weight\" + 0.003*\"ulcer\" + '\n",
            "  '0.003*\"supplement\" + 0.003*\"fat\" + 0.003*\"alfalfa\" + 0.003*\"cup\" + '\n",
            "  '0.002*\"rice_bran\"'),\n",
            " (12,\n",
            "  '0.003*\"vet\" + 0.003*\"eye\" + 0.002*\"leg\" + 0.002*\"water\" + 0.002*\"colic\" + '\n",
            "  '0.002*\"call\" + 0.002*\"mare\" + 0.002*\"swelling\" + 0.002*\"back\" + '\n",
            "  '0.002*\"stall\"'),\n",
            " (13,\n",
            "  '0.005*\"leg\" + 0.005*\"lame\" + 0.005*\"joint\" + 0.004*\"lameness\" + '\n",
            "  '0.004*\"arthritis\" + 0.004*\"hock\" + 0.004*\"vet\" + 0.003*\"injury\" + '\n",
            "  '0.003*\"stifle\" + 0.003*\"foot\"'),\n",
            " (14,\n",
            "  '0.008*\"fly\" + 0.007*\"blanket\" + 0.005*\"spray\" + 0.003*\"skin\" + 0.003*\"eye\" '\n",
            "  '+ 0.003*\"hair\" + 0.003*\"rain_rot\" + 0.003*\"tick\" + 0.003*\"cough\" + '\n",
            "  '0.003*\"cold\"'),\n",
            " (15,\n",
            "  '0.004*\"eye\" + 0.003*\"worm\" + 0.002*\"vet\" + 0.002*\"sweat\" + 0.002*\"hay\" + '\n",
            "  '0.002*\"sweating\" + 0.002*\"wound\" + 0.002*\"feed\" + 0.002*\"fly\" + '\n",
            "  '0.001*\"look\"')]\n"
          ]
        }
      ]
    },
    {
      "cell_type": "code",
      "metadata": {
        "colab": {
          "base_uri": "https://localhost:8080/"
        },
        "id": "TbeTyZpV9x_5",
        "outputId": "732c7698-f23a-47b0-f3b2-784add771035"
      },
      "source": [
        "# Demonstrate model output\n",
        "for c in best_model[corpus_tfidf[200:203]]:\n",
        "    print(\"Document Topics      : \", c[0])      # [(Topics, Perc Contrib)]\n",
        "    print(\"Word id, Topics      : \", c[1][:3])  # [(Word id, [Topics])]\n",
        "    print(\"Phi Values (word id) : \", c[2][:2])  # [(Word id, [(Topic, Phi Value)])]\n",
        "    print(\"Word, Topics         : \", [(corpus_dict[wd], topic) for wd, topic in c[1][:2]])   # [(Word, [Topics])]\n",
        "    print(\"Phi Values (word)    : \", [(corpus_dict[wd], topic) for wd, topic in c[2][:2]])  # [(Word, [(Topic, Phi Value)])]\n",
        "    print(\"------------------------------------------------------\\n\")"
      ],
      "execution_count": 176,
      "outputs": [
        {
          "output_type": "stream",
          "name": "stdout",
          "text": [
            "Document Topics      :  [(13, 0.9059472)]\n",
            "Word id, Topics      :  [(7, [13]), (15, [13]), (44, [])]\n",
            "Phi Values (word id) :  [(7, [(13, 0.034984425)]), (15, [(13, 0.025096538)])]\n",
            "Word, Topics         :  [('answer', [13]), ('called', [13])]\n",
            "Phi Values (word)    :  [('answer', [(13, 0.034984425)]), ('called', [(13, 0.025096538)])]\n",
            "------------------------------------------------------\n",
            "\n",
            "Document Topics      :  [(2, 0.93878406)]\n",
            "Word id, Topics      :  [(12, [2]), (13, [2]), (17, [])]\n",
            "Phi Values (word id) :  [(12, [(2, 0.022659972)]), (13, [(2, 0.039436575)])]\n",
            "Word, Topics         :  [('beneficial', [2]), ('better', [2])]\n",
            "Phi Values (word)    :  [('beneficial', [(2, 0.022659972)]), ('better', [(2, 0.039436575)])]\n",
            "------------------------------------------------------\n",
            "\n",
            "Document Topics      :  [(0, 0.4286159), (2, 0.47126618)]\n",
            "Word id, Topics      :  [(5, [2, 0]), (19, [0, 2]), (37, [2, 0])]\n",
            "Phi Values (word id) :  [(5, [(0, 0.02169544), (2, 0.037102673)]), (19, [(0, 0.04903849), (2, 0.04287464)])]\n",
            "Word, Topics         :  [('allowed', [2, 0]), ('clarify', [0, 2])]\n",
            "Phi Values (word)    :  [('allowed', [(0, 0.02169544), (2, 0.037102673)]), ('clarify', [(0, 0.04903849), (2, 0.04287464)])]\n",
            "------------------------------------------------------\n",
            "\n"
          ]
        }
      ]
    },
    {
      "cell_type": "markdown",
      "metadata": {
        "id": "_cwlHe6Udbaj"
      },
      "source": [
        "## Label thread topics"
      ]
    },
    {
      "cell_type": "code",
      "metadata": {
        "colab": {
          "base_uri": "https://localhost:8080/"
        },
        "id": "aVh94rakncwF",
        "outputId": "58aa171f-91a0-4104-fae4-44cb904d739b"
      },
      "source": [
        "%%time\n",
        "df_thread_topic_labels = get_lda_dominant_topics(best_model, corpus_tfidf, top_n_words=10, delim_words=', ')"
      ],
      "execution_count": 161,
      "outputs": [
        {
          "output_type": "stream",
          "name": "stdout",
          "text": [
            "CPU times: user 9min 3s, sys: 2min 55s, total: 11min 59s\n",
            "Wall time: 8min 45s\n"
          ]
        }
      ]
    },
    {
      "cell_type": "code",
      "metadata": {
        "id": "inQU7dZvHNfp"
      },
      "source": [
        "del thread_topic_labels"
      ],
      "execution_count": 188,
      "outputs": []
    },
    {
      "cell_type": "code",
      "metadata": {
        "colab": {
          "base_uri": "https://localhost:8080/",
          "height": 423
        },
        "id": "hwHsJeTGvHDT",
        "outputId": "7cc70034-dd6b-482e-d560-33a0967361d3"
      },
      "source": [
        "df_thread_topic_labels"
      ],
      "execution_count": 187,
      "outputs": [
        {
          "output_type": "execute_result",
          "data": {
            "text/html": [
              "<div>\n",
              "<style scoped>\n",
              "    .dataframe tbody tr th:only-of-type {\n",
              "        vertical-align: middle;\n",
              "    }\n",
              "\n",
              "    .dataframe tbody tr th {\n",
              "        vertical-align: top;\n",
              "    }\n",
              "\n",
              "    .dataframe thead th {\n",
              "        text-align: right;\n",
              "    }\n",
              "</style>\n",
              "<table border=\"1\" class=\"dataframe\">\n",
              "  <thead>\n",
              "    <tr style=\"text-align: right;\">\n",
              "      <th></th>\n",
              "      <th>index_doc</th>\n",
              "      <th>Primary_topic</th>\n",
              "      <th>Primary_topic_contribution</th>\n",
              "      <th>Primary_topic_keywords</th>\n",
              "      <th>Secondary_topic</th>\n",
              "      <th>Secondary_topic_contribution</th>\n",
              "      <th>Secondary_topic_keywords</th>\n",
              "    </tr>\n",
              "  </thead>\n",
              "  <tbody>\n",
              "    <tr>\n",
              "      <th>0</th>\n",
              "      <td>0</td>\n",
              "      <td>18</td>\n",
              "      <td>0.899064</td>\n",
              "      <td>vet, leg, mare, eye, stall, foot, farrier, bac...</td>\n",
              "      <td>-1</td>\n",
              "      <td>0.000000</td>\n",
              "      <td></td>\n",
              "    </tr>\n",
              "    <tr>\n",
              "      <th>1</th>\n",
              "      <td>1</td>\n",
              "      <td>18</td>\n",
              "      <td>0.742976</td>\n",
              "      <td>vet, leg, mare, eye, stall, foot, farrier, bac...</td>\n",
              "      <td>4</td>\n",
              "      <td>0.171617</td>\n",
              "      <td>feed, hay, weight, alfalfa, grain, feeding, be...</td>\n",
              "    </tr>\n",
              "    <tr>\n",
              "      <th>2</th>\n",
              "      <td>2</td>\n",
              "      <td>18</td>\n",
              "      <td>0.967533</td>\n",
              "      <td>vet, leg, mare, eye, stall, foot, farrier, bac...</td>\n",
              "      <td>-1</td>\n",
              "      <td>0.000000</td>\n",
              "      <td></td>\n",
              "    </tr>\n",
              "    <tr>\n",
              "      <th>3</th>\n",
              "      <td>3</td>\n",
              "      <td>14</td>\n",
              "      <td>0.614826</td>\n",
              "      <td>fly, hair, skin, spray, rain_rot, scab, wound,...</td>\n",
              "      <td>18</td>\n",
              "      <td>0.343041</td>\n",
              "      <td>vet, leg, mare, eye, stall, foot, farrier, bac...</td>\n",
              "    </tr>\n",
              "    <tr>\n",
              "      <th>4</th>\n",
              "      <td>4</td>\n",
              "      <td>18</td>\n",
              "      <td>0.948258</td>\n",
              "      <td>vet, leg, mare, eye, stall, foot, farrier, bac...</td>\n",
              "      <td>-1</td>\n",
              "      <td>0.000000</td>\n",
              "      <td></td>\n",
              "    </tr>\n",
              "    <tr>\n",
              "      <th>...</th>\n",
              "      <td>...</td>\n",
              "      <td>...</td>\n",
              "      <td>...</td>\n",
              "      <td>...</td>\n",
              "      <td>...</td>\n",
              "      <td>...</td>\n",
              "      <td>...</td>\n",
              "    </tr>\n",
              "    <tr>\n",
              "      <th>20949</th>\n",
              "      <td>20949</td>\n",
              "      <td>18</td>\n",
              "      <td>0.897364</td>\n",
              "      <td>vet, leg, mare, eye, stall, foot, farrier, bac...</td>\n",
              "      <td>-1</td>\n",
              "      <td>0.000000</td>\n",
              "      <td></td>\n",
              "    </tr>\n",
              "    <tr>\n",
              "      <th>20950</th>\n",
              "      <td>20950</td>\n",
              "      <td>4</td>\n",
              "      <td>0.934004</td>\n",
              "      <td>feed, hay, weight, alfalfa, grain, feeding, be...</td>\n",
              "      <td>-1</td>\n",
              "      <td>0.000000</td>\n",
              "      <td></td>\n",
              "    </tr>\n",
              "    <tr>\n",
              "      <th>20951</th>\n",
              "      <td>20951</td>\n",
              "      <td>18</td>\n",
              "      <td>0.898037</td>\n",
              "      <td>vet, leg, mare, eye, stall, foot, farrier, bac...</td>\n",
              "      <td>-1</td>\n",
              "      <td>0.000000</td>\n",
              "      <td></td>\n",
              "    </tr>\n",
              "    <tr>\n",
              "      <th>20952</th>\n",
              "      <td>20952</td>\n",
              "      <td>16</td>\n",
              "      <td>0.910617</td>\n",
              "      <td>worm, hay, deworming, weight, grass, parasite,...</td>\n",
              "      <td>-1</td>\n",
              "      <td>0.000000</td>\n",
              "      <td></td>\n",
              "    </tr>\n",
              "    <tr>\n",
              "      <th>20953</th>\n",
              "      <td>20953</td>\n",
              "      <td>18</td>\n",
              "      <td>0.900533</td>\n",
              "      <td>vet, leg, mare, eye, stall, foot, farrier, bac...</td>\n",
              "      <td>-1</td>\n",
              "      <td>0.000000</td>\n",
              "      <td></td>\n",
              "    </tr>\n",
              "  </tbody>\n",
              "</table>\n",
              "<p>20954 rows × 7 columns</p>\n",
              "</div>"
            ],
            "text/plain": [
              "       index_doc  ...                           Secondary_topic_keywords\n",
              "0              0  ...                                                   \n",
              "1              1  ...  feed, hay, weight, alfalfa, grain, feeding, be...\n",
              "2              2  ...                                                   \n",
              "3              3  ...  vet, leg, mare, eye, stall, foot, farrier, bac...\n",
              "4              4  ...                                                   \n",
              "...          ...  ...                                                ...\n",
              "20949      20949  ...                                                   \n",
              "20950      20950  ...                                                   \n",
              "20951      20951  ...                                                   \n",
              "20952      20952  ...                                                   \n",
              "20953      20953  ...                                                   \n",
              "\n",
              "[20954 rows x 7 columns]"
            ]
          },
          "metadata": {},
          "execution_count": 187
        }
      ]
    },
    {
      "cell_type": "code",
      "metadata": {
        "id": "7TGdMG11HXRA"
      },
      "source": [
        "df_horseforum_threads = df_horseforum_threads.join(df_thread_topic_labels.drop(['index_doc'], axis=1))"
      ],
      "execution_count": 189,
      "outputs": []
    },
    {
      "cell_type": "code",
      "metadata": {
        "colab": {
          "base_uri": "https://localhost:8080/",
          "height": 753
        },
        "id": "dv90OL-WHmXs",
        "outputId": "59c8370d-4341-49fd-ec2c-b2b2c1e27d83"
      },
      "source": [
        "df_horseforum_threads"
      ],
      "execution_count": 190,
      "outputs": [
        {
          "output_type": "execute_result",
          "data": {
            "text/html": [
              "<div>\n",
              "<style scoped>\n",
              "    .dataframe tbody tr th:only-of-type {\n",
              "        vertical-align: middle;\n",
              "    }\n",
              "\n",
              "    .dataframe tbody tr th {\n",
              "        vertical-align: top;\n",
              "    }\n",
              "\n",
              "    .dataframe thead th {\n",
              "        text-align: right;\n",
              "    }\n",
              "</style>\n",
              "<table border=\"1\" class=\"dataframe\">\n",
              "  <thead>\n",
              "    <tr style=\"text-align: right;\">\n",
              "      <th></th>\n",
              "      <th>thread_url_path</th>\n",
              "      <th>thread_document</th>\n",
              "      <th>cleaned_document</th>\n",
              "      <th>cleaned_document_tm</th>\n",
              "      <th>neg</th>\n",
              "      <th>neu</th>\n",
              "      <th>pos</th>\n",
              "      <th>compound</th>\n",
              "      <th>sentiment</th>\n",
              "      <th>Primary_topic</th>\n",
              "      <th>Primary_topic_contribution</th>\n",
              "      <th>Primary_topic_keywords</th>\n",
              "      <th>Secondary_topic</th>\n",
              "      <th>Secondary_topic_contribution</th>\n",
              "      <th>Secondary_topic_keywords</th>\n",
              "    </tr>\n",
              "  </thead>\n",
              "  <tbody>\n",
              "    <tr>\n",
              "      <th>0</th>\n",
              "      <td>/threads/please-read-before-posting-both-older...</td>\n",
              "      <td>PLEASE READ BEFORE POSTING (both older and new...</td>\n",
              "      <td>PLEASE READ BEFORE POSTING both older and newe...</td>\n",
              "      <td>please read posting older newer horseforum com...</td>\n",
              "      <td>0.087</td>\n",
              "      <td>0.802</td>\n",
              "      <td>0.110</td>\n",
              "      <td>0.5739</td>\n",
              "      <td>positive</td>\n",
              "      <td>18</td>\n",
              "      <td>0.899064</td>\n",
              "      <td>vet, leg, mare, eye, stall, foot, farrier, bac...</td>\n",
              "      <td>-1</td>\n",
              "      <td>0.000000</td>\n",
              "      <td></td>\n",
              "    </tr>\n",
              "    <tr>\n",
              "      <th>1</th>\n",
              "      <td>/threads/poisonous-plants-from-hf-member-locat...</td>\n",
              "      <td>poisonous plants from HF member locations\\nMOD...</td>\n",
              "      <td>poisonous plants from HF member locations MOD ...</td>\n",
              "      <td>poisonous plant hf member location mod note ja...</td>\n",
              "      <td>0.086</td>\n",
              "      <td>0.810</td>\n",
              "      <td>0.103</td>\n",
              "      <td>0.8467</td>\n",
              "      <td>positive</td>\n",
              "      <td>18</td>\n",
              "      <td>0.742976</td>\n",
              "      <td>vet, leg, mare, eye, stall, foot, farrier, bac...</td>\n",
              "      <td>4</td>\n",
              "      <td>0.171617</td>\n",
              "      <td>feed, hay, weight, alfalfa, grain, feeding, be...</td>\n",
              "    </tr>\n",
              "    <tr>\n",
              "      <th>2</th>\n",
              "      <td>/threads/the-care-of-an-emaciated-horse.100412/</td>\n",
              "      <td>The Care of an Emaciated Horse\\nMy friend and ...</td>\n",
              "      <td>The Care of an Emaciated Horse My friend and I...</td>\n",
              "      <td>care emaciated horse friend experienced horse ...</td>\n",
              "      <td>0.096</td>\n",
              "      <td>0.746</td>\n",
              "      <td>0.157</td>\n",
              "      <td>1.0000</td>\n",
              "      <td>positive</td>\n",
              "      <td>18</td>\n",
              "      <td>0.967533</td>\n",
              "      <td>vet, leg, mare, eye, stall, foot, farrier, bac...</td>\n",
              "      <td>-1</td>\n",
              "      <td>0.000000</td>\n",
              "      <td></td>\n",
              "    </tr>\n",
              "    <tr>\n",
              "      <th>3</th>\n",
              "      <td>/threads/making-a-vet-kit.251/</td>\n",
              "      <td>Making a Vet Kit\\nHey guys! I am posting this ...</td>\n",
              "      <td>Making a Vet Kit Hey guys I am posting this th...</td>\n",
              "      <td>making vet kit hey guy posting thread primaril...</td>\n",
              "      <td>0.056</td>\n",
              "      <td>0.763</td>\n",
              "      <td>0.180</td>\n",
              "      <td>1.0000</td>\n",
              "      <td>positive</td>\n",
              "      <td>14</td>\n",
              "      <td>0.614826</td>\n",
              "      <td>fly, hair, skin, spray, rain_rot, scab, wound,...</td>\n",
              "      <td>18</td>\n",
              "      <td>0.343041</td>\n",
              "      <td>vet, leg, mare, eye, stall, foot, farrier, bac...</td>\n",
              "    </tr>\n",
              "    <tr>\n",
              "      <th>4</th>\n",
              "      <td>/threads/information-on-myopathies-pssm1-pssm2...</td>\n",
              "      <td>Information on Myopathies - PSSM1, PSSM2, MFM,...</td>\n",
              "      <td>Information on Myopathies PSSM1 PSSM2 MFM and ...</td>\n",
              "      <td>information myopathy pssm1 pssm2 mfm rer pssm1...</td>\n",
              "      <td>0.128</td>\n",
              "      <td>0.788</td>\n",
              "      <td>0.084</td>\n",
              "      <td>-0.9996</td>\n",
              "      <td>negative</td>\n",
              "      <td>18</td>\n",
              "      <td>0.948258</td>\n",
              "      <td>vet, leg, mare, eye, stall, foot, farrier, bac...</td>\n",
              "      <td>-1</td>\n",
              "      <td>0.000000</td>\n",
              "      <td></td>\n",
              "    </tr>\n",
              "    <tr>\n",
              "      <th>...</th>\n",
              "      <td>...</td>\n",
              "      <td>...</td>\n",
              "      <td>...</td>\n",
              "      <td>...</td>\n",
              "      <td>...</td>\n",
              "      <td>...</td>\n",
              "      <td>...</td>\n",
              "      <td>...</td>\n",
              "      <td>...</td>\n",
              "      <td>...</td>\n",
              "      <td>...</td>\n",
              "      <td>...</td>\n",
              "      <td>...</td>\n",
              "      <td>...</td>\n",
              "      <td>...</td>\n",
              "    </tr>\n",
              "    <tr>\n",
              "      <th>20949</th>\n",
              "      <td>/threads/recovery-from-torn-rear-suspensory-li...</td>\n",
              "      <td>Recovery from Torn Rear Suspensory Ligament\\nH...</td>\n",
              "      <td>Recovery from Torn Rear Suspensory Ligament Hi...</td>\n",
              "      <td>recovery torn rear suspensory ligament hi stan...</td>\n",
              "      <td>0.094</td>\n",
              "      <td>0.806</td>\n",
              "      <td>0.100</td>\n",
              "      <td>0.2581</td>\n",
              "      <td>positive</td>\n",
              "      <td>18</td>\n",
              "      <td>0.897364</td>\n",
              "      <td>vet, leg, mare, eye, stall, foot, farrier, bac...</td>\n",
              "      <td>-1</td>\n",
              "      <td>0.000000</td>\n",
              "      <td></td>\n",
              "    </tr>\n",
              "    <tr>\n",
              "      <th>20950</th>\n",
              "      <td>/threads/how-to-get-horses-to-gaine-weight.99/</td>\n",
              "      <td>how to get horses to gaine weight\\nI found out...</td>\n",
              "      <td>how to get horses to gaine weight I found out ...</td>\n",
              "      <td>get horse gaine weight found give horse black ...</td>\n",
              "      <td>0.057</td>\n",
              "      <td>0.754</td>\n",
              "      <td>0.189</td>\n",
              "      <td>0.9996</td>\n",
              "      <td>positive</td>\n",
              "      <td>4</td>\n",
              "      <td>0.934004</td>\n",
              "      <td>feed, hay, weight, alfalfa, grain, feeding, be...</td>\n",
              "      <td>-1</td>\n",
              "      <td>0.000000</td>\n",
              "      <td></td>\n",
              "    </tr>\n",
              "    <tr>\n",
              "      <th>20951</th>\n",
              "      <td>/threads/paxil.102/</td>\n",
              "      <td>PAXIL?\\nWe have a horse who is just a simply h...</td>\n",
              "      <td>PAXIL We have a horse who is just a simply hig...</td>\n",
              "      <td>paxil horse simply high strung sort favorite t...</td>\n",
              "      <td>0.068</td>\n",
              "      <td>0.769</td>\n",
              "      <td>0.163</td>\n",
              "      <td>0.9881</td>\n",
              "      <td>positive</td>\n",
              "      <td>18</td>\n",
              "      <td>0.898037</td>\n",
              "      <td>vet, leg, mare, eye, stall, foot, farrier, bac...</td>\n",
              "      <td>-1</td>\n",
              "      <td>0.000000</td>\n",
              "      <td></td>\n",
              "    </tr>\n",
              "    <tr>\n",
              "      <th>20952</th>\n",
              "      <td>/threads/loose-stool.101/</td>\n",
              "      <td>Loose stool\\nI have a three year old filly tha...</td>\n",
              "      <td>Loose stool I have a three year old filly that...</td>\n",
              "      <td>loose stool year old filly tends nervous gut f...</td>\n",
              "      <td>0.058</td>\n",
              "      <td>0.765</td>\n",
              "      <td>0.177</td>\n",
              "      <td>0.9981</td>\n",
              "      <td>positive</td>\n",
              "      <td>16</td>\n",
              "      <td>0.910617</td>\n",
              "      <td>worm, hay, deworming, weight, grass, parasite,...</td>\n",
              "      <td>-1</td>\n",
              "      <td>0.000000</td>\n",
              "      <td></td>\n",
              "    </tr>\n",
              "    <tr>\n",
              "      <th>20953</th>\n",
              "      <td>/threads/quietex.49/</td>\n",
              "      <td>Quietex\\nI have a 4 year old Paint Gelding who...</td>\n",
              "      <td>Quietex I have a year old Paint Gelding who is...</td>\n",
              "      <td>quietex year old paint gelding difficult shoe ...</td>\n",
              "      <td>0.057</td>\n",
              "      <td>0.816</td>\n",
              "      <td>0.127</td>\n",
              "      <td>0.9905</td>\n",
              "      <td>positive</td>\n",
              "      <td>18</td>\n",
              "      <td>0.900533</td>\n",
              "      <td>vet, leg, mare, eye, stall, foot, farrier, bac...</td>\n",
              "      <td>-1</td>\n",
              "      <td>0.000000</td>\n",
              "      <td></td>\n",
              "    </tr>\n",
              "  </tbody>\n",
              "</table>\n",
              "<p>20954 rows × 15 columns</p>\n",
              "</div>"
            ],
            "text/plain": [
              "                                         thread_url_path  ...                           Secondary_topic_keywords\n",
              "0      /threads/please-read-before-posting-both-older...  ...                                                   \n",
              "1      /threads/poisonous-plants-from-hf-member-locat...  ...  feed, hay, weight, alfalfa, grain, feeding, be...\n",
              "2        /threads/the-care-of-an-emaciated-horse.100412/  ...                                                   \n",
              "3                         /threads/making-a-vet-kit.251/  ...  vet, leg, mare, eye, stall, foot, farrier, bac...\n",
              "4      /threads/information-on-myopathies-pssm1-pssm2...  ...                                                   \n",
              "...                                                  ...  ...                                                ...\n",
              "20949  /threads/recovery-from-torn-rear-suspensory-li...  ...                                                   \n",
              "20950     /threads/how-to-get-horses-to-gaine-weight.99/  ...                                                   \n",
              "20951                                /threads/paxil.102/  ...                                                   \n",
              "20952                          /threads/loose-stool.101/  ...                                                   \n",
              "20953                               /threads/quietex.49/  ...                                                   \n",
              "\n",
              "[20954 rows x 15 columns]"
            ]
          },
          "metadata": {},
          "execution_count": 190
        }
      ]
    },
    {
      "cell_type": "code",
      "metadata": {
        "colab": {
          "base_uri": "https://localhost:8080/",
          "height": 499
        },
        "id": "7G6vK8zAIahq",
        "outputId": "d8930e9d-227b-4744-a7df-503f0af8b874"
      },
      "source": [
        "# Generate frequnecy plots\n",
        "fig, ax = plt.subplots(nrows=1, ncols=2, figsize=(16, 8))\n",
        "\n",
        "# Primary topic\n",
        "tmp_df = df_horseforum_threads['Primary_topic'].value_counts().to_frame('count of threads').sort_values('count of threads', ascending=True)\n",
        "if tmp_df.shape[0] <= 20:\n",
        "    tmp_df.plot.barh(ax=ax[0], title = 'Primary_topic', xlabel = \"Topic identifier\", ylabel=\"Number of threads\")\n",
        "else:\n",
        "    tmp_df.tail(20).plot.barh(ax=ax[0], title = 'Primary_topic' + ' (top 20 of ' + str(tmp_df.shape[0]) + ' only)', xlabel = \"Topic identifier\", ylabel=\"Number of threads\")\n",
        "\n",
        "# Secondary topic\n",
        "tmp_df = df_horseforum_threads[df_horseforum_threads['Secondary_topic'] !=-1]['Secondary_topic'].value_counts().to_frame('count of threads').sort_values('count of threads', ascending=True)\n",
        "if tmp_df.shape[0] <= 20:\n",
        "    tmp_df.plot.barh(ax=ax[1], title = 'Secondary_topic', xlabel = \"Topic identifier\", ylabel=\"Number of threads\")\n",
        "else:\n",
        "    tmp_df.tail(20).plot.barh(ax=ax[1], title = 'Secondary_topic' + ' (top 20 of ' + str(tmp_df.shape[0]) + ' only)', xlabel = \"Topic identifier\", ylabel=\"Number of threads\") \n",
        "\n",
        "plt.show()"
      ],
      "execution_count": 208,
      "outputs": [
        {
          "output_type": "display_data",
          "data": {
            "image/png": "[encoded data removed]",
            "text/plain": [
              "<Figure size 1152x576 with 2 Axes>"
            ]
          },
          "metadata": {
            "needs_background": "light"
          }
        }
      ]
    },
    {
      "cell_type": "code",
      "metadata": {
        "colab": {
          "base_uri": "https://localhost:8080/",
          "height": 677
        },
        "id": "efqRQ9WNYbIu",
        "outputId": "3735ef1a-eead-4e66-c885-1e7890b1742f"
      },
      "source": [
        "df_horseforum_threads['Primary_topic'].value_counts().to_frame('count of threads').sort_values('count of threads', ascending=False)"
      ],
      "execution_count": 281,
      "outputs": [
        {
          "output_type": "execute_result",
          "data": {
            "text/html": [
              "<div>\n",
              "<style scoped>\n",
              "    .dataframe tbody tr th:only-of-type {\n",
              "        vertical-align: middle;\n",
              "    }\n",
              "\n",
              "    .dataframe tbody tr th {\n",
              "        vertical-align: top;\n",
              "    }\n",
              "\n",
              "    .dataframe thead th {\n",
              "        text-align: right;\n",
              "    }\n",
              "</style>\n",
              "<table border=\"1\" class=\"dataframe\">\n",
              "  <thead>\n",
              "    <tr style=\"text-align: right;\">\n",
              "      <th></th>\n",
              "      <th>count of threads</th>\n",
              "    </tr>\n",
              "  </thead>\n",
              "  <tbody>\n",
              "    <tr>\n",
              "      <th>18</th>\n",
              "      <td>10602</td>\n",
              "    </tr>\n",
              "    <tr>\n",
              "      <th>4</th>\n",
              "      <td>2944</td>\n",
              "    </tr>\n",
              "    <tr>\n",
              "      <th>14</th>\n",
              "      <td>2430</td>\n",
              "    </tr>\n",
              "    <tr>\n",
              "      <th>17</th>\n",
              "      <td>1445</td>\n",
              "    </tr>\n",
              "    <tr>\n",
              "      <th>16</th>\n",
              "      <td>992</td>\n",
              "    </tr>\n",
              "    <tr>\n",
              "      <th>13</th>\n",
              "      <td>761</td>\n",
              "    </tr>\n",
              "    <tr>\n",
              "      <th>6</th>\n",
              "      <td>652</td>\n",
              "    </tr>\n",
              "    <tr>\n",
              "      <th>0</th>\n",
              "      <td>259</td>\n",
              "    </tr>\n",
              "    <tr>\n",
              "      <th>12</th>\n",
              "      <td>248</td>\n",
              "    </tr>\n",
              "    <tr>\n",
              "      <th>19</th>\n",
              "      <td>241</td>\n",
              "    </tr>\n",
              "    <tr>\n",
              "      <th>3</th>\n",
              "      <td>166</td>\n",
              "    </tr>\n",
              "    <tr>\n",
              "      <th>10</th>\n",
              "      <td>109</td>\n",
              "    </tr>\n",
              "    <tr>\n",
              "      <th>7</th>\n",
              "      <td>34</td>\n",
              "    </tr>\n",
              "    <tr>\n",
              "      <th>5</th>\n",
              "      <td>21</td>\n",
              "    </tr>\n",
              "    <tr>\n",
              "      <th>2</th>\n",
              "      <td>15</td>\n",
              "    </tr>\n",
              "    <tr>\n",
              "      <th>9</th>\n",
              "      <td>15</td>\n",
              "    </tr>\n",
              "    <tr>\n",
              "      <th>1</th>\n",
              "      <td>11</td>\n",
              "    </tr>\n",
              "    <tr>\n",
              "      <th>11</th>\n",
              "      <td>5</td>\n",
              "    </tr>\n",
              "    <tr>\n",
              "      <th>8</th>\n",
              "      <td>3</td>\n",
              "    </tr>\n",
              "    <tr>\n",
              "      <th>15</th>\n",
              "      <td>1</td>\n",
              "    </tr>\n",
              "  </tbody>\n",
              "</table>\n",
              "</div>"
            ],
            "text/plain": [
              "    count of threads\n",
              "18             10602\n",
              "4               2944\n",
              "14              2430\n",
              "17              1445\n",
              "16               992\n",
              "13               761\n",
              "6                652\n",
              "0                259\n",
              "12               248\n",
              "19               241\n",
              "3                166\n",
              "10               109\n",
              "7                 34\n",
              "5                 21\n",
              "2                 15\n",
              "9                 15\n",
              "1                 11\n",
              "11                 5\n",
              "8                  3\n",
              "15                 1"
            ]
          },
          "metadata": {},
          "execution_count": 281
        }
      ]
    },
    {
      "cell_type": "markdown",
      "metadata": {
        "id": "1cQ74QWE-V38"
      },
      "source": [
        "# NLP - Sentiment analysis"
      ]
    },
    {
      "cell_type": "markdown",
      "metadata": {
        "id": "RgH-Kfw5-aSe"
      },
      "source": [
        "## Polarity scores per thread\n",
        "\n",
        "Calculate sentiment polarity scores for each thread."
      ]
    },
    {
      "cell_type": "code",
      "metadata": {
        "id": "exh91EyT-Au3"
      },
      "source": [
        "%%time\n",
        "sid = SentimentIntensityAnalyzer()\n",
        "thread_sentiment = df_horseforum_threads['cleaned_document'].apply(sid.polarity_scores)"
      ],
      "execution_count": null,
      "outputs": []
    },
    {
      "cell_type": "markdown",
      "metadata": {
        "id": "LGuj2XQfj53R"
      },
      "source": [
        "## Sentiment by thread"
      ]
    },
    {
      "cell_type": "markdown",
      "metadata": {
        "id": "LwKtFKAGC0cI"
      },
      "source": [
        "Convert `compound` metric into a categorical variable for sentiment (based on nominated criteria):\n",
        "\n",
        "* if `compound` >= 0.05 then: *'postitive'*\n",
        "* else if `compound` <= -0.05 then: *'negative'*\n",
        "* else: *'neutral'*"
      ]
    },
    {
      "cell_type": "code",
      "metadata": {
        "colab": {
          "base_uri": "https://localhost:8080/",
          "height": 441
        },
        "id": "_1c0go87DbMh",
        "outputId": "732e32f8-9b12-494d-f1a3-06c40a139735"
      },
      "source": [
        "# Get sentiment values\n",
        "senitments = list(sentiment_colours().keys())\n",
        "print(\"sentiments:\", senitments)\n",
        "\n",
        "df_thread_sentiment = pd.DataFrame(list(thread_sentiment))\n",
        "df_thread_sentiment['sentiment'] = np.select(\n",
        "    [\n",
        "        df_thread_sentiment['compound'].ge(0.05)\n",
        "        ,df_thread_sentiment['compound'].le(-0.05)\n",
        "    ],\n",
        "    [\n",
        "        senitments[0] # \"positive\"\n",
        "        ,senitments[2] # \"negative\"\n",
        "    ], \n",
        "    default = senitments[1] # \"neutral\"\n",
        ")\n",
        "df_thread_sentiment"
      ],
      "execution_count": 317,
      "outputs": [
        {
          "output_type": "stream",
          "name": "stdout",
          "text": [
            "sentiments: ['positive', 'neutral', 'negative']\n"
          ]
        },
        {
          "output_type": "execute_result",
          "data": {
            "text/html": [
              "<div>\n",
              "<style scoped>\n",
              "    .dataframe tbody tr th:only-of-type {\n",
              "        vertical-align: middle;\n",
              "    }\n",
              "\n",
              "    .dataframe tbody tr th {\n",
              "        vertical-align: top;\n",
              "    }\n",
              "\n",
              "    .dataframe thead th {\n",
              "        text-align: right;\n",
              "    }\n",
              "</style>\n",
              "<table border=\"1\" class=\"dataframe\">\n",
              "  <thead>\n",
              "    <tr style=\"text-align: right;\">\n",
              "      <th></th>\n",
              "      <th>neg</th>\n",
              "      <th>neu</th>\n",
              "      <th>pos</th>\n",
              "      <th>compound</th>\n",
              "      <th>sentiment</th>\n",
              "    </tr>\n",
              "  </thead>\n",
              "  <tbody>\n",
              "    <tr>\n",
              "      <th>0</th>\n",
              "      <td>0.087</td>\n",
              "      <td>0.802</td>\n",
              "      <td>0.110</td>\n",
              "      <td>0.5739</td>\n",
              "      <td>positive</td>\n",
              "    </tr>\n",
              "    <tr>\n",
              "      <th>1</th>\n",
              "      <td>0.086</td>\n",
              "      <td>0.810</td>\n",
              "      <td>0.103</td>\n",
              "      <td>0.8467</td>\n",
              "      <td>positive</td>\n",
              "    </tr>\n",
              "    <tr>\n",
              "      <th>2</th>\n",
              "      <td>0.096</td>\n",
              "      <td>0.746</td>\n",
              "      <td>0.157</td>\n",
              "      <td>1.0000</td>\n",
              "      <td>positive</td>\n",
              "    </tr>\n",
              "    <tr>\n",
              "      <th>3</th>\n",
              "      <td>0.056</td>\n",
              "      <td>0.763</td>\n",
              "      <td>0.180</td>\n",
              "      <td>1.0000</td>\n",
              "      <td>positive</td>\n",
              "    </tr>\n",
              "    <tr>\n",
              "      <th>4</th>\n",
              "      <td>0.128</td>\n",
              "      <td>0.788</td>\n",
              "      <td>0.084</td>\n",
              "      <td>-0.9996</td>\n",
              "      <td>negative</td>\n",
              "    </tr>\n",
              "    <tr>\n",
              "      <th>...</th>\n",
              "      <td>...</td>\n",
              "      <td>...</td>\n",
              "      <td>...</td>\n",
              "      <td>...</td>\n",
              "      <td>...</td>\n",
              "    </tr>\n",
              "    <tr>\n",
              "      <th>20949</th>\n",
              "      <td>0.094</td>\n",
              "      <td>0.806</td>\n",
              "      <td>0.100</td>\n",
              "      <td>0.2581</td>\n",
              "      <td>positive</td>\n",
              "    </tr>\n",
              "    <tr>\n",
              "      <th>20950</th>\n",
              "      <td>0.057</td>\n",
              "      <td>0.754</td>\n",
              "      <td>0.189</td>\n",
              "      <td>0.9996</td>\n",
              "      <td>positive</td>\n",
              "    </tr>\n",
              "    <tr>\n",
              "      <th>20951</th>\n",
              "      <td>0.068</td>\n",
              "      <td>0.769</td>\n",
              "      <td>0.163</td>\n",
              "      <td>0.9881</td>\n",
              "      <td>positive</td>\n",
              "    </tr>\n",
              "    <tr>\n",
              "      <th>20952</th>\n",
              "      <td>0.058</td>\n",
              "      <td>0.765</td>\n",
              "      <td>0.177</td>\n",
              "      <td>0.9981</td>\n",
              "      <td>positive</td>\n",
              "    </tr>\n",
              "    <tr>\n",
              "      <th>20953</th>\n",
              "      <td>0.057</td>\n",
              "      <td>0.816</td>\n",
              "      <td>0.127</td>\n",
              "      <td>0.9905</td>\n",
              "      <td>positive</td>\n",
              "    </tr>\n",
              "  </tbody>\n",
              "</table>\n",
              "<p>20954 rows × 5 columns</p>\n",
              "</div>"
            ],
            "text/plain": [
              "         neg    neu    pos  compound sentiment\n",
              "0      0.087  0.802  0.110    0.5739  positive\n",
              "1      0.086  0.810  0.103    0.8467  positive\n",
              "2      0.096  0.746  0.157    1.0000  positive\n",
              "3      0.056  0.763  0.180    1.0000  positive\n",
              "4      0.128  0.788  0.084   -0.9996  negative\n",
              "...      ...    ...    ...       ...       ...\n",
              "20949  0.094  0.806  0.100    0.2581  positive\n",
              "20950  0.057  0.754  0.189    0.9996  positive\n",
              "20951  0.068  0.769  0.163    0.9881  positive\n",
              "20952  0.058  0.765  0.177    0.9981  positive\n",
              "20953  0.057  0.816  0.127    0.9905  positive\n",
              "\n",
              "[20954 rows x 5 columns]"
            ]
          },
          "metadata": {},
          "execution_count": 317
        }
      ]
    },
    {
      "cell_type": "markdown",
      "metadata": {
        "id": "wsctE8FDlNFv"
      },
      "source": [
        "### Frequency plot"
      ]
    },
    {
      "cell_type": "code",
      "metadata": {
        "colab": {
          "base_uri": "https://localhost:8080/",
          "height": 315
        },
        "id": "Erxj3e6TD2Ix",
        "outputId": "13dfbbb4-99d9-4382-9b2d-4f981f86b319"
      },
      "source": [
        "color_sentiment = sentiment_colours()\n",
        "fig, ax = plt.subplots(nrows=1,ncols=1)\n",
        "df_thread_sentiment['sentiment'].value_counts().reindex(color_sentiment.keys()).plot(ax = ax, kind='bar',title=\"thread sentiment\", color = color_sentiment.values())\n",
        "plt.show()"
      ],
      "execution_count": null,
      "outputs": [
        {
          "output_type": "display_data",
          "data": {
            "image/png": "[encoded data removed]",
            "text/plain": [
              "<Figure size 432x288 with 1 Axes>"
            ]
          },
          "metadata": {
            "needs_background": "light"
          }
        }
      ]
    },
    {
      "cell_type": "markdown",
      "metadata": {
        "id": "zSSnoebIlV4X"
      },
      "source": [
        "## Sentiment by topics"
      ]
    },
    {
      "cell_type": "code",
      "metadata": {
        "id": "rTFd7PKqCR74"
      },
      "source": [
        "# turn the result into a data frame and add as columns to the original data\n",
        "df_horseforum_threads = df_horseforum_threads.join(df_thread_sentiment)"
      ],
      "execution_count": null,
      "outputs": []
    },
    {
      "cell_type": "code",
      "metadata": {
        "colab": {
          "base_uri": "https://localhost:8080/",
          "height": 380
        },
        "id": "oDSLs_V3C9LP",
        "outputId": "99042e13-44ca-4765-bb95-f87bd7718794"
      },
      "source": [
        "df_horseforum_threads.head()"
      ],
      "execution_count": null,
      "outputs": [
        {
          "output_type": "execute_result",
          "data": {
            "text/html": [
              "<div>\n",
              "<style scoped>\n",
              "    .dataframe tbody tr th:only-of-type {\n",
              "        vertical-align: middle;\n",
              "    }\n",
              "\n",
              "    .dataframe tbody tr th {\n",
              "        vertical-align: top;\n",
              "    }\n",
              "\n",
              "    .dataframe thead th {\n",
              "        text-align: right;\n",
              "    }\n",
              "</style>\n",
              "<table border=\"1\" class=\"dataframe\">\n",
              "  <thead>\n",
              "    <tr style=\"text-align: right;\">\n",
              "      <th></th>\n",
              "      <th>thread_url_path</th>\n",
              "      <th>thread_document</th>\n",
              "      <th>cleaned_document</th>\n",
              "      <th>cleaned_document_tm</th>\n",
              "      <th>neg</th>\n",
              "      <th>neu</th>\n",
              "      <th>pos</th>\n",
              "      <th>compound</th>\n",
              "      <th>sentiment</th>\n",
              "      <th>Primary_topic</th>\n",
              "      <th>Primary_topic_contribution</th>\n",
              "      <th>Primary_topic_keywords</th>\n",
              "      <th>Secondary_topic</th>\n",
              "      <th>Secondary_topic_contribution</th>\n",
              "      <th>Secondary_topic_keywords</th>\n",
              "    </tr>\n",
              "  </thead>\n",
              "  <tbody>\n",
              "    <tr>\n",
              "      <th>0</th>\n",
              "      <td>/threads/please-read-before-posting-both-older...</td>\n",
              "      <td>PLEASE READ BEFORE POSTING (both older and new...</td>\n",
              "      <td>PLEASE READ BEFORE POSTING both older and newe...</td>\n",
              "      <td>please read posting older newer horseforum com...</td>\n",
              "      <td>0.087</td>\n",
              "      <td>0.802</td>\n",
              "      <td>0.110</td>\n",
              "      <td>0.5739</td>\n",
              "      <td>positive</td>\n",
              "      <td>18</td>\n",
              "      <td>0.899064</td>\n",
              "      <td>vet, leg, mare, eye, stall, foot, farrier, bac...</td>\n",
              "      <td>-1</td>\n",
              "      <td>0.000000</td>\n",
              "      <td></td>\n",
              "    </tr>\n",
              "    <tr>\n",
              "      <th>1</th>\n",
              "      <td>/threads/poisonous-plants-from-hf-member-locat...</td>\n",
              "      <td>poisonous plants from HF member locations\\nMOD...</td>\n",
              "      <td>poisonous plants from HF member locations MOD ...</td>\n",
              "      <td>poisonous plant hf member location mod note ja...</td>\n",
              "      <td>0.086</td>\n",
              "      <td>0.810</td>\n",
              "      <td>0.103</td>\n",
              "      <td>0.8467</td>\n",
              "      <td>positive</td>\n",
              "      <td>18</td>\n",
              "      <td>0.742976</td>\n",
              "      <td>vet, leg, mare, eye, stall, foot, farrier, bac...</td>\n",
              "      <td>4</td>\n",
              "      <td>0.171617</td>\n",
              "      <td>feed, hay, weight, alfalfa, grain, feeding, be...</td>\n",
              "    </tr>\n",
              "    <tr>\n",
              "      <th>2</th>\n",
              "      <td>/threads/the-care-of-an-emaciated-horse.100412/</td>\n",
              "      <td>The Care of an Emaciated Horse\\nMy friend and ...</td>\n",
              "      <td>The Care of an Emaciated Horse My friend and I...</td>\n",
              "      <td>care emaciated horse friend experienced horse ...</td>\n",
              "      <td>0.096</td>\n",
              "      <td>0.746</td>\n",
              "      <td>0.157</td>\n",
              "      <td>1.0000</td>\n",
              "      <td>positive</td>\n",
              "      <td>18</td>\n",
              "      <td>0.967533</td>\n",
              "      <td>vet, leg, mare, eye, stall, foot, farrier, bac...</td>\n",
              "      <td>-1</td>\n",
              "      <td>0.000000</td>\n",
              "      <td></td>\n",
              "    </tr>\n",
              "    <tr>\n",
              "      <th>3</th>\n",
              "      <td>/threads/making-a-vet-kit.251/</td>\n",
              "      <td>Making a Vet Kit\\nHey guys! I am posting this ...</td>\n",
              "      <td>Making a Vet Kit Hey guys I am posting this th...</td>\n",
              "      <td>making vet kit hey guy posting thread primaril...</td>\n",
              "      <td>0.056</td>\n",
              "      <td>0.763</td>\n",
              "      <td>0.180</td>\n",
              "      <td>1.0000</td>\n",
              "      <td>positive</td>\n",
              "      <td>14</td>\n",
              "      <td>0.614826</td>\n",
              "      <td>fly, hair, skin, spray, rain_rot, scab, wound,...</td>\n",
              "      <td>18</td>\n",
              "      <td>0.343041</td>\n",
              "      <td>vet, leg, mare, eye, stall, foot, farrier, bac...</td>\n",
              "    </tr>\n",
              "    <tr>\n",
              "      <th>4</th>\n",
              "      <td>/threads/information-on-myopathies-pssm1-pssm2...</td>\n",
              "      <td>Information on Myopathies - PSSM1, PSSM2, MFM,...</td>\n",
              "      <td>Information on Myopathies PSSM1 PSSM2 MFM and ...</td>\n",
              "      <td>information myopathy pssm1 pssm2 mfm rer pssm1...</td>\n",
              "      <td>0.128</td>\n",
              "      <td>0.788</td>\n",
              "      <td>0.084</td>\n",
              "      <td>-0.9996</td>\n",
              "      <td>negative</td>\n",
              "      <td>18</td>\n",
              "      <td>0.948258</td>\n",
              "      <td>vet, leg, mare, eye, stall, foot, farrier, bac...</td>\n",
              "      <td>-1</td>\n",
              "      <td>0.000000</td>\n",
              "      <td></td>\n",
              "    </tr>\n",
              "  </tbody>\n",
              "</table>\n",
              "</div>"
            ],
            "text/plain": [
              "                                     thread_url_path  ...                           Secondary_topic_keywords\n",
              "0  /threads/please-read-before-posting-both-older...  ...                                                   \n",
              "1  /threads/poisonous-plants-from-hf-member-locat...  ...  feed, hay, weight, alfalfa, grain, feeding, be...\n",
              "2    /threads/the-care-of-an-emaciated-horse.100412/  ...                                                   \n",
              "3                     /threads/making-a-vet-kit.251/  ...  vet, leg, mare, eye, stall, foot, farrier, bac...\n",
              "4  /threads/information-on-myopathies-pssm1-pssm2...  ...                                                   \n",
              "\n",
              "[5 rows x 15 columns]"
            ]
          },
          "metadata": {},
          "execution_count": 209
        }
      ]
    },
    {
      "cell_type": "markdown",
      "metadata": {
        "id": "rG6_dwOAltH4"
      },
      "source": [
        "### Plot sentiment ratios by topic"
      ]
    },
    {
      "cell_type": "code",
      "metadata": {
        "colab": {
          "base_uri": "https://localhost:8080/",
          "height": 1000
        },
        "id": "eTx0HSUCYKjO",
        "outputId": "98aa743f-f74f-4a80-dc37-809802fdc706"
      },
      "source": [
        "# Show relative sentiment proportion for each topic\n",
        "tmp_df = df_horseforum_threads['Primary_topic'].value_counts().to_frame('count of threads').sort_values('count of threads', ascending=False)\n",
        "\n",
        "color_sentiment = sentiment_colours()\n",
        "n = len(tmp_df.index)\n",
        "fig, ax = plt.subplots(nrows=n, ncols=1, figsize=(8, 2*n))\n",
        "for i, topic_id in enumerate(tmp_df.index):\n",
        "    tmp = df_horseforum_threads[df_horseforum_threads['Primary_topic']==topic_id]['sentiment'].value_counts().reindex(color_sentiment.keys()).fillna(0).to_frame('topic {}'.format(topic_id)).apply(lambda x: x / sum(x))\n",
        "    tmp.transpose().plot(ax = ax[i], kind='barh',stacked = True, color = color_sentiment.values())\n",
        "    if i != 0 and i != (n-1):\n",
        "        ax[i].get_legend().remove()\n",
        "plt.show()"
      ],
      "execution_count": 308,
      "outputs": [
        {
          "output_type": "display_data",
          "data": {
            "image/png": "[encoded data removed]",
            "text/plain": [
              "<Figure size 576x2880 with 20 Axes>"
            ]
          },
          "metadata": {
            "needs_background": "light"
          }
        }
      ]
    },
    {
      "cell_type": "markdown",
      "metadata": {
        "id": "NUodw-uOl8KU"
      },
      "source": [
        "By observation, Topic Id = `3` had the largest proportion of negative sentiment."
      ]
    },
    {
      "cell_type": "code",
      "metadata": {
        "colab": {
          "base_uri": "https://localhost:8080/"
        },
        "id": "guW_Sj-HYMlo",
        "outputId": "bd2d0203-5142-4d7f-c757-09030b0dabcc"
      },
      "source": [
        "best_model.show_topic(topicid=3 ,topn=10)"
      ],
      "execution_count": null,
      "outputs": [
        {
          "output_type": "execute_result",
          "data": {
            "text/plain": [
              "[('hay', 0.009790181),\n",
              " ('grass', 0.0068056863),\n",
              " ('feed', 0.005612021),\n",
              " ('weight', 0.004873812),\n",
              " ('alfalfa', 0.0038129801),\n",
              " ('pasture', 0.00359799),\n",
              " ('bale', 0.0035646602),\n",
              " ('grain', 0.0031871097),\n",
              " ('feeding', 0.0029596034),\n",
              " ('eat', 0.0027919784)]"
            ]
          },
          "metadata": {},
          "execution_count": 285
        }
      ]
    },
    {
      "cell_type": "markdown",
      "metadata": {
        "id": "KMzmTHlcI3JB"
      },
      "source": [
        "# Python notebook (.ipynb) conversion\n"
      ]
    },
    {
      "cell_type": "markdown",
      "metadata": {
        "id": "UCdwvvgCmsCi"
      },
      "source": [
        "## Convert to HTML\n",
        "\n",
        "The following code cell was for converting this Python notebook (.ipynb) to HTML (.html)."
      ]
    },
    {
      "cell_type": "code",
      "metadata": {
        "colab": {
          "base_uri": "https://localhost:8080/"
        },
        "id": "xjv0JTJ1H7Yl",
        "outputId": "fd7da62a-7db4-4c3e-a130-0ffb92aab14c"
      },
      "source": [
        "# Conversion of notebook to html (Google Colab):\n",
        "filename_Notebook_ipynb = 'A3_Lachlan_Sharp_NLP.ipynb'\n",
        "filename_Notebook_ipynb = '\\\"' + os.path.join(filepath_root, filename_Notebook_ipynb) + '\\\"'\n",
        "\n",
        "!jupyter nbconvert --to html $filename_Notebook_ipynb"
      ],
      "execution_count": null,
      "outputs": [
        {
          "output_type": "stream",
          "name": "stdout",
          "text": [
            "[NbConvertApp] Converting notebook /content/drive/MyDrive/Colab Notebooks/MA5851/Assessment 3/A3_Lachlan_Sharp.ipynb to html\n",
            "[NbConvertApp] Writing 496442 bytes to /content/drive/MyDrive/Colab Notebooks/MA5851/Assessment 3/A3_Lachlan_Sharp.html\n"
          ]
        }
      ]
    },
    {
      "cell_type": "markdown",
      "metadata": {
        "id": "HShV7WR-mzaw"
      },
      "source": [
        "## Convert to PDF\n",
        "\n",
        "The following code cell was for converting this Python notebook (.ipynb) to PDF (.pdfl).\n",
        "\n"
      ]
    },
    {
      "cell_type": "code",
      "metadata": {
        "id": "oqd9I0nrnD2b"
      },
      "source": [
        "%%capture\n",
        "!apt-get install texlive texlive-xetex texlive-latex-extra pandoc\n",
        "!pip install pypandoc"
      ],
      "execution_count": 318,
      "outputs": []
    },
    {
      "cell_type": "code",
      "metadata": {
        "id": "aytN6S5FJOI8",
        "colab": {
          "base_uri": "https://localhost:8080/"
        },
        "outputId": "9721d4ec-bb4b-46ff-85dd-4bc0f4a54c07"
      },
      "source": [
        "# Conversion of notebook to pdf (Google Colab):\n",
        "filename_Notebook_ipynb = 'A3_Lachlan_Sharp_NLP.ipynb'\n",
        "filename_Notebook_ipynb = '\\\"' + os.path.join(filepath_root, filename_Notebook_ipynb) + '\\\"'\n",
        "\n",
        "!jupyter nbconvert --to PDF $filename_Notebook_ipynb"
      ],
      "execution_count": 319,
      "outputs": [
        {
          "output_type": "stream",
          "name": "stdout",
          "text": [
            "[NbConvertApp] Converting notebook /content/drive/MyDrive/Colab Notebooks/MA5851/Assessment 3/A3_Lachlan_Sharp_NLP.ipynb to PDF\n",
            "[NbConvertApp] Support files will be in A3_Lachlan_Sharp_NLP_files/\n",
            "[NbConvertApp] Making directory ./A3_Lachlan_Sharp_NLP_files\n",
            "[NbConvertApp] Making directory ./A3_Lachlan_Sharp_NLP_files\n",
            "[NbConvertApp] Making directory ./A3_Lachlan_Sharp_NLP_files\n",
            "[NbConvertApp] Making directory ./A3_Lachlan_Sharp_NLP_files\n",
            "[NbConvertApp] Making directory ./A3_Lachlan_Sharp_NLP_files\n",
            "[NbConvertApp] Writing 144880 bytes to ./notebook.tex\n",
            "[NbConvertApp] Building PDF\n",
            "[NbConvertApp] Running xelatex 3 times: [u'xelatex', u'./notebook.tex', '-quiet']\n",
            "[NbConvertApp] Running bibtex 1 time: [u'bibtex', u'./notebook']\n",
            "[NbConvertApp] WARNING | bibtex had problems, most likely because there were no citations\n",
            "[NbConvertApp] PDF successfully created\n",
            "[NbConvertApp] Writing 231570 bytes to /content/drive/MyDrive/Colab Notebooks/MA5851/Assessment 3/A3_Lachlan_Sharp_NLP.pdf\n"
          ]
        }
      ]
    }
  ]
}