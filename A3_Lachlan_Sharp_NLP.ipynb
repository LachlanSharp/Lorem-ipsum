{
  "nbformat": 4,
  "nbformat_minor": 0,
  "metadata": {
    "kernelspec": {
      "display_name": "Python 3",
      "language": "python",
      "name": "python3"
    },
    "language_info": {
      "codemirror_mode": {
        "name": "ipython",
        "version": 3
      },
      "file_extension": ".py",
      "mimetype": "text/x-python",
      "name": "python",
      "nbconvert_exporter": "python",
      "pygments_lexer": "ipython3",
      "version": "3.7.3"
    },
    "colab": {
      "name": "A3_Lachlan_Sharp_NLP.ipynb",
      "provenance": [],
      "collapsed_sections": [],
      "toc_visible": true,
      "include_colab_link": true
    }
  },
  "cells": [
    {
      "cell_type": "markdown",
      "metadata": {
        "id": "view-in-github",
        "colab_type": "text"
      },
      "source": [
        "<a href=\"https://colab.research.google.com/github/LachlanSharp/Lorem-ipsum/blob/main/A3_Lachlan_Sharp_NLP.ipynb\" target=\"_parent\"><img src=\"https://colab.research.google.com/assets/colab-badge.svg\" alt=\"Open In Colab\"/></a>"
      ]
    },
    {
      "cell_type": "markdown",
      "metadata": {
        "id": "g1wmZs7Xhb8p"
      },
      "source": [
        "# MA5851 - Assessment 3: WebCrawler and NLP System\n",
        "\n",
        "---\n",
        "\n",
        "* **Task 3**: NLP Tasks\n",
        "* **Author**: Lachlan Sharp\n",
        "* **Due Date**: 2021-12-08\n",
        "\n",
        "---\n",
        "\n"
      ]
    },
    {
      "cell_type": "markdown",
      "metadata": {
        "id": "gnMbbfi8luSa"
      },
      "source": [
        ""
      ]
    },
    {
      "cell_type": "markdown",
      "metadata": {
        "id": "txHzM7fKzhak"
      },
      "source": [
        "---\n",
        "\n",
        "# Setup of data-project "
      ]
    },
    {
      "cell_type": "markdown",
      "metadata": {
        "id": "nfad1tSKhvzj"
      },
      "source": [
        "## Import Dependencies"
      ]
    },
    {
      "cell_type": "code",
      "metadata": {
        "id": "IgmbsYikhoE6",
        "colab": {
          "base_uri": "https://localhost:8080/"
        },
        "outputId": "d5c4fa48-1d4d-48f4-ccf7-f111b1c761ff"
      },
      "source": [
        "import os.path # Operating system interface\n",
        "#from time import time, sleep # Time access and conversions\n",
        "#from datetime import datetime # Basic date and time types\n",
        "\n",
        "import numpy as np\n",
        "import pandas as pd\n",
        "import matplotlib.pyplot as plt\n",
        "%matplotlib inline\n",
        "import seaborn as sns # statistical data visulisation\n",
        "\n",
        "import random # Generate pseudo-random numbers\n",
        "\n",
        "import gensim # Topic modelling\n",
        "import gensim.corpora as corpora\n",
        "from gensim.utils import simple_preprocess\n",
        "from gensim.models import CoherenceModel\n",
        "from gensim.models import Phrases\n",
        "\n",
        "# spacy for lemmatization\n",
        "import spacy # Industrial-strength natural language processing\n",
        "\n",
        "import nltk # Natural Language Toolkit\n",
        "nltk.download('stopwords')\n",
        "nltk.download('wordnet')\n",
        "nltk.download('punkt')\n",
        "nltk.download('averaged_perceptron_tagger')\n",
        "from nltk.tag import pos_tag\n",
        "from nltk.tokenize import word_tokenize\n",
        "from nltk.corpus import stopwords\n",
        "from nltk.stem import WordNetLemmatizer \n",
        "\n",
        "!pip install unidecode\n",
        "from unidecode import unidecode # ASCII representation of Unicode strings\n",
        "import html # HyperText Markup Language support\n",
        "import re # regular expressions\n",
        "\n",
        "from pprint import pprint # Data pretty printer\n",
        "\n",
        "# Get python version\n",
        "import platform # Platform’s identifying data\n",
        "print('\\nPython version {}'.format(platform.python_version()))"
      ],
      "execution_count": 42,
      "outputs": [
        {
          "output_type": "stream",
          "name": "stdout",
          "text": [
            "[nltk_data] Downloading package stopwords to /root/nltk_data...\n",
            "[nltk_data]   Package stopwords is already up-to-date!\n",
            "[nltk_data] Downloading package wordnet to /root/nltk_data...\n",
            "[nltk_data]   Package wordnet is already up-to-date!\n",
            "[nltk_data] Downloading package punkt to /root/nltk_data...\n",
            "[nltk_data]   Package punkt is already up-to-date!\n",
            "[nltk_data] Downloading package averaged_perceptron_tagger to\n",
            "[nltk_data]     /root/nltk_data...\n",
            "[nltk_data]   Package averaged_perceptron_tagger is already up-to-\n",
            "[nltk_data]       date!\n",
            "Requirement already satisfied: unidecode in /usr/local/lib/python3.7/dist-packages (1.3.2)\n",
            "\n",
            "Python version 3.7.12\n"
          ]
        }
      ]
    },
    {
      "cell_type": "markdown",
      "metadata": {
        "id": "jxOxDSnfgIEO"
      },
      "source": [
        "## User defined functions\n"
      ]
    },
    {
      "cell_type": "code",
      "metadata": {
        "id": "zUo8VrsPOiYq"
      },
      "source": [
        "def mk_dir(path):\n",
        "    \"\"\"\n",
        "    Creates a directory if it doesn't exist\n",
        "\n",
        "    Parameters:\n",
        "    -----------\n",
        "    str : path\n",
        "        The full directory path for the folder to be created.\n",
        "        Note: the path should not terminate with a '/'\n",
        "\n",
        "    Returns:\n",
        "    --------\n",
        "    bool\n",
        "        If folder exists, True, otherwise, False\n",
        "    \"\"\"\n",
        "    if not os.path.exists(path):\n",
        "        try:\n",
        "            os.makedirs(path)\n",
        "        except:\n",
        "            pass\n",
        "    return os.path.exists(path)\n",
        "\n",
        "\n",
        "def print_column_search_contains(df, pattern, print_long = True, max_print_per_feature = 1000):\n",
        "    \"\"\"\n",
        "    Iterates through the columns of a dataframe and prints entry which\n",
        "    contain matches to the passed regex pattern.\n",
        "\n",
        "    The function is intended as data exploration tool.\n",
        "    \"\"\"\n",
        "\n",
        "    for colname in df.select_dtypes(include='object').columns:\n",
        "        print(colname)\n",
        "        print(\"`{}`\\t(First {} results)\".format(colname, max_print_per_feature))\n",
        "        print(\"========================\")\n",
        "        string_list = [val for val in df[colname] if isinstance(val, str)]\n",
        "        string_list = [string for string in string_list if bool(re.search(pattern, string))]\n",
        "        if print_long:\n",
        "            for x in string_list[:max_print_per_feature]:\n",
        "                print(x)           \n",
        "        else:\n",
        "            print(string_list[:max_print_per_feature])\n",
        "        print()\n",
        "\n",
        "\n",
        "\n",
        "\n",
        "def get_column_search_findall(df, pattern, unique_only=True):\n",
        "    \"\"\"\n",
        "    Iterates through the columns of a dataframe and prints entry which\n",
        "    contain matches to the passed regex.\n",
        "\n",
        "    The function is intended as data exploration tool.\n",
        "    \"\"\"\n",
        "    search_results = []\n",
        "    for colname in df.select_dtypes(include='object').columns:\n",
        "        string_list = [val for val in df[colname] if isinstance(val, str)]\n",
        "        string_list = [re.findall(pattern, string) for string in string_list if bool(re.search(pattern, string))]\n",
        "        for string in string_list:\n",
        "            search_results.append(string)\n",
        "    \n",
        "    search_results = sum(search_results,[])\n",
        "    if unique_only:\n",
        "        search_results = list(set(search_results))\n",
        "    return search_results\n",
        "\n",
        "\n",
        "\n",
        "def set_dictionary_subst(oldtext_list, newtext = ''):\n",
        "    \"\"\"\n",
        "    Creates a dictionary of replacement values for use with pandas \n",
        "    `.replace()` method.\n",
        "\n",
        "    Implementation would be as follows:\n",
        "\n",
        "        subst_dict = set_dictionary_subst(oldtext_list, newtext = '')\n",
        "        df.replace(to_replace = replace_dict, regex = True)\n",
        "\n",
        "    Parameter:\n",
        "    ----------\n",
        "    oldtext : list (of str)\n",
        "        A list of strings to be replaced\n",
        "    newtext: str\n",
        "        A text value to be substituted\n",
        "\n",
        "    Returns:\n",
        "    --------\n",
        "    dict\n",
        "        A dictionary of regex escaped entries consisting of\n",
        "            oldtext : newtext\n",
        "    \"\"\"\n",
        "\n",
        "    if isinstance(oldtext_list, list):\n",
        "        # Get unique entries by converting the list to a set\n",
        "        subst_dict = {re.escape(oldtext) : newtext for oldtext in set(oldtext_list)}\n",
        "    elif isinstance(oldtext_list, set):\n",
        "        # Convert to dictionary\n",
        "        subst_dict = {re.escape(oldtext) : newtext for oldtext in oldtext_list}        \n",
        "    elif isinstance(oldtext_list, dict):\n",
        "        subst_dict = oldtext_list\n",
        "    else:\n",
        "        subst_dict = oldtext_list\n",
        "        print(f'parameter `oldtext_list` unexpected type: {type(oldtext_list)}')\n",
        "\n",
        "    return subst_dict\n",
        "\n",
        "\n",
        "\n",
        "def stop_and_lemm(document\n",
        "                  ,stopwords\n",
        "                  ,lemmatizer\n",
        "                  ,retain_pos={ 'ALL' : '.' }\n",
        "                  ):\n",
        "    \"\"\"\n",
        "    Removes stopwords from a document and performs stemming.\n",
        "\n",
        "    Parameters:\n",
        "    -----------\n",
        "    document : str\n",
        "        the text to be processed\n",
        "    stopwords : list[str]\n",
        "        a list of words to be removed\n",
        "    lemmatizer : function (e.g. nltk.stem.wordnet.WordNetLemmatizer)\n",
        "        a function that can perform lemmatization using a `.lemmatize()` method\n",
        "    dict : retain_pos\n",
        "        a dictionary specifiy which parts of speach (POS) should be retained.\n",
        "        e.g. {'NOUN' : 'N', 'ADJ' : 'J', 'VERB' : 'V', 'ADV' : 'R' }\n",
        "        - dictionary values are used to generate a regex for the POS tag match\n",
        "        - dictionary key are for readability only\n",
        "\n",
        "\n",
        "    Returns:\n",
        "    -------\n",
        "    str\n",
        "        the document text after processing\n",
        "    \"\"\"\n",
        "\n",
        "    # Split document into a list of individual words\n",
        "    word_tokens = word_tokenize(document) # nltk\n",
        "    \n",
        "    # Retain part of speach tags\n",
        "    if retain_pos is not None and len(retain_pos) > 0:\n",
        "        regex_pos = \"^(\" + \"|\".join(retain_pos.values()) + \")\"    \n",
        "        pos_tokens = pos_tag(word_tokens)\n",
        "        word_tokens = [token for token, pos in pos_tokens if bool(re.search(regex_pos, pos))]\n",
        "\n",
        "    # Lematization and removal of stopwords\n",
        "    word_tokens = [lemmatizer.lemmatize(token) for token in word_tokens if token not in set(stopwords)]\n",
        "\n",
        "    # Rejoin text\n",
        "    document = ' '.join(word_tokens)\n",
        "    return document\n",
        "\n",
        "\n",
        "\n",
        "def word_frequencies(corpus, top_n = 50):\n",
        "    \"\"\"\n",
        "    Generates a tally of word frequency from a body of text\n",
        "\n",
        "    Paramters:\n",
        "    ---------\n",
        "    corpus : \n",
        "        an iterable object of text documents\n",
        "    top_n : int\n",
        "        The top-n occuring words by frequency\n",
        "\n",
        "    Returns:\n",
        "    --------\n",
        "    pandas.dataframe\n",
        "        A dataframe of two columns: 'word' and 'count'\n",
        "\n",
        "    \"\"\"\n",
        "\n",
        "    all_words = ' '.join([document for document in corpus]) \n",
        "    all_words = all_words.split() \n",
        "    fdist = nltk.FreqDist(all_words) \n",
        "    df_words = pd.DataFrame({'word':list(fdist.keys()), 'count':list(fdist.values())}) \n",
        "    \n",
        "    # selecting top-n most frequent words \n",
        "    return df_words.nlargest(columns=\"count\", n = top_n) "
      ],
      "execution_count": 2,
      "outputs": []
    },
    {
      "cell_type": "markdown",
      "metadata": {
        "id": "XQhVyeQjws3J"
      },
      "source": [
        "## Set directory paths\n",
        "\n",
        "Set pertinent file paths and names."
      ]
    },
    {
      "cell_type": "markdown",
      "metadata": {
        "id": "gqg9KLiezoUg"
      },
      "source": [
        "### Mount Google Drive\n",
        "\n",
        "This section applies to use of this Python notebook within Google Colab."
      ]
    },
    {
      "cell_type": "code",
      "metadata": {
        "id": "-BOZaHKeyQr_",
        "colab": {
          "base_uri": "https://localhost:8080/"
        },
        "outputId": "8e17c6d1-20b2-45af-999c-c9eb1a3ffddd"
      },
      "source": [
        "# Mount Google Drive\n",
        "from google.colab import drive\n",
        "drive.mount('/content/drive')"
      ],
      "execution_count": 3,
      "outputs": [
        {
          "output_type": "stream",
          "name": "stdout",
          "text": [
            "Mounted at /content/drive\n"
          ]
        }
      ]
    },
    {
      "cell_type": "markdown",
      "metadata": {
        "id": "K1ThXe1I69ga"
      },
      "source": [
        "### Set file paths"
      ]
    },
    {
      "cell_type": "code",
      "metadata": {
        "id": "vYqAA03QiNjg",
        "colab": {
          "base_uri": "https://localhost:8080/"
        },
        "outputId": "c996f16c-af79-4d97-d3fe-2e68f3a020d9"
      },
      "source": [
        "# Set directory paths root filepath for data-project\n",
        "filepath_root = '/content/drive/MyDrive/Colab Notebooks/MA5851/Assessment 3' # data-project root\n",
        "filepath_data = os.path.join(filepath_root, 'data') # data folder\n",
        "print(\"Directory 'data' exists?: {}\".format(mk_dir(filepath_data)))\n",
        "\n",
        "# Set filenames\n",
        "filename_tophorse_items_df = \"df_tophorse_items.csv\"\n",
        "filename_tophorse_item_details_df = \"df_tophorse_item_details.csv\"\n",
        "\n",
        "filename_horseforum_threads_df = \"df_horseforum_threads.csv\" \n",
        "filename_horseforum_thread_posts_df = \"df_horseforum_thread_posts.csv\"\n",
        "filename_horseforum_thread_pages_df = \"df_horseforum_thread_pages.csv\"\n",
        "\n",
        "filename_horseforum_threads_cleaned_df = \"df_horseforum_threads_cleaned.csv\" "
      ],
      "execution_count": 4,
      "outputs": [
        {
          "output_type": "stream",
          "name": "stdout",
          "text": [
            "Directory 'data' exists?: True\n"
          ]
        }
      ]
    },
    {
      "cell_type": "markdown",
      "metadata": {
        "id": "1faP-niEnOj2"
      },
      "source": [
        "# Import data"
      ]
    },
    {
      "cell_type": "markdown",
      "metadata": {
        "id": "96ZpbJkUnmlA"
      },
      "source": [
        "Load data obtained via the web crawler."
      ]
    },
    {
      "cell_type": "code",
      "metadata": {
        "id": "l8_83E-dnQnc"
      },
      "source": [
        "df_horseforum_threads_raw = pd.read_csv(os.path.join(filepath_data, filename_horseforum_threads_df))\n",
        "print(\"Re-imported threads data: {x[0]} rows × {x[1]} cols\".format(x = df_horseforum_threads_raw.shape))\n",
        "df_horseforum_thread_posts_raw = pd.read_csv(os.path.join(filepath_data, filename_horseforum_thread_posts_df))\n",
        "print(\"Re-imported posts data: {x[0]} rows × {x[1]} cols\".format(x = df_horseforum_thread_posts_raw.shape))\n",
        "df_horseforum_thread_pages_raw = pd.read_csv(os.path.join(filepath_data, filename_horseforum_thread_pages_df))\n",
        "print(\"Re-imported pages data {x[0]} rows × {x[1]} cols\".format(x = df_horseforum_thread_pages_raw.shape))"
      ],
      "execution_count": null,
      "outputs": []
    },
    {
      "cell_type": "markdown",
      "metadata": {
        "id": "QR0roDN_I8kD"
      },
      "source": [
        "## Explore"
      ]
    },
    {
      "cell_type": "code",
      "metadata": {
        "id": "vYsQ_qOrJCb4"
      },
      "source": [
        "df_horseforum_thread_posts_raw.info()"
      ],
      "execution_count": null,
      "outputs": []
    },
    {
      "cell_type": "markdown",
      "metadata": {
        "id": "OcBmCD1fJEP6"
      },
      "source": [
        "Feature post_text was NaN in case where a user only posted and image (i.e., a picture of a horse) but no text."
      ]
    },
    {
      "cell_type": "code",
      "metadata": {
        "id": "pmU0igQwJMLX"
      },
      "source": [
        "df_horseforum_thread_posts_raw[df_horseforum_thread_posts_raw['post_text'].isnull()]"
      ],
      "execution_count": null,
      "outputs": []
    },
    {
      "cell_type": "markdown",
      "metadata": {
        "id": "hEpWYzdTJOi-"
      },
      "source": [
        "## Wrangle"
      ]
    },
    {
      "cell_type": "markdown",
      "metadata": {
        "id": "ZBSb8eRSPeZl"
      },
      "source": [
        "### Rename `df_horseforum_threads` columns"
      ]
    },
    {
      "cell_type": "code",
      "metadata": {
        "id": "QzIZUCbtPmU5"
      },
      "source": [
        "df_horseforum_threads_raw.rename(\n",
        "    {colname: colname.replace(\"item_\", \"thread_\") for colname in df_horseforum_threads_raw.columns}\n",
        "    ,axis=1\n",
        "    ,inplace=True\n",
        "     )\n",
        "df_horseforum_threads_raw.head()"
      ],
      "execution_count": null,
      "outputs": []
    },
    {
      "cell_type": "markdown",
      "metadata": {
        "id": "bloTdieoJZ2g"
      },
      "source": [
        "### Thread's participant count"
      ]
    },
    {
      "cell_type": "markdown",
      "metadata": {
        "id": "Vw5DnhbO2fhB"
      },
      "source": [
        "Participant count for each *thread* was captured (repeatedly) from each of the thread's *pages*. The following combines the `participant_count` feature into the main *thread* dataset.\n",
        "\n",
        "* *Note*: Participant count could have also been derived via agreggation of the `df_horseforum_thread_posts_raw` dataset."
      ]
    },
    {
      "cell_type": "code",
      "metadata": {
        "id": "jBpVO9PmQ89I"
      },
      "source": [
        "# Convert `participant_count` to integer\n",
        "df_horseforum_thread_pages_raw[['participant_count']] = df_horseforum_thread_pages_raw[['participant_count']].fillna(value=0)\n",
        "df_horseforum_thread_pages_raw['participant_count'] = df_horseforum_thread_pages_raw['participant_count'].apply(int)\n",
        "df_horseforum_thread_pages_raw[df_horseforum_thread_pages_raw['participant_count'] == 0]"
      ],
      "execution_count": null,
      "outputs": []
    },
    {
      "cell_type": "code",
      "metadata": {
        "id": "IqP8NUah0krT"
      },
      "source": [
        "# Add `participant_count` feature to the \"thread\" dataset (from \"pages\" dataset)\n",
        "df_horseforum_threads = pd.merge(\n",
        "    df_horseforum_threads_raw\n",
        "    ,df_horseforum_thread_pages_raw.drop(['page_url_path'], axis=1).drop_duplicates()\n",
        "    ,how='left'    \n",
        "    ,left_on='thread_url_path'\n",
        "    ,right_on='thread_url_path'\n",
        "    )\n",
        "\n",
        "df_horseforum_threads"
      ],
      "execution_count": null,
      "outputs": []
    },
    {
      "cell_type": "markdown",
      "metadata": {
        "id": "cfCc0YO727wo"
      },
      "source": [
        "### Cosolidate thread corpus\n",
        "\n",
        "Each *thread* consisted of multiple *posts*, where each unique post is its own observation. For the purpose topic modelling, the posts of each thread need to be combined to create one \"document\" per thread. The wrangleing steps were as follows:\n",
        "\n",
        "1. Coalesce `NaN` values in the `post_text` feature to empty strings.\n",
        "2. Group the dataset to produce a list of all posts for a given thread.\n",
        "3. Concatenate the list of posts into a single document (string).\n",
        "4. Combine the thread's title into the thread's document"
      ]
    },
    {
      "cell_type": "code",
      "metadata": {
        "id": "xEOllqEnXDQp"
      },
      "source": [
        "# Initialise a \"processed\" version of the orginal data frame\n",
        "df_horseforum_thread_posts = df_horseforum_thread_posts_raw.copy()\n",
        "\n",
        "# Convert NaN to empty string\n",
        "df_horseforum_thread_posts[['post_text']] = df_horseforum_thread_posts[['post_text']].fillna(value=\"\")"
      ],
      "execution_count": null,
      "outputs": []
    },
    {
      "cell_type": "code",
      "metadata": {
        "id": "u1PynE3NXH_H"
      },
      "source": [
        "# Group by feature `thread_url_path` to aggregate feature `post_text` into a `list`.\n",
        "tmpdf = df_horseforum_thread_posts.groupby(['thread_url_path'], as_index = False).agg({'post_text': list})\n",
        "\n",
        "# Concatenate a thread's posts into a single document\n",
        "tmpdf['thread_document'] = tmpdf['post_text'].apply('\\n'.join)"
      ],
      "execution_count": null,
      "outputs": []
    },
    {
      "cell_type": "code",
      "metadata": {
        "id": "Gj93_4hX-dyQ"
      },
      "source": [
        "# Combine the aggregated post features into the main thread data frame\n",
        "df_horseforum_threads = pd.merge(\n",
        "    df_horseforum_threads.drop(['post_text','thread_document']\n",
        "                               ,axis=1\n",
        "                               ,errors='ignore' # in case cell run multiple times\n",
        "                               ) \n",
        "    ,tmpdf\n",
        "    ,how='left'    \n",
        "    ,left_on='thread_url_path'\n",
        "    ,right_on='thread_url_path'\n",
        "    )\n",
        "\n",
        "# Convert NaN to empty string (occured because of the join)\n",
        "df_horseforum_threads[['thread_document']] = df_horseforum_threads[['thread_document']].fillna(value=\"\")\n",
        "\n",
        "df_horseforum_threads['thread_document'] = df_horseforum_threads['thread_title'] + \"\\n\" + df_horseforum_threads['thread_document']\n",
        "\n",
        "df_horseforum_threads"
      ],
      "execution_count": null,
      "outputs": []
    },
    {
      "cell_type": "code",
      "metadata": {
        "id": "xC8OFOFUyHYN"
      },
      "source": [
        "# Producin\n",
        "df_horseforum_threads.info()"
      ],
      "execution_count": null,
      "outputs": []
    },
    {
      "cell_type": "markdown",
      "metadata": {
        "id": "z75NS-w5K72t"
      },
      "source": [
        "# NLP - cleaning corpus"
      ]
    },
    {
      "cell_type": "markdown",
      "metadata": {
        "id": "-VF2mCwxLMDi"
      },
      "source": [
        "The following performs common cleaning tasks for the corups:\n",
        "\n",
        "* Remove HTML / URLs / email\n",
        "* Convert encodings\n",
        "* Lower case\n",
        "* Punctuation\n",
        "* Removal of stopwords"
      ]
    },
    {
      "cell_type": "code",
      "metadata": {
        "id": "sE-6Ci13pOSl"
      },
      "source": [
        "# Intialise a new feature to store the \"cleaned\" document for each thread\n",
        "df_horseforum_threads['cleaned_document'] = df_horseforum_threads['thread_document']"
      ],
      "execution_count": 6,
      "outputs": []
    },
    {
      "cell_type": "markdown",
      "metadata": {
        "id": "uBams5jNLJvW"
      },
      "source": [
        "## Remove HTML / URLs / email"
      ]
    },
    {
      "cell_type": "markdown",
      "metadata": {
        "id": "ViM7E82ApEBi"
      },
      "source": [
        "### Identify"
      ]
    },
    {
      "cell_type": "markdown",
      "metadata": {
        "id": "093szzNGoKwd"
      },
      "source": [
        "**Websites & URLs**"
      ]
    },
    {
      "cell_type": "code",
      "metadata": {
        "colab": {
          "base_uri": "https://localhost:8080/"
        },
        "id": "eztgehN4LEBn",
        "outputId": "b513f3da-c374-45ef-f1dc-648535c708ea"
      },
      "source": [
        "# Search for website URLs\n",
        "regex_pattern_website = r'(https?://\\S+|ftp://|www[.]\\S+)'\n",
        "\n",
        "# ...too much output to print\n",
        "#print_column_search_contains(\n",
        "#    df_horseforum_threads[['cleaned_document']]\n",
        "#    ,regex_pattern_website\n",
        "#    ,print_long = False\n",
        "#    ,max_print_per_feature = 10\n",
        "#    )\n",
        "found_websites = get_column_search_findall(df_horseforum_threads[['cleaned_document']]\n",
        "                                            ,pattern=regex_pattern_website\n",
        "                                            ,unique_only=False)\n",
        "print(\"Total URLs found: {}\".format(len(found_websites)))\n",
        "\n",
        "found_websites = list(set(found_websites))\n",
        "print(\"Unique URLs found: {}\".format(len(found_websites)))\n",
        "print()\n",
        "\n",
        "print(\"Random sample of URLs:\")\n",
        "if len(found_websites) > 0:\n",
        "    pprint(\n",
        "        random.sample(\n",
        "            found_websites\n",
        "            ,min(10, len(found_websites))\n",
        "            )\n",
        "        )\n",
        "else:\n",
        "    print([])"
      ],
      "execution_count": 7,
      "outputs": [
        {
          "output_type": "stream",
          "name": "stdout",
          "text": [
            "Total URLs found: 5760\n",
            "Unique URLs found: 4541\n",
            "\n",
            "Random sample of URLs:\n",
            "['www.arabhorse.com',\n",
            " 'http://forums.prospero.com/alexbrown/messages?msg=23344.1&gt;',\n",
            " 'www.barnmice.com',\n",
            " 'http://www.horseforum.com/horse-health/how-much-more-weight-does-he-95173/',\n",
            " 'https://thehorse.com/110110/all-about-alfalfa/',\n",
            " 'https://goo.gl/forms/112vgkLMYV8uj5Wx2',\n",
            " 'http://i.imgur.com/EmtXI7M.jpg',\n",
            " 'http://www.horseforum.com/horse-grooming/crystal-looking-dranduf-mane-tail-131573/#post1606223',\n",
            " 'http://www.aaep.org/core_vaccinations.htm',\n",
            " 'http://www.prevenile.com/PDF/PreveNile']\n"
          ]
        }
      ]
    },
    {
      "cell_type": "markdown",
      "metadata": {
        "id": "0r1s5RbqpwJZ"
      },
      "source": [
        "As an exploratory task, unique URL domains were investigated."
      ]
    },
    {
      "cell_type": "code",
      "metadata": {
        "colab": {
          "base_uri": "https://localhost:8080/"
        },
        "id": "dVw9NQR6jgnS",
        "outputId": "f0b31728-f420-4f29-d4d8-d98a06fd6363"
      },
      "source": [
        "domains_list = [re.findall(r'^[^/]+', url_cleaned) for url_cleaned in [re.sub(r'https?://|ftp://', '', url) for url in found_websites]]\n",
        "domains = []\n",
        "for domain in domains_list:\n",
        "    domains.append(domain)\n",
        "domains = sum(domains,[])\n",
        "domains = set(domains)\n",
        "\n",
        "print(\"Unique URL domains found: {}\".format(len(domains)))\n",
        "print()\n",
        "\n",
        "print(\"Random sample of domains:\")\n",
        "if len(domains) > 0:\n",
        "    pprint(\n",
        "        random.sample(\n",
        "            domains\n",
        "            ,min(10, len(domains))\n",
        "            )\n",
        "        )\n",
        "else:\n",
        "    print([])"
      ],
      "execution_count": 8,
      "outputs": [
        {
          "output_type": "stream",
          "name": "stdout",
          "text": [
            "Unique URL domains found: 1716\n",
            "\n",
            "Random sample of domains:\n",
            "['www.independentequineagents.com',\n",
            " 'www.icelandichorses.co.uk',\n",
            " 'media.wix.com',\n",
            " 'www.eclipseforwounds.com',\n",
            " 'www.paddockparadise.wetpaint.com',\n",
            " 'www.synergistsaddles.com',\n",
            " 'www.admani.com',\n",
            " 'www.claramasondvm.com',\n",
            " 'www.cvmbs.colostate.edu',\n",
            " 'www.greatmats.com']\n"
          ]
        }
      ]
    },
    {
      "cell_type": "markdown",
      "metadata": {
        "id": "hOMsp3rJldIG"
      },
      "source": [
        "**Email addresses**"
      ]
    },
    {
      "cell_type": "code",
      "metadata": {
        "colab": {
          "base_uri": "https://localhost:8080/"
        },
        "id": "ONohAWI3lfeT",
        "outputId": "887bc054-5a32-41d8-bbe0-21739c97a6cb"
      },
      "source": [
        "# Search for email addresses\n",
        "regex_pattern_email = r'(?i)\\b[A-Z0-9._%+-]+@[A-Z0-9.-]+\\.[A-Z]{2,}\\b'\n",
        "found_email = get_column_search_findall(df_horseforum_threads[['cleaned_document']]\n",
        "                                            ,pattern=regex_pattern_email\n",
        "                                            ,unique_only=False)\n",
        "print(\"Total email addresses found: {}\".format(len(found_email)))\n",
        "\n",
        "found_email = list(set(found_email))\n",
        "print(\"Unique email addresses found: {}\".format(len(found_email)))\n",
        "print()\n",
        "\n",
        "print(\"Random sample of email addresses:\")\n",
        "if len(found_email) > 0:\n",
        "    pprint(\n",
        "        random.sample(\n",
        "            found_email\n",
        "            ,min(10, len(found_email))\n",
        "            )\n",
        "        )\n",
        "else:\n",
        "    print([])"
      ],
      "execution_count": 9,
      "outputs": [
        {
          "output_type": "stream",
          "name": "stdout",
          "text": [
            "Total email addresses found: 0\n",
            "Unique email addresses found: 0\n",
            "\n",
            "Random sample of email addresses:\n",
            "[]\n"
          ]
        }
      ]
    },
    {
      "cell_type": "markdown",
      "metadata": {
        "id": "39PvLdvUoF0r"
      },
      "source": [
        "**HTML tags**"
      ]
    },
    {
      "cell_type": "code",
      "metadata": {
        "colab": {
          "base_uri": "https://localhost:8080/"
        },
        "id": "RlabgX0uoFM6",
        "outputId": "76775969-5e69-440d-d7e8-6181a04b5be8"
      },
      "source": [
        "# Search for HTML tags\n",
        "regex_pattern_html_tag = r'<[^>]+>'\n",
        "found_tag = get_column_search_findall(df_horseforum_threads[['cleaned_document']]\n",
        "                                            ,pattern=regex_pattern_html_tag\n",
        "                                            ,unique_only=False)\n",
        "print(\"Total tags found: {}\".format(len(found_tag)))\n",
        "\n",
        "found_tag = list(set(found_tag))\n",
        "print(\"Unique tags found: {}\".format(len(found_tag)))\n",
        "print()\n",
        "\n",
        "print(\"Random sample of tags:\")\n",
        "if len(found_tag) > 0:\n",
        "    pprint(\n",
        "        random.sample(\n",
        "            found_tag\n",
        "            ,min(10, len(found_tag))\n",
        "            )\n",
        "        )\n",
        "else:\n",
        "    print([])"
      ],
      "execution_count": 10,
      "outputs": [
        {
          "output_type": "stream",
          "name": "stdout",
          "text": [
            "Total tags found: 2\n",
            "Unique tags found: 2\n",
            "\n",
            "Random sample of tags:\n",
            "['<SPAN class=threadTitle>', '<</SPAN>']\n"
          ]
        }
      ]
    },
    {
      "cell_type": "markdown",
      "metadata": {
        "id": "PiloLtzFpKkN"
      },
      "source": [
        "### Remove"
      ]
    },
    {
      "cell_type": "markdown",
      "metadata": {
        "id": "jR2ax089qAm5"
      },
      "source": [
        "The following sections removes the following identified elements from the thread's document:\n",
        "\n",
        "* URLs\n",
        "* email addresses\n",
        "* HTML tags\n",
        "\n",
        "\n",
        "\n",
        "<div class=\"alert alert-block alert-success\">\n",
        "\n",
        "<table>\n",
        "<tr>\n",
        "<td>\n",
        "\n",
        "*Note*: A prior methodlogy attempted to remove the unwanted elements by converting them to a dictionary (via user-defined function `set_dictionary_subst(found_websites)`)  and using `pandas` `replace()` method as below&mdash;however this proved to be much to slow for a corpus this size.\n",
        "\n",
        "```python\n",
        "df_horseforum_threads['cleaned_document'].replace(subst_dict_websites, regex = True, inplace=True)\n",
        "```\n",
        "\n",
        "</td>\n",
        "</tr>\n",
        "</table>\n",
        "</div>"
      ]
    },
    {
      "cell_type": "code",
      "metadata": {
        "colab": {
          "base_uri": "https://localhost:8080/"
        },
        "id": "UhUsI4_xwAz_",
        "outputId": "c79d407f-5902-4aec-d508-df647e12659f"
      },
      "source": [
        "# Remove unwanted elements\n",
        "print(\"Remove website URLs...\")\n",
        "df_horseforum_threads['cleaned_document'] = [re.sub(regex_pattern_website, '', text) for text in df_horseforum_threads['cleaned_document']]\n",
        "print(\"Remove email addresses...\")\n",
        "df_horseforum_threads['cleaned_document'] = [re.sub(regex_pattern_email, '', text) for text in df_horseforum_threads['cleaned_document']]\n",
        "print(\"Remove HTML tags...\")\n",
        "df_horseforum_threads['cleaned_document'] = [re.sub(regex_pattern_html_tag, '', text) for text in df_horseforum_threads['cleaned_document']]\n",
        "print(\"...completed\")"
      ],
      "execution_count": 11,
      "outputs": [
        {
          "output_type": "stream",
          "name": "stdout",
          "text": [
            "Remove website URLs...\n",
            "Remove email addresses...\n",
            "Remove HTML tags...\n",
            "...completed\n"
          ]
        }
      ]
    },
    {
      "cell_type": "markdown",
      "metadata": {
        "id": "cxQf1-xiuSbZ"
      },
      "source": [
        "## Character Encoding"
      ]
    },
    {
      "cell_type": "markdown",
      "metadata": {
        "id": "-48gQTc_uVVV"
      },
      "source": [
        "**Unicode to ASCII**\n",
        "\n",
        "In case there were any diacritic characters ('accented' characters), e.g.: à, ě, ī, ō, ū etc., such Unicode characters were decoded into \"equivalent\" ASCII characters. This was accomplished  using the Python `unidecode` library (https://pypi.org/project/Unidecode/).\n",
        "\n",
        "**HTML escape characters**\n",
        "\n",
        "Any HTML character escapes (refer https://www.w3.org/International/questions/qa-escapes),  were \"unescaped\" using the  `html.unescape()` function (e.g., quotations marks: `&quot;` $\\rightarrow$ `\"`).\n"
      ]
    },
    {
      "cell_type": "code",
      "metadata": {
        "colab": {
          "base_uri": "https://localhost:8080/"
        },
        "id": "q4E9NnWPt7g0",
        "outputId": "e271407f-e59e-46ce-b725-ed8428438fca"
      },
      "source": [
        "# Unescape HTML characters\n",
        "print(\"Unescape HTML escapes...\")\n",
        "df_horseforum_threads['cleaned_document'] = [html.unescape(text) if isinstance(text, str) else text for text in df_horseforum_threads['cleaned_document']]\n",
        "# Convert Unicode to ASCII\n",
        "print(\"Convert Unicode to ASCII...\")\n",
        "df_horseforum_threads['cleaned_document'] = [unidecode(text) if isinstance(text, str) else text for text in df_horseforum_threads['cleaned_document']]\n",
        "print(\"...completed\")"
      ],
      "execution_count": 12,
      "outputs": [
        {
          "output_type": "stream",
          "name": "stdout",
          "text": [
            "Unescape HTML escapes...\n",
            "Convert Unicode to ASCII...\n",
            "...completed\n"
          ]
        }
      ]
    },
    {
      "cell_type": "markdown",
      "metadata": {
        "id": "vXubGS5957Bx"
      },
      "source": [
        "## Replace new-lines, punctuation, digits, excess whitespace"
      ]
    },
    {
      "cell_type": "code",
      "metadata": {
        "colab": {
          "base_uri": "https://localhost:8080/",
          "height": 424
        },
        "id": "HAAFSnDK6ErA",
        "outputId": "38945d83-ed3a-479f-95ef-79fd8389f07f"
      },
      "source": [
        "df_horseforum_threads['cleaned_document'].replace(\n",
        "    {\n",
        "        r'(\\n|\\r)+' : \" \"   # replace new-lines\n",
        "        ,r'\\W' : \" \"        # replace non-word characters\n",
        "        ,r'\\b\\d+\\b' : \" \"   # repalce strings of digits\n",
        "        ,r'\\s+' : ' '       # reduce multiple spaces\n",
        "     }\n",
        "    ,regex = True\n",
        "    ,inplace = True)\n",
        "df_horseforum_threads"
      ],
      "execution_count": 13,
      "outputs": [
        {
          "output_type": "execute_result",
          "data": {
            "text/html": [
              "<div>\n",
              "<style scoped>\n",
              "    .dataframe tbody tr th:only-of-type {\n",
              "        vertical-align: middle;\n",
              "    }\n",
              "\n",
              "    .dataframe tbody tr th {\n",
              "        vertical-align: top;\n",
              "    }\n",
              "\n",
              "    .dataframe thead th {\n",
              "        text-align: right;\n",
              "    }\n",
              "</style>\n",
              "<table border=\"1\" class=\"dataframe\">\n",
              "  <thead>\n",
              "    <tr style=\"text-align: right;\">\n",
              "      <th></th>\n",
              "      <th>thread_url_path</th>\n",
              "      <th>thread_document</th>\n",
              "      <th>cleaned_document</th>\n",
              "      <th>cleaned_document_tm</th>\n",
              "    </tr>\n",
              "  </thead>\n",
              "  <tbody>\n",
              "    <tr>\n",
              "      <th>0</th>\n",
              "      <td>/threads/please-read-before-posting-both-older...</td>\n",
              "      <td>PLEASE READ BEFORE POSTING (both older and new...</td>\n",
              "      <td>PLEASE READ BEFORE POSTING both older and newe...</td>\n",
              "      <td>please read posting older newer horseforum com...</td>\n",
              "    </tr>\n",
              "    <tr>\n",
              "      <th>1</th>\n",
              "      <td>/threads/poisonous-plants-from-hf-member-locat...</td>\n",
              "      <td>poisonous plants from HF member locations\\nMOD...</td>\n",
              "      <td>poisonous plants from HF member locations MOD ...</td>\n",
              "      <td>poisonous plant hf member location note jaydee...</td>\n",
              "    </tr>\n",
              "    <tr>\n",
              "      <th>2</th>\n",
              "      <td>/threads/the-care-of-an-emaciated-horse.100412/</td>\n",
              "      <td>The Care of an Emaciated Horse\\nMy friend and ...</td>\n",
              "      <td>The Care of an Emaciated Horse My friend and I...</td>\n",
              "      <td>care emaciated horse friend experienced horse ...</td>\n",
              "    </tr>\n",
              "    <tr>\n",
              "      <th>3</th>\n",
              "      <td>/threads/making-a-vet-kit.251/</td>\n",
              "      <td>Making a Vet Kit\\nHey guys! I am posting this ...</td>\n",
              "      <td>Making a Vet Kit Hey guys I am posting this th...</td>\n",
              "      <td>making vet kit hey guy posting thread primaril...</td>\n",
              "    </tr>\n",
              "    <tr>\n",
              "      <th>4</th>\n",
              "      <td>/threads/information-on-myopathies-pssm1-pssm2...</td>\n",
              "      <td>Information on Myopathies - PSSM1, PSSM2, MFM,...</td>\n",
              "      <td>Information on Myopathies PSSM1 PSSM2 MFM and ...</td>\n",
              "      <td>information myopathy pssm1 pssm2 mfm rer pssm1...</td>\n",
              "    </tr>\n",
              "    <tr>\n",
              "      <th>...</th>\n",
              "      <td>...</td>\n",
              "      <td>...</td>\n",
              "      <td>...</td>\n",
              "      <td>...</td>\n",
              "    </tr>\n",
              "    <tr>\n",
              "      <th>20949</th>\n",
              "      <td>/threads/recovery-from-torn-rear-suspensory-li...</td>\n",
              "      <td>Recovery from Torn Rear Suspensory Ligament\\nH...</td>\n",
              "      <td>Recovery from Torn Rear Suspensory Ligament Hi...</td>\n",
              "      <td>recovery torn rear suspensory ligament hi stan...</td>\n",
              "    </tr>\n",
              "    <tr>\n",
              "      <th>20950</th>\n",
              "      <td>/threads/how-to-get-horses-to-gaine-weight.99/</td>\n",
              "      <td>how to get horses to gaine weight\\nI found out...</td>\n",
              "      <td>how to get horses to gaine weight I found out ...</td>\n",
              "      <td>get horse gaine weight found give horse black ...</td>\n",
              "    </tr>\n",
              "    <tr>\n",
              "      <th>20951</th>\n",
              "      <td>/threads/paxil.102/</td>\n",
              "      <td>PAXIL?\\nWe have a horse who is just a simply h...</td>\n",
              "      <td>PAXIL We have a horse who is just a simply hig...</td>\n",
              "      <td>paxil horse simply high strung sort favorite t...</td>\n",
              "    </tr>\n",
              "    <tr>\n",
              "      <th>20952</th>\n",
              "      <td>/threads/loose-stool.101/</td>\n",
              "      <td>Loose stool\\nI have a three year old filly tha...</td>\n",
              "      <td>Loose stool I have a three year old filly that...</td>\n",
              "      <td>loose stool year old filly tends nervous gut f...</td>\n",
              "    </tr>\n",
              "    <tr>\n",
              "      <th>20953</th>\n",
              "      <td>/threads/quietex.49/</td>\n",
              "      <td>Quietex\\nI have a 4 year old Paint Gelding who...</td>\n",
              "      <td>Quietex I have a year old Paint Gelding who is...</td>\n",
              "      <td>quietex year old paint gelding difficult shoe ...</td>\n",
              "    </tr>\n",
              "  </tbody>\n",
              "</table>\n",
              "<p>20954 rows × 4 columns</p>\n",
              "</div>"
            ],
            "text/plain": [
              "                                         thread_url_path  ...                                cleaned_document_tm\n",
              "0      /threads/please-read-before-posting-both-older...  ...  please read posting older newer horseforum com...\n",
              "1      /threads/poisonous-plants-from-hf-member-locat...  ...  poisonous plant hf member location note jaydee...\n",
              "2        /threads/the-care-of-an-emaciated-horse.100412/  ...  care emaciated horse friend experienced horse ...\n",
              "3                         /threads/making-a-vet-kit.251/  ...  making vet kit hey guy posting thread primaril...\n",
              "4      /threads/information-on-myopathies-pssm1-pssm2...  ...  information myopathy pssm1 pssm2 mfm rer pssm1...\n",
              "...                                                  ...  ...                                                ...\n",
              "20949  /threads/recovery-from-torn-rear-suspensory-li...  ...  recovery torn rear suspensory ligament hi stan...\n",
              "20950     /threads/how-to-get-horses-to-gaine-weight.99/  ...  get horse gaine weight found give horse black ...\n",
              "20951                                /threads/paxil.102/  ...  paxil horse simply high strung sort favorite t...\n",
              "20952                          /threads/loose-stool.101/  ...  loose stool year old filly tends nervous gut f...\n",
              "20953                               /threads/quietex.49/  ...  quietex year old paint gelding difficult shoe ...\n",
              "\n",
              "[20954 rows x 4 columns]"
            ]
          },
          "metadata": {},
          "execution_count": 13
        }
      ]
    },
    {
      "cell_type": "markdown",
      "metadata": {
        "id": "1cQ74QWE-V38"
      },
      "source": [
        "# NLP - Sentiment analysis"
      ]
    },
    {
      "cell_type": "markdown",
      "metadata": {
        "id": "RgH-Kfw5-aSe"
      },
      "source": [
        ""
      ]
    },
    {
      "cell_type": "markdown",
      "metadata": {
        "id": "cvVqovLM-PMo"
      },
      "source": [
        "# NLP - Topic modelling"
      ]
    },
    {
      "cell_type": "code",
      "metadata": {
        "id": "0uqO25lM-vpJ"
      },
      "source": [
        "# Intialise new feature for topic modelling\n",
        "df_horseforum_threads['cleaned_document_tm'] = df_horseforum_threads['cleaned_document']"
      ],
      "execution_count": 14,
      "outputs": []
    },
    {
      "cell_type": "markdown",
      "metadata": {
        "id": "os3qE70M-p2t"
      },
      "source": [
        "### Lower case"
      ]
    },
    {
      "cell_type": "markdown",
      "metadata": {
        "id": "ifqQei2K_3Qs"
      },
      "source": [
        "Letter casing is not modified for sentiment alanysis as it capitalization can convey sentiment. In contrast to topic modelling, changing text to lower case reduces dimensionality."
      ]
    },
    {
      "cell_type": "code",
      "metadata": {
        "colab": {
          "base_uri": "https://localhost:8080/"
        },
        "id": "Ao5rhc7Q-nvs",
        "outputId": "4529fd8b-8c02-46b5-8619-e817a2631d2b"
      },
      "source": [
        "# Convert text to lower case\n",
        "print(\"Convert to lower case...\")\n",
        "df_horseforum_threads['cleaned_document_tm'] = df_horseforum_threads['cleaned_document_tm'].apply(str.lower)\n",
        "print(\"...completed\")"
      ],
      "execution_count": 15,
      "outputs": [
        {
          "output_type": "stream",
          "name": "stdout",
          "text": [
            "Convert to lower case...\n",
            "...completed\n"
          ]
        }
      ]
    },
    {
      "cell_type": "markdown",
      "metadata": {
        "id": "jRrLnbsd6Y5n"
      },
      "source": [
        "## Stopwords, Lemmatization, and Parts-of-speach (POS)"
      ]
    },
    {
      "cell_type": "code",
      "metadata": {
        "colab": {
          "base_uri": "https://localhost:8080/"
        },
        "id": "88_hrppGLcnf",
        "outputId": "ce534941-3f94-416b-d535-1d914e8256d2"
      },
      "source": [
        "%%time\n",
        "# Remove stops words and lemmatize\n",
        "stop_words = stopwords.words('english')\n",
        "#stop_words.extend([''])\n",
        "lemmatizer = WordNetLemmatizer()\n",
        "retain_pos = {'NOUN' : 'N', 'ADJ' : 'J', 'VERB' : 'V', 'ADV' : 'R' }\n",
        "print(\"Removal stopwords and lemmatization...\")\n",
        "df_horseforum_threads['cleaned_document_tm'] = df_horseforum_threads['cleaned_document_tm'].apply(\n",
        "    lambda document: stop_and_lemm(document\n",
        "                                   ,stopwords = stop_words\n",
        "                                   ,lemmatizer = lemmatizer\n",
        "                                   ,retain_pos = retain_pos)\n",
        "    )\n",
        "print(\"...completed\")"
      ],
      "execution_count": 16,
      "outputs": [
        {
          "output_type": "stream",
          "name": "stdout",
          "text": [
            "Removal stopwords and lemmatization...\n",
            "...completed\n",
            "CPU times: user 23min 3s, sys: 3.62 s, total: 23min 6s\n",
            "Wall time: 23min 8s\n"
          ]
        }
      ]
    },
    {
      "cell_type": "markdown",
      "metadata": {
        "id": "Nja-g-y9Fdst"
      },
      "source": [
        "### Word frequency plots"
      ]
    },
    {
      "cell_type": "markdown",
      "metadata": {
        "id": "DUFtoOU4G4li"
      },
      "source": [
        "The following plot compares the frequency of word count between the corpus having been stemmed or lemmatized."
      ]
    },
    {
      "cell_type": "code",
      "metadata": {
        "colab": {
          "base_uri": "https://localhost:8080/",
          "height": 893
        },
        "id": "yJFZeMCjEsYn",
        "outputId": "973fbd52-ecd1-424f-93fc-b08495c9bcb0"
      },
      "source": [
        "# visualize words and frequencies\n",
        "fig, ax = plt.subplots(nrows=1, ncols=1, figsize=(12, 15))\n",
        "\n",
        "# Plot Lemmatized word freq.\n",
        "sns.barplot(ax=ax\n",
        "            ,data=word_frequencies(df_horseforum_threads['cleaned_document_tm'], top_n = 100)\n",
        "            ,x=\"count\"\n",
        "            ,y=\"word\")\n",
        "\n",
        "ax.set_title(\"Lemmatized\") \n",
        "ax.set_xlabel(\"word\")\n",
        "ax.set_ylabel(\"count\")\n",
        "\n",
        "# Display plot\n",
        "plt.show()"
      ],
      "execution_count": 17,
      "outputs": [
        {
          "output_type": "display_data",
          "data": {
            "image/png": "[encoded data removed]",
            "text/plain": [
              "<Figure size 864x1080 with 1 Axes>"
            ]
          },
          "metadata": {
            "needs_background": "light"
          }
        }
      ]
    },
    {
      "cell_type": "markdown",
      "metadata": {
        "id": "L4oqCPbKdTY6"
      },
      "source": [
        "### Save processed corpus"
      ]
    },
    {
      "cell_type": "code",
      "metadata": {
        "id": "xOYNT5bKdYNh"
      },
      "source": [
        "# Save dataframe locally\n",
        "df_horseforum_threads[['thread_url_path', 'thread_document', 'cleaned_document', 'cleaned_document_tm']].to_csv(os.path.join(filepath_data, filename_horseforum_threads_cleaned_df), index=False)"
      ],
      "execution_count": 18,
      "outputs": []
    },
    {
      "cell_type": "code",
      "metadata": {
        "colab": {
          "base_uri": "https://localhost:8080/"
        },
        "id": "inALkfkP8bZA",
        "outputId": "e351b31e-6519-4289-ad1d-8470cc3c5792"
      },
      "source": [
        "df_horseforum_threads = pd.read_csv(os.path.join(filepath_data, filename_horseforum_threads_cleaned_df))\n",
        "df_horseforum_threads.shape"
      ],
      "execution_count": 5,
      "outputs": [
        {
          "output_type": "execute_result",
          "data": {
            "text/plain": [
              "(20954, 4)"
            ]
          },
          "metadata": {},
          "execution_count": 5
        }
      ]
    },
    {
      "cell_type": "markdown",
      "metadata": {
        "id": "f1W5ZPbXEspG"
      },
      "source": [
        "## Term weights"
      ]
    },
    {
      "cell_type": "markdown",
      "metadata": {
        "id": "zlYwoLUGQY68"
      },
      "source": [
        "### Bigrams"
      ]
    },
    {
      "cell_type": "code",
      "metadata": {
        "colab": {
          "base_uri": "https://localhost:8080/"
        },
        "id": "CvEYFHHoUy5f",
        "outputId": "c7eb7695-c395-4fb6-cecb-3d62b117019e"
      },
      "source": [
        "%%time\n",
        "# Convert each thread's document into a list of words\n",
        "corpus_documents = df_horseforum_threads['cleaned_document_tm'].values.tolist()\n",
        "corpus_documents = [word_tokenize(document) for document in corpus_documents]\n",
        "\n",
        "# Build the bigram model\n",
        "bigram_phrases = gensim.models.Phrases(corpus_documents, min_count=5, threshold=100) # higher threshold fewer phrases.\n",
        "bigram_phraser = gensim.models.phrases.Phraser(bigram_phrases)\n",
        "def set_bigrams(corpus):\n",
        "    return [bigram_phraser[document] for document in corpus]\n",
        "\n",
        "# Form Bigrams\n",
        "corpus_document_tokens = set_bigrams(corpus_documents)"
      ],
      "execution_count": 37,
      "outputs": [
        {
          "output_type": "stream",
          "name": "stdout",
          "text": [
            "CPU times: user 2min 5s, sys: 1.52 s, total: 2min 6s\n",
            "Wall time: 2min 7s\n"
          ]
        }
      ]
    },
    {
      "cell_type": "markdown",
      "metadata": {
        "id": "FYmxxf8jQcyf"
      },
      "source": [
        "### TF-IDF"
      ]
    },
    {
      "cell_type": "code",
      "metadata": {
        "colab": {
          "base_uri": "https://localhost:8080/"
        },
        "id": "42x-H5o7L4jc",
        "outputId": "94029231-9b51-401b-d72c-03b6ee92d31b"
      },
      "source": [
        "%%time\n",
        "#LDA topic model requires two things: the dictionary(id2word) and the corpus\n",
        "# Create Dictionary\n",
        "corpus_dict = corpora.Dictionary(corpus_document_tokens)\n",
        "count = 0\n",
        "for k, v in corpus_dict.iteritems():\n",
        "    print(k, v)\n",
        "    count += 1\n",
        "    if count > 10:\n",
        "        break\n",
        "\n",
        "#filtering words less frequent and high frequent; taking only the top 100,000 keywords\n",
        "corpus_dict.filter_extremes(no_below=10, no_above=0.5, keep_n=100000)\n",
        "\n",
        "# Term Document Frequency (Bag of Words Approach)\n",
        "corpus_bow = [corpus_dict.doc2bow(document) for document in corpus_document_tokens]\n",
        "tfidf = gensim.models.TfidfModel(corpus_bow)\n",
        "corpus_tfidf = tfidf[corpus_bow]"
      ],
      "execution_count": 43,
      "outputs": [
        {
          "output_type": "stream",
          "name": "stdout",
          "text": [
            "0 abuse\n",
            "1 abusing\n",
            "2 add\n",
            "3 added\n",
            "4 adding\n",
            "5 admin\n",
            "6 allow\n",
            "7 allowed\n",
            "8 allows\n",
            "9 answer\n",
            "10 approach\n",
            "CPU times: user 15.8 s, sys: 556 ms, total: 16.3 s\n",
            "Wall time: 16.3 s\n"
          ]
        }
      ]
    },
    {
      "cell_type": "markdown",
      "metadata": {
        "id": "fEU1RaESOYuN"
      },
      "source": [
        "## LDA Model"
      ]
    },
    {
      "cell_type": "code",
      "metadata": {
        "colab": {
          "base_uri": "https://localhost:8080/"
        },
        "id": "GjfJDEJEfBvq",
        "outputId": "a5bf6247-66b8-416d-adc7-00248573068d"
      },
      "source": [
        "%%time\n",
        "# Building the LDA topic model\n",
        "lda_model = gensim.models.LdaMulticore(\n",
        "    corpus=corpus_tfidf\n",
        "    ,id2word=corpus_dict    \n",
        "    ,num_topics=20\n",
        "    ,passes=20\n",
        "    ,random_state=987\n",
        "    ,per_word_topics=True\n",
        "    ,workers=4\n",
        "    )"
      ],
      "execution_count": 50,
      "outputs": [
        {
          "output_type": "stream",
          "name": "stdout",
          "text": [
            "CPU times: user 17min 4s, sys: 35.9 s, total: 17min 40s\n",
            "Wall time: 19min 52s\n"
          ]
        }
      ]
    },
    {
      "cell_type": "code",
      "metadata": {
        "colab": {
          "base_uri": "https://localhost:8080/"
        },
        "id": "GTCtVJCrOZbW",
        "outputId": "1daf6312-2c4e-4f76-e6cf-e35b06f57194"
      },
      "source": [
        "%%time\n",
        "# Building the LDA topic model\n",
        "lda_model = gensim.models.ldamodel.LdaModel(\n",
        "    corpus=corpus_tfidf\n",
        "    ,id2word=corpus_dict\n",
        "    ,num_topics=20\n",
        "    ,random_state=987\n",
        "    ,update_every=1\n",
        "    ,chunksize=100\n",
        "    ,passes=20\n",
        "    ,alpha='auto'\n",
        "    ,per_word_topics=True\n",
        "    )"
      ],
      "execution_count": 44,
      "outputs": [
        {
          "output_type": "stream",
          "name": "stdout",
          "text": [
            "CPU times: user 20min 9s, sys: 10min 45s, total: 30min 55s\n",
            "Wall time: 18min 54s\n"
          ]
        }
      ]
    },
    {
      "cell_type": "code",
      "metadata": {
        "colab": {
          "base_uri": "https://localhost:8080/"
        },
        "id": "yLqMS7q4a_C0",
        "outputId": "d68083a9-d04a-49b8-b79a-2cff86ed4fc8"
      },
      "source": [
        "%%time\n",
        "# Print the Keywords in the topics\n",
        "pprint(lda_model.print_topics())\n",
        "doc_lda = lda_model[corpus_tfidf]"
      ],
      "execution_count": 51,
      "outputs": [
        {
          "output_type": "stream",
          "name": "stdout",
          "text": [
            "[(0,\n",
            "  '0.017*\"teeth\" + 0.011*\"sheath\" + 0.009*\"dentist\" + 0.008*\"bean\" + '\n",
            "  '0.008*\"tooth\" + 0.007*\"gelded\" + 0.006*\"wolf_teeth\" + 0.005*\"mouth\" + '\n",
            "  '0.005*\"stallion\" + 0.005*\"testicle\"'),\n",
            " (1,\n",
            "  '0.039*\"hoof\" + 0.037*\"shoe\" + 0.034*\"farrier\" + 0.028*\"foot\" + 0.019*\"trim\" '\n",
            "  '+ 0.018*\"barefoot\" + 0.016*\"thrush\" + 0.015*\"heel\" + 0.013*\"frog\" + '\n",
            "  '0.011*\"boot\"'),\n",
            " (2,\n",
            "  '0.012*\"clover\" + 0.006*\"drool\" + 0.005*\"drooling\" + 0.003*\"slobber\" + '\n",
            "  '0.003*\"moore\" + 0.002*\"exodus\" + 0.002*\"prosthetic\" + 0.002*\"uncle_jimmy\" + '\n",
            "  '0.002*\"waxing\" + 0.002*\"wax\"'),\n",
            " (3,\n",
            "  '0.003*\"luvs\" + 0.003*\"thnx\" + 0.002*\"weefoal\" + 0.002*\"calcium_carbonate\" + '\n",
            "  '0.002*\"delilah\" + 0.002*\"herbicide\" + 0.002*\"outlast\" + 0.002*\"riboflavin\" '\n",
            "  '+ 0.002*\"l_lysine\" + 0.002*\"dl_methionine\"'),\n",
            " (4,\n",
            "  '0.038*\"worm\" + 0.028*\"deworming\" + 0.022*\"parasite\" + 0.019*\"ivermectin\" + '\n",
            "  '0.019*\"wormer\" + 0.017*\"worming\" + 0.016*\"deworm\" + 0.015*\"dewormer\" + '\n",
            "  '0.014*\"resistance\" + 0.013*\"egg\"'),\n",
            " (5,\n",
            "  '0.034*\"vaccine\" + 0.017*\"strangles\" + 0.015*\"rabies\" + 0.015*\"vaccination\" '\n",
            "  '+ 0.013*\"shot\" + 0.010*\"coggins\" + 0.009*\"vaccinated\" + 0.008*\"west_nile\" + '\n",
            "  '0.008*\"vaccinate\" + 0.008*\"virus\"'),\n",
            " (6,\n",
            "  '0.004*\"emu_oil\" + 0.003*\"pam\" + 0.003*\"clinch\" + 0.002*\"zierra\" + '\n",
            "  '0.002*\"hairloss\" + 0.002*\"baker\" + 0.002*\"dishwashing_liquid\" + '\n",
            "  '0.002*\"sugestions\" + 0.002*\"drawer\" + 0.002*\"noticible\"'),\n",
            " (7,\n",
            "  '0.006*\"lmf\" + 0.006*\"speedi_beet\" + 0.006*\"fescue\" + 0.004*\"dapple\" + '\n",
            "  '0.004*\"veggie_oil\" + 0.003*\"zip\" + 0.003*\"hoffman\" + 0.003*\"oaten_chaff\" + '\n",
            "  '0.003*\"carolina\" + 0.003*\"lymphangitis\"'),\n",
            " (8,\n",
            "  '0.009*\"candi\" + 0.005*\"nodule\" + 0.004*\"ragwort\" + 0.003*\"scooter\" + '\n",
            "  '0.003*\"cowhocked\" + 0.003*\"pine_tar\" + 0.003*\"christy\" + 0.003*\"microtek\" + '\n",
            "  '0.003*\"chucky\" + 0.003*\"cuticle\"'),\n",
            " (9,\n",
            "  '0.007*\"leg\" + 0.006*\"saddle\" + 0.006*\"joint\" + 0.005*\"lame\" + 0.005*\"hock\" '\n",
            "  '+ 0.005*\"lameness\" + 0.005*\"arthritis\" + 0.004*\"injury\" + 0.004*\"chiro\" + '\n",
            "  '0.004*\"stifle\"'),\n",
            " (10,\n",
            "  '0.022*\"insurance\" + 0.006*\"insured\" + 0.006*\"mortality\" + 0.004*\"coverage\" '\n",
            "  '+ 0.004*\"policy\" + 0.003*\"insurance_company\" + 0.003*\"medical\" + '\n",
            "  '0.003*\"annular_ligament\" + 0.003*\"freyja\" + 0.002*\"dac_bloom\"'),\n",
            " (11,\n",
            "  '0.035*\"cribbing\" + 0.024*\"crib\" + 0.013*\"collar\" + 0.012*\"cribber\" + '\n",
            "  '0.010*\"survey\" + 0.007*\"roaring\" + 0.006*\"cribbers\" + '\n",
            "  '0.006*\"cribbing_collar\" + 0.006*\"wood\" + 0.005*\"miracle_collar\"'),\n",
            " (12,\n",
            "  '0.021*\"hypp\" + 0.008*\"impressive\" + 0.006*\"n_h\" + 0.005*\"crypt\" + '\n",
            "  '0.003*\"pyrantel_fenbendazole\" + 0.003*\"impressive_bred\" + '\n",
            "  '0.003*\"parrot_mouthed\" + 0.003*\"jynx\" + 0.003*\"nn\" + '\n",
            "  '0.003*\"egg_reappearance\"'),\n",
            " (13,\n",
            "  '0.005*\"jerry\" + 0.004*\"bowen\" + 0.004*\"chigger\" + 0.003*\"jennifer\" + '\n",
            "  '0.002*\"equissage\" + 0.002*\"digital_extensor\" + 0.002*\"tray\" + '\n",
            "  '0.002*\"workin\" + 0.002*\"bot_knife\" + 0.002*\"athritis\"'),\n",
            " (14,\n",
            "  '0.007*\"quietex\" + 0.005*\"depo\" + 0.004*\"calcium_deposit\" + 0.004*\"db\" + '\n",
            "  '0.003*\"bread\" + 0.003*\"farting\" + 0.003*\"valerian\" + 0.003*\"simon\" + '\n",
            "  '0.003*\"raspberry_leaf\" + 0.002*\"calmers\"'),\n",
            " (15,\n",
            "  '0.008*\"jubilee\" + 0.008*\"acorn\" + 0.005*\"tornado\" + 0.004*\"red_maple\" + '\n",
            "  '0.003*\"oak\" + 0.003*\"jus\" + 0.003*\"oak_tree\" + 0.003*\"leaf\" + '\n",
            "  '0.003*\"cherry_tree\" + 0.003*\"cyanide\"'),\n",
            " (16,\n",
            "  '0.003*\"feed\" + 0.003*\"hay\" + 0.002*\"weight\" + 0.002*\"grass\" + 0.002*\"mare\" '\n",
            "  '+ 0.002*\"grain\" + 0.002*\"eye\" + 0.002*\"supplement\" + 0.001*\"water\" + '\n",
            "  '0.001*\"fly\"'),\n",
            " (17,\n",
            "  '0.004*\"sabino\" + 0.003*\"roan\" + 0.003*\"xterra\" + 0.003*\"val\" + '\n",
            "  '0.002*\"zantac\" + 0.002*\"smart_paks\" + 0.002*\"cisco\" + 0.002*\"roaning\" + '\n",
            "  '0.002*\"neigh_lox\" + 0.002*\"prevacox\"'),\n",
            " (18,\n",
            "  '0.020*\"sarcoids\" + 0.018*\"sarcoid\" + 0.005*\"hugo\" + 0.003*\"apple_cidar\" + '\n",
            "  '0.003*\"nad\" + 0.003*\"cheyenne\" + 0.002*\"overbite\" + 0.002*\"occult\" + '\n",
            "  '0.002*\"nodular\" + 0.002*\"xxterra\"'),\n",
            " (19,\n",
            "  '0.012*\"llama_llama\" + 0.008*\"roach\" + 0.007*\"loki\" + 0.004*\"epmhorse\" + '\n",
            "  '0.004*\"gelatin\" + 0.004*\"watermelon\" + 0.004*\"potato\" + 0.003*\"anyones\" + '\n",
            "  '0.003*\"roach_backed\" + 0.003*\"sidebone\"')]\n",
            "CPU times: user 19.7 ms, sys: 954 µs, total: 20.6 ms\n",
            "Wall time: 22.2 ms\n"
          ]
        }
      ]
    },
    {
      "cell_type": "code",
      "metadata": {
        "colab": {
          "base_uri": "https://localhost:8080/"
        },
        "id": "K4NN3Z_nbGg6",
        "outputId": "7d3714de-ddcc-43ed-8054-cf8a0df105a5"
      },
      "source": [
        "%%time\n",
        "#Model perplexity and topic coherence provide a convenient measure to judge how good a given topic model is\n",
        "# Compute Perplexity\n",
        "print('\\nPerplexity: ', lda_model.log_perplexity(corpus_tfidf))  # a measure of how good the model is. lower the better.\n",
        "\n",
        "# Compute Coherence Score\n",
        "coherence_model_lda = CoherenceModel(model=lda_model, texts=corpus_document_tokens, dictionary=corpus_dict, coherence='c_v')\n",
        "coherence_lda = coherence_model_lda.get_coherence()\n",
        "print('\\nCoherence Score: ', coherence_lda)"
      ],
      "execution_count": 52,
      "outputs": [
        {
          "output_type": "stream",
          "name": "stdout",
          "text": [
            "\n",
            "Perplexity:  -9.875975197676851\n",
            "\n",
            "Coherence Score:  0.6140881620481115\n",
            "CPU times: user 4min 26s, sys: 1min 8s, total: 5min 35s\n",
            "Wall time: 4min 19s\n"
          ]
        }
      ]
    },
    {
      "cell_type": "markdown",
      "metadata": {
        "id": "5G_ohKGeYejq"
      },
      "source": [
        "# Example 1 - using news text"
      ]
    },
    {
      "cell_type": "markdown",
      "metadata": {
        "id": "_jkbp5JVm3E9"
      },
      "source": [
        "There were some package dependency issues being caused with `pyLDAvis` so it is imported separately."
      ]
    },
    {
      "cell_type": "code",
      "metadata": {
        "id": "tdPiJxwCs6s-",
        "colab": {
          "base_uri": "https://localhost:8080/"
        },
        "outputId": "25166b8f-0b4b-4a7c-c41c-2c901f0935de"
      },
      "source": [
        "# pyLDAvis: interactive topic model visualization\n",
        "import warnings # package incompatability warnings raised by pyLDAvis\n",
        "warnings.filterwarnings('ignore') # suppress warnings\n",
        "!pip install pyLDAvis\n",
        "import pyLDAvis.gensim_models\n",
        "from pyLDAvis import gensim_models"
      ],
      "execution_count": 65,
      "outputs": [
        {
          "output_type": "stream",
          "name": "stdout",
          "text": [
            "Requirement already satisfied: pyLDAvis in /usr/local/lib/python3.7/dist-packages (3.3.1)\n",
            "Requirement already satisfied: scipy in /usr/local/lib/python3.7/dist-packages (from pyLDAvis) (1.4.1)\n",
            "Requirement already satisfied: numpy>=1.20.0 in /usr/local/lib/python3.7/dist-packages (from pyLDAvis) (1.21.4)\n",
            "Requirement already satisfied: scikit-learn in /usr/local/lib/python3.7/dist-packages (from pyLDAvis) (1.0.1)\n",
            "Requirement already satisfied: gensim in /usr/local/lib/python3.7/dist-packages (from pyLDAvis) (3.6.0)\n",
            "Requirement already satisfied: funcy in /usr/local/lib/python3.7/dist-packages (from pyLDAvis) (1.16)\n",
            "Requirement already satisfied: numexpr in /usr/local/lib/python3.7/dist-packages (from pyLDAvis) (2.7.3)\n",
            "Requirement already satisfied: future in /usr/local/lib/python3.7/dist-packages (from pyLDAvis) (0.16.0)\n",
            "Requirement already satisfied: pandas>=1.2.0 in /usr/local/lib/python3.7/dist-packages (from pyLDAvis) (1.3.4)\n",
            "Requirement already satisfied: sklearn in /usr/local/lib/python3.7/dist-packages (from pyLDAvis) (0.0)\n",
            "Requirement already satisfied: jinja2 in /usr/local/lib/python3.7/dist-packages (from pyLDAvis) (2.11.3)\n",
            "Requirement already satisfied: joblib in /usr/local/lib/python3.7/dist-packages (from pyLDAvis) (1.1.0)\n",
            "Requirement already satisfied: setuptools in /usr/local/lib/python3.7/dist-packages (from pyLDAvis) (57.4.0)\n",
            "Requirement already satisfied: pytz>=2017.3 in /usr/local/lib/python3.7/dist-packages (from pandas>=1.2.0->pyLDAvis) (2018.9)\n",
            "Requirement already satisfied: python-dateutil>=2.7.3 in /usr/local/lib/python3.7/dist-packages (from pandas>=1.2.0->pyLDAvis) (2.8.2)\n",
            "Requirement already satisfied: six>=1.5 in /usr/local/lib/python3.7/dist-packages (from python-dateutil>=2.7.3->pandas>=1.2.0->pyLDAvis) (1.15.0)\n",
            "Requirement already satisfied: smart-open>=1.2.1 in /usr/local/lib/python3.7/dist-packages (from gensim->pyLDAvis) (5.2.1)\n",
            "Requirement already satisfied: MarkupSafe>=0.23 in /usr/local/lib/python3.7/dist-packages (from jinja2->pyLDAvis) (2.0.1)\n",
            "Requirement already satisfied: threadpoolctl>=2.0.0 in /usr/local/lib/python3.7/dist-packages (from scikit-learn->pyLDAvis) (3.0.0)\n"
          ]
        }
      ]
    },
    {
      "cell_type": "code",
      "metadata": {
        "colab": {
          "base_uri": "https://localhost:8080/",
          "height": 374
        },
        "id": "x5q4JAP9Yej0",
        "outputId": "a5af8124-0ac3-4a18-df0b-cafbdf2c9c89"
      },
      "source": [
        "import pyLDAvis.gensim_models\n",
        "# Visualize the topics\n",
        "pyLDAvis.enable_notebook()\n",
        "vis = pyLDAvis.gensim_models.prepare(lda_model, [corpus_dict.doc2bow(doc) for doc in corpus_document_tokens], corpus_dict)\n",
        "vis\n"
      ],
      "execution_count": 68,
      "outputs": [
        {
          "output_type": "error",
          "ename": "TypeError",
          "evalue": "ignored",
          "traceback": [
            "\u001b[0;31m---------------------------------------------------------------------------\u001b[0m",
            "\u001b[0;31mTypeError\u001b[0m                                 Traceback (most recent call last)",
            "\u001b[0;32m<ipython-input-68-69b61dc245c8>\u001b[0m in \u001b[0;36m<module>\u001b[0;34m()\u001b[0m\n\u001b[1;32m      2\u001b[0m \u001b[0;31m# Visualize the topics\u001b[0m\u001b[0;34m\u001b[0m\u001b[0;34m\u001b[0m\u001b[0;34m\u001b[0m\u001b[0m\n\u001b[1;32m      3\u001b[0m \u001b[0mpyLDAvis\u001b[0m\u001b[0;34m.\u001b[0m\u001b[0menable_notebook\u001b[0m\u001b[0;34m(\u001b[0m\u001b[0;34m)\u001b[0m\u001b[0;34m\u001b[0m\u001b[0;34m\u001b[0m\u001b[0m\n\u001b[0;32m----> 4\u001b[0;31m \u001b[0mvis\u001b[0m \u001b[0;34m=\u001b[0m \u001b[0mpyLDAvis\u001b[0m\u001b[0;34m.\u001b[0m\u001b[0mgensim_models\u001b[0m\u001b[0;34m.\u001b[0m\u001b[0mprepare\u001b[0m\u001b[0;34m(\u001b[0m\u001b[0mlda_model\u001b[0m\u001b[0;34m,\u001b[0m \u001b[0;34m[\u001b[0m\u001b[0mcorpus_dict\u001b[0m\u001b[0;34m.\u001b[0m\u001b[0mdoc2bow\u001b[0m\u001b[0;34m(\u001b[0m\u001b[0mdoc\u001b[0m\u001b[0;34m)\u001b[0m \u001b[0;32mfor\u001b[0m \u001b[0mdoc\u001b[0m \u001b[0;32min\u001b[0m \u001b[0mcorpus_document_tokens\u001b[0m\u001b[0;34m]\u001b[0m\u001b[0;34m,\u001b[0m \u001b[0mcorpus_dict\u001b[0m\u001b[0;34m)\u001b[0m\u001b[0;34m\u001b[0m\u001b[0;34m\u001b[0m\u001b[0m\n\u001b[0m\u001b[1;32m      5\u001b[0m \u001b[0mvis\u001b[0m\u001b[0;34m\u001b[0m\u001b[0;34m\u001b[0m\u001b[0m\n",
            "\u001b[0;32m/usr/local/lib/python3.7/dist-packages/pyLDAvis/gensim_models.py\u001b[0m in \u001b[0;36mprepare\u001b[0;34m(topic_model, corpus, dictionary, doc_topic_dist, **kwargs)\u001b[0m\n\u001b[1;32m    121\u001b[0m     \"\"\"\n\u001b[1;32m    122\u001b[0m     \u001b[0mopts\u001b[0m \u001b[0;34m=\u001b[0m \u001b[0mfp\u001b[0m\u001b[0;34m.\u001b[0m\u001b[0mmerge\u001b[0m\u001b[0;34m(\u001b[0m\u001b[0m_extract_data\u001b[0m\u001b[0;34m(\u001b[0m\u001b[0mtopic_model\u001b[0m\u001b[0;34m,\u001b[0m \u001b[0mcorpus\u001b[0m\u001b[0;34m,\u001b[0m \u001b[0mdictionary\u001b[0m\u001b[0;34m,\u001b[0m \u001b[0mdoc_topic_dist\u001b[0m\u001b[0;34m)\u001b[0m\u001b[0;34m,\u001b[0m \u001b[0mkwargs\u001b[0m\u001b[0;34m)\u001b[0m\u001b[0;34m\u001b[0m\u001b[0;34m\u001b[0m\u001b[0m\n\u001b[0;32m--> 123\u001b[0;31m     \u001b[0;32mreturn\u001b[0m \u001b[0mpyLDAvis\u001b[0m\u001b[0;34m.\u001b[0m\u001b[0mprepare\u001b[0m\u001b[0;34m(\u001b[0m\u001b[0;34m**\u001b[0m\u001b[0mopts\u001b[0m\u001b[0;34m)\u001b[0m\u001b[0;34m\u001b[0m\u001b[0;34m\u001b[0m\u001b[0m\n\u001b[0m",
            "\u001b[0;32m/usr/local/lib/python3.7/dist-packages/pyLDAvis/_prepare.py\u001b[0m in \u001b[0;36mprepare\u001b[0;34m(topic_term_dists, doc_topic_dists, doc_lengths, vocab, term_frequency, R, lambda_step, mds, n_jobs, plot_opts, sort_topics, start_index)\u001b[0m\n\u001b[1;32m    413\u001b[0m     \u001b[0mdoc_lengths\u001b[0m \u001b[0;34m=\u001b[0m \u001b[0m_series_with_name\u001b[0m\u001b[0;34m(\u001b[0m\u001b[0mdoc_lengths\u001b[0m\u001b[0;34m,\u001b[0m \u001b[0;34m'doc_length'\u001b[0m\u001b[0;34m)\u001b[0m\u001b[0;34m\u001b[0m\u001b[0;34m\u001b[0m\u001b[0m\n\u001b[1;32m    414\u001b[0m     \u001b[0mvocab\u001b[0m \u001b[0;34m=\u001b[0m \u001b[0m_series_with_name\u001b[0m\u001b[0;34m(\u001b[0m\u001b[0mvocab\u001b[0m\u001b[0;34m,\u001b[0m \u001b[0;34m'vocab'\u001b[0m\u001b[0;34m)\u001b[0m\u001b[0;34m\u001b[0m\u001b[0;34m\u001b[0m\u001b[0m\n\u001b[0;32m--> 415\u001b[0;31m     \u001b[0m_input_validate\u001b[0m\u001b[0;34m(\u001b[0m\u001b[0mtopic_term_dists\u001b[0m\u001b[0;34m,\u001b[0m \u001b[0mdoc_topic_dists\u001b[0m\u001b[0;34m,\u001b[0m \u001b[0mdoc_lengths\u001b[0m\u001b[0;34m,\u001b[0m \u001b[0mvocab\u001b[0m\u001b[0;34m,\u001b[0m \u001b[0mterm_frequency\u001b[0m\u001b[0;34m)\u001b[0m\u001b[0;34m\u001b[0m\u001b[0;34m\u001b[0m\u001b[0m\n\u001b[0m\u001b[1;32m    416\u001b[0m     \u001b[0mR\u001b[0m \u001b[0;34m=\u001b[0m \u001b[0mmin\u001b[0m\u001b[0;34m(\u001b[0m\u001b[0mR\u001b[0m\u001b[0;34m,\u001b[0m \u001b[0mlen\u001b[0m\u001b[0;34m(\u001b[0m\u001b[0mvocab\u001b[0m\u001b[0;34m)\u001b[0m\u001b[0;34m)\u001b[0m\u001b[0;34m\u001b[0m\u001b[0;34m\u001b[0m\u001b[0m\n\u001b[1;32m    417\u001b[0m \u001b[0;34m\u001b[0m\u001b[0m\n",
            "\u001b[0;32m/usr/local/lib/python3.7/dist-packages/pyLDAvis/_prepare.py\u001b[0m in \u001b[0;36m_input_validate\u001b[0;34m(*args)\u001b[0m\n\u001b[1;32m     70\u001b[0m \u001b[0;34m\u001b[0m\u001b[0m\n\u001b[1;32m     71\u001b[0m \u001b[0;32mdef\u001b[0m \u001b[0m_input_validate\u001b[0m\u001b[0;34m(\u001b[0m\u001b[0;34m*\u001b[0m\u001b[0margs\u001b[0m\u001b[0;34m)\u001b[0m\u001b[0;34m:\u001b[0m\u001b[0;34m\u001b[0m\u001b[0;34m\u001b[0m\u001b[0m\n\u001b[0;32m---> 72\u001b[0;31m     \u001b[0mres\u001b[0m \u001b[0;34m=\u001b[0m \u001b[0m_input_check\u001b[0m\u001b[0;34m(\u001b[0m\u001b[0;34m*\u001b[0m\u001b[0margs\u001b[0m\u001b[0;34m)\u001b[0m\u001b[0;34m\u001b[0m\u001b[0;34m\u001b[0m\u001b[0m\n\u001b[0m\u001b[1;32m     73\u001b[0m     \u001b[0;32mif\u001b[0m \u001b[0mres\u001b[0m\u001b[0;34m:\u001b[0m\u001b[0;34m\u001b[0m\u001b[0;34m\u001b[0m\u001b[0m\n\u001b[1;32m     74\u001b[0m         \u001b[0;32mraise\u001b[0m \u001b[0mValidationError\u001b[0m\u001b[0;34m(\u001b[0m\u001b[0;34m'\\n'\u001b[0m \u001b[0;34m+\u001b[0m \u001b[0;34m'\\n'\u001b[0m\u001b[0;34m.\u001b[0m\u001b[0mjoin\u001b[0m\u001b[0;34m(\u001b[0m\u001b[0;34m[\u001b[0m\u001b[0;34m' * '\u001b[0m \u001b[0;34m+\u001b[0m \u001b[0ms\u001b[0m \u001b[0;32mfor\u001b[0m \u001b[0ms\u001b[0m \u001b[0;32min\u001b[0m \u001b[0mres\u001b[0m\u001b[0;34m]\u001b[0m\u001b[0;34m)\u001b[0m\u001b[0;34m)\u001b[0m\u001b[0;34m\u001b[0m\u001b[0;34m\u001b[0m\u001b[0m\n",
            "\u001b[0;32m/usr/local/lib/python3.7/dist-packages/pyLDAvis/_prepare.py\u001b[0m in \u001b[0;36m_input_check\u001b[0;34m(topic_term_dists, doc_topic_dists, doc_lengths, vocab, term_frequency)\u001b[0m\n\u001b[1;32m     59\u001b[0m         \u001b[0merr\u001b[0m\u001b[0;34m(\u001b[0m\u001b[0merr_msg\u001b[0m\u001b[0;34m)\u001b[0m\u001b[0;34m\u001b[0m\u001b[0;34m\u001b[0m\u001b[0m\n\u001b[1;32m     60\u001b[0m \u001b[0;34m\u001b[0m\u001b[0m\n\u001b[0;32m---> 61\u001b[0;31m     \u001b[0;32mif\u001b[0m \u001b[0m__num_dist_rows__\u001b[0m\u001b[0;34m(\u001b[0m\u001b[0mtopic_term_dists\u001b[0m\u001b[0;34m)\u001b[0m \u001b[0;34m!=\u001b[0m \u001b[0mttds\u001b[0m\u001b[0;34m[\u001b[0m\u001b[0;36m0\u001b[0m\u001b[0;34m]\u001b[0m\u001b[0;34m:\u001b[0m\u001b[0;34m\u001b[0m\u001b[0;34m\u001b[0m\u001b[0m\n\u001b[0m\u001b[1;32m     62\u001b[0m         \u001b[0merr\u001b[0m\u001b[0;34m(\u001b[0m\u001b[0;34m'Not all rows (distributions) in topic_term_dists sum to 1.'\u001b[0m\u001b[0;34m)\u001b[0m\u001b[0;34m\u001b[0m\u001b[0;34m\u001b[0m\u001b[0m\n\u001b[1;32m     63\u001b[0m \u001b[0;34m\u001b[0m\u001b[0m\n",
            "\u001b[0;32m/usr/local/lib/python3.7/dist-packages/pyLDAvis/_prepare.py\u001b[0m in \u001b[0;36m__num_dist_rows__\u001b[0;34m(array, ndigits)\u001b[0m\n\u001b[1;32m     23\u001b[0m \u001b[0;34m\u001b[0m\u001b[0m\n\u001b[1;32m     24\u001b[0m \u001b[0;32mdef\u001b[0m \u001b[0m__num_dist_rows__\u001b[0m\u001b[0;34m(\u001b[0m\u001b[0marray\u001b[0m\u001b[0;34m,\u001b[0m \u001b[0mndigits\u001b[0m\u001b[0;34m=\u001b[0m\u001b[0;36m2\u001b[0m\u001b[0;34m)\u001b[0m\u001b[0;34m:\u001b[0m\u001b[0;34m\u001b[0m\u001b[0;34m\u001b[0m\u001b[0m\n\u001b[0;32m---> 25\u001b[0;31m     \u001b[0;32mreturn\u001b[0m \u001b[0marray\u001b[0m\u001b[0;34m.\u001b[0m\u001b[0mshape\u001b[0m\u001b[0;34m[\u001b[0m\u001b[0;36m0\u001b[0m\u001b[0;34m]\u001b[0m \u001b[0;34m-\u001b[0m \u001b[0mint\u001b[0m\u001b[0;34m(\u001b[0m\u001b[0;34m(\u001b[0m\u001b[0mpd\u001b[0m\u001b[0;34m.\u001b[0m\u001b[0mDataFrame\u001b[0m\u001b[0;34m(\u001b[0m\u001b[0marray\u001b[0m\u001b[0;34m)\u001b[0m\u001b[0;34m.\u001b[0m\u001b[0msum\u001b[0m\u001b[0;34m(\u001b[0m\u001b[0maxis\u001b[0m\u001b[0;34m=\u001b[0m\u001b[0;36m1\u001b[0m\u001b[0;34m)\u001b[0m \u001b[0;34m<\u001b[0m \u001b[0;36m0.999\u001b[0m\u001b[0;34m)\u001b[0m\u001b[0;34m.\u001b[0m\u001b[0msum\u001b[0m\u001b[0;34m(\u001b[0m\u001b[0;34m)\u001b[0m\u001b[0;34m)\u001b[0m\u001b[0;34m\u001b[0m\u001b[0;34m\u001b[0m\u001b[0m\n\u001b[0m\u001b[1;32m     26\u001b[0m \u001b[0;34m\u001b[0m\u001b[0m\n\u001b[1;32m     27\u001b[0m \u001b[0;34m\u001b[0m\u001b[0m\n",
            "\u001b[0;32m/usr/local/lib/python3.7/dist-packages/pandas/core/ops/common.py\u001b[0m in \u001b[0;36mnew_method\u001b[0;34m(self, other)\u001b[0m\n\u001b[1;32m     63\u001b[0m                     \u001b[0;32mbreak\u001b[0m\u001b[0;34m\u001b[0m\u001b[0;34m\u001b[0m\u001b[0m\n\u001b[1;32m     64\u001b[0m                 \u001b[0;32mif\u001b[0m \u001b[0misinstance\u001b[0m\u001b[0;34m(\u001b[0m\u001b[0mother\u001b[0m\u001b[0;34m,\u001b[0m \u001b[0mcls\u001b[0m\u001b[0;34m)\u001b[0m\u001b[0;34m:\u001b[0m\u001b[0;34m\u001b[0m\u001b[0;34m\u001b[0m\u001b[0m\n\u001b[0;32m---> 65\u001b[0;31m                     \u001b[0;32mreturn\u001b[0m \u001b[0mNotImplemented\u001b[0m\u001b[0;34m\u001b[0m\u001b[0;34m\u001b[0m\u001b[0m\n\u001b[0m\u001b[1;32m     66\u001b[0m \u001b[0;34m\u001b[0m\u001b[0m\n\u001b[1;32m     67\u001b[0m         \u001b[0mother\u001b[0m \u001b[0;34m=\u001b[0m \u001b[0mitem_from_zerodim\u001b[0m\u001b[0;34m(\u001b[0m\u001b[0mother\u001b[0m\u001b[0;34m)\u001b[0m\u001b[0;34m\u001b[0m\u001b[0;34m\u001b[0m\u001b[0m\n",
            "\u001b[0;32m/usr/local/lib/python3.7/dist-packages/pandas/core/ops/__init__.py\u001b[0m in \u001b[0;36mwrapper\u001b[0;34m(self, other)\u001b[0m\n\u001b[1;32m    368\u001b[0m     \u001b[0;31m#  to avoid constructing two potentially large/sparse DataFrames\u001b[0m\u001b[0;34m\u001b[0m\u001b[0;34m\u001b[0m\u001b[0;34m\u001b[0m\u001b[0m\n\u001b[1;32m    369\u001b[0m     join_columns, _, _ = left.columns.join(\n\u001b[0;32m--> 370\u001b[0;31m         \u001b[0mright\u001b[0m\u001b[0;34m.\u001b[0m\u001b[0mcolumns\u001b[0m\u001b[0;34m,\u001b[0m \u001b[0mhow\u001b[0m\u001b[0;34m=\u001b[0m\u001b[0;34m\"outer\"\u001b[0m\u001b[0;34m,\u001b[0m \u001b[0mlevel\u001b[0m\u001b[0;34m=\u001b[0m\u001b[0;32mNone\u001b[0m\u001b[0;34m,\u001b[0m \u001b[0mreturn_indexers\u001b[0m\u001b[0;34m=\u001b[0m\u001b[0;32mTrue\u001b[0m\u001b[0;34m\u001b[0m\u001b[0;34m\u001b[0m\u001b[0m\n\u001b[0m\u001b[1;32m    371\u001b[0m     )\n\u001b[1;32m    372\u001b[0m \u001b[0;34m\u001b[0m\u001b[0m\n",
            "\u001b[0;32m/usr/local/lib/python3.7/dist-packages/pandas/core/ops/array_ops.py\u001b[0m in \u001b[0;36mcomparison_op\u001b[0;34m(left, right, op)\u001b[0m\n\u001b[1;32m    249\u001b[0m     \u001b[0mrvalues\u001b[0m \u001b[0;34m=\u001b[0m \u001b[0mensure_wrapped_if_datetimelike\u001b[0m\u001b[0;34m(\u001b[0m\u001b[0mright\u001b[0m\u001b[0;34m)\u001b[0m\u001b[0;34m\u001b[0m\u001b[0;34m\u001b[0m\u001b[0m\n\u001b[1;32m    250\u001b[0m \u001b[0;34m\u001b[0m\u001b[0m\n\u001b[0;32m--> 251\u001b[0;31m     \u001b[0mrvalues\u001b[0m \u001b[0;34m=\u001b[0m \u001b[0mlib\u001b[0m\u001b[0;34m.\u001b[0m\u001b[0mitem_from_zerodim\u001b[0m\u001b[0;34m(\u001b[0m\u001b[0mrvalues\u001b[0m\u001b[0;34m)\u001b[0m\u001b[0;34m\u001b[0m\u001b[0;34m\u001b[0m\u001b[0m\n\u001b[0m\u001b[1;32m    252\u001b[0m     \u001b[0;32mif\u001b[0m \u001b[0misinstance\u001b[0m\u001b[0;34m(\u001b[0m\u001b[0mrvalues\u001b[0m\u001b[0;34m,\u001b[0m \u001b[0mlist\u001b[0m\u001b[0;34m)\u001b[0m\u001b[0;34m:\u001b[0m\u001b[0;34m\u001b[0m\u001b[0;34m\u001b[0m\u001b[0m\n\u001b[1;32m    253\u001b[0m         \u001b[0;31m# TODO: same for tuples?\u001b[0m\u001b[0;34m\u001b[0m\u001b[0;34m\u001b[0m\u001b[0;34m\u001b[0m\u001b[0m\n",
            "\u001b[0;32m/usr/local/lib/python3.7/dist-packages/pandas/core/ops/array_ops.py\u001b[0m in \u001b[0;36mna_arithmetic_op\u001b[0;34m(left, right, op, is_cmp)\u001b[0m\n\u001b[1;32m    138\u001b[0m \u001b[0;32mdef\u001b[0m \u001b[0m_na_arithmetic_op\u001b[0m\u001b[0;34m(\u001b[0m\u001b[0mleft\u001b[0m\u001b[0;34m,\u001b[0m \u001b[0mright\u001b[0m\u001b[0;34m,\u001b[0m \u001b[0mop\u001b[0m\u001b[0;34m,\u001b[0m \u001b[0mis_cmp\u001b[0m\u001b[0;34m:\u001b[0m \u001b[0mbool\u001b[0m \u001b[0;34m=\u001b[0m \u001b[0;32mFalse\u001b[0m\u001b[0;34m)\u001b[0m\u001b[0;34m:\u001b[0m\u001b[0;34m\u001b[0m\u001b[0;34m\u001b[0m\u001b[0m\n\u001b[1;32m    139\u001b[0m     \"\"\"\n\u001b[0;32m--> 140\u001b[0;31m     \u001b[0mReturn\u001b[0m \u001b[0mthe\u001b[0m \u001b[0mresult\u001b[0m \u001b[0mof\u001b[0m \u001b[0mevaluating\u001b[0m \u001b[0mop\u001b[0m \u001b[0mon\u001b[0m \u001b[0mthe\u001b[0m \u001b[0mpassed\u001b[0m \u001b[0;32min\u001b[0m \u001b[0mvalues\u001b[0m\u001b[0;34m.\u001b[0m\u001b[0;34m\u001b[0m\u001b[0;34m\u001b[0m\u001b[0m\n\u001b[0m\u001b[1;32m    141\u001b[0m \u001b[0;34m\u001b[0m\u001b[0m\n\u001b[1;32m    142\u001b[0m     \u001b[0mIf\u001b[0m \u001b[0mnative\u001b[0m \u001b[0mtypes\u001b[0m \u001b[0mare\u001b[0m \u001b[0;32mnot\u001b[0m \u001b[0mcompatible\u001b[0m\u001b[0;34m,\u001b[0m \u001b[0;32mtry\u001b[0m \u001b[0mcoercion\u001b[0m \u001b[0mto\u001b[0m \u001b[0mobject\u001b[0m \u001b[0mdtype\u001b[0m\u001b[0;34m.\u001b[0m\u001b[0;34m\u001b[0m\u001b[0;34m\u001b[0m\u001b[0m\n",
            "\u001b[0;32m/usr/local/lib/python3.7/dist-packages/pandas/core/computation/expressions.py\u001b[0m in \u001b[0;36m<module>\u001b[0;34m()\u001b[0m\n\u001b[1;32m     17\u001b[0m \u001b[0;32mfrom\u001b[0m \u001b[0mpandas\u001b[0m\u001b[0;34m.\u001b[0m\u001b[0m_typing\u001b[0m \u001b[0;32mimport\u001b[0m \u001b[0mFuncType\u001b[0m\u001b[0;34m\u001b[0m\u001b[0;34m\u001b[0m\u001b[0m\n\u001b[1;32m     18\u001b[0m \u001b[0;34m\u001b[0m\u001b[0m\n\u001b[0;32m---> 19\u001b[0;31m \u001b[0;32mfrom\u001b[0m \u001b[0mpandas\u001b[0m\u001b[0;34m.\u001b[0m\u001b[0mcore\u001b[0m\u001b[0;34m.\u001b[0m\u001b[0mcomputation\u001b[0m\u001b[0;34m.\u001b[0m\u001b[0mcheck\u001b[0m \u001b[0;32mimport\u001b[0m \u001b[0mNUMEXPR_INSTALLED\u001b[0m\u001b[0;34m\u001b[0m\u001b[0;34m\u001b[0m\u001b[0m\n\u001b[0m\u001b[1;32m     20\u001b[0m \u001b[0;32mfrom\u001b[0m \u001b[0mpandas\u001b[0m\u001b[0;34m.\u001b[0m\u001b[0mcore\u001b[0m\u001b[0;34m.\u001b[0m\u001b[0mops\u001b[0m \u001b[0;32mimport\u001b[0m \u001b[0mroperator\u001b[0m\u001b[0;34m\u001b[0m\u001b[0;34m\u001b[0m\u001b[0m\n\u001b[1;32m     21\u001b[0m \u001b[0;34m\u001b[0m\u001b[0m\n",
            "\u001b[0;32m/usr/local/lib/python3.7/dist-packages/pandas/core/computation/check.py\u001b[0m in \u001b[0;36m<module>\u001b[0;34m()\u001b[0m\n\u001b[1;32m      1\u001b[0m \u001b[0;32mfrom\u001b[0m \u001b[0mpandas\u001b[0m\u001b[0;34m.\u001b[0m\u001b[0mcompat\u001b[0m\u001b[0;34m.\u001b[0m\u001b[0m_optional\u001b[0m \u001b[0;32mimport\u001b[0m \u001b[0mimport_optional_dependency\u001b[0m\u001b[0;34m\u001b[0m\u001b[0;34m\u001b[0m\u001b[0m\n\u001b[1;32m      2\u001b[0m \u001b[0;34m\u001b[0m\u001b[0m\n\u001b[0;32m----> 3\u001b[0;31m \u001b[0mne\u001b[0m \u001b[0;34m=\u001b[0m \u001b[0mimport_optional_dependency\u001b[0m\u001b[0;34m(\u001b[0m\u001b[0;34m\"numexpr\"\u001b[0m\u001b[0;34m,\u001b[0m \u001b[0merrors\u001b[0m\u001b[0;34m=\u001b[0m\u001b[0;34m\"warn\"\u001b[0m\u001b[0;34m)\u001b[0m\u001b[0;34m\u001b[0m\u001b[0;34m\u001b[0m\u001b[0m\n\u001b[0m\u001b[1;32m      4\u001b[0m \u001b[0mNUMEXPR_INSTALLED\u001b[0m \u001b[0;34m=\u001b[0m \u001b[0mne\u001b[0m \u001b[0;32mis\u001b[0m \u001b[0;32mnot\u001b[0m \u001b[0;32mNone\u001b[0m\u001b[0;34m\u001b[0m\u001b[0;34m\u001b[0m\u001b[0m\n\u001b[1;32m      5\u001b[0m \u001b[0;32mif\u001b[0m \u001b[0mNUMEXPR_INSTALLED\u001b[0m\u001b[0;34m:\u001b[0m\u001b[0;34m\u001b[0m\u001b[0;34m\u001b[0m\u001b[0m\n",
            "\u001b[0;31mTypeError\u001b[0m: import_optional_dependency() got an unexpected keyword argument 'errors'"
          ]
        }
      ]
    },
    {
      "cell_type": "markdown",
      "metadata": {
        "id": "dSStSggUYej1"
      },
      "source": [
        "## Building LDA Mallet Model\n"
      ]
    },
    {
      "cell_type": "code",
      "metadata": {
        "id": "5szw7dTsYej2"
      },
      "source": [
        "# How to find the optimal number of topics for LDA?\n",
        "def compute_coherence_values(dictionary, corpus, texts, limit, start=1, step=1):\n",
        "    \"\"\"\n",
        "    Compute coherence score for various number of topics\n",
        "\n",
        "    Parameters:\n",
        "    ----------\n",
        "    dictionary : Gensim dictionary\n",
        "    corpus : Gensim corpus\n",
        "    texts : List of input texts\n",
        "    limit : Max num of topics\n",
        "\n",
        "    Returns:\n",
        "    -------\n",
        "    model_list : List of LDA topic models\n",
        "    coherence_values : Coherence values corresponding to the LDA model with respective number of topics\n",
        "    \"\"\"\n",
        "    coherence_values = []\n",
        "    model_list = []\n",
        "    for num_topics in range(start, limit, step):\n",
        "        model = gensim.models.wrappers.LdaMallet(mallet_path, corpus=corpus, num_topics=num_topics, id2word=id2word)\n",
        "        model_list.append(model)\n",
        "        coherencemodel = CoherenceModel(model=model, texts=texts, dictionary=dictionary, coherence='c_v')\n",
        "        coherence_values.append(coherencemodel.get_coherence())\n",
        "\n",
        "    return model_list, coherence_values"
      ],
      "execution_count": null,
      "outputs": []
    },
    {
      "cell_type": "code",
      "metadata": {
        "id": "M6mInBBcYej2"
      },
      "source": [
        "model_list, coherence_values = compute_coherence_values(dictionary=id2word, corpus=corpus, texts=data_lemmatized, start=2, limit=40, step=6)"
      ],
      "execution_count": null,
      "outputs": []
    },
    {
      "cell_type": "code",
      "metadata": {
        "id": "wggV_1V9Yej2"
      },
      "source": [
        "# Show graph\n",
        "limit=40; start=2; step=6;\n",
        "x = range(start, limit, step)\n",
        "plt.plot(x, coherence_values)\n",
        "plt.xlabel(\"Num Topics\")\n",
        "plt.ylabel(\"Coherence score\")\n",
        "plt.legend((\"coherence_values\"), loc='best')\n",
        "plt.show()"
      ],
      "execution_count": null,
      "outputs": []
    },
    {
      "cell_type": "code",
      "metadata": {
        "id": "LDBcTXQnYej2"
      },
      "source": [
        "# Print the coherence scores\n",
        "for m, cv in zip(x, coherence_values):\n",
        "    print(\"Num Topics =\", m, \" has Coherence Value of\", round(cv, 4))"
      ],
      "execution_count": null,
      "outputs": []
    },
    {
      "cell_type": "code",
      "metadata": {
        "id": "l_Ii0BLTYej3"
      },
      "source": [
        "# Select the model and print the topics\n",
        "optimal_model = model_list[5]\n",
        "model_topics = optimal_model.show_topics(formatted=False)\n",
        "pprint(optimal_model.print_topics(num_words=15))"
      ],
      "execution_count": null,
      "outputs": []
    },
    {
      "cell_type": "code",
      "metadata": {
        "id": "AbTiy3AoYej3"
      },
      "source": [
        "print(optimal_model[corpus[1:2]])"
      ],
      "execution_count": null,
      "outputs": []
    },
    {
      "cell_type": "code",
      "metadata": {
        "id": "QvrZWQbMYej4"
      },
      "source": [
        "s = sorted(optimal_model[corpus[1:2]][0], key=lambda x: (x[1]), reverse=True)\n",
        "print(s)"
      ],
      "execution_count": null,
      "outputs": []
    },
    {
      "cell_type": "code",
      "metadata": {
        "id": "06ZVanhqYej4"
      },
      "source": [
        "optimal_model.show_topic(27,topn=15)"
      ],
      "execution_count": null,
      "outputs": []
    },
    {
      "cell_type": "code",
      "metadata": {
        "id": "PRF2_aSWYej4"
      },
      "source": [
        "# Finding the dominant topic in each sentence\n",
        "def format_topics_sentences(ldamodel=lda_model, corpus=corpus, texts=data):\n",
        "    # Init output\n",
        "    sent_topics_df = pd.DataFrame()\n",
        "\n",
        "    # Get main topic in each document\n",
        "    for i, row in enumerate(ldamodel[corpus]):\n",
        "        row = sorted(row, key=lambda x: (x[1]), reverse=True)\n",
        "        # Get the Dominant topic, Perc Contribution and Keywords for each document\n",
        "        for j, (topic_num, prop_topic) in enumerate(row):\n",
        "            if j == 0:  # => dominant topic\n",
        "                wp = ldamodel.show_topic(topic_num)\n",
        "                topic_keywords = \", \".join([word for word, prop in wp])\n",
        "                sent_topics_df = sent_topics_df.append(pd.Series([int(topic_num), round(prop_topic,4), topic_keywords]), ignore_index=True)\n",
        "            else:\n",
        "                break\n",
        "    sent_topics_df.columns = ['Dominant_Topic', 'Perc_Contribution', 'Topic_Keywords']\n",
        "\n",
        "    # Add original text to the end of the output\n",
        "    contents = pd.Series(texts)\n",
        "    sent_topics_df = pd.concat([sent_topics_df, contents], axis=1)\n",
        "    return(sent_topics_df)\n",
        "\n",
        "\n",
        "df_topic_sents_keywords = format_topics_sentences(ldamodel=optimal_model, corpus=corpus, texts=data)\n",
        "\n",
        "# Format\n",
        "df_dominant_topic = df_topic_sents_keywords.reset_index()\n",
        "df_dominant_topic.columns = ['Document_No', 'Dominant_Topic', 'Topic_Perc_Contrib', 'Keywords', 'Text']\n",
        "\n",
        "# Show\n",
        "df_dominant_topic.head(10)"
      ],
      "execution_count": null,
      "outputs": []
    },
    {
      "cell_type": "code",
      "metadata": {
        "id": "nvLwf55QYej5"
      },
      "source": [
        "#Find the most representative document for each topic\n",
        "# Group top 5 sentences under each topic\n",
        "sent_topics_sorteddf_mallet = pd.DataFrame()\n",
        "\n",
        "sent_topics_outdf_grpd = df_topic_sents_keywords.groupby('Dominant_Topic')\n",
        "\n",
        "for i, grp in sent_topics_outdf_grpd:\n",
        "    sent_topics_sorteddf_mallet = pd.concat([sent_topics_sorteddf_mallet, \n",
        "                                             grp.sort_values(['Perc_Contribution'], ascending=[0]).head(1)], \n",
        "                                            axis=0)\n",
        "\n",
        "# Reset Index    \n",
        "sent_topics_sorteddf_mallet.reset_index(drop=True, inplace=True)\n",
        "\n",
        "# Format\n",
        "sent_topics_sorteddf_mallet.columns = ['Topic_Num', \"Topic_Perc_Contrib\", \"Keywords\", \"Text\"]\n",
        "\n",
        "# Show\n",
        "sent_topics_sorteddf_mallet.head()"
      ],
      "execution_count": null,
      "outputs": []
    },
    {
      "cell_type": "code",
      "metadata": {
        "id": "aDrClgbwYej5"
      },
      "source": [
        "# Topic distribution across documents\n",
        "# Number of Documents for Each Topic\n",
        "topic_counts = df_topic_sents_keywords['Dominant_Topic'].value_counts()\n",
        "\n",
        "# Percentage of Documents for Each Topic\n",
        "topic_contribution = round(topic_counts/topic_counts.sum(), 4)\n",
        "\n",
        "# Topic Number and Keywords\n",
        "topic_num_keywords = df_topic_sents_keywords[['Dominant_Topic', 'Topic_Keywords']]\n",
        "\n",
        "# Concatenate Column wise\n",
        "df_dominant_topics = pd.concat([topic_num_keywords, topic_counts, topic_contribution], axis=1)\n",
        "\n",
        "# Change Column names\n",
        "df_dominant_topics.columns = ['Dominant_Topic', 'Topic_Keywords', 'Num_Documents', 'Perc_Documents']\n",
        "\n",
        "# Show\n",
        "df_dominant_topics"
      ],
      "execution_count": null,
      "outputs": []
    }
  ]
}