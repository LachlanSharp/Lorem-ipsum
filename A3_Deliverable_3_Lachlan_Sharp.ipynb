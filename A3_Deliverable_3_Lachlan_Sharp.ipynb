{
  "nbformat": 4,
  "nbformat_minor": 0,
  "metadata": {
    "kernelspec": {
      "display_name": "Python 3",
      "language": "python",
      "name": "python3"
    },
    "language_info": {
      "codemirror_mode": {
        "name": "ipython",
        "version": 3
      },
      "file_extension": ".py",
      "mimetype": "text/x-python",
      "name": "python",
      "nbconvert_exporter": "python",
      "pygments_lexer": "ipython3",
      "version": "3.7.3"
    },
    "colab": {
      "name": "A3_Deliverable_3_Lachlan_Sharp.ipynb",
      "provenance": [],
      "collapsed_sections": [],
      "include_colab_link": true
    }
  },
  "cells": [
    {
      "cell_type": "markdown",
      "metadata": {
        "id": "view-in-github",
        "colab_type": "text"
      },
      "source": [
        "<a href=\"https://colab.research.google.com/github/LachlanSharp/Lorem-ipsum/blob/main/A3_Deliverable_3_Lachlan_Sharp.ipynb\" target=\"_parent\"><img src=\"https://colab.research.google.com/assets/colab-badge.svg\" alt=\"Open In Colab\"/></a>"
      ]
    },
    {
      "cell_type": "markdown",
      "metadata": {
        "id": "g1wmZs7Xhb8p"
      },
      "source": [
        "# MA5851 - Assessment 3: WebCrawler and NLP System\n",
        "\n",
        "---\n",
        "\n",
        "* **Task 3**: NLP Tasks\n",
        "* **Author**: Lachlan Sharp\n",
        "* **Due Date**: 2021-12-08\n",
        "\n",
        "The following was the thried deliverable for the WebCrawler and NLP System, outlining the NLP component.\n",
        "\n",
        "* *Note*: due to issues encountered rendering the notebook to a PDF files, images have been included twice: one to support the PDF render, and the other to support notebook (.ipynb) and HTML.\n",
        "\n",
        "Artefacts of this project were published on GitHub: https://github.com/LachlanSharp/Lorem-ipsum.git \n",
        "\n",
        "---\n",
        "\n"
      ]
    },
    {
      "cell_type": "markdown",
      "metadata": {
        "id": "8TbGkePqFbY5"
      },
      "source": [
        "# NLP System"
      ]
    },
    {
      "cell_type": "markdown",
      "metadata": {
        "id": "uKFr2MaT4Qke"
      },
      "source": [
        "## Rationale for NLP system"
      ]
    },
    {
      "cell_type": "markdown",
      "metadata": {
        "id": "VWyhu8ZA4U2q"
      },
      "source": [
        "There have been numerous studies of ‘topic modelling’ in human healthcare (Prasad et al, 2021, and Valdez et al, 2021), as well as sentiment analysis (Zunic et al, 2020). However, little equivalent was found for animal health. \n",
        "\n",
        "As summarised by Valdez et al (2021), topic modelling has been applied to “identify salient themes found in large quantities of otherwise unstructured, nonnumeric data” (pp. 311). It has been utilised in the promotion of health education, and to track the development of “linguistic framing/word choice” over time within scientific fields.\n",
        "\n",
        "Topic modelling has also been used to examine health concerns expressed on social media, such as “mental-well being during the COVID-19 pandemic” (Valdez et al, 2021, pp.311) and the influenza virus via Twitter. The *Horse Health* forum conceptually represents a similar data source for horse health issues as Twitter has for humans.\n",
        "\n",
        "Sentiment analysis has been applied to the human perception of animal welfare (Dalla Costa et al, 2019), and the perception of veterinarians (Widmar, 2020). Yet nothing was found that applied sentiment analysis directly to animal health issues.\n",
        "\n",
        "Hence this project attempts to broaden knowledge around horse health, by investigating the open question of whether the application of natural language processing (NLP) techniques provides any insights or opportunities for further study. This project implemented the following NLP system on posts from the *Horse Health* forum:\n",
        "\n",
        "* Pre-processing of the data sourced from the WebCrawler.\n",
        "* Topic modelling of each thread within the forum, utilising Latent Dirichlet Allocation (LDA) via the `genism` library.\n",
        "* Sentiment analysis was applied to each thread using 'VADER', then aggregated with the labels applied during topic modelling.\n"
      ]
    },
    {
      "cell_type": "markdown",
      "metadata": {
        "id": "RLeR2qAu4uMQ"
      },
      "source": [
        "## Data pre-processing"
      ]
    },
    {
      "cell_type": "markdown",
      "metadata": {
        "id": "gsB9qGW34xgB"
      },
      "source": [
        "### Combining the datasets"
      ]
    },
    {
      "cell_type": "markdown",
      "metadata": {
        "id": "wgdd7o1646LE"
      },
      "source": [
        "There were three datasets resulting from the WebCrawler that needed to be consolidated:\n",
        "\n",
        "1. ***Forum-threads*** (20,954 rows × 10 columns)\n",
        "2. ***Thread-pages*** (24,627 rows × 3 columns)\n",
        "3. ***Thread-posts*** (232,763 rows × 11 columns)\n",
        "\n",
        "The initial wrangling steps were as follows:\n",
        "\n",
        "* As a convenience and to aid understanding, features in the *forum-thread* dataset were renamed from “item_” to “thread_”.\n",
        "* The participant count for each thread was aggregated from the *thread-pages* dataset and joined to the *forum-thread* dataset.\n",
        "* The *thread-posts* needed to be consolidated into a single document per thread.\n"
      ]
    },
    {
      "cell_type": "markdown",
      "metadata": {
        "id": "Cycj2t7i47AJ"
      },
      "source": [
        "### Consolidating the thread corpus"
      ]
    },
    {
      "cell_type": "markdown",
      "metadata": {
        "id": "wYMu8Ry_5yXL"
      },
      "source": [
        "Each thread consisted of multiple posts, where each unique post was its own observation. For topic modelling, the posts of each thread needed to be combined to create one \"document\" per thread. The wrangling steps were as follows:\n",
        "\n",
        "1. Coalesce `NaN` values in the `post_text` feature to empty strings.\n",
        "2. Group the dataset to produce a list of all posts for a given thread.\n",
        "3. Concatenate the list of posts into a single document (string).\n",
        "4. Combine the thread's title into the thread's document\n",
        "\n",
        "Note that a post could be without any message text in circumstances where a user only posted an image (i.e., a picture of a horse). An example of such a post was provided via the following URL:\n",
        "\n",
        "* https://www.horseforum.com/threads/putting-weight-on-an-older-horse.495553/#post-6402881 \n",
        "\n"
      ]
    },
    {
      "cell_type": "markdown",
      "metadata": {
        "id": "g2BuoIPI5-Rh"
      },
      "source": [
        "### Pre-processing"
      ]
    },
    {
      "cell_type": "markdown",
      "metadata": {
        "id": "CtsBhVJt6AJm"
      },
      "source": [
        "Having consolidated the dataset, the corpus required further pre-processing. The following common cleaning tasks were performed:\n",
        "\n",
        "* Removal of website URLs:\n",
        "    + Total URLs found: 5,760\n",
        "    + Unique URLs found: 4,531\n",
        "    + Unique domains found: 1,716\n",
        "* Removal of email addresses:\n",
        "    + No email addresses were found.\n",
        "* Removal of rogue HTML tags:\n",
        "    + Two (2) HTML tags were found.\n",
        "* Character encoding:\n",
        "    + Conversion of Unicode characters to ASCII (using the `unidecode` library).\n",
        "    + Un-escaping HTML escape characters using the `html` library.\n",
        "* Replacement of new-line characters, “words” made up entirely of digits, and excess whitespace.\n",
        "\n",
        "Note that for sentiment analysis, it was pertinent to keep character casing “as-is”, as was the retention of punctuation. This was because, by example, “AWESOME!!!” would carry a heavier emphasis of sentiment than “awesome”.\n",
        "However, for topic modelling the following additional pre-processing steps were performed (that were not applied for sentiment analysis):\n",
        "\n",
        "* Converting the corpus to lower character case.\n",
        "* Removal of punctuation and other non-word characters.\n",
        "* Removal of stopwords.\n",
        "* Lemmatization (using `WordNetLemmatizer()` from the `nltk` library).\n",
        "* Retention of the following part-of-speech (POS) tags:\n",
        "    + Nouns\n",
        "    + Adjectives\n",
        "    + Verbs\n",
        "    + Adverbs\n",
        "* Formation of bigrams.\n",
        "* Term weights were calculated as term frequency-inverse document frequency (TF-IDF).\n",
        "\n",
        "A plot of word-frequency after the removal of stopwords, POS tags, and lemmatization was included as Figure 1.\n"
      ]
    },
    {
      "cell_type": "markdown",
      "metadata": {
        "id": "HDacoBTSovG2"
      },
      "source": [
        "---\n",
        "\n",
        "#### Figure 1: Word-Frequency"
      ]
    },
    {
      "cell_type": "markdown",
      "metadata": {
        "id": "xVLsw1gvZvj-"
      },
      "source": [
        "![Fig. 1: Word-Frequency](lemmatized_word_freq.png)"
      ]
    },
    {
      "cell_type": "code",
      "metadata": {
        "colab": {
          "base_uri": "https://localhost:8080/",
          "height": 823
        },
        "id": "DReC04ikgpOp",
        "outputId": "002dd095-0d5c-45dc-c461-9b91d98f4e79"
      },
      "source": [
        "%%html\n",
        "<img src='https://drive.google.com/uc?export=view&id=1R8U3zW_cLgwIY0NPJbgNYIHpKUqGtSoM' alt=\"word-frquency\" width=\"700\"/>"
      ],
      "execution_count": 40,
      "outputs": [
        {
          "output_type": "display_data",
          "data": {
            "text/html": [
              "<img src='https://drive.google.com/uc?export=view&id=1R8U3zW_cLgwIY0NPJbgNYIHpKUqGtSoM' alt=\"horse-health forum\" width=\"700\"/>"
            ],
            "text/plain": [
              "<IPython.core.display.HTML object>"
            ]
          },
          "metadata": {}
        }
      ]
    },
    {
      "cell_type": "markdown",
      "metadata": {
        "id": "1Xgn0-Bj9VSv"
      },
      "source": [
        "---"
      ]
    },
    {
      "cell_type": "markdown",
      "metadata": {
        "id": "gnMbbfi8luSa"
      },
      "source": [
        "## Hyperparameter selection"
      ]
    },
    {
      "cell_type": "markdown",
      "metadata": {
        "id": "IEln5jb57qPZ"
      },
      "source": [
        "There were three aspects to the NLP system for which hyperparameters needed to be selected:\n",
        "\n",
        "* The formation of bigrams.\n",
        "* The filtering of “extreme” terms within the corpus.\n",
        "* Parameters of the LDA topic model.\n"
      ]
    },
    {
      "cell_type": "markdown",
      "metadata": {
        "id": "hFjTqzS_70n7"
      },
      "source": [
        "### Bigrams"
      ]
    },
    {
      "cell_type": "markdown",
      "metadata": {
        "id": "3Gczi-m472di"
      },
      "source": [
        "For inclusion in the topic modelling analysis, it was nominated that a bigram needed to occur a minimum of five times within the corpus and overcome a “threshold score” of 100 (where higher thresholds results in fewer phrases).\n",
        "\n",
        "There was no strong rationale for these choices over other values, though it was noted that at least six bigrams were in the “top 10: keywords in modelled topics (refer Appenidx, section 'Bigrams'):\n",
        "\n",
        "* beet_pulp\n",
        "* wolf_teeth\n",
        "* equine_dentist\n",
        "* proud_flesh\n",
        "* rice_bran\n",
        "* rain_rot\n",
        "\n",
        "It was an area of modelling that would benefit from further trialling of values.\n"
      ]
    },
    {
      "cell_type": "markdown",
      "metadata": {
        "id": "_-RrSizo8EhI"
      },
      "source": [
        "### Term threshold"
      ]
    },
    {
      "cell_type": "markdown",
      "metadata": {
        "id": "kPzlj9N18DM4"
      },
      "source": [
        "Extreme terms were filtered from the analysis as follows:\n",
        "\n",
        "* A term needed to appear a minimum of 100 times to be retained.\n",
        "* A term could not appear in more than 75% of documents to be retained.\n",
        "* A maximum of 150,000 terms were kept.\n",
        "* The impact of changing these values required further assessment but was not conducted as part of this project. \n"
      ]
    },
    {
      "cell_type": "markdown",
      "metadata": {
        "id": "0oNCnTCq8UYu"
      },
      "source": [
        "### LDA model"
      ]
    },
    {
      "cell_type": "markdown",
      "metadata": {
        "id": "Bz87eIw-8XAS"
      },
      "source": [
        "The LDA model had two hyperparameters of note, only one of which was tuned as part of this project:\n",
        "The LDA model had two hyperparameters of note, only one of which was tuned.\n",
        "\n",
        "* `passes`: Controls the number of passes through the corpus during training. The larger the corpus, the fewer passes required. For the size of this project’s corpus, two passes were deemed sufficient.\n",
        "* `num_topics`: the number of topics to be modelled. This parameter was tuned by the project.\n",
        "\n",
        "As shown in Figure 2, a range of topic numbers were trialled. Based on the resulting coherence score, **16 topics** was chosen as the **best model**. Hyper-tuning took approximately 1 hour with 4 workers (CPUs).\n"
      ]
    },
    {
      "cell_type": "markdown",
      "metadata": {
        "id": "naqPd7lu8xWA"
      },
      "source": [
        "---\n",
        "\n",
        "#### Figure 2: LDA Hyper-tuning"
      ]
    },
    {
      "cell_type": "markdown",
      "metadata": {
        "id": "wM3xB0rQ8xWB"
      },
      "source": [
        "![Fig. 2: LDA Hyper-tuning](LDA_hypertune.png)"
      ]
    },
    {
      "cell_type": "code",
      "metadata": {
        "colab": {
          "base_uri": "https://localhost:8080/",
          "height": 411
        },
        "id": "5v8WU0yj8xWC",
        "outputId": "4d5563d4-5ff9-4758-e12c-19d1145b2cf2"
      },
      "source": [
        "%%html\n",
        "<img src='https://drive.google.com/uc?export=view&id=1wR0tGyeYRGGCTm_dBGRiKEyzKoSKwC6G' alt=\"LDA Hyper-tuning\" width=\"600\"/>"
      ],
      "execution_count": 42,
      "outputs": [
        {
          "output_type": "display_data",
          "data": {
            "text/html": [
              "<img src='https://drive.google.com/uc?export=view&id=1wR0tGyeYRGGCTm_dBGRiKEyzKoSKwC6G' alt=\"horse-health forum\" width=\"600\"/>"
            ],
            "text/plain": [
              "<IPython.core.display.HTML object>"
            ]
          },
          "metadata": {}
        }
      ]
    },
    {
      "cell_type": "markdown",
      "metadata": {
        "id": "kof5T6_XMb8K"
      },
      "source": [
        "| Topic Number | Coherence |\n",
        "|:------------:|:---------:|\n",
        "|       4      | 0.5218    |\n",
        "|       6      | 0.4829    |\n",
        "|       8      | 0.5259    |\n",
        "|      10      | 0.4657    |\n",
        "|      12      | 0.464     |\n",
        "|      14      | 0.522     |\n",
        "|      16      | 0.5448    |\n",
        "|      18      | 0.4926    |\n",
        "|      20      | 0.517     |\n",
        "|      22      | 0.4979    |\n",
        "|      24      | 0.4563    |"
      ]
    },
    {
      "cell_type": "markdown",
      "metadata": {
        "id": "Hp4qXqt08wh3"
      },
      "source": [
        "---"
      ]
    },
    {
      "cell_type": "markdown",
      "metadata": {
        "id": "gmo6oaaT9Zgj"
      },
      "source": [
        "## Preliminary assessment of performance"
      ]
    },
    {
      "cell_type": "markdown",
      "metadata": {
        "id": "YhixcVUr9hYj"
      },
      "source": [
        "### Topic Modelling"
      ]
    },
    {
      "cell_type": "markdown",
      "metadata": {
        "id": "4RcYTHAE9j2q"
      },
      "source": [
        "Topic modelling of the *Horse Health* forum was performed via Latent Dirichlet Allocation (LDA) using the `genism` library. The “best” 16-topic model had a coherence score ($C\\_v$) of 0.5448. The top 10 keywords from each of its topics were tabled below, and the distribution of the “primary” and “secondary” dominant topics across threads was shown in Figure 3. The most frequently occurring health topics were *Topic Id* ‘12’, followed by *Topic Id* ‘0’."
      ]
    },
    {
      "cell_type": "markdown",
      "metadata": {
        "id": "FoXpsj6GDUjX"
      },
      "source": [
        "| Topic Id |  Word01  |   Word02  |   Word03   |  Word04  |    Word05   |  ...  |\n",
        "|:--------:|:--------:|:---------:|:----------:|:--------:|:-----------:|:-----:|\n",
        "|     0    |   feed   |    hay    | supplement |  weight  |    grain    |  ...  |\n",
        "|     1    |   teeth  |  dentist  | wolf_teeth |   mouth  |    tooth    |  ...  |\n",
        "|     2    |  farrier |    hoof   |    shoe    |   foot   |     vet     |  ...  |\n",
        "|     3    |    hay   |   grass   |    feed    |  weight  |   alfalfa   |  ...  |\n",
        "|     4    |   hoof   |    shoe   |   farrier  |   foot   |    thrush   |  ...  |\n",
        "|     5    | cribbing |    crib   |   muscle   |  weight  |   blanket   |  ...  |\n",
        "|     6    |   worm   |  vaccine  |  deworming | parasite |    wormer   |  ...  |\n",
        "|     7    |   duck   | insurance |    hoof    |   foot   |   farrier   |  ...  |\n",
        "|     8    |    leg   |    shoe   |    hoof    |    vet   |     sway    |  ...  |\n",
        "|     9    |  saddle  |    hair   |    skin    |   tail   |   vaccine   |  ...  |\n",
        "|    10    |   wound  |    leg    |    clean   |  sheath  | proud_flesh |  ...  |\n",
        "|    11    |   feed   |    hay    |     oil    |  weight  |    ulcer    |  ...  |\n",
        "|    12    |    vet   |    eye    |     leg    |   water  |    colic    |  ...  |\n",
        "|    13    |    leg   |    lame   |    joint   | lameness |  arthritis  |  ...  |\n",
        "|    14    |    fly   |  blanket  |    spray   |   skin   |     eye     |  ...  |\n",
        "|    15    |    eye   |    worm   |     vet    |   sweat  |     hay     |  ...  |"
      ]
    },
    {
      "cell_type": "markdown",
      "metadata": {
        "id": "5dGmwdavEIAa"
      },
      "source": [
        "| ...  |   Word06   |     Word07     |  Word08  |  Word09 |   Word10  | Topic Id |\n",
        "|:----:|:----------:|:--------------:|:--------:|:-------:|:---------:|:--------:|\n",
        "| ...  |   alfalfa  |    beet_pulp   |  feeding |  pellet |   ulcer   |     0    |\n",
        "| ...  |  sedation  | equine_dentist |   float  |  canine |   dental  |     1    |\n",
        "| ...  |   animal   |     people     |   owner  |   care  |    feed   |     2    |\n",
        "| ...  |   pasture  |      bale      |   grain  | feeding |    eat    |     3    |\n",
        "| ...  |    trim    |    barefoot    |   frog   |   boot  |    heel   |     4    |\n",
        "| ...  |    foal    |      mare      |  collar  |  teeth  |   winter  |     5    |\n",
        "| ...  | ivermectin |     worming    |   shot   |  rabies |  coggins  |     6    |\n",
        "| ...  |     leg    |      shoe      |    vet   |   heel  |   injury  |     7    |\n",
        "| ...  |    back    |     saddle     |    hay   |   foot  |    tail   |     8    |\n",
        "| ...  |     fly    |       ear      |   mane   |  louse  |    vet    |     9    |\n",
        "| ...h |     cut    |      water     |   wrap   |   skin  |    vet    |     10   |\n",
        "| ...  | supplement |       fat      |  alfalfa |   cup   | rice_bran |     11   |\n",
        "| ...  |    call    |      mare      | swelling |   back  |   stall   |     12   |\n",
        "| ...  |    hock    |       vet      |  injury  |  stifle |    foot   |     13   |\n",
        "| ...  |    hair    |    rain_rot    |   tick   |  cough  |    cold   |     14   |\n",
        "| ...  |  sweating  |      wound     |   feed   |   fly   |    look   |     15   |"
      ]
    },
    {
      "cell_type": "markdown",
      "metadata": {
        "id": "MAP_mayI7j5E"
      },
      "source": [
        "<div style=\"page-break-after: always;\"></div>"
      ]
    },
    {
      "cell_type": "markdown",
      "metadata": {
        "id": "Uys7ie-b91QT"
      },
      "source": [
        "---\n",
        "\n",
        "#### Figure 3: Topic Label Frequency"
      ]
    },
    {
      "cell_type": "markdown",
      "metadata": {
        "id": "gDqtpUcC91QU"
      },
      "source": [
        "![Fig. 3: Topic Label Frequency](topic_freq.png)"
      ]
    },
    {
      "cell_type": "code",
      "metadata": {
        "colab": {
          "base_uri": "https://localhost:8080/",
          "height": 637
        },
        "id": "H2JjBV4J91QU",
        "outputId": "9eb4c187-b984-442f-a2ba-5c84aa1cc23f"
      },
      "source": [
        "%%html\n",
        "<img src='https://drive.google.com/uc?export=view&id=1bmLF81LmdHbGMbxUm3GiKgoQ5FLE95g0' alt=\"Topic Label Frequency\" width=\"1200\"/>"
      ],
      "execution_count": 44,
      "outputs": [
        {
          "output_type": "display_data",
          "data": {
            "text/html": [
              "<img src='https://drive.google.com/uc?export=view&id=1bmLF81LmdHbGMbxUm3GiKgoQ5FLE95g0' alt=\"Topic Label Frequency\" width=\"1200\"/>"
            ],
            "text/plain": [
              "<IPython.core.display.HTML object>"
            ]
          },
          "metadata": {}
        }
      ]
    },
    {
      "cell_type": "markdown",
      "metadata": {
        "id": "Wq5lksWa91QU"
      },
      "source": [
        "---"
      ]
    },
    {
      "cell_type": "markdown",
      "metadata": {
        "id": "Totqi_pf90Na"
      },
      "source": [
        "The coherence measure expresses how much the topics “overlap” each other, with higher scores indicating more distinguishable topics. A coherence score of 0.5448 indicated significant overlap of topic. This was visible from the topic keywords tabulated above. By visual inspection it was noted:\n",
        "\n",
        "* Topic ‘0’ and topic ‘11’ both related to “feed” and “ulcers”.\n",
        "* Topics ‘6’ and ‘15’ both relate to worming.\n",
        "* Multiple topics related to ‘feed’.\n",
        "* Multiple topics related to ‘feet’.\n",
        "\n",
        "Additionally, it was noted that lemmatization was poorly performed within this project, though this was sometimes due to bigrams. Several (non-exhaustive) examples were provided below—any extension of this project’s work should prioritise this lemmatization issue:\n",
        "\n",
        "* Topic ‘1’ includes the following related words:\n",
        "    + ‘teeth’, ‘tooth’, ‘wolf_teeth’.\n",
        "    + ‘dentist’, ‘dental’, equine_dentist’.\n",
        "* Topic ‘5’ includes the following related words:\n",
        "    + ‘crib’, ‘cribbing’.\n",
        "* Topic ‘6’ includes the following related words:\n",
        "    + ‘worm’, ‘deworming’, ‘wormer’, ‘worming’.\n",
        "\n",
        "In comparison of this project to the study of Prasad et al, 2021, the following observations were made:\n",
        "\n",
        "* The study of Prasad et al considered topic modelling of (human) health, but utilised “labelled” data (of prior studies) sourced from social media platform, ‘Twitter’.\n",
        "* While LDA was utilised by Prasad et al, rather than determining the optimal number of topics via a given model, their study assessed the performance of different models for a pre-set number of topics (i.e., 2 thru 20 topics). By comparison, this project’s “best-model” of 16 topics was within that range.\n",
        "* The dataset utilised by Prasad et al was comprised of “millions of tweets”, where a tweet has a maximum of 280 characters. By comparison, the average character length for a “post” for this project was 549 characters, and the average length of a thread was 6,137 characters. This would be equivalent to approximately 500,000 (half a million) tweets. Hence the datasets were of a similar magnitude.\n",
        "* While this project used *coherence* as the model’s performance metric, Prasad et al utilised *precision*, *recall*, and *F-score*.\n"
      ]
    },
    {
      "cell_type": "markdown",
      "metadata": {
        "id": "LL5Xtb1E_GPY"
      },
      "source": [
        "### Sentiment Analysis"
      ]
    },
    {
      "cell_type": "markdown",
      "metadata": {
        "id": "_tymrRV6_IdH"
      },
      "source": [
        "Sentiment analysis was applied to each thread of the forum using 'VADER' (via the `nltk` library), then summarised with the topic labels applied during topic modelling. The “compound metric” from VADER was converted into a categorical variable for sentiment, based on the nominated criteria:\n",
        "\n",
        "```\n",
        "if compound >= 0.05 then: 'positive'\n",
        "else if compound <= -0.05 then: 'negative'\n",
        "else: 'neutral'\n",
        "```\n",
        "\n",
        "Figure 4 showed the overall distribution of sentiment on the *Horse Health* forum, where as Figure 5 showed the relative proportion of sentiments within any given topic. Overall, *positive* sentiment was significantly higher than *negative*, even within a topic. Due to the “tight” bounds place around *neutral* sentiment, it unsurprisingly contributed the lowest proportion.\n",
        "\n",
        "An impetus for this project was to investigate whether any health topic was dominated by negative sentiment, as a reflection of severity of symptoms or outcomes. This did not appear to be the case, and it was surmised sentiment better reflected the good-will and gratitude of the Horse Forum community.\n",
        "\n"
      ]
    },
    {
      "cell_type": "markdown",
      "metadata": {
        "id": "pPpIx7K7_lFW"
      },
      "source": [
        "### Aggregation of sentiment"
      ]
    },
    {
      "cell_type": "markdown",
      "metadata": {
        "id": "3Q7lDS-m_lkl"
      },
      "source": [
        "One aspect of sentiment analysis that this project was unable to develop was how sentiment should be aggregated. Summing the sentiments of multiple Twitter tweets, with their maximum 280 characters, might be appropriate. However, the thread “documents” of this project were significantly longer.\n",
        "\n",
        "It was reasoned that if a *thread* had two posts, one “positive” and one “negative”, this dichotomy would be lost if they were aggregated (as by this project) to cancel each other out as “neutral”. Hence a better approach may have been to determine the sentiment for each post individually. Yet there still would have been a need to normalize sentiment over so many posts, where a *positive*-post with 10 characters may not be viewed equivalent to a *positive*-post with 1000 characters.\n",
        "\n",
        "Furthermore, the dataset also included user reactions (i.e., “Likes”) for each post. How this feature should be aggregated with the sentiment analysis was beyond the scope of this project. \n",
        "\n",
        "It was also noted in the sourcing of this dataset via the WebCrawler, that only examples of a “Like” react were observed, but no “Dislikes”. Hence it was possible that either the WebCrawler failed to scrape “Dislikes”, or that “Dislikes” were not possible within the forum. The semantics is important as it could change the interpretation of a “Like” from a straightforward “positive” sentiment adder to a weight or emphasis to the sentiment of the post—for example, “Likes” of a negative-sentiment post would add weight to that negative sentiment."
      ]
    },
    {
      "cell_type": "markdown",
      "metadata": {
        "id": "rVq8KH_mAFxr"
      },
      "source": [
        "---\n",
        "\n",
        "#### Figure 4: Overall forum sentiment"
      ]
    },
    {
      "cell_type": "markdown",
      "metadata": {
        "id": "5JXfEscTAFxs"
      },
      "source": [
        "![Fig. 4: Overall forum sentiment](forum_sentiment.png)"
      ]
    },
    {
      "cell_type": "code",
      "metadata": {
        "colab": {
          "base_uri": "https://localhost:8080/",
          "height": 560
        },
        "id": "0cSXBtyeAFxs",
        "outputId": "abeefa6f-ca91-461e-ac80-4702c6dd2e17"
      },
      "source": [
        "%%html\n",
        "<img src='https://drive.google.com/uc?export=view&id=1o9uipKH-NFNJ6MkXQaas77XBcvkcRvi7' alt=\"Overall forum sentiment\" width=\"700\"/>"
      ],
      "execution_count": 46,
      "outputs": [
        {
          "output_type": "display_data",
          "data": {
            "text/html": [
              "<img src='https://drive.google.com/uc?export=view&id=1o9uipKH-NFNJ6MkXQaas77XBcvkcRvi7' alt=\"Overall forum sentiment\" width=\"700\"/>"
            ],
            "text/plain": [
              "<IPython.core.display.HTML object>"
            ]
          },
          "metadata": {}
        }
      ]
    },
    {
      "cell_type": "markdown",
      "metadata": {
        "id": "_9RJH916AtkK"
      },
      "source": [
        "---\n",
        "\n",
        "#### Figure 5: Relative sentiment proportion per topic"
      ]
    },
    {
      "cell_type": "markdown",
      "metadata": {
        "id": "igY6z0daAtkK"
      },
      "source": [
        "![Fig. 5: Relative sentiment proportion per topic](topic_sentiment2.png)"
      ]
    },
    {
      "cell_type": "code",
      "metadata": {
        "colab": {
          "base_uri": "https://localhost:8080/",
          "height": 1000
        },
        "id": "He7sSMV9AtkK",
        "outputId": "3f494703-f935-4d87-fb3c-6938efabf142"
      },
      "source": [
        "%%html\n",
        "<img src='https://drive.google.com/uc?export=view&id=1GuemhaO595oodzHzmVGvtobnqfjfAlhg' alt=\"Relative sentiment proportion per topict\" width=\"450\"/>"
      ],
      "execution_count": 48,
      "outputs": [
        {
          "output_type": "display_data",
          "data": {
            "text/html": [
              "<img src='https://drive.google.com/uc?export=view&id=1GuemhaO595oodzHzmVGvtobnqfjfAlhg' alt=\"Relative sentiment proportion per topict\" width=\"450\"/>"
            ],
            "text/plain": [
              "<IPython.core.display.HTML object>"
            ]
          },
          "metadata": {}
        }
      ]
    },
    {
      "cell_type": "markdown",
      "metadata": {
        "id": "yQMno9agPJ-P"
      },
      "source": [
        "# References"
      ]
    },
    {
      "cell_type": "markdown",
      "metadata": {
        "id": "cDQ60_Z8sMZ9"
      },
      "source": [
        "Dalla Costa, E., Tranquillo, V., Dai, F., Minero, M., Battini, M., Mattiello, S., Barbieri, S., Ferrante, V., Ferrari, L., Zanella, A., & Canali, E. (2019). Text mining analysis to evaluate stakeholders’ perception regarding welfare of equines, small ruminants, and turkeys. *Animals*, 9(5). https://doi.org/10.3390/ani9050225 \n",
        "\n",
        "Prasad, K., Mohammed, M., & Noorullah, R. M. (2021). Visual topic models for healthcare data clustering. *Evolutionary Intelligence*, 14. https://doi.org/10.1007/s12065-019-00300-y \n",
        "\n",
        "Valdez, D., Picket, A. C., Young, B.-R., & Golden, S. (2021). On mining words: The utility of topic models in health education research and practice. *Health Promotion Practice*, 22(3), 309–312. https://doi.org/10.1177/1524839921999050 \n",
        "\n",
        "Widmar, N., Bir, C., Lai, J., & Wolf, C. (2020). Public Perceptions of Veterinarians from Social and Online Media Listening. *Veterinary sciences*, 7(2), 75. https://doi.org/10.3390/vetsci7020075\n",
        "\n",
        "Zunic, A., Corcoran, P., & Spasic, I. (2020). Sentiment analysis in health and well-being: Systematic review. *JMIR Med Inform*, 8(1), e16023. https://doi.org/10.2196/16023 \n"
      ]
    },
    {
      "cell_type": "markdown",
      "metadata": {
        "id": "SDZ8IUUzDFD_"
      },
      "source": [
        "<div style=\"page-break-after: always;\"></div>"
      ]
    },
    {
      "cell_type": "markdown",
      "metadata": {
        "id": "dczHGFeCEIE6"
      },
      "source": [
        "---\n",
        "\n",
        "# Appendix - Python Coding"
      ]
    },
    {
      "cell_type": "markdown",
      "metadata": {
        "id": "VnpaQMF4YnnX"
      },
      "source": [
        "The NLP system was also implemented in Python, and performed the following steps:\n",
        "\n",
        "* Pre-processing of the data sourced from the WebCrawler.\n",
        "* Topic modelling of each thread within the forum, utilising Latent Dirichlet Allocation (LDA) via the `gensim` library.\n",
        "* entiment analysis was applied to each thread using 'VADER', then aggregated with the labels applied during topic modelling.\n",
        "\n",
        "This Python notebook was created using Google Colab (https://research.google.com/colaboratory/faq.html)."
      ]
    },
    {
      "cell_type": "markdown",
      "metadata": {
        "id": "txHzM7fKzhak"
      },
      "source": [
        "## Setup of data-project "
      ]
    },
    {
      "cell_type": "markdown",
      "metadata": {
        "id": "nfad1tSKhvzj"
      },
      "source": [
        "### Import Dependencies"
      ]
    },
    {
      "cell_type": "code",
      "metadata": {
        "id": "IgmbsYikhoE6",
        "colab": {
          "base_uri": "https://localhost:8080/"
        },
        "outputId": "431567be-740d-4534-82c5-3673bc5a373c"
      },
      "source": [
        "import os.path # Operating system interface\n",
        "\n",
        "import numpy as np # array/matrices support\n",
        "import pandas as pd # data analaysis\n",
        "\n",
        "# plotting libraries\n",
        "import matplotlib.pyplot as plt\n",
        "%matplotlib inline\n",
        "import seaborn as sns # statistical data visulisation\n",
        "\n",
        "import random # Generate pseudo-random numbers\n",
        "\n",
        "import gensim # Topic modelling\n",
        "import gensim.corpora as corpora\n",
        "from gensim.utils import simple_preprocess\n",
        "from gensim.models import CoherenceModel\n",
        "from gensim.models import Phrases\n",
        "\n",
        "import nltk # Natural Language Toolkit\n",
        "nltk.download('stopwords')\n",
        "nltk.download('wordnet')\n",
        "nltk.download('punkt')\n",
        "nltk.download('averaged_perceptron_tagger')\n",
        "nltk.download('vader_lexicon')\n",
        "from nltk.tag import pos_tag\n",
        "from nltk.tokenize import word_tokenize\n",
        "from nltk.corpus import stopwords\n",
        "from nltk.stem import WordNetLemmatizer\n",
        "from nltk.sentiment.vader import SentimentIntensityAnalyzer\n",
        "\n",
        "!pip install unidecode\n",
        "from unidecode import unidecode # ASCII representation of Unicode strings\n",
        "import html # HyperText Markup Language support\n",
        "import re # regular expressions\n",
        "\n",
        "from pprint import pprint # Data pretty printer\n",
        "\n",
        "# Get python version\n",
        "import platform # Platform’s identifying data\n",
        "print('\\nPython version {}'.format(platform.python_version()))"
      ],
      "execution_count": 33,
      "outputs": [
        {
          "output_type": "stream",
          "name": "stdout",
          "text": [
            "[nltk_data] Downloading package stopwords to /root/nltk_data...\n",
            "[nltk_data]   Package stopwords is already up-to-date!\n",
            "[nltk_data] Downloading package wordnet to /root/nltk_data...\n",
            "[nltk_data]   Package wordnet is already up-to-date!\n",
            "[nltk_data] Downloading package punkt to /root/nltk_data...\n",
            "[nltk_data]   Package punkt is already up-to-date!\n",
            "[nltk_data] Downloading package averaged_perceptron_tagger to\n",
            "[nltk_data]     /root/nltk_data...\n",
            "[nltk_data]   Package averaged_perceptron_tagger is already up-to-\n",
            "[nltk_data]       date!\n",
            "[nltk_data] Downloading package vader_lexicon to /root/nltk_data...\n",
            "[nltk_data]   Package vader_lexicon is already up-to-date!\n",
            "Requirement already satisfied: unidecode in /usr/local/lib/python3.7/dist-packages (1.3.2)\n",
            "\n",
            "Python version 3.7.12\n"
          ]
        }
      ]
    },
    {
      "cell_type": "markdown",
      "metadata": {
        "id": "jxOxDSnfgIEO"
      },
      "source": [
        "### User defined functions\n"
      ]
    },
    {
      "cell_type": "code",
      "metadata": {
        "id": "zUo8VrsPOiYq"
      },
      "source": [
        "def mk_dir(path):\n",
        "    \"\"\"\n",
        "    Creates a directory if it doesn't exist\n",
        "\n",
        "    Parameters:\n",
        "    -----------\n",
        "    str : path\n",
        "        The full directory path for the folder to be created.\n",
        "        Note: the path should not terminate with a '/'\n",
        "\n",
        "    Returns:\n",
        "    --------\n",
        "    bool\n",
        "        If folder exists, True, otherwise, False\n",
        "    \"\"\"\n",
        "    if not os.path.exists(path):\n",
        "        try:\n",
        "            os.makedirs(path)\n",
        "        except:\n",
        "            pass\n",
        "    return os.path.exists(path)\n",
        "\n",
        "\n",
        "def print_column_search_contains(df, pattern, print_long = True, max_print_per_feature = 1000):\n",
        "    \"\"\"\n",
        "    Iterates through the columns of a dataframe and prints entry which\n",
        "    contain matches to the passed regex pattern.\n",
        "\n",
        "    The function is intended as data exploration tool.\n",
        "    \"\"\"\n",
        "\n",
        "    for colname in df.select_dtypes(include='object').columns:\n",
        "        print(colname)\n",
        "        print(\"`{}`\\t(First {} results)\".format(colname, max_print_per_feature))\n",
        "        print(\"========================\")\n",
        "        string_list = [val for val in df[colname] if isinstance(val, str)]\n",
        "        string_list = [string for string in string_list if bool(re.search(pattern, string))]\n",
        "        if print_long:\n",
        "            for x in string_list[:max_print_per_feature]:\n",
        "                print(x)           \n",
        "        else:\n",
        "            print(string_list[:max_print_per_feature])\n",
        "        print()\n",
        "\n",
        "\n",
        "\n",
        "\n",
        "def get_column_search_findall(df, pattern, unique_only=True):\n",
        "    \"\"\"\n",
        "    Iterates through the columns of a dataframe and prints entry which\n",
        "    contain matches to the passed regex.\n",
        "\n",
        "    The function is intended as data exploration tool.\n",
        "    \"\"\"\n",
        "    search_results = []\n",
        "    for colname in df.select_dtypes(include='object').columns:\n",
        "        string_list = [val for val in df[colname] if isinstance(val, str)]\n",
        "        string_list = [re.findall(pattern, string) for string in string_list if bool(re.search(pattern, string))]\n",
        "        for string in string_list:\n",
        "            search_results.append(string)\n",
        "    \n",
        "    search_results = sum(search_results,[])\n",
        "    if unique_only:\n",
        "        search_results = list(set(search_results))\n",
        "    return search_results\n",
        "\n",
        "\n",
        "\n",
        "def set_dictionary_subst(oldtext_list, newtext = ''):\n",
        "    \"\"\"\n",
        "    Creates a dictionary of replacement values for use with pandas \n",
        "    `.replace()` method.\n",
        "\n",
        "    Implementation would be as follows:\n",
        "\n",
        "        subst_dict = set_dictionary_subst(oldtext_list, newtext = '')\n",
        "        df.replace(to_replace = replace_dict, regex = True)\n",
        "\n",
        "    Parameter:\n",
        "    ----------\n",
        "    oldtext : list (of str)\n",
        "        A list of strings to be replaced\n",
        "    newtext: str\n",
        "        A text value to be substituted\n",
        "\n",
        "    Returns:\n",
        "    --------\n",
        "    dict\n",
        "        A dictionary of regex escaped entries consisting of\n",
        "            oldtext : newtext\n",
        "    \"\"\"\n",
        "\n",
        "    if isinstance(oldtext_list, list):\n",
        "        # Get unique entries by converting the list to a set\n",
        "        subst_dict = {re.escape(oldtext) : newtext for oldtext in set(oldtext_list)}\n",
        "    elif isinstance(oldtext_list, set):\n",
        "        # Convert to dictionary\n",
        "        subst_dict = {re.escape(oldtext) : newtext for oldtext in oldtext_list}        \n",
        "    elif isinstance(oldtext_list, dict):\n",
        "        subst_dict = oldtext_list\n",
        "    else:\n",
        "        subst_dict = oldtext_list\n",
        "        print(f'parameter `oldtext_list` unexpected type: {type(oldtext_list)}')\n",
        "\n",
        "    return subst_dict\n",
        "\n",
        "\n",
        "\n",
        "def stop_and_lemm(document\n",
        "                  ,stopwords\n",
        "                  ,lemmatizer\n",
        "                  ,retain_pos={ 'ALL' : '.' }\n",
        "                  ):\n",
        "    \"\"\"\n",
        "    Removes stopwords from a document and performs stemming.\n",
        "\n",
        "    Parameters:\n",
        "    -----------\n",
        "    document : str\n",
        "        the text to be processed\n",
        "    stopwords : list[str]\n",
        "        a list of words to be removed\n",
        "    lemmatizer : function (e.g. nltk.stem.wordnet.WordNetLemmatizer)\n",
        "        a function that can perform lemmatization using a `.lemmatize()` method\n",
        "    dict : retain_pos\n",
        "        a dictionary specifiy which parts of speach (POS) should be retained.\n",
        "        e.g. {'NOUN' : 'N', 'ADJ' : 'J', 'VERB' : 'V', 'ADV' : 'R' }\n",
        "        - dictionary values are used to generate a regex for the POS tag match\n",
        "        - dictionary key are for readability only\n",
        "\n",
        "\n",
        "    Returns:\n",
        "    -------\n",
        "    str\n",
        "        the document text after processing\n",
        "    \"\"\"\n",
        "\n",
        "    # Split document into a list of individual words\n",
        "    word_tokens = word_tokenize(document) # nltk\n",
        "    \n",
        "    # Retain part of speach tags\n",
        "    if retain_pos is not None and len(retain_pos) > 0:\n",
        "        regex_pos = \"^(\" + \"|\".join(retain_pos.values()) + \")\"    \n",
        "        pos_tokens = pos_tag(word_tokens)\n",
        "        word_tokens = [token for token, pos in pos_tokens if bool(re.search(regex_pos, pos))]\n",
        "\n",
        "    # Lematization and removal of stopwords\n",
        "    word_tokens = [lemmatizer.lemmatize(token) for token in word_tokens if token not in set(stopwords)]\n",
        "\n",
        "    # Rejoin text\n",
        "    document = ' '.join(word_tokens)\n",
        "    return document\n",
        "\n",
        "\n",
        "\n",
        "def word_frequencies(corpus, top_n = 50):\n",
        "    \"\"\"\n",
        "    Generates a tally of word frequency from a body of text\n",
        "\n",
        "    Paramters:\n",
        "    ---------\n",
        "    corpus : \n",
        "        an iterable object of text documents\n",
        "    top_n : int\n",
        "        The top-n occuring words by frequency\n",
        "\n",
        "    Returns:\n",
        "    --------\n",
        "    pandas.dataframe\n",
        "        A dataframe of two columns: 'word' and 'count'\n",
        "\n",
        "    \"\"\"\n",
        "\n",
        "    all_words = ' '.join([document for document in corpus]) \n",
        "    all_words = all_words.split() \n",
        "    fdist = nltk.FreqDist(all_words) \n",
        "    df_words = pd.DataFrame({'word':list(fdist.keys()), 'count':list(fdist.values())}) \n",
        "    \n",
        "    # selecting top-n most frequent words \n",
        "    return df_words.nlargest(columns=\"count\", n = top_n)\n",
        "\n",
        "\n",
        "\n",
        "def hypertune_LDA_num_topics(dictionary, corpus, texts, num_topics_seq):\n",
        "    \"\"\"\n",
        "    Compute coherence score for various number of topics\n",
        "\n",
        "    Parameters:\n",
        "    ----------\n",
        "    dict : dictionary\n",
        "        Gensim dictionary\n",
        "    corpus : corpus\n",
        "        Gensim corpus\n",
        "    list of [list of str] : texts\n",
        "        A list of documents, where each document is a list of words.\n",
        "    list of int: num_topics_seq\n",
        "        A list of num_topics values, e.g., [10, 25, 50] etc.\n",
        "\n",
        "    Returns:\n",
        "    -------\n",
        "    model_list : List of LDA topic models\n",
        "    coherence_values : Coherence values corresponding to the LDA model with respective number of topics\n",
        "    \"\"\"\n",
        "    coherence_values = []\n",
        "    model_list = []\n",
        "    for num_topics in num_topics_seq:\n",
        "        print(\"Modeling {} topics...\".format(num_topics))\n",
        "        model = gensim.models.LdaMulticore(\n",
        "            corpus=corpus\n",
        "            ,id2word=dictionary    \n",
        "            ,num_topics=num_topics\n",
        "            ,passes=2\n",
        "            ,random_state=987\n",
        "            ,per_word_topics=True\n",
        "            ,workers=4\n",
        "            )\n",
        "        model_list.append(model)\n",
        "        coherencemodel = CoherenceModel(model=model, texts=texts, dictionary=dictionary, coherence='c_v')\n",
        "        coherence_values.append(coherencemodel.get_coherence())\n",
        "    print(\"...completed\")\n",
        "    return model_list, coherence_values\n",
        "\n",
        "\n",
        "\n",
        "\n",
        "\n",
        "# Get the dominant topics for each document\n",
        "def get_lda_dominant_topics(lda_model, corpus, top_n_words=10, delim_words=','):\n",
        "\n",
        "    # Initialise result set\n",
        "    df_topics = pd.DataFrame()\n",
        "\n",
        "    for index_doc, c in enumerate(lda_model[corpus]):\n",
        "        # Initalise results for document\n",
        "        topic1_id = -1\n",
        "        topic1_wt = 0\n",
        "        topic1_words = \"\"    \n",
        "        topic2_id = -1\n",
        "        topic2_wt = 0\n",
        "        topic2_words = \"\"  \n",
        "\n",
        "        # sort topics in decreasing order of contribution\n",
        "        topics = sorted(c[0], key = lambda x: x[1], reverse=True)\n",
        "\n",
        "        if len(topics) > 0:         \n",
        "            topic1 = topics[0]\n",
        "            topic1_id = topic1[0]\n",
        "            topic1_wt = topic1[1]\n",
        "            topic1_show = best_model.show_topic(topicid=topic1_id ,topn=top_n_words)\n",
        "            topic1_words = [word for word, wt in topic1_show]\n",
        "            topic1_words = delim_words.join(topic1_words)\n",
        "\n",
        "        if len(topics) > 1:\n",
        "            topic2 = topics[1]\n",
        "            topic2_id = topic2[0]\n",
        "            topic2_wt = topic2[1]\n",
        "            topic2_show = best_model.show_topic(topicid=topic2_id ,topn=top_n_words)\n",
        "            topic2_words = [word for word, wt in topic2_show]\n",
        "            topic2_words = delim_words.join(topic2_words)\n",
        "\n",
        "        # Append to result set\n",
        "        df_topics = df_topics.append(\n",
        "            pd.Series([int(index_doc), int(topic1_id), topic1_wt, topic1_words, int(topic2_id), topic2_wt, topic2_words])\n",
        "            ,ignore_index=True\n",
        "            )\n",
        "\n",
        "    # Set column names & data types\n",
        "    df_topics.columns = ['index_doc', 'Primary_topic', 'Primary_topic_contribution', 'Primary_topic_keywords', 'Secondary_topic', 'Secondary_topic_contribution', 'Secondary_topic_keywords']\n",
        "    df_topics = df_topics.astype({'index_doc': 'int64', 'Primary_topic': 'int64', 'Secondary_topic': 'int64'}, errors='ignore')\n",
        "    return df_topics\n",
        "\n",
        "\n",
        "\n",
        "def sentiment_colours():\n",
        "    return { 'positive' : 'C0', 'neutral' : 'black', 'negative' : 'C1' }"
      ],
      "execution_count": 34,
      "outputs": []
    },
    {
      "cell_type": "markdown",
      "metadata": {
        "id": "XQhVyeQjws3J"
      },
      "source": [
        "### Set directory paths\n",
        "\n",
        "This section sets pertinent file paths and names. The expected folder structure for this assessment was documented below.\n",
        "\n",
        "```\n",
        "working-dir/\n",
        "├─ data/\n",
        "│  ├─ df_horseforum_thread_pages.csv       {generated by WebCrawler}\n",
        "│  ├─ df_horseforum_thread_posts.csv       {generated by WebCrawler}\n",
        "│  ├─ df_horseforum_threads.csv            {generated by WebCrawler}\n",
        "│  ├─ df_tophorse_item_details.csv         {generated by WebCrawler}\n",
        "│  ├─ df_tophorse_items.csv                {generated by WebCrawler}\n",
        "├─ A3_Deliverable_3_Lachlan_Sharp.ipynb    {Python Jupyter notebook}\n",
        "\n",
        "```"
      ]
    },
    {
      "cell_type": "markdown",
      "metadata": {
        "id": "gqg9KLiezoUg"
      },
      "source": [
        "#### Mount Google Drive\n",
        "\n",
        "This section applies to use of this Python notebook within Google Colab."
      ]
    },
    {
      "cell_type": "code",
      "metadata": {
        "id": "-BOZaHKeyQr_",
        "colab": {
          "base_uri": "https://localhost:8080/"
        },
        "outputId": "10cf9264-8b62-4f5b-8580-8ccb69cf7cf0"
      },
      "source": [
        "# Mount Google Drive\n",
        "from google.colab import drive\n",
        "drive.mount('/content/drive')"
      ],
      "execution_count": 35,
      "outputs": [
        {
          "output_type": "stream",
          "name": "stdout",
          "text": [
            "Drive already mounted at /content/drive; to attempt to forcibly remount, call drive.mount(\"/content/drive\", force_remount=True).\n"
          ]
        }
      ]
    },
    {
      "cell_type": "markdown",
      "metadata": {
        "id": "K1ThXe1I69ga"
      },
      "source": [
        "#### Set file paths"
      ]
    },
    {
      "cell_type": "code",
      "metadata": {
        "id": "vYqAA03QiNjg",
        "colab": {
          "base_uri": "https://localhost:8080/"
        },
        "outputId": "0a084c04-f063-4b9b-d8af-448c30420678"
      },
      "source": [
        "# Set directory paths root filepath for data-project\n",
        "filepath_root = '/content/drive/MyDrive/Colab Notebooks/MA5851/Assessment 3' # data-project root\n",
        "filepath_data = os.path.join(filepath_root, 'data') # data folder\n",
        "print(\"Directory 'data' exists?: {}\".format(mk_dir(filepath_data)))\n",
        "\n",
        "# Set filenames\n",
        "filename_tophorse_items_df = \"df_tophorse_items.csv\"\n",
        "filename_tophorse_item_details_df = \"df_tophorse_item_details.csv\"\n",
        "\n",
        "filename_horseforum_threads_df = \"df_horseforum_threads.csv\" \n",
        "filename_horseforum_thread_posts_df = \"df_horseforum_thread_posts.csv\"\n",
        "filename_horseforum_thread_pages_df = \"df_horseforum_thread_pages.csv\"\n",
        "\n",
        "filename_horseforum_threads_cleaned_df = \"df_horseforum_threads_cleaned.csv\" "
      ],
      "execution_count": 36,
      "outputs": [
        {
          "output_type": "stream",
          "name": "stdout",
          "text": [
            "Directory 'data' exists?: True\n"
          ]
        }
      ]
    },
    {
      "cell_type": "markdown",
      "metadata": {
        "id": "1faP-niEnOj2"
      },
      "source": [
        "## Import data"
      ]
    },
    {
      "cell_type": "markdown",
      "metadata": {
        "id": "96ZpbJkUnmlA"
      },
      "source": [
        "### Load WebCralwer data\n",
        "\n",
        "Load data obtained via the web crawler."
      ]
    },
    {
      "cell_type": "code",
      "metadata": {
        "id": "l8_83E-dnQnc",
        "colab": {
          "base_uri": "https://localhost:8080/"
        },
        "outputId": "3f0df64b-bddf-4be4-8171-4d604b30535f"
      },
      "source": [
        "df_horseforum_threads_raw = pd.read_csv(os.path.join(filepath_data, filename_horseforum_threads_df))\n",
        "print(\"Re-imported threads data: {x[0]} rows × {x[1]} cols\".format(x = df_horseforum_threads_raw.shape))\n",
        "df_horseforum_thread_posts_raw = pd.read_csv(os.path.join(filepath_data, filename_horseforum_thread_posts_df))\n",
        "print(\"Re-imported posts data: {x[0]} rows × {x[1]} cols\".format(x = df_horseforum_thread_posts_raw.shape))\n",
        "df_horseforum_thread_pages_raw = pd.read_csv(os.path.join(filepath_data, filename_horseforum_thread_pages_df))\n",
        "print(\"Re-imported pages data {x[0]} rows × {x[1]} cols\".format(x = df_horseforum_thread_pages_raw.shape))"
      ],
      "execution_count": 28,
      "outputs": [
        {
          "output_type": "stream",
          "name": "stdout",
          "text": [
            "Re-imported threads data: 20954 rows × 10 cols\n",
            "Re-imported posts data: 232763 rows × 11 cols\n",
            "Re-imported pages data 24627 rows × 3 cols\n"
          ]
        }
      ]
    },
    {
      "cell_type": "markdown",
      "metadata": {
        "id": "QR0roDN_I8kD"
      },
      "source": [
        "### Explore"
      ]
    },
    {
      "cell_type": "code",
      "metadata": {
        "id": "vYsQ_qOrJCb4",
        "colab": {
          "base_uri": "https://localhost:8080/"
        },
        "outputId": "96d8bd2e-85c7-437d-9138-87306b1b3848"
      },
      "source": [
        "df_horseforum_thread_posts_raw.info()"
      ],
      "execution_count": null,
      "outputs": [
        {
          "output_type": "stream",
          "name": "stdout",
          "text": [
            "<class 'pandas.core.frame.DataFrame'>\n",
            "RangeIndex: 232763 entries, 0 to 232762\n",
            "Data columns (total 11 columns):\n",
            " #   Column                   Non-Null Count   Dtype  \n",
            "---  ------                   --------------   -----  \n",
            " 0   thread_url_path          232763 non-null  object \n",
            " 1   post_id                  232763 non-null  object \n",
            " 2   post_number              232763 non-null  float64\n",
            " 3   post_url_path            232763 non-null  object \n",
            " 4   post_reactions_url_path  45707 non-null   object \n",
            " 5   post_reactions           45707 non-null   object \n",
            " 6   post_datetime            232763 non-null  object \n",
            " 7   post_username            232760 non-null  object \n",
            " 8   post_userid              232760 non-null  float64\n",
            " 9   post_user_url_path       232760 non-null  object \n",
            " 10  post_text                232750 non-null  object \n",
            "dtypes: float64(2), object(9)\n",
            "memory usage: 19.5+ MB\n"
          ]
        }
      ]
    },
    {
      "cell_type": "markdown",
      "metadata": {
        "id": "OcBmCD1fJEP6"
      },
      "source": [
        "Feature post_text was NaN in case where a user only posted and image (i.e., a picture of a horse) but no text."
      ]
    },
    {
      "cell_type": "code",
      "metadata": {
        "id": "pmU0igQwJMLX",
        "colab": {
          "base_uri": "https://localhost:8080/",
          "height": 457
        },
        "outputId": "3e7f77dd-8a46-4cbb-9ea3-1d064674ab5b"
      },
      "source": [
        "df_horseforum_thread_posts_raw[df_horseforum_thread_posts_raw['post_text'].isnull()]"
      ],
      "execution_count": null,
      "outputs": [
        {
          "output_type": "execute_result",
          "data": {
            "text/html": [
              "<div>\n",
              "<style scoped>\n",
              "    .dataframe tbody tr th:only-of-type {\n",
              "        vertical-align: middle;\n",
              "    }\n",
              "\n",
              "    .dataframe tbody tr th {\n",
              "        vertical-align: top;\n",
              "    }\n",
              "\n",
              "    .dataframe thead th {\n",
              "        text-align: right;\n",
              "    }\n",
              "</style>\n",
              "<table border=\"1\" class=\"dataframe\">\n",
              "  <thead>\n",
              "    <tr style=\"text-align: right;\">\n",
              "      <th></th>\n",
              "      <th>thread_url_path</th>\n",
              "      <th>post_id</th>\n",
              "      <th>post_number</th>\n",
              "      <th>post_url_path</th>\n",
              "      <th>post_reactions_url_path</th>\n",
              "      <th>post_reactions</th>\n",
              "      <th>post_datetime</th>\n",
              "      <th>post_username</th>\n",
              "      <th>post_userid</th>\n",
              "      <th>post_user_url_path</th>\n",
              "      <th>post_text</th>\n",
              "    </tr>\n",
              "  </thead>\n",
              "  <tbody>\n",
              "    <tr>\n",
              "      <th>63360</th>\n",
              "      <td>/threads/putting-weight-on-an-older-horse.495553/</td>\n",
              "      <td>post-6402881</td>\n",
              "      <td>2.0</td>\n",
              "      <td>/threads/putting-weight-on-an-older-horse.4955...</td>\n",
              "      <td>NaN</td>\n",
              "      <td>NaN</td>\n",
              "      <td>2014-10-17T21:02:54-0400</td>\n",
              "      <td>Becca76</td>\n",
              "      <td>148297.0</td>\n",
              "      <td>/members/becca76.148297/</td>\n",
              "      <td>NaN</td>\n",
              "    </tr>\n",
              "    <tr>\n",
              "      <th>69312</th>\n",
              "      <td>/threads/rebuilding-belle-improving-topline-an...</td>\n",
              "      <td>post-5435290</td>\n",
              "      <td>18.0</td>\n",
              "      <td>/threads/rebuilding-belle-improving-topline-an...</td>\n",
              "      <td>/posts/5435290/reactions/</td>\n",
              "      <td>Like (1)</td>\n",
              "      <td>2014-05-21T10:32:02-0400</td>\n",
              "      <td>Clava</td>\n",
              "      <td>19244.0</td>\n",
              "      <td>/members/clava.19244/</td>\n",
              "      <td>NaN</td>\n",
              "    </tr>\n",
              "    <tr>\n",
              "      <th>74637</th>\n",
              "      <td>/threads/my-horse-has-bald-spots-lice-rain-rot...</td>\n",
              "      <td>post-5210186</td>\n",
              "      <td>2.0</td>\n",
              "      <td>/threads/my-horse-has-bald-spots-lice-rain-rot...</td>\n",
              "      <td>NaN</td>\n",
              "      <td>NaN</td>\n",
              "      <td>2014-04-19T01:16:46-0400</td>\n",
              "      <td>bludog</td>\n",
              "      <td>74258.0</td>\n",
              "      <td>/members/bludog.74258/</td>\n",
              "      <td>NaN</td>\n",
              "    </tr>\n",
              "    <tr>\n",
              "      <th>80942</th>\n",
              "      <td>/threads/need-help.329249/</td>\n",
              "      <td>post-4314241</td>\n",
              "      <td>6.0</td>\n",
              "      <td>/threads/need-help.329249/post-4314241</td>\n",
              "      <td>NaN</td>\n",
              "      <td>NaN</td>\n",
              "      <td>2013-12-15T22:25:42-0500</td>\n",
              "      <td>MoonshinePaint</td>\n",
              "      <td>57690.0</td>\n",
              "      <td>/members/moonshinepaint.57690/</td>\n",
              "      <td>NaN</td>\n",
              "    </tr>\n",
              "    <tr>\n",
              "      <th>80944</th>\n",
              "      <td>/threads/need-help.329249/</td>\n",
              "      <td>post-4314345</td>\n",
              "      <td>8.0</td>\n",
              "      <td>/threads/need-help.329249/post-4314345</td>\n",
              "      <td>NaN</td>\n",
              "      <td>NaN</td>\n",
              "      <td>2013-12-15T22:43:46-0500</td>\n",
              "      <td>MoonshinePaint</td>\n",
              "      <td>57690.0</td>\n",
              "      <td>/members/moonshinepaint.57690/</td>\n",
              "      <td>NaN</td>\n",
              "    </tr>\n",
              "    <tr>\n",
              "      <th>80945</th>\n",
              "      <td>/threads/need-help.329249/</td>\n",
              "      <td>post-4314369</td>\n",
              "      <td>9.0</td>\n",
              "      <td>/threads/need-help.329249/post-4314369</td>\n",
              "      <td>NaN</td>\n",
              "      <td>NaN</td>\n",
              "      <td>2013-12-15T22:45:47-0500</td>\n",
              "      <td>MoonshinePaint</td>\n",
              "      <td>57690.0</td>\n",
              "      <td>/members/moonshinepaint.57690/</td>\n",
              "      <td>NaN</td>\n",
              "    </tr>\n",
              "    <tr>\n",
              "      <th>80946</th>\n",
              "      <td>/threads/need-help.329249/</td>\n",
              "      <td>post-4314393</td>\n",
              "      <td>10.0</td>\n",
              "      <td>/threads/need-help.329249/post-4314393</td>\n",
              "      <td>NaN</td>\n",
              "      <td>NaN</td>\n",
              "      <td>2013-12-15T22:47:00-0500</td>\n",
              "      <td>MoonshinePaint</td>\n",
              "      <td>57690.0</td>\n",
              "      <td>/members/moonshinepaint.57690/</td>\n",
              "      <td>NaN</td>\n",
              "    </tr>\n",
              "    <tr>\n",
              "      <th>80947</th>\n",
              "      <td>/threads/need-help.329249/</td>\n",
              "      <td>post-4314401</td>\n",
              "      <td>11.0</td>\n",
              "      <td>/threads/need-help.329249/post-4314401</td>\n",
              "      <td>NaN</td>\n",
              "      <td>NaN</td>\n",
              "      <td>2013-12-15T22:47:32-0500</td>\n",
              "      <td>MoonshinePaint</td>\n",
              "      <td>57690.0</td>\n",
              "      <td>/members/moonshinepaint.57690/</td>\n",
              "      <td>NaN</td>\n",
              "    </tr>\n",
              "    <tr>\n",
              "      <th>80948</th>\n",
              "      <td>/threads/need-help.329249/</td>\n",
              "      <td>post-4314441</td>\n",
              "      <td>12.0</td>\n",
              "      <td>/threads/need-help.329249/post-4314441</td>\n",
              "      <td>NaN</td>\n",
              "      <td>NaN</td>\n",
              "      <td>2013-12-15T22:50:35-0500</td>\n",
              "      <td>MoonshinePaint</td>\n",
              "      <td>57690.0</td>\n",
              "      <td>/members/moonshinepaint.57690/</td>\n",
              "      <td>NaN</td>\n",
              "    </tr>\n",
              "    <tr>\n",
              "      <th>80956</th>\n",
              "      <td>/threads/need-help.329249/</td>\n",
              "      <td>post-4314833</td>\n",
              "      <td>20.0</td>\n",
              "      <td>/threads/need-help.329249/post-4314833</td>\n",
              "      <td>NaN</td>\n",
              "      <td>NaN</td>\n",
              "      <td>2013-12-15T23:41:06-0500</td>\n",
              "      <td>MoonshinePaint</td>\n",
              "      <td>57690.0</td>\n",
              "      <td>/members/moonshinepaint.57690/</td>\n",
              "      <td>NaN</td>\n",
              "    </tr>\n",
              "    <tr>\n",
              "      <th>80957</th>\n",
              "      <td>/threads/need-help.329249/</td>\n",
              "      <td>post-4314857</td>\n",
              "      <td>21.0</td>\n",
              "      <td>/threads/need-help.329249/post-4314857</td>\n",
              "      <td>NaN</td>\n",
              "      <td>NaN</td>\n",
              "      <td>2013-12-15T23:44:49-0500</td>\n",
              "      <td>MoonshinePaint</td>\n",
              "      <td>57690.0</td>\n",
              "      <td>/members/moonshinepaint.57690/</td>\n",
              "      <td>NaN</td>\n",
              "    </tr>\n",
              "    <tr>\n",
              "      <th>80958</th>\n",
              "      <td>/threads/need-help.329249/</td>\n",
              "      <td>post-4314865</td>\n",
              "      <td>22.0</td>\n",
              "      <td>/threads/need-help.329249/post-4314865</td>\n",
              "      <td>NaN</td>\n",
              "      <td>NaN</td>\n",
              "      <td>2013-12-15T23:45:19-0500</td>\n",
              "      <td>MoonshinePaint</td>\n",
              "      <td>57690.0</td>\n",
              "      <td>/members/moonshinepaint.57690/</td>\n",
              "      <td>NaN</td>\n",
              "    </tr>\n",
              "    <tr>\n",
              "      <th>80959</th>\n",
              "      <td>/threads/need-help.329249/</td>\n",
              "      <td>post-4314873</td>\n",
              "      <td>23.0</td>\n",
              "      <td>/threads/need-help.329249/post-4314873</td>\n",
              "      <td>NaN</td>\n",
              "      <td>NaN</td>\n",
              "      <td>2013-12-15T23:45:55-0500</td>\n",
              "      <td>MoonshinePaint</td>\n",
              "      <td>57690.0</td>\n",
              "      <td>/members/moonshinepaint.57690/</td>\n",
              "      <td>NaN</td>\n",
              "    </tr>\n",
              "  </tbody>\n",
              "</table>\n",
              "</div>"
            ],
            "text/plain": [
              "                                         thread_url_path  ... post_text\n",
              "63360  /threads/putting-weight-on-an-older-horse.495553/  ...       NaN\n",
              "69312  /threads/rebuilding-belle-improving-topline-an...  ...       NaN\n",
              "74637  /threads/my-horse-has-bald-spots-lice-rain-rot...  ...       NaN\n",
              "80942                         /threads/need-help.329249/  ...       NaN\n",
              "80944                         /threads/need-help.329249/  ...       NaN\n",
              "80945                         /threads/need-help.329249/  ...       NaN\n",
              "80946                         /threads/need-help.329249/  ...       NaN\n",
              "80947                         /threads/need-help.329249/  ...       NaN\n",
              "80948                         /threads/need-help.329249/  ...       NaN\n",
              "80956                         /threads/need-help.329249/  ...       NaN\n",
              "80957                         /threads/need-help.329249/  ...       NaN\n",
              "80958                         /threads/need-help.329249/  ...       NaN\n",
              "80959                         /threads/need-help.329249/  ...       NaN\n",
              "\n",
              "[13 rows x 11 columns]"
            ]
          },
          "metadata": {},
          "execution_count": 7
        }
      ]
    },
    {
      "cell_type": "markdown",
      "metadata": {
        "id": "hEpWYzdTJOi-"
      },
      "source": [
        "### Wrangle"
      ]
    },
    {
      "cell_type": "markdown",
      "metadata": {
        "id": "ZBSb8eRSPeZl"
      },
      "source": [
        "#### Rename `df_horseforum_threads` columns"
      ]
    },
    {
      "cell_type": "code",
      "metadata": {
        "id": "QzIZUCbtPmU5",
        "colab": {
          "base_uri": "https://localhost:8080/",
          "height": 293
        },
        "outputId": "55133ae5-c12b-4f3a-88fa-7cf66783b117"
      },
      "source": [
        "df_horseforum_threads_raw.rename(\n",
        "    {colname: colname.replace(\"item_\", \"thread_\") for colname in df_horseforum_threads_raw.columns}\n",
        "    ,axis=1\n",
        "    ,inplace=True\n",
        "     )\n",
        "df_horseforum_threads_raw.head()"
      ],
      "execution_count": 7,
      "outputs": [
        {
          "output_type": "execute_result",
          "data": {
            "text/html": [
              "<div>\n",
              "<style scoped>\n",
              "    .dataframe tbody tr th:only-of-type {\n",
              "        vertical-align: middle;\n",
              "    }\n",
              "\n",
              "    .dataframe tbody tr th {\n",
              "        vertical-align: top;\n",
              "    }\n",
              "\n",
              "    .dataframe thead th {\n",
              "        text-align: right;\n",
              "    }\n",
              "</style>\n",
              "<table border=\"1\" class=\"dataframe\">\n",
              "  <thead>\n",
              "    <tr style=\"text-align: right;\">\n",
              "      <th></th>\n",
              "      <th>thread_title</th>\n",
              "      <th>thread_url_path</th>\n",
              "      <th>thread_created_date</th>\n",
              "      <th>thread_created_by</th>\n",
              "      <th>thread_created_by_url_path</th>\n",
              "      <th>thread_view_count</th>\n",
              "      <th>thread_reply_count</th>\n",
              "      <th>thread_last_replied_date</th>\n",
              "      <th>thread_last_replied_by</th>\n",
              "      <th>thread_last_replied_by_url_path</th>\n",
              "    </tr>\n",
              "  </thead>\n",
              "  <tbody>\n",
              "    <tr>\n",
              "      <th>0</th>\n",
              "      <td>PLEASE READ BEFORE POSTING (both older and new...</td>\n",
              "      <td>/threads/please-read-before-posting-both-older...</td>\n",
              "      <td>2020-12-27T19:19:33-0500</td>\n",
              "      <td>TaMMa89</td>\n",
              "      <td>/members/tamma89.3542/</td>\n",
              "      <td>1076</td>\n",
              "      <td>0</td>\n",
              "      <td>2020-12-27T19:19:33-0500</td>\n",
              "      <td>TaMMa89</td>\n",
              "      <td>/members/tamma89.3542/</td>\n",
              "    </tr>\n",
              "    <tr>\n",
              "      <th>1</th>\n",
              "      <td>poisonous plants from HF member locations</td>\n",
              "      <td>/threads/poisonous-plants-from-hf-member-locat...</td>\n",
              "      <td>2018-01-01T22:03:05-0500</td>\n",
              "      <td>Smilie</td>\n",
              "      <td>/members/smilie.18361/</td>\n",
              "      <td>2151</td>\n",
              "      <td>5</td>\n",
              "      <td>2020-12-08T16:29:12-0500</td>\n",
              "      <td>stevenson</td>\n",
              "      <td>/members/stevenson.26572/</td>\n",
              "    </tr>\n",
              "    <tr>\n",
              "      <th>2</th>\n",
              "      <td>The Care of an Emaciated Horse</td>\n",
              "      <td>/threads/the-care-of-an-emaciated-horse.100412/</td>\n",
              "      <td>2011-10-14T09:02:04-0400</td>\n",
              "      <td>xxBarry Godden</td>\n",
              "      <td>/members/xxbarry-godden.9451/</td>\n",
              "      <td>48970</td>\n",
              "      <td>54</td>\n",
              "      <td>2020-11-26T10:09:30-0500</td>\n",
              "      <td>horselovinguy</td>\n",
              "      <td>/members/horselovinguy.79162/</td>\n",
              "    </tr>\n",
              "    <tr>\n",
              "      <th>3</th>\n",
              "      <td>Making a Vet Kit</td>\n",
              "      <td>/threads/making-a-vet-kit.251/</td>\n",
              "      <td>2007-01-07T02:14:09-0500</td>\n",
              "      <td>Skippy!</td>\n",
              "      <td>/members/skippy.157/</td>\n",
              "      <td>2091441</td>\n",
              "      <td>277</td>\n",
              "      <td>2019-08-26T04:44:59-0400</td>\n",
              "      <td>AmiraAchek</td>\n",
              "      <td>/members/amiraachek.280747/</td>\n",
              "    </tr>\n",
              "    <tr>\n",
              "      <th>4</th>\n",
              "      <td>Information on Myopathies - PSSM1, PSSM2, MFM,...</td>\n",
              "      <td>/threads/information-on-myopathies-pssm1-pssm2...</td>\n",
              "      <td>2017-08-17T20:06:14-0400</td>\n",
              "      <td>Espy</td>\n",
              "      <td>/members/espy.168162/</td>\n",
              "      <td>17546</td>\n",
              "      <td>5</td>\n",
              "      <td>2018-09-17T16:44:33-0400</td>\n",
              "      <td>Espy</td>\n",
              "      <td>/members/espy.168162/</td>\n",
              "    </tr>\n",
              "  </tbody>\n",
              "</table>\n",
              "</div>"
            ],
            "text/plain": [
              "                                        thread_title  ... thread_last_replied_by_url_path\n",
              "0  PLEASE READ BEFORE POSTING (both older and new...  ...          /members/tamma89.3542/\n",
              "1          poisonous plants from HF member locations  ...       /members/stevenson.26572/\n",
              "2                     The Care of an Emaciated Horse  ...   /members/horselovinguy.79162/\n",
              "3                                   Making a Vet Kit  ...     /members/amiraachek.280747/\n",
              "4  Information on Myopathies - PSSM1, PSSM2, MFM,...  ...           /members/espy.168162/\n",
              "\n",
              "[5 rows x 10 columns]"
            ]
          },
          "metadata": {},
          "execution_count": 7
        }
      ]
    },
    {
      "cell_type": "markdown",
      "metadata": {
        "id": "bloTdieoJZ2g"
      },
      "source": [
        "#### Thread's participant count"
      ]
    },
    {
      "cell_type": "markdown",
      "metadata": {
        "id": "Vw5DnhbO2fhB"
      },
      "source": [
        "Participant count for each *thread* was captured (repeatedly) from each of the thread's *pages*. The following combines the `participant_count` feature into the main *thread* dataset.\n",
        "\n",
        "* *Note*: Participant count could have also been derived via agreggation of the `df_horseforum_thread_posts_raw` dataset."
      ]
    },
    {
      "cell_type": "code",
      "metadata": {
        "id": "jBpVO9PmQ89I",
        "colab": {
          "base_uri": "https://localhost:8080/",
          "height": 206
        },
        "outputId": "06051a08-7ccb-48d4-8002-e6269a5dc92c"
      },
      "source": [
        "# Convert `participant_count` to integer\n",
        "df_horseforum_thread_pages_raw[['participant_count']] = df_horseforum_thread_pages_raw[['participant_count']].fillna(value=0)\n",
        "df_horseforum_thread_pages_raw['participant_count'] = df_horseforum_thread_pages_raw['participant_count'].apply(int)\n",
        "df_horseforum_thread_pages_raw[df_horseforum_thread_pages_raw['participant_count'] == 0]"
      ],
      "execution_count": 8,
      "outputs": [
        {
          "output_type": "execute_result",
          "data": {
            "text/html": [
              "<div>\n",
              "<style scoped>\n",
              "    .dataframe tbody tr th:only-of-type {\n",
              "        vertical-align: middle;\n",
              "    }\n",
              "\n",
              "    .dataframe tbody tr th {\n",
              "        vertical-align: top;\n",
              "    }\n",
              "\n",
              "    .dataframe thead th {\n",
              "        text-align: right;\n",
              "    }\n",
              "</style>\n",
              "<table border=\"1\" class=\"dataframe\">\n",
              "  <thead>\n",
              "    <tr style=\"text-align: right;\">\n",
              "      <th></th>\n",
              "      <th>thread_url_path</th>\n",
              "      <th>participant_count</th>\n",
              "      <th>page_url_path</th>\n",
              "    </tr>\n",
              "  </thead>\n",
              "  <tbody>\n",
              "    <tr>\n",
              "      <th>2642</th>\n",
              "      <td>/threads/dealing-with-paddock-boredom.781858/</td>\n",
              "      <td>0</td>\n",
              "      <td>/threads/dealing-with-paddock-boredom.781858/</td>\n",
              "    </tr>\n",
              "    <tr>\n",
              "      <th>2643</th>\n",
              "      <td>/threads/hock-degloving-graphic.781938/</td>\n",
              "      <td>0</td>\n",
              "      <td>/threads/hock-degloving-graphic.781938/</td>\n",
              "    </tr>\n",
              "    <tr>\n",
              "      <th>2644</th>\n",
              "      <td>/threads/feed-suggestions.781770/</td>\n",
              "      <td>0</td>\n",
              "      <td>/threads/feed-suggestions.781770/</td>\n",
              "    </tr>\n",
              "    <tr>\n",
              "      <th>2645</th>\n",
              "      <td>/threads/question-about-vaccinations.781673/</td>\n",
              "      <td>0</td>\n",
              "      <td>/threads/question-about-vaccinations.781673/</td>\n",
              "    </tr>\n",
              "    <tr>\n",
              "      <th>8189</th>\n",
              "      <td>/threads/which-joint-supplements-do-you-use-fo...</td>\n",
              "      <td>0</td>\n",
              "      <td>/threads/which-joint-supplements-do-you-use-fo...</td>\n",
              "    </tr>\n",
              "  </tbody>\n",
              "</table>\n",
              "</div>"
            ],
            "text/plain": [
              "                                        thread_url_path  ...                                      page_url_path\n",
              "2642      /threads/dealing-with-paddock-boredom.781858/  ...      /threads/dealing-with-paddock-boredom.781858/\n",
              "2643            /threads/hock-degloving-graphic.781938/  ...            /threads/hock-degloving-graphic.781938/\n",
              "2644                  /threads/feed-suggestions.781770/  ...                  /threads/feed-suggestions.781770/\n",
              "2645       /threads/question-about-vaccinations.781673/  ...       /threads/question-about-vaccinations.781673/\n",
              "8189  /threads/which-joint-supplements-do-you-use-fo...  ...  /threads/which-joint-supplements-do-you-use-fo...\n",
              "\n",
              "[5 rows x 3 columns]"
            ]
          },
          "metadata": {},
          "execution_count": 8
        }
      ]
    },
    {
      "cell_type": "code",
      "metadata": {
        "id": "IqP8NUah0krT",
        "colab": {
          "base_uri": "https://localhost:8080/",
          "height": 597
        },
        "outputId": "e4b4f085-f238-4f51-a601-8f4da13a38da"
      },
      "source": [
        "# Add `participant_count` feature to the \"thread\" dataset (from \"pages\" dataset)\n",
        "df_horseforum_threads = pd.merge(\n",
        "    df_horseforum_threads_raw\n",
        "    ,df_horseforum_thread_pages_raw.drop(['page_url_path'], axis=1).drop_duplicates()\n",
        "    ,how='left'    \n",
        "    ,left_on='thread_url_path'\n",
        "    ,right_on='thread_url_path'\n",
        "    )\n",
        "\n",
        "df_horseforum_threads"
      ],
      "execution_count": 9,
      "outputs": [
        {
          "output_type": "execute_result",
          "data": {
            "text/html": [
              "<div>\n",
              "<style scoped>\n",
              "    .dataframe tbody tr th:only-of-type {\n",
              "        vertical-align: middle;\n",
              "    }\n",
              "\n",
              "    .dataframe tbody tr th {\n",
              "        vertical-align: top;\n",
              "    }\n",
              "\n",
              "    .dataframe thead th {\n",
              "        text-align: right;\n",
              "    }\n",
              "</style>\n",
              "<table border=\"1\" class=\"dataframe\">\n",
              "  <thead>\n",
              "    <tr style=\"text-align: right;\">\n",
              "      <th></th>\n",
              "      <th>thread_title</th>\n",
              "      <th>thread_url_path</th>\n",
              "      <th>thread_created_date</th>\n",
              "      <th>thread_created_by</th>\n",
              "      <th>thread_created_by_url_path</th>\n",
              "      <th>thread_view_count</th>\n",
              "      <th>thread_reply_count</th>\n",
              "      <th>thread_last_replied_date</th>\n",
              "      <th>thread_last_replied_by</th>\n",
              "      <th>thread_last_replied_by_url_path</th>\n",
              "      <th>participant_count</th>\n",
              "    </tr>\n",
              "  </thead>\n",
              "  <tbody>\n",
              "    <tr>\n",
              "      <th>0</th>\n",
              "      <td>PLEASE READ BEFORE POSTING (both older and new...</td>\n",
              "      <td>/threads/please-read-before-posting-both-older...</td>\n",
              "      <td>2020-12-27T19:19:33-0500</td>\n",
              "      <td>TaMMa89</td>\n",
              "      <td>/members/tamma89.3542/</td>\n",
              "      <td>1076</td>\n",
              "      <td>0</td>\n",
              "      <td>2020-12-27T19:19:33-0500</td>\n",
              "      <td>TaMMa89</td>\n",
              "      <td>/members/tamma89.3542/</td>\n",
              "      <td>1</td>\n",
              "    </tr>\n",
              "    <tr>\n",
              "      <th>1</th>\n",
              "      <td>poisonous plants from HF member locations</td>\n",
              "      <td>/threads/poisonous-plants-from-hf-member-locat...</td>\n",
              "      <td>2018-01-01T22:03:05-0500</td>\n",
              "      <td>Smilie</td>\n",
              "      <td>/members/smilie.18361/</td>\n",
              "      <td>2151</td>\n",
              "      <td>5</td>\n",
              "      <td>2020-12-08T16:29:12-0500</td>\n",
              "      <td>stevenson</td>\n",
              "      <td>/members/stevenson.26572/</td>\n",
              "      <td>5</td>\n",
              "    </tr>\n",
              "    <tr>\n",
              "      <th>2</th>\n",
              "      <td>The Care of an Emaciated Horse</td>\n",
              "      <td>/threads/the-care-of-an-emaciated-horse.100412/</td>\n",
              "      <td>2011-10-14T09:02:04-0400</td>\n",
              "      <td>xxBarry Godden</td>\n",
              "      <td>/members/xxbarry-godden.9451/</td>\n",
              "      <td>48970</td>\n",
              "      <td>54</td>\n",
              "      <td>2020-11-26T10:09:30-0500</td>\n",
              "      <td>horselovinguy</td>\n",
              "      <td>/members/horselovinguy.79162/</td>\n",
              "      <td>31</td>\n",
              "    </tr>\n",
              "    <tr>\n",
              "      <th>3</th>\n",
              "      <td>Making a Vet Kit</td>\n",
              "      <td>/threads/making-a-vet-kit.251/</td>\n",
              "      <td>2007-01-07T02:14:09-0500</td>\n",
              "      <td>Skippy!</td>\n",
              "      <td>/members/skippy.157/</td>\n",
              "      <td>2091441</td>\n",
              "      <td>277</td>\n",
              "      <td>2019-08-26T04:44:59-0400</td>\n",
              "      <td>AmiraAchek</td>\n",
              "      <td>/members/amiraachek.280747/</td>\n",
              "      <td>215</td>\n",
              "    </tr>\n",
              "    <tr>\n",
              "      <th>4</th>\n",
              "      <td>Information on Myopathies - PSSM1, PSSM2, MFM,...</td>\n",
              "      <td>/threads/information-on-myopathies-pssm1-pssm2...</td>\n",
              "      <td>2017-08-17T20:06:14-0400</td>\n",
              "      <td>Espy</td>\n",
              "      <td>/members/espy.168162/</td>\n",
              "      <td>17546</td>\n",
              "      <td>5</td>\n",
              "      <td>2018-09-17T16:44:33-0400</td>\n",
              "      <td>Espy</td>\n",
              "      <td>/members/espy.168162/</td>\n",
              "      <td>2</td>\n",
              "    </tr>\n",
              "    <tr>\n",
              "      <th>...</th>\n",
              "      <td>...</td>\n",
              "      <td>...</td>\n",
              "      <td>...</td>\n",
              "      <td>...</td>\n",
              "      <td>...</td>\n",
              "      <td>...</td>\n",
              "      <td>...</td>\n",
              "      <td>...</td>\n",
              "      <td>...</td>\n",
              "      <td>...</td>\n",
              "      <td>...</td>\n",
              "    </tr>\n",
              "    <tr>\n",
              "      <th>20949</th>\n",
              "      <td>Recovery from Torn Rear Suspensory Ligament</td>\n",
              "      <td>/threads/recovery-from-torn-rear-suspensory-li...</td>\n",
              "      <td>2006-12-22T05:26:11-0500</td>\n",
              "      <td>trusspt</td>\n",
              "      <td>/members/trusspt.170/</td>\n",
              "      <td>6106</td>\n",
              "      <td>1</td>\n",
              "      <td>2006-12-30T04:51:20-0500</td>\n",
              "      <td>stacyh</td>\n",
              "      <td>/members/stacyh.186/</td>\n",
              "      <td>2</td>\n",
              "    </tr>\n",
              "    <tr>\n",
              "      <th>20950</th>\n",
              "      <td>how to get horses to gaine weight</td>\n",
              "      <td>/threads/how-to-get-horses-to-gaine-weight.99/</td>\n",
              "      <td>2006-12-05T11:54:51-0500</td>\n",
              "      <td>nybarrelracer</td>\n",
              "      <td>/members/nybarrelracer.121/</td>\n",
              "      <td>4988</td>\n",
              "      <td>14</td>\n",
              "      <td>2006-12-21T07:55:03-0500</td>\n",
              "      <td>brandig</td>\n",
              "      <td>/members/brandig.57/</td>\n",
              "      <td>9</td>\n",
              "    </tr>\n",
              "    <tr>\n",
              "      <th>20951</th>\n",
              "      <td>PAXIL?</td>\n",
              "      <td>/threads/paxil.102/</td>\n",
              "      <td>2006-12-06T10:09:20-0500</td>\n",
              "      <td>tuffstuff</td>\n",
              "      <td>/members/tuffstuff.123/</td>\n",
              "      <td>3240</td>\n",
              "      <td>3</td>\n",
              "      <td>2006-12-11T20:29:12-0500</td>\n",
              "      <td>kristy</td>\n",
              "      <td>/members/kristy.132/</td>\n",
              "      <td>4</td>\n",
              "    </tr>\n",
              "    <tr>\n",
              "      <th>20952</th>\n",
              "      <td>Loose stool</td>\n",
              "      <td>/threads/loose-stool.101/</td>\n",
              "      <td>2006-12-05T18:42:31-0500</td>\n",
              "      <td>Cedarsgirl</td>\n",
              "      <td>/members/cedarsgirl.120/</td>\n",
              "      <td>5694</td>\n",
              "      <td>10</td>\n",
              "      <td>2006-12-10T21:52:11-0500</td>\n",
              "      <td>Cedarsgirl</td>\n",
              "      <td>/members/cedarsgirl.120/</td>\n",
              "      <td>4</td>\n",
              "    </tr>\n",
              "    <tr>\n",
              "      <th>20953</th>\n",
              "      <td>Quietex</td>\n",
              "      <td>/threads/quietex.49/</td>\n",
              "      <td>2006-11-14T23:17:30-0500</td>\n",
              "      <td>KristyMarie87</td>\n",
              "      <td>/members/kristymarie87.65/</td>\n",
              "      <td>5970</td>\n",
              "      <td>2</td>\n",
              "      <td>2006-11-20T11:19:12-0500</td>\n",
              "      <td>OhSnapItsRoxy</td>\n",
              "      <td>/members/ohsnapitsroxy.77/</td>\n",
              "      <td>3</td>\n",
              "    </tr>\n",
              "  </tbody>\n",
              "</table>\n",
              "<p>20954 rows × 11 columns</p>\n",
              "</div>"
            ],
            "text/plain": [
              "                                            thread_title  ... participant_count\n",
              "0      PLEASE READ BEFORE POSTING (both older and new...  ...                 1\n",
              "1              poisonous plants from HF member locations  ...                 5\n",
              "2                         The Care of an Emaciated Horse  ...                31\n",
              "3                                       Making a Vet Kit  ...               215\n",
              "4      Information on Myopathies - PSSM1, PSSM2, MFM,...  ...                 2\n",
              "...                                                  ...  ...               ...\n",
              "20949        Recovery from Torn Rear Suspensory Ligament  ...                 2\n",
              "20950                  how to get horses to gaine weight  ...                 9\n",
              "20951                                             PAXIL?  ...                 4\n",
              "20952                                        Loose stool  ...                 4\n",
              "20953                                            Quietex  ...                 3\n",
              "\n",
              "[20954 rows x 11 columns]"
            ]
          },
          "metadata": {},
          "execution_count": 9
        }
      ]
    },
    {
      "cell_type": "markdown",
      "metadata": {
        "id": "cfCc0YO727wo"
      },
      "source": [
        "#### Consolidate thread corpus\n",
        "\n",
        "Each *thread* consisted of multiple *posts*, where each unique post is its own observation. For the purpose topic modelling, the posts of each thread need to be combined to create one \"document\" per thread. The wrangling steps were as follows:\n",
        "\n",
        "1. Coalesce `NaN` values in the `post_text` feature to empty strings.\n",
        "2. Group the dataset to produce a list of all posts for a given thread.\n",
        "3. Concatenate the list of posts into a single document (string).\n",
        "4. Combine the thread's title into the thread's document"
      ]
    },
    {
      "cell_type": "code",
      "metadata": {
        "id": "xEOllqEnXDQp"
      },
      "source": [
        "# Initialise a \"processed\" version of the orginal data frame\n",
        "df_horseforum_thread_posts = df_horseforum_thread_posts_raw.copy()\n",
        "\n",
        "# Convert NaN to empty string\n",
        "df_horseforum_thread_posts[['post_text']] = df_horseforum_thread_posts[['post_text']].fillna(value=\"\")"
      ],
      "execution_count": 10,
      "outputs": []
    },
    {
      "cell_type": "code",
      "metadata": {
        "id": "u1PynE3NXH_H"
      },
      "source": [
        "# Group by feature `thread_url_path` to aggregate feature `post_text` into a `list`.\n",
        "tmpdf = df_horseforum_thread_posts.groupby(['thread_url_path'], as_index = False).agg({'post_text': list})\n",
        "\n",
        "# Concatenate a thread's posts into a single document\n",
        "tmpdf['thread_document'] = tmpdf['post_text'].apply('\\n'.join)"
      ],
      "execution_count": 11,
      "outputs": []
    },
    {
      "cell_type": "code",
      "metadata": {
        "id": "Gj93_4hX-dyQ",
        "colab": {
          "base_uri": "https://localhost:8080/",
          "height": 929
        },
        "outputId": "2acc4f38-456b-4b33-ab0a-a33bbdfd8870"
      },
      "source": [
        "# Combine the aggregated post features into the main thread data frame\n",
        "df_horseforum_threads = pd.merge(\n",
        "    df_horseforum_threads.drop(['post_text','thread_document']\n",
        "                               ,axis=1\n",
        "                               ,errors='ignore' # in case cell run multiple times\n",
        "                               ) \n",
        "    ,tmpdf\n",
        "    ,how='left'    \n",
        "    ,left_on='thread_url_path'\n",
        "    ,right_on='thread_url_path'\n",
        "    )\n",
        "\n",
        "# Convert NaN to empty string (occured because of the join)\n",
        "df_horseforum_threads[['thread_document']] = df_horseforum_threads[['thread_document']].fillna(value=\"\")\n",
        "\n",
        "df_horseforum_threads['thread_document'] = df_horseforum_threads['thread_title'] + \"\\n\" + df_horseforum_threads['thread_document']\n",
        "\n",
        "df_horseforum_threads"
      ],
      "execution_count": 12,
      "outputs": [
        {
          "output_type": "execute_result",
          "data": {
            "text/html": [
              "<div>\n",
              "<style scoped>\n",
              "    .dataframe tbody tr th:only-of-type {\n",
              "        vertical-align: middle;\n",
              "    }\n",
              "\n",
              "    .dataframe tbody tr th {\n",
              "        vertical-align: top;\n",
              "    }\n",
              "\n",
              "    .dataframe thead th {\n",
              "        text-align: right;\n",
              "    }\n",
              "</style>\n",
              "<table border=\"1\" class=\"dataframe\">\n",
              "  <thead>\n",
              "    <tr style=\"text-align: right;\">\n",
              "      <th></th>\n",
              "      <th>thread_title</th>\n",
              "      <th>thread_url_path</th>\n",
              "      <th>thread_created_date</th>\n",
              "      <th>thread_created_by</th>\n",
              "      <th>thread_created_by_url_path</th>\n",
              "      <th>thread_view_count</th>\n",
              "      <th>thread_reply_count</th>\n",
              "      <th>thread_last_replied_date</th>\n",
              "      <th>thread_last_replied_by</th>\n",
              "      <th>thread_last_replied_by_url_path</th>\n",
              "      <th>participant_count</th>\n",
              "      <th>post_text</th>\n",
              "      <th>thread_document</th>\n",
              "    </tr>\n",
              "  </thead>\n",
              "  <tbody>\n",
              "    <tr>\n",
              "      <th>0</th>\n",
              "      <td>PLEASE READ BEFORE POSTING (both older and new...</td>\n",
              "      <td>/threads/please-read-before-posting-both-older...</td>\n",
              "      <td>2020-12-27T19:19:33-0500</td>\n",
              "      <td>TaMMa89</td>\n",
              "      <td>/members/tamma89.3542/</td>\n",
              "      <td>1076</td>\n",
              "      <td>0</td>\n",
              "      <td>2020-12-27T19:19:33-0500</td>\n",
              "      <td>TaMMa89</td>\n",
              "      <td>/members/tamma89.3542/</td>\n",
              "      <td>1</td>\n",
              "      <td>[New Horseforum.com format was launched in Nov...</td>\n",
              "      <td>PLEASE READ BEFORE POSTING (both older and new...</td>\n",
              "    </tr>\n",
              "    <tr>\n",
              "      <th>1</th>\n",
              "      <td>poisonous plants from HF member locations</td>\n",
              "      <td>/threads/poisonous-plants-from-hf-member-locat...</td>\n",
              "      <td>2018-01-01T22:03:05-0500</td>\n",
              "      <td>Smilie</td>\n",
              "      <td>/members/smilie.18361/</td>\n",
              "      <td>2151</td>\n",
              "      <td>5</td>\n",
              "      <td>2020-12-08T16:29:12-0500</td>\n",
              "      <td>stevenson</td>\n",
              "      <td>/members/stevenson.26572/</td>\n",
              "      <td>5</td>\n",
              "      <td>[MOD NOTE (Jaydee)\\n\\nPlease could we keep thi...</td>\n",
              "      <td>poisonous plants from HF member locations\\nMOD...</td>\n",
              "    </tr>\n",
              "    <tr>\n",
              "      <th>2</th>\n",
              "      <td>The Care of an Emaciated Horse</td>\n",
              "      <td>/threads/the-care-of-an-emaciated-horse.100412/</td>\n",
              "      <td>2011-10-14T09:02:04-0400</td>\n",
              "      <td>xxBarry Godden</td>\n",
              "      <td>/members/xxbarry-godden.9451/</td>\n",
              "      <td>48970</td>\n",
              "      <td>54</td>\n",
              "      <td>2020-11-26T10:09:30-0500</td>\n",
              "      <td>horselovinguy</td>\n",
              "      <td>/members/horselovinguy.79162/</td>\n",
              "      <td>31</td>\n",
              "      <td>[My friend and I, both experienced horse peopl...</td>\n",
              "      <td>The Care of an Emaciated Horse\\nMy friend and ...</td>\n",
              "    </tr>\n",
              "    <tr>\n",
              "      <th>3</th>\n",
              "      <td>Making a Vet Kit</td>\n",
              "      <td>/threads/making-a-vet-kit.251/</td>\n",
              "      <td>2007-01-07T02:14:09-0500</td>\n",
              "      <td>Skippy!</td>\n",
              "      <td>/members/skippy.157/</td>\n",
              "      <td>2091441</td>\n",
              "      <td>277</td>\n",
              "      <td>2019-08-26T04:44:59-0400</td>\n",
              "      <td>AmiraAchek</td>\n",
              "      <td>/members/amiraachek.280747/</td>\n",
              "      <td>215</td>\n",
              "      <td>[Hey guys! I am posting this thread primarily ...</td>\n",
              "      <td>Making a Vet Kit\\nHey guys! I am posting this ...</td>\n",
              "    </tr>\n",
              "    <tr>\n",
              "      <th>4</th>\n",
              "      <td>Information on Myopathies - PSSM1, PSSM2, MFM,...</td>\n",
              "      <td>/threads/information-on-myopathies-pssm1-pssm2...</td>\n",
              "      <td>2017-08-17T20:06:14-0400</td>\n",
              "      <td>Espy</td>\n",
              "      <td>/members/espy.168162/</td>\n",
              "      <td>17546</td>\n",
              "      <td>5</td>\n",
              "      <td>2018-09-17T16:44:33-0400</td>\n",
              "      <td>Espy</td>\n",
              "      <td>/members/espy.168162/</td>\n",
              "      <td>2</td>\n",
              "      <td>[PSSM1, PSSM2, MFM, and RER\\n\\n\\n\\n\\n\\nThe sym...</td>\n",
              "      <td>Information on Myopathies - PSSM1, PSSM2, MFM,...</td>\n",
              "    </tr>\n",
              "    <tr>\n",
              "      <th>...</th>\n",
              "      <td>...</td>\n",
              "      <td>...</td>\n",
              "      <td>...</td>\n",
              "      <td>...</td>\n",
              "      <td>...</td>\n",
              "      <td>...</td>\n",
              "      <td>...</td>\n",
              "      <td>...</td>\n",
              "      <td>...</td>\n",
              "      <td>...</td>\n",
              "      <td>...</td>\n",
              "      <td>...</td>\n",
              "      <td>...</td>\n",
              "    </tr>\n",
              "    <tr>\n",
              "      <th>20949</th>\n",
              "      <td>Recovery from Torn Rear Suspensory Ligament</td>\n",
              "      <td>/threads/recovery-from-torn-rear-suspensory-li...</td>\n",
              "      <td>2006-12-22T05:26:11-0500</td>\n",
              "      <td>trusspt</td>\n",
              "      <td>/members/trusspt.170/</td>\n",
              "      <td>6106</td>\n",
              "      <td>1</td>\n",
              "      <td>2006-12-30T04:51:20-0500</td>\n",
              "      <td>stacyh</td>\n",
              "      <td>/members/stacyh.186/</td>\n",
              "      <td>2</td>\n",
              "      <td>[Hi, I have a standardbred horse I am about to...</td>\n",
              "      <td>Recovery from Torn Rear Suspensory Ligament\\nH...</td>\n",
              "    </tr>\n",
              "    <tr>\n",
              "      <th>20950</th>\n",
              "      <td>how to get horses to gaine weight</td>\n",
              "      <td>/threads/how-to-get-horses-to-gaine-weight.99/</td>\n",
              "      <td>2006-12-05T11:54:51-0500</td>\n",
              "      <td>nybarrelracer</td>\n",
              "      <td>/members/nybarrelracer.121/</td>\n",
              "      <td>4988</td>\n",
              "      <td>14</td>\n",
              "      <td>2006-12-21T07:55:03-0500</td>\n",
              "      <td>brandig</td>\n",
              "      <td>/members/brandig.57/</td>\n",
              "      <td>9</td>\n",
              "      <td>[I found out that you can give a horse black o...</td>\n",
              "      <td>how to get horses to gaine weight\\nI found out...</td>\n",
              "    </tr>\n",
              "    <tr>\n",
              "      <th>20951</th>\n",
              "      <td>PAXIL?</td>\n",
              "      <td>/threads/paxil.102/</td>\n",
              "      <td>2006-12-06T10:09:20-0500</td>\n",
              "      <td>tuffstuff</td>\n",
              "      <td>/members/tuffstuff.123/</td>\n",
              "      <td>3240</td>\n",
              "      <td>3</td>\n",
              "      <td>2006-12-11T20:29:12-0500</td>\n",
              "      <td>kristy</td>\n",
              "      <td>/members/kristy.132/</td>\n",
              "      <td>4</td>\n",
              "      <td>[We have a horse who is just a simply high str...</td>\n",
              "      <td>PAXIL?\\nWe have a horse who is just a simply h...</td>\n",
              "    </tr>\n",
              "    <tr>\n",
              "      <th>20952</th>\n",
              "      <td>Loose stool</td>\n",
              "      <td>/threads/loose-stool.101/</td>\n",
              "      <td>2006-12-05T18:42:31-0500</td>\n",
              "      <td>Cedarsgirl</td>\n",
              "      <td>/members/cedarsgirl.120/</td>\n",
              "      <td>5694</td>\n",
              "      <td>10</td>\n",
              "      <td>2006-12-10T21:52:11-0500</td>\n",
              "      <td>Cedarsgirl</td>\n",
              "      <td>/members/cedarsgirl.120/</td>\n",
              "      <td>4</td>\n",
              "      <td>[I have a three year old filly that tends to h...</td>\n",
              "      <td>Loose stool\\nI have a three year old filly tha...</td>\n",
              "    </tr>\n",
              "    <tr>\n",
              "      <th>20953</th>\n",
              "      <td>Quietex</td>\n",
              "      <td>/threads/quietex.49/</td>\n",
              "      <td>2006-11-14T23:17:30-0500</td>\n",
              "      <td>KristyMarie87</td>\n",
              "      <td>/members/kristymarie87.65/</td>\n",
              "      <td>5970</td>\n",
              "      <td>2</td>\n",
              "      <td>2006-11-20T11:19:12-0500</td>\n",
              "      <td>OhSnapItsRoxy</td>\n",
              "      <td>/members/ohsnapitsroxy.77/</td>\n",
              "      <td>3</td>\n",
              "      <td>[I have a 4 year old Paint Gelding who is very...</td>\n",
              "      <td>Quietex\\nI have a 4 year old Paint Gelding who...</td>\n",
              "    </tr>\n",
              "  </tbody>\n",
              "</table>\n",
              "<p>20954 rows × 13 columns</p>\n",
              "</div>"
            ],
            "text/plain": [
              "                                            thread_title  ...                                    thread_document\n",
              "0      PLEASE READ BEFORE POSTING (both older and new...  ...  PLEASE READ BEFORE POSTING (both older and new...\n",
              "1              poisonous plants from HF member locations  ...  poisonous plants from HF member locations\\nMOD...\n",
              "2                         The Care of an Emaciated Horse  ...  The Care of an Emaciated Horse\\nMy friend and ...\n",
              "3                                       Making a Vet Kit  ...  Making a Vet Kit\\nHey guys! I am posting this ...\n",
              "4      Information on Myopathies - PSSM1, PSSM2, MFM,...  ...  Information on Myopathies - PSSM1, PSSM2, MFM,...\n",
              "...                                                  ...  ...                                                ...\n",
              "20949        Recovery from Torn Rear Suspensory Ligament  ...  Recovery from Torn Rear Suspensory Ligament\\nH...\n",
              "20950                  how to get horses to gaine weight  ...  how to get horses to gaine weight\\nI found out...\n",
              "20951                                             PAXIL?  ...  PAXIL?\\nWe have a horse who is just a simply h...\n",
              "20952                                        Loose stool  ...  Loose stool\\nI have a three year old filly tha...\n",
              "20953                                            Quietex  ...  Quietex\\nI have a 4 year old Paint Gelding who...\n",
              "\n",
              "[20954 rows x 13 columns]"
            ]
          },
          "metadata": {},
          "execution_count": 12
        }
      ]
    },
    {
      "cell_type": "code",
      "metadata": {
        "id": "xC8OFOFUyHYN",
        "colab": {
          "base_uri": "https://localhost:8080/"
        },
        "outputId": "425e0872-63e3-4c41-ad4b-b721f375bb22"
      },
      "source": [
        "# Summary\n",
        "df_horseforum_threads.info()"
      ],
      "execution_count": null,
      "outputs": [
        {
          "output_type": "stream",
          "name": "stdout",
          "text": [
            "<class 'pandas.core.frame.DataFrame'>\n",
            "Int64Index: 20954 entries, 0 to 20953\n",
            "Data columns (total 13 columns):\n",
            " #   Column                           Non-Null Count  Dtype \n",
            "---  ------                           --------------  ----- \n",
            " 0   thread_title                     20954 non-null  object\n",
            " 1   thread_url_path                  20954 non-null  object\n",
            " 2   thread_created_date              20954 non-null  object\n",
            " 3   thread_created_by                20953 non-null  object\n",
            " 4   thread_created_by_url_path       20953 non-null  object\n",
            " 5   thread_view_count                20954 non-null  int64 \n",
            " 6   thread_reply_count               20954 non-null  int64 \n",
            " 7   thread_last_replied_date         20954 non-null  object\n",
            " 8   thread_last_replied_by           20948 non-null  object\n",
            " 9   thread_last_replied_by_url_path  20948 non-null  object\n",
            " 10  participant_count                20954 non-null  int64 \n",
            " 11  post_text                        20949 non-null  object\n",
            " 12  thread_document                  20954 non-null  object\n",
            "dtypes: int64(3), object(10)\n",
            "memory usage: 2.2+ MB\n"
          ]
        }
      ]
    },
    {
      "cell_type": "markdown",
      "metadata": {
        "id": "QCfP5E3csOuE"
      },
      "source": [
        "#### Thread & post character lengths"
      ]
    },
    {
      "cell_type": "code",
      "metadata": {
        "colab": {
          "base_uri": "https://localhost:8080/"
        },
        "id": "1h0czbtzqOA6",
        "outputId": "20bcbd2a-f61d-491c-ac24-b92fbb601412"
      },
      "source": [
        "thread_char_len = df_horseforum_threads['thread_document'].apply(len)\n",
        "avg_char_per_thread = sum(thread_char_len) / len(thread_char_len)\n",
        "print(\"Average character length per thread: {}\".format(int(avg_char_per_thread)))"
      ],
      "execution_count": 21,
      "outputs": [
        {
          "output_type": "stream",
          "name": "stdout",
          "text": [
            "Average character length per thread: 6137\n"
          ]
        }
      ]
    },
    {
      "cell_type": "code",
      "metadata": {
        "colab": {
          "base_uri": "https://localhost:8080/"
        },
        "id": "ypHeMoZMqtZn",
        "outputId": "9472b605-7c94-4890-e35f-bc160ee28631"
      },
      "source": [
        "post_char_len = df_horseforum_thread_posts['post_text'].apply(len)\n",
        "avg_char_per_post = sum(post_char_len) / len(post_char_len)\n",
        "print(\"Average character length per post: {}\".format(int(avg_char_per_post)))"
      ],
      "execution_count": 22,
      "outputs": [
        {
          "output_type": "stream",
          "name": "stdout",
          "text": [
            "Average character length per post: 549\n"
          ]
        }
      ]
    },
    {
      "cell_type": "markdown",
      "metadata": {
        "id": "z75NS-w5K72t"
      },
      "source": [
        "## NLP - cleaning corpus"
      ]
    },
    {
      "cell_type": "markdown",
      "metadata": {
        "id": "-VF2mCwxLMDi"
      },
      "source": [
        "The following performs common cleaning tasks for the corups:\n",
        "\n",
        "* Remove HTML / URLs / email\n",
        "* Convert encodings\n",
        "\n",
        "The following tasks were applied in a later section, only to the corpus used for *topic modelling* (and not *sentiment analysis*):\n",
        "\n",
        "* Lower case\n",
        "* Punctuation\n",
        "* Removal of stopwords"
      ]
    },
    {
      "cell_type": "code",
      "metadata": {
        "id": "sE-6Ci13pOSl"
      },
      "source": [
        "# Intialise a new feature to store the \"cleaned\" document for each thread\n",
        "df_horseforum_threads['cleaned_document'] = df_horseforum_threads['thread_document']"
      ],
      "execution_count": null,
      "outputs": []
    },
    {
      "cell_type": "markdown",
      "metadata": {
        "id": "uBams5jNLJvW"
      },
      "source": [
        "### Remove HTML / URLs / email"
      ]
    },
    {
      "cell_type": "markdown",
      "metadata": {
        "id": "ViM7E82ApEBi"
      },
      "source": [
        "#### Identify"
      ]
    },
    {
      "cell_type": "markdown",
      "metadata": {
        "id": "093szzNGoKwd"
      },
      "source": [
        "**Websites & URLs**\n",
        "\n",
        "Identify website URLS."
      ]
    },
    {
      "cell_type": "code",
      "metadata": {
        "colab": {
          "base_uri": "https://localhost:8080/"
        },
        "id": "eztgehN4LEBn",
        "outputId": "3ac22bea-fd5e-453e-e497-7bc7849883c0"
      },
      "source": [
        "# Search for website URLs\n",
        "regex_pattern_website = r'(https?://\\S+|ftp://|www[.]\\S+)'\n",
        "\n",
        "# ...too much output to print\n",
        "#print_column_search_contains(\n",
        "#    df_horseforum_threads[['cleaned_document']]\n",
        "#    ,regex_pattern_website\n",
        "#    ,print_long = False\n",
        "#    ,max_print_per_feature = 10\n",
        "#    )\n",
        "found_websites = get_column_search_findall(df_horseforum_threads[['cleaned_document']]\n",
        "                                            ,pattern=regex_pattern_website\n",
        "                                            ,unique_only=False)\n",
        "print(\"Total URLs found: {}\".format(len(found_websites)))\n",
        "\n",
        "found_websites = list(set(found_websites))\n",
        "print(\"Unique URLs found: {}\".format(len(found_websites)))\n",
        "print()\n",
        "\n",
        "print(\"Random sample of URLs:\")\n",
        "if len(found_websites) > 0:\n",
        "    pprint(\n",
        "        random.sample(\n",
        "            found_websites\n",
        "            ,min(10, len(found_websites))\n",
        "            )\n",
        "        )\n",
        "else:\n",
        "    print([])"
      ],
      "execution_count": null,
      "outputs": [
        {
          "output_type": "stream",
          "name": "stdout",
          "text": [
            "Total URLs found: 5760\n",
            "Unique URLs found: 4541\n",
            "\n",
            "Random sample of URLs:\n",
            "['http://kmooreequineinsurance.com/',\n",
            " 'http://www.horseforum.com/western-riding/how-short-your-stirrups-why-102197/',\n",
            " 'https://www.horseforum.com/horse-health/working-diarrhea-794041/',\n",
            " 'http://api.viglink.com/api/click?format=go&amp;jsonp=vglnk_143630990811410&amp;key=7c5446fcab6924bf240412cd972f8dc2&amp;libId=ibtwu6kf0100bq5t000MAhvss1ksf&amp;loc=http%3A%2F%2Fwww.horseforum.com%2Fhorse-training%2Fexcellent-video-horses-buck-rear-fear-599281%2F%23post7694793&amp;v=1&amp;out=https%3A%2F%2Fwww.youtube.com%2Fwatch%3Fv%3DOH6LC32W4jY&amp;ref=http%3A%2F%2Fwww.horseforum.com%2Fsearch.php%3Fsearchid%3D20082378%26pp%3D25%26page%3D4&amp;title=Excellent%20video-horses%20that%20buck%20and%20rear-fear%2C%20pain%20or%20disrespect%20-%20The%20Horse%20Forum&amp;txt=https%3A%2F%2Fwww.youtube.com%2Fwatch%3Fv%3DOH6LC32W4jY',\n",
            " 'http://www.horseforum.com/horse-health/worming-hot-weather-32569/',\n",
            " 'http://s847.photobucket.com/user/Amber905/media/z2.jpg.html?sort=3&amp;o=1',\n",
            " 'https://www.facebook.com/anokaequine/posts/10152349027079228',\n",
            " 'http://blueseal.com/files/feeding-and-mgmt/equine/25_MinaViteLite.pdf',\n",
            " 'www.animalchiropractic.co.nz/pdf/girthy_horse.pdf',\n",
            " 'https://www.oregonhumane.org/horses-neglected-clatskanie/']\n"
          ]
        }
      ]
    },
    {
      "cell_type": "markdown",
      "metadata": {
        "id": "0r1s5RbqpwJZ"
      },
      "source": [
        "As an exploratory task, unique URL domains were investigated."
      ]
    },
    {
      "cell_type": "code",
      "metadata": {
        "colab": {
          "base_uri": "https://localhost:8080/"
        },
        "id": "dVw9NQR6jgnS",
        "outputId": "29f7207e-8e68-4317-a042-257c8961331c"
      },
      "source": [
        "domains_list = [re.findall(r'^[^/]+', url_cleaned) for url_cleaned in [re.sub(r'https?://|ftp://', '', url) for url in found_websites]]\n",
        "domains = []\n",
        "for domain in domains_list:\n",
        "    domains.append(domain)\n",
        "domains = sum(domains,[])\n",
        "domains = set(domains)\n",
        "\n",
        "print(\"Unique URL domains found: {}\".format(len(domains)))\n",
        "print()\n",
        "\n",
        "print(\"Random sample of domains:\")\n",
        "if len(domains) > 0:\n",
        "    pprint(\n",
        "        random.sample(\n",
        "            domains\n",
        "            ,min(10, len(domains))\n",
        "            )\n",
        "        )\n",
        "else:\n",
        "    print([])"
      ],
      "execution_count": null,
      "outputs": [
        {
          "output_type": "stream",
          "name": "stdout",
          "text": [
            "Unique URL domains found: 1716\n",
            "\n",
            "Random sample of domains:\n",
            "['www.horsehoodies.org',\n",
            " 'bushcapital.org.au',\n",
            " 'www.sstack.com.',\n",
            " 'smile.amazon.com',\n",
            " 'www.google.com',\n",
            " 'shop.performanceequinenutrition.com',\n",
            " 'www.badmintonfeeds.co.uk',\n",
            " 'www.bio-vet.com',\n",
            " 'www.depaoloequineconcepts.com',\n",
            " 'www.riverina.com.au']\n"
          ]
        }
      ]
    },
    {
      "cell_type": "markdown",
      "metadata": {
        "id": "hOMsp3rJldIG"
      },
      "source": [
        "**Email addresses**"
      ]
    },
    {
      "cell_type": "code",
      "metadata": {
        "colab": {
          "base_uri": "https://localhost:8080/"
        },
        "id": "ONohAWI3lfeT",
        "outputId": "2c6fa633-bf09-4484-c83d-e72d923316fa"
      },
      "source": [
        "# Search for email addresses\n",
        "regex_pattern_email = r'(?i)\\b[A-Z0-9._%+-]+@[A-Z0-9.-]+\\.[A-Z]{2,}\\b'\n",
        "found_email = get_column_search_findall(df_horseforum_threads[['cleaned_document']]\n",
        "                                            ,pattern=regex_pattern_email\n",
        "                                            ,unique_only=False)\n",
        "print(\"Total email addresses found: {}\".format(len(found_email)))\n",
        "\n",
        "found_email = list(set(found_email))\n",
        "print(\"Unique email addresses found: {}\".format(len(found_email)))\n",
        "print()\n",
        "\n",
        "print(\"Random sample of email addresses:\")\n",
        "if len(found_email) > 0:\n",
        "    pprint(\n",
        "        random.sample(\n",
        "            found_email\n",
        "            ,min(10, len(found_email))\n",
        "            )\n",
        "        )\n",
        "else:\n",
        "    print([])"
      ],
      "execution_count": null,
      "outputs": [
        {
          "output_type": "stream",
          "name": "stdout",
          "text": [
            "Total email addresses found: 0\n",
            "Unique email addresses found: 0\n",
            "\n",
            "Random sample of email addresses:\n",
            "[]\n"
          ]
        }
      ]
    },
    {
      "cell_type": "markdown",
      "metadata": {
        "id": "39PvLdvUoF0r"
      },
      "source": [
        "**HTML tags**"
      ]
    },
    {
      "cell_type": "code",
      "metadata": {
        "colab": {
          "base_uri": "https://localhost:8080/"
        },
        "id": "RlabgX0uoFM6",
        "outputId": "5d6e5df0-0658-45f7-dabd-c1972bf0abc5"
      },
      "source": [
        "# Search for HTML tags\n",
        "regex_pattern_html_tag = r'<[^>]+>'\n",
        "found_tag = get_column_search_findall(df_horseforum_threads[['cleaned_document']]\n",
        "                                            ,pattern=regex_pattern_html_tag\n",
        "                                            ,unique_only=False)\n",
        "print(\"Total tags found: {}\".format(len(found_tag)))\n",
        "\n",
        "found_tag = list(set(found_tag))\n",
        "print(\"Unique tags found: {}\".format(len(found_tag)))\n",
        "print()\n",
        "\n",
        "print(\"Random sample of tags:\")\n",
        "if len(found_tag) > 0:\n",
        "    pprint(\n",
        "        random.sample(\n",
        "            found_tag\n",
        "            ,min(10, len(found_tag))\n",
        "            )\n",
        "        )\n",
        "else:\n",
        "    print([])"
      ],
      "execution_count": null,
      "outputs": [
        {
          "output_type": "stream",
          "name": "stdout",
          "text": [
            "Total tags found: 2\n",
            "Unique tags found: 2\n",
            "\n",
            "Random sample of tags:\n",
            "['<SPAN class=threadTitle>', '<</SPAN>']\n"
          ]
        }
      ]
    },
    {
      "cell_type": "markdown",
      "metadata": {
        "id": "PiloLtzFpKkN"
      },
      "source": [
        "#### Remove"
      ]
    },
    {
      "cell_type": "markdown",
      "metadata": {
        "id": "jR2ax089qAm5"
      },
      "source": [
        "The following sections removes the following identified elements from the thread's document:\n",
        "\n",
        "* URLs\n",
        "* email addresses\n",
        "* HTML tags\n",
        "\n",
        "\n",
        "\n",
        "<div class=\"alert alert-block alert-success\">\n",
        "\n",
        "<table>\n",
        "<tr>\n",
        "<td>\n",
        "\n",
        "*Note*: A prior methodlogy attempted to remove the unwanted elements by converting them to a dictionary (via user-defined function `set_dictionary_subst(found_websites)`)  and using `pandas` `replace()` method as below&mdash;however this proved to be much to slow for a corpus this size.\n",
        "\n",
        "```python\n",
        "df_horseforum_threads['cleaned_document'].replace(subst_dict_websites, regex = True, inplace=True)\n",
        "```\n",
        "\n",
        "</td>\n",
        "</tr>\n",
        "</table>\n",
        "</div>"
      ]
    },
    {
      "cell_type": "code",
      "metadata": {
        "colab": {
          "base_uri": "https://localhost:8080/"
        },
        "id": "UhUsI4_xwAz_",
        "outputId": "97933777-6a23-45a0-e6f5-21174abf290b"
      },
      "source": [
        "# Remove unwanted elements\n",
        "print(\"Remove website URLs...\")\n",
        "df_horseforum_threads['cleaned_document'] = [re.sub(regex_pattern_website, '', text) for text in df_horseforum_threads['cleaned_document']]\n",
        "print(\"Remove email addresses...\")\n",
        "df_horseforum_threads['cleaned_document'] = [re.sub(regex_pattern_email, '', text) for text in df_horseforum_threads['cleaned_document']]\n",
        "print(\"Remove HTML tags...\")\n",
        "df_horseforum_threads['cleaned_document'] = [re.sub(regex_pattern_html_tag, '', text) for text in df_horseforum_threads['cleaned_document']]\n",
        "print(\"...completed\")"
      ],
      "execution_count": null,
      "outputs": [
        {
          "output_type": "stream",
          "name": "stdout",
          "text": [
            "Remove website URLs...\n",
            "Remove email addresses...\n",
            "Remove HTML tags...\n",
            "...completed\n"
          ]
        }
      ]
    },
    {
      "cell_type": "markdown",
      "metadata": {
        "id": "cxQf1-xiuSbZ"
      },
      "source": [
        "### Character Encoding"
      ]
    },
    {
      "cell_type": "markdown",
      "metadata": {
        "id": "-48gQTc_uVVV"
      },
      "source": [
        "**Unicode to ASCII**\n",
        "\n",
        "In case there were any diacritic characters ('accented' characters), e.g.: à, ě, ī, ō, ū etc., such Unicode characters were decoded into \"equivalent\" ASCII characters. This was accomplished  using the Python `unidecode` library (https://pypi.org/project/Unidecode/).\n",
        "\n",
        "**HTML escape characters**\n",
        "\n",
        "Any HTML character escapes (refer https://www.w3.org/International/questions/qa-escapes),  were \"unescaped\" using the  `html.unescape()` function (e.g., quotations marks: `&quot;` $\\rightarrow$ `\"`).\n"
      ]
    },
    {
      "cell_type": "code",
      "metadata": {
        "colab": {
          "base_uri": "https://localhost:8080/"
        },
        "id": "q4E9NnWPt7g0",
        "outputId": "3e5171fa-0641-4163-9b19-9fed28b8c264"
      },
      "source": [
        "# Unescape HTML characters\n",
        "print(\"Unescape HTML escapes...\")\n",
        "df_horseforum_threads['cleaned_document'] = [html.unescape(text) if isinstance(text, str) else text for text in df_horseforum_threads['cleaned_document']]\n",
        "# Convert Unicode to ASCII\n",
        "print(\"Convert Unicode to ASCII...\")\n",
        "df_horseforum_threads['cleaned_document'] = [unidecode(text) if isinstance(text, str) else text for text in df_horseforum_threads['cleaned_document']]\n",
        "print(\"...completed\")"
      ],
      "execution_count": null,
      "outputs": [
        {
          "output_type": "stream",
          "name": "stdout",
          "text": [
            "Unescape HTML escapes...\n",
            "Convert Unicode to ASCII...\n",
            "...completed\n"
          ]
        }
      ]
    },
    {
      "cell_type": "markdown",
      "metadata": {
        "id": "vXubGS5957Bx"
      },
      "source": [
        "### Replace new-lines, digits, excess whitespace"
      ]
    },
    {
      "cell_type": "markdown",
      "metadata": {
        "id": "r0kphmFWf5rm"
      },
      "source": [
        "Punctuation is still retained at this point as it is required for sentiment analysis."
      ]
    },
    {
      "cell_type": "code",
      "metadata": {
        "colab": {
          "base_uri": "https://localhost:8080/",
          "height": 929
        },
        "id": "HAAFSnDK6ErA",
        "outputId": "9955ffd9-f3d9-4b2f-8f84-7b317fae487f"
      },
      "source": [
        "df_horseforum_threads['cleaned_document'].replace(\n",
        "    {\n",
        "        r'(\\n|\\r)+' : \" \"   # replace new-lines\n",
        "        ,r'\\b\\d+\\b' : \" \"   # replace strings of digits\n",
        "        ,r'\\s+' : ' '       # reduce multiple spaces\n",
        "     }\n",
        "    ,regex = True\n",
        "    ,inplace = True)\n",
        "df_horseforum_threads"
      ],
      "execution_count": null,
      "outputs": [
        {
          "output_type": "execute_result",
          "data": {
            "text/html": [
              "<div>\n",
              "<style scoped>\n",
              "    .dataframe tbody tr th:only-of-type {\n",
              "        vertical-align: middle;\n",
              "    }\n",
              "\n",
              "    .dataframe tbody tr th {\n",
              "        vertical-align: top;\n",
              "    }\n",
              "\n",
              "    .dataframe thead th {\n",
              "        text-align: right;\n",
              "    }\n",
              "</style>\n",
              "<table border=\"1\" class=\"dataframe\">\n",
              "  <thead>\n",
              "    <tr style=\"text-align: right;\">\n",
              "      <th></th>\n",
              "      <th>thread_title</th>\n",
              "      <th>thread_url_path</th>\n",
              "      <th>thread_created_date</th>\n",
              "      <th>thread_created_by</th>\n",
              "      <th>thread_created_by_url_path</th>\n",
              "      <th>thread_view_count</th>\n",
              "      <th>thread_reply_count</th>\n",
              "      <th>thread_last_replied_date</th>\n",
              "      <th>thread_last_replied_by</th>\n",
              "      <th>thread_last_replied_by_url_path</th>\n",
              "      <th>participant_count</th>\n",
              "      <th>post_text</th>\n",
              "      <th>thread_document</th>\n",
              "      <th>cleaned_document</th>\n",
              "    </tr>\n",
              "  </thead>\n",
              "  <tbody>\n",
              "    <tr>\n",
              "      <th>0</th>\n",
              "      <td>PLEASE READ BEFORE POSTING (both older and new...</td>\n",
              "      <td>/threads/please-read-before-posting-both-older...</td>\n",
              "      <td>2020-12-27T19:19:33-0500</td>\n",
              "      <td>TaMMa89</td>\n",
              "      <td>/members/tamma89.3542/</td>\n",
              "      <td>1076</td>\n",
              "      <td>0</td>\n",
              "      <td>2020-12-27T19:19:33-0500</td>\n",
              "      <td>TaMMa89</td>\n",
              "      <td>/members/tamma89.3542/</td>\n",
              "      <td>1</td>\n",
              "      <td>[New Horseforum.com format was launched in Nov...</td>\n",
              "      <td>PLEASE READ BEFORE POSTING (both older and new...</td>\n",
              "      <td>PLEASE READ BEFORE POSTING (both older and new...</td>\n",
              "    </tr>\n",
              "    <tr>\n",
              "      <th>1</th>\n",
              "      <td>poisonous plants from HF member locations</td>\n",
              "      <td>/threads/poisonous-plants-from-hf-member-locat...</td>\n",
              "      <td>2018-01-01T22:03:05-0500</td>\n",
              "      <td>Smilie</td>\n",
              "      <td>/members/smilie.18361/</td>\n",
              "      <td>2151</td>\n",
              "      <td>5</td>\n",
              "      <td>2020-12-08T16:29:12-0500</td>\n",
              "      <td>stevenson</td>\n",
              "      <td>/members/stevenson.26572/</td>\n",
              "      <td>5</td>\n",
              "      <td>[MOD NOTE (Jaydee)\\n\\nPlease could we keep thi...</td>\n",
              "      <td>poisonous plants from HF member locations\\nMOD...</td>\n",
              "      <td>poisonous plants from HF member locations MOD ...</td>\n",
              "    </tr>\n",
              "    <tr>\n",
              "      <th>2</th>\n",
              "      <td>The Care of an Emaciated Horse</td>\n",
              "      <td>/threads/the-care-of-an-emaciated-horse.100412/</td>\n",
              "      <td>2011-10-14T09:02:04-0400</td>\n",
              "      <td>xxBarry Godden</td>\n",
              "      <td>/members/xxbarry-godden.9451/</td>\n",
              "      <td>48970</td>\n",
              "      <td>54</td>\n",
              "      <td>2020-11-26T10:09:30-0500</td>\n",
              "      <td>horselovinguy</td>\n",
              "      <td>/members/horselovinguy.79162/</td>\n",
              "      <td>31</td>\n",
              "      <td>[My friend and I, both experienced horse peopl...</td>\n",
              "      <td>The Care of an Emaciated Horse\\nMy friend and ...</td>\n",
              "      <td>The Care of an Emaciated Horse My friend and I...</td>\n",
              "    </tr>\n",
              "    <tr>\n",
              "      <th>3</th>\n",
              "      <td>Making a Vet Kit</td>\n",
              "      <td>/threads/making-a-vet-kit.251/</td>\n",
              "      <td>2007-01-07T02:14:09-0500</td>\n",
              "      <td>Skippy!</td>\n",
              "      <td>/members/skippy.157/</td>\n",
              "      <td>2091441</td>\n",
              "      <td>277</td>\n",
              "      <td>2019-08-26T04:44:59-0400</td>\n",
              "      <td>AmiraAchek</td>\n",
              "      <td>/members/amiraachek.280747/</td>\n",
              "      <td>215</td>\n",
              "      <td>[Hey guys! I am posting this thread primarily ...</td>\n",
              "      <td>Making a Vet Kit\\nHey guys! I am posting this ...</td>\n",
              "      <td>Making a Vet Kit Hey guys! I am posting this t...</td>\n",
              "    </tr>\n",
              "    <tr>\n",
              "      <th>4</th>\n",
              "      <td>Information on Myopathies - PSSM1, PSSM2, MFM,...</td>\n",
              "      <td>/threads/information-on-myopathies-pssm1-pssm2...</td>\n",
              "      <td>2017-08-17T20:06:14-0400</td>\n",
              "      <td>Espy</td>\n",
              "      <td>/members/espy.168162/</td>\n",
              "      <td>17546</td>\n",
              "      <td>5</td>\n",
              "      <td>2018-09-17T16:44:33-0400</td>\n",
              "      <td>Espy</td>\n",
              "      <td>/members/espy.168162/</td>\n",
              "      <td>2</td>\n",
              "      <td>[PSSM1, PSSM2, MFM, and RER\\n\\n\\n\\n\\n\\nThe sym...</td>\n",
              "      <td>Information on Myopathies - PSSM1, PSSM2, MFM,...</td>\n",
              "      <td>Information on Myopathies - PSSM1, PSSM2, MFM,...</td>\n",
              "    </tr>\n",
              "    <tr>\n",
              "      <th>...</th>\n",
              "      <td>...</td>\n",
              "      <td>...</td>\n",
              "      <td>...</td>\n",
              "      <td>...</td>\n",
              "      <td>...</td>\n",
              "      <td>...</td>\n",
              "      <td>...</td>\n",
              "      <td>...</td>\n",
              "      <td>...</td>\n",
              "      <td>...</td>\n",
              "      <td>...</td>\n",
              "      <td>...</td>\n",
              "      <td>...</td>\n",
              "      <td>...</td>\n",
              "    </tr>\n",
              "    <tr>\n",
              "      <th>20949</th>\n",
              "      <td>Recovery from Torn Rear Suspensory Ligament</td>\n",
              "      <td>/threads/recovery-from-torn-rear-suspensory-li...</td>\n",
              "      <td>2006-12-22T05:26:11-0500</td>\n",
              "      <td>trusspt</td>\n",
              "      <td>/members/trusspt.170/</td>\n",
              "      <td>6106</td>\n",
              "      <td>1</td>\n",
              "      <td>2006-12-30T04:51:20-0500</td>\n",
              "      <td>stacyh</td>\n",
              "      <td>/members/stacyh.186/</td>\n",
              "      <td>2</td>\n",
              "      <td>[Hi, I have a standardbred horse I am about to...</td>\n",
              "      <td>Recovery from Torn Rear Suspensory Ligament\\nH...</td>\n",
              "      <td>Recovery from Torn Rear Suspensory Ligament Hi...</td>\n",
              "    </tr>\n",
              "    <tr>\n",
              "      <th>20950</th>\n",
              "      <td>how to get horses to gaine weight</td>\n",
              "      <td>/threads/how-to-get-horses-to-gaine-weight.99/</td>\n",
              "      <td>2006-12-05T11:54:51-0500</td>\n",
              "      <td>nybarrelracer</td>\n",
              "      <td>/members/nybarrelracer.121/</td>\n",
              "      <td>4988</td>\n",
              "      <td>14</td>\n",
              "      <td>2006-12-21T07:55:03-0500</td>\n",
              "      <td>brandig</td>\n",
              "      <td>/members/brandig.57/</td>\n",
              "      <td>9</td>\n",
              "      <td>[I found out that you can give a horse black o...</td>\n",
              "      <td>how to get horses to gaine weight\\nI found out...</td>\n",
              "      <td>how to get horses to gaine weight I found out ...</td>\n",
              "    </tr>\n",
              "    <tr>\n",
              "      <th>20951</th>\n",
              "      <td>PAXIL?</td>\n",
              "      <td>/threads/paxil.102/</td>\n",
              "      <td>2006-12-06T10:09:20-0500</td>\n",
              "      <td>tuffstuff</td>\n",
              "      <td>/members/tuffstuff.123/</td>\n",
              "      <td>3240</td>\n",
              "      <td>3</td>\n",
              "      <td>2006-12-11T20:29:12-0500</td>\n",
              "      <td>kristy</td>\n",
              "      <td>/members/kristy.132/</td>\n",
              "      <td>4</td>\n",
              "      <td>[We have a horse who is just a simply high str...</td>\n",
              "      <td>PAXIL?\\nWe have a horse who is just a simply h...</td>\n",
              "      <td>PAXIL? We have a horse who is just a simply hi...</td>\n",
              "    </tr>\n",
              "    <tr>\n",
              "      <th>20952</th>\n",
              "      <td>Loose stool</td>\n",
              "      <td>/threads/loose-stool.101/</td>\n",
              "      <td>2006-12-05T18:42:31-0500</td>\n",
              "      <td>Cedarsgirl</td>\n",
              "      <td>/members/cedarsgirl.120/</td>\n",
              "      <td>5694</td>\n",
              "      <td>10</td>\n",
              "      <td>2006-12-10T21:52:11-0500</td>\n",
              "      <td>Cedarsgirl</td>\n",
              "      <td>/members/cedarsgirl.120/</td>\n",
              "      <td>4</td>\n",
              "      <td>[I have a three year old filly that tends to h...</td>\n",
              "      <td>Loose stool\\nI have a three year old filly tha...</td>\n",
              "      <td>Loose stool I have a three year old filly that...</td>\n",
              "    </tr>\n",
              "    <tr>\n",
              "      <th>20953</th>\n",
              "      <td>Quietex</td>\n",
              "      <td>/threads/quietex.49/</td>\n",
              "      <td>2006-11-14T23:17:30-0500</td>\n",
              "      <td>KristyMarie87</td>\n",
              "      <td>/members/kristymarie87.65/</td>\n",
              "      <td>5970</td>\n",
              "      <td>2</td>\n",
              "      <td>2006-11-20T11:19:12-0500</td>\n",
              "      <td>OhSnapItsRoxy</td>\n",
              "      <td>/members/ohsnapitsroxy.77/</td>\n",
              "      <td>3</td>\n",
              "      <td>[I have a 4 year old Paint Gelding who is very...</td>\n",
              "      <td>Quietex\\nI have a 4 year old Paint Gelding who...</td>\n",
              "      <td>Quietex I have a year old Paint Gelding who is...</td>\n",
              "    </tr>\n",
              "  </tbody>\n",
              "</table>\n",
              "<p>20954 rows × 14 columns</p>\n",
              "</div>"
            ],
            "text/plain": [
              "                                            thread_title  ...                                   cleaned_document\n",
              "0      PLEASE READ BEFORE POSTING (both older and new...  ...  PLEASE READ BEFORE POSTING (both older and new...\n",
              "1              poisonous plants from HF member locations  ...  poisonous plants from HF member locations MOD ...\n",
              "2                         The Care of an Emaciated Horse  ...  The Care of an Emaciated Horse My friend and I...\n",
              "3                                       Making a Vet Kit  ...  Making a Vet Kit Hey guys! I am posting this t...\n",
              "4      Information on Myopathies - PSSM1, PSSM2, MFM,...  ...  Information on Myopathies - PSSM1, PSSM2, MFM,...\n",
              "...                                                  ...  ...                                                ...\n",
              "20949        Recovery from Torn Rear Suspensory Ligament  ...  Recovery from Torn Rear Suspensory Ligament Hi...\n",
              "20950                  how to get horses to gaine weight  ...  how to get horses to gaine weight I found out ...\n",
              "20951                                             PAXIL?  ...  PAXIL? We have a horse who is just a simply hi...\n",
              "20952                                        Loose stool  ...  Loose stool I have a three year old filly that...\n",
              "20953                                            Quietex  ...  Quietex I have a year old Paint Gelding who is...\n",
              "\n",
              "[20954 rows x 14 columns]"
            ]
          },
          "metadata": {},
          "execution_count": 24
        }
      ]
    },
    {
      "cell_type": "markdown",
      "metadata": {
        "id": "cvVqovLM-PMo"
      },
      "source": [
        "## NLP - Topic modelling"
      ]
    },
    {
      "cell_type": "markdown",
      "metadata": {
        "id": "SuQSz7D2H_0z"
      },
      "source": [
        "As further pre-processing was required for *topic modelling* that was not required for *sentiment analysis*, the corpus was copied to a new feature within the dataset."
      ]
    },
    {
      "cell_type": "code",
      "metadata": {
        "id": "0uqO25lM-vpJ"
      },
      "source": [
        "# Intialise new feature for topic modelling\n",
        "df_horseforum_threads['cleaned_document_tm'] = df_horseforum_threads['cleaned_document']"
      ],
      "execution_count": null,
      "outputs": []
    },
    {
      "cell_type": "markdown",
      "metadata": {
        "id": "0P8FdEMwE0Tw"
      },
      "source": [
        "### Further pre-processing"
      ]
    },
    {
      "cell_type": "markdown",
      "metadata": {
        "id": "os3qE70M-p2t"
      },
      "source": [
        "#### Lower case"
      ]
    },
    {
      "cell_type": "markdown",
      "metadata": {
        "id": "ifqQei2K_3Qs"
      },
      "source": [
        "Letter casing is not modified for sentiment alanysis as it capitalization can convey sentiment. In contrast to topic modelling, changing text to lower case reduces dimensionality."
      ]
    },
    {
      "cell_type": "code",
      "metadata": {
        "colab": {
          "base_uri": "https://localhost:8080/"
        },
        "id": "Ao5rhc7Q-nvs",
        "outputId": "f5533804-60c5-4f26-d6d7-a34dc5a47adf"
      },
      "source": [
        "# Convert text to lower case\n",
        "print(\"Convert to lower case...\")\n",
        "df_horseforum_threads['cleaned_document_tm'] = df_horseforum_threads['cleaned_document_tm'].apply(str.lower)\n",
        "print(\"...completed\")"
      ],
      "execution_count": null,
      "outputs": [
        {
          "output_type": "stream",
          "name": "stdout",
          "text": [
            "Convert to lower case...\n",
            "...completed\n"
          ]
        }
      ]
    },
    {
      "cell_type": "markdown",
      "metadata": {
        "id": "TAeps2TRgG81"
      },
      "source": [
        "#### Remove punctuation & non-word characters"
      ]
    },
    {
      "cell_type": "code",
      "metadata": {
        "id": "KtzOhshbgKyB",
        "colab": {
          "base_uri": "https://localhost:8080/",
          "height": 929
        },
        "outputId": "fa420960-2f1e-4445-af0f-93bb78af8900"
      },
      "source": [
        "# Remove punctuation & non-word characters\n",
        "df_horseforum_threads['cleaned_document_tm'].replace(\n",
        "    { \n",
        "        r'\\W' : \" \"        # replace non-word characters\n",
        "     }\n",
        "    ,regex = True\n",
        "    ,inplace = True)\n",
        "df_horseforum_threads"
      ],
      "execution_count": null,
      "outputs": [
        {
          "output_type": "execute_result",
          "data": {
            "text/html": [
              "<div>\n",
              "<style scoped>\n",
              "    .dataframe tbody tr th:only-of-type {\n",
              "        vertical-align: middle;\n",
              "    }\n",
              "\n",
              "    .dataframe tbody tr th {\n",
              "        vertical-align: top;\n",
              "    }\n",
              "\n",
              "    .dataframe thead th {\n",
              "        text-align: right;\n",
              "    }\n",
              "</style>\n",
              "<table border=\"1\" class=\"dataframe\">\n",
              "  <thead>\n",
              "    <tr style=\"text-align: right;\">\n",
              "      <th></th>\n",
              "      <th>thread_title</th>\n",
              "      <th>thread_url_path</th>\n",
              "      <th>thread_created_date</th>\n",
              "      <th>thread_created_by</th>\n",
              "      <th>thread_created_by_url_path</th>\n",
              "      <th>thread_view_count</th>\n",
              "      <th>thread_reply_count</th>\n",
              "      <th>thread_last_replied_date</th>\n",
              "      <th>thread_last_replied_by</th>\n",
              "      <th>thread_last_replied_by_url_path</th>\n",
              "      <th>participant_count</th>\n",
              "      <th>post_text</th>\n",
              "      <th>thread_document</th>\n",
              "      <th>cleaned_document</th>\n",
              "      <th>cleaned_document_tm</th>\n",
              "    </tr>\n",
              "  </thead>\n",
              "  <tbody>\n",
              "    <tr>\n",
              "      <th>0</th>\n",
              "      <td>PLEASE READ BEFORE POSTING (both older and new...</td>\n",
              "      <td>/threads/please-read-before-posting-both-older...</td>\n",
              "      <td>2020-12-27T19:19:33-0500</td>\n",
              "      <td>TaMMa89</td>\n",
              "      <td>/members/tamma89.3542/</td>\n",
              "      <td>1076</td>\n",
              "      <td>0</td>\n",
              "      <td>2020-12-27T19:19:33-0500</td>\n",
              "      <td>TaMMa89</td>\n",
              "      <td>/members/tamma89.3542/</td>\n",
              "      <td>1</td>\n",
              "      <td>[New Horseforum.com format was launched in Nov...</td>\n",
              "      <td>PLEASE READ BEFORE POSTING (both older and new...</td>\n",
              "      <td>PLEASE READ BEFORE POSTING (both older and new...</td>\n",
              "      <td>please read before posting  both older and new...</td>\n",
              "    </tr>\n",
              "    <tr>\n",
              "      <th>1</th>\n",
              "      <td>poisonous plants from HF member locations</td>\n",
              "      <td>/threads/poisonous-plants-from-hf-member-locat...</td>\n",
              "      <td>2018-01-01T22:03:05-0500</td>\n",
              "      <td>Smilie</td>\n",
              "      <td>/members/smilie.18361/</td>\n",
              "      <td>2151</td>\n",
              "      <td>5</td>\n",
              "      <td>2020-12-08T16:29:12-0500</td>\n",
              "      <td>stevenson</td>\n",
              "      <td>/members/stevenson.26572/</td>\n",
              "      <td>5</td>\n",
              "      <td>[MOD NOTE (Jaydee)\\n\\nPlease could we keep thi...</td>\n",
              "      <td>poisonous plants from HF member locations\\nMOD...</td>\n",
              "      <td>poisonous plants from HF member locations MOD ...</td>\n",
              "      <td>poisonous plants from hf member locations mod ...</td>\n",
              "    </tr>\n",
              "    <tr>\n",
              "      <th>2</th>\n",
              "      <td>The Care of an Emaciated Horse</td>\n",
              "      <td>/threads/the-care-of-an-emaciated-horse.100412/</td>\n",
              "      <td>2011-10-14T09:02:04-0400</td>\n",
              "      <td>xxBarry Godden</td>\n",
              "      <td>/members/xxbarry-godden.9451/</td>\n",
              "      <td>48970</td>\n",
              "      <td>54</td>\n",
              "      <td>2020-11-26T10:09:30-0500</td>\n",
              "      <td>horselovinguy</td>\n",
              "      <td>/members/horselovinguy.79162/</td>\n",
              "      <td>31</td>\n",
              "      <td>[My friend and I, both experienced horse peopl...</td>\n",
              "      <td>The Care of an Emaciated Horse\\nMy friend and ...</td>\n",
              "      <td>The Care of an Emaciated Horse My friend and I...</td>\n",
              "      <td>the care of an emaciated horse my friend and i...</td>\n",
              "    </tr>\n",
              "    <tr>\n",
              "      <th>3</th>\n",
              "      <td>Making a Vet Kit</td>\n",
              "      <td>/threads/making-a-vet-kit.251/</td>\n",
              "      <td>2007-01-07T02:14:09-0500</td>\n",
              "      <td>Skippy!</td>\n",
              "      <td>/members/skippy.157/</td>\n",
              "      <td>2091441</td>\n",
              "      <td>277</td>\n",
              "      <td>2019-08-26T04:44:59-0400</td>\n",
              "      <td>AmiraAchek</td>\n",
              "      <td>/members/amiraachek.280747/</td>\n",
              "      <td>215</td>\n",
              "      <td>[Hey guys! I am posting this thread primarily ...</td>\n",
              "      <td>Making a Vet Kit\\nHey guys! I am posting this ...</td>\n",
              "      <td>Making a Vet Kit Hey guys! I am posting this t...</td>\n",
              "      <td>making a vet kit hey guys  i am posting this t...</td>\n",
              "    </tr>\n",
              "    <tr>\n",
              "      <th>4</th>\n",
              "      <td>Information on Myopathies - PSSM1, PSSM2, MFM,...</td>\n",
              "      <td>/threads/information-on-myopathies-pssm1-pssm2...</td>\n",
              "      <td>2017-08-17T20:06:14-0400</td>\n",
              "      <td>Espy</td>\n",
              "      <td>/members/espy.168162/</td>\n",
              "      <td>17546</td>\n",
              "      <td>5</td>\n",
              "      <td>2018-09-17T16:44:33-0400</td>\n",
              "      <td>Espy</td>\n",
              "      <td>/members/espy.168162/</td>\n",
              "      <td>2</td>\n",
              "      <td>[PSSM1, PSSM2, MFM, and RER\\n\\n\\n\\n\\n\\nThe sym...</td>\n",
              "      <td>Information on Myopathies - PSSM1, PSSM2, MFM,...</td>\n",
              "      <td>Information on Myopathies - PSSM1, PSSM2, MFM,...</td>\n",
              "      <td>information on myopathies   pssm1  pssm2  mfm ...</td>\n",
              "    </tr>\n",
              "    <tr>\n",
              "      <th>...</th>\n",
              "      <td>...</td>\n",
              "      <td>...</td>\n",
              "      <td>...</td>\n",
              "      <td>...</td>\n",
              "      <td>...</td>\n",
              "      <td>...</td>\n",
              "      <td>...</td>\n",
              "      <td>...</td>\n",
              "      <td>...</td>\n",
              "      <td>...</td>\n",
              "      <td>...</td>\n",
              "      <td>...</td>\n",
              "      <td>...</td>\n",
              "      <td>...</td>\n",
              "      <td>...</td>\n",
              "    </tr>\n",
              "    <tr>\n",
              "      <th>20949</th>\n",
              "      <td>Recovery from Torn Rear Suspensory Ligament</td>\n",
              "      <td>/threads/recovery-from-torn-rear-suspensory-li...</td>\n",
              "      <td>2006-12-22T05:26:11-0500</td>\n",
              "      <td>trusspt</td>\n",
              "      <td>/members/trusspt.170/</td>\n",
              "      <td>6106</td>\n",
              "      <td>1</td>\n",
              "      <td>2006-12-30T04:51:20-0500</td>\n",
              "      <td>stacyh</td>\n",
              "      <td>/members/stacyh.186/</td>\n",
              "      <td>2</td>\n",
              "      <td>[Hi, I have a standardbred horse I am about to...</td>\n",
              "      <td>Recovery from Torn Rear Suspensory Ligament\\nH...</td>\n",
              "      <td>Recovery from Torn Rear Suspensory Ligament Hi...</td>\n",
              "      <td>recovery from torn rear suspensory ligament hi...</td>\n",
              "    </tr>\n",
              "    <tr>\n",
              "      <th>20950</th>\n",
              "      <td>how to get horses to gaine weight</td>\n",
              "      <td>/threads/how-to-get-horses-to-gaine-weight.99/</td>\n",
              "      <td>2006-12-05T11:54:51-0500</td>\n",
              "      <td>nybarrelracer</td>\n",
              "      <td>/members/nybarrelracer.121/</td>\n",
              "      <td>4988</td>\n",
              "      <td>14</td>\n",
              "      <td>2006-12-21T07:55:03-0500</td>\n",
              "      <td>brandig</td>\n",
              "      <td>/members/brandig.57/</td>\n",
              "      <td>9</td>\n",
              "      <td>[I found out that you can give a horse black o...</td>\n",
              "      <td>how to get horses to gaine weight\\nI found out...</td>\n",
              "      <td>how to get horses to gaine weight I found out ...</td>\n",
              "      <td>how to get horses to gaine weight i found out ...</td>\n",
              "    </tr>\n",
              "    <tr>\n",
              "      <th>20951</th>\n",
              "      <td>PAXIL?</td>\n",
              "      <td>/threads/paxil.102/</td>\n",
              "      <td>2006-12-06T10:09:20-0500</td>\n",
              "      <td>tuffstuff</td>\n",
              "      <td>/members/tuffstuff.123/</td>\n",
              "      <td>3240</td>\n",
              "      <td>3</td>\n",
              "      <td>2006-12-11T20:29:12-0500</td>\n",
              "      <td>kristy</td>\n",
              "      <td>/members/kristy.132/</td>\n",
              "      <td>4</td>\n",
              "      <td>[We have a horse who is just a simply high str...</td>\n",
              "      <td>PAXIL?\\nWe have a horse who is just a simply h...</td>\n",
              "      <td>PAXIL? We have a horse who is just a simply hi...</td>\n",
              "      <td>paxil  we have a horse who is just a simply hi...</td>\n",
              "    </tr>\n",
              "    <tr>\n",
              "      <th>20952</th>\n",
              "      <td>Loose stool</td>\n",
              "      <td>/threads/loose-stool.101/</td>\n",
              "      <td>2006-12-05T18:42:31-0500</td>\n",
              "      <td>Cedarsgirl</td>\n",
              "      <td>/members/cedarsgirl.120/</td>\n",
              "      <td>5694</td>\n",
              "      <td>10</td>\n",
              "      <td>2006-12-10T21:52:11-0500</td>\n",
              "      <td>Cedarsgirl</td>\n",
              "      <td>/members/cedarsgirl.120/</td>\n",
              "      <td>4</td>\n",
              "      <td>[I have a three year old filly that tends to h...</td>\n",
              "      <td>Loose stool\\nI have a three year old filly tha...</td>\n",
              "      <td>Loose stool I have a three year old filly that...</td>\n",
              "      <td>loose stool i have a three year old filly that...</td>\n",
              "    </tr>\n",
              "    <tr>\n",
              "      <th>20953</th>\n",
              "      <td>Quietex</td>\n",
              "      <td>/threads/quietex.49/</td>\n",
              "      <td>2006-11-14T23:17:30-0500</td>\n",
              "      <td>KristyMarie87</td>\n",
              "      <td>/members/kristymarie87.65/</td>\n",
              "      <td>5970</td>\n",
              "      <td>2</td>\n",
              "      <td>2006-11-20T11:19:12-0500</td>\n",
              "      <td>OhSnapItsRoxy</td>\n",
              "      <td>/members/ohsnapitsroxy.77/</td>\n",
              "      <td>3</td>\n",
              "      <td>[I have a 4 year old Paint Gelding who is very...</td>\n",
              "      <td>Quietex\\nI have a 4 year old Paint Gelding who...</td>\n",
              "      <td>Quietex I have a year old Paint Gelding who is...</td>\n",
              "      <td>quietex i have a year old paint gelding who is...</td>\n",
              "    </tr>\n",
              "  </tbody>\n",
              "</table>\n",
              "<p>20954 rows × 15 columns</p>\n",
              "</div>"
            ],
            "text/plain": [
              "                                            thread_title  ...                                cleaned_document_tm\n",
              "0      PLEASE READ BEFORE POSTING (both older and new...  ...  please read before posting  both older and new...\n",
              "1              poisonous plants from HF member locations  ...  poisonous plants from hf member locations mod ...\n",
              "2                         The Care of an Emaciated Horse  ...  the care of an emaciated horse my friend and i...\n",
              "3                                       Making a Vet Kit  ...  making a vet kit hey guys  i am posting this t...\n",
              "4      Information on Myopathies - PSSM1, PSSM2, MFM,...  ...  information on myopathies   pssm1  pssm2  mfm ...\n",
              "...                                                  ...  ...                                                ...\n",
              "20949        Recovery from Torn Rear Suspensory Ligament  ...  recovery from torn rear suspensory ligament hi...\n",
              "20950                  how to get horses to gaine weight  ...  how to get horses to gaine weight i found out ...\n",
              "20951                                             PAXIL?  ...  paxil  we have a horse who is just a simply hi...\n",
              "20952                                        Loose stool  ...  loose stool i have a three year old filly that...\n",
              "20953                                            Quietex  ...  quietex i have a year old paint gelding who is...\n",
              "\n",
              "[20954 rows x 15 columns]"
            ]
          },
          "metadata": {},
          "execution_count": 27
        }
      ]
    },
    {
      "cell_type": "markdown",
      "metadata": {
        "id": "jRrLnbsd6Y5n"
      },
      "source": [
        "### Stopwords, Lemmatization, and Parts-of-speach (POS)"
      ]
    },
    {
      "cell_type": "markdown",
      "metadata": {
        "id": "JhPsXGgpJFtL"
      },
      "source": [
        "The following code cell removes stopwords, performs lemmatization, and only retains words for the nominated parts-of-speach:\n",
        "\n",
        "* Nouns\n",
        "* Adjectives\n",
        "* Verbs\n",
        "* Adverbs"
      ]
    },
    {
      "cell_type": "code",
      "metadata": {
        "colab": {
          "base_uri": "https://localhost:8080/"
        },
        "id": "88_hrppGLcnf",
        "outputId": "835ad448-733b-444b-c83d-12ce674b9ce5"
      },
      "source": [
        "%%time\n",
        "# Remove stops words and lemmatize\n",
        "stop_words = stopwords.words('english')\n",
        "#stop_words.extend([''])\n",
        "lemmatizer = WordNetLemmatizer()\n",
        "retain_pos = { 'NOUN' : 'N', 'ADJ' : 'J', 'VERB' : 'V', 'ADV' : 'R' }\n",
        "print(\"Removal stopwords and lemmatization...\")\n",
        "df_horseforum_threads['cleaned_document_tm'] = df_horseforum_threads['cleaned_document_tm'].apply(\n",
        "    lambda document: stop_and_lemm(document\n",
        "                                   ,stopwords = stop_words\n",
        "                                   ,lemmatizer = lemmatizer\n",
        "                                   ,retain_pos = retain_pos)\n",
        "    )\n",
        "print(\"...completed\")"
      ],
      "execution_count": null,
      "outputs": [
        {
          "output_type": "stream",
          "name": "stdout",
          "text": [
            "Removal stopwords and lemmatization...\n",
            "...completed\n",
            "CPU times: user 23min 48s, sys: 4.11 s, total: 23min 52s\n",
            "Wall time: 23min 53s\n"
          ]
        }
      ]
    },
    {
      "cell_type": "markdown",
      "metadata": {
        "id": "DUFtoOU4G4li"
      },
      "source": [
        "The following plot shows the frequency of word counts."
      ]
    },
    {
      "cell_type": "code",
      "metadata": {
        "colab": {
          "base_uri": "https://localhost:8080/",
          "height": 893
        },
        "id": "yJFZeMCjEsYn",
        "outputId": "1a1a0c8c-0c58-44b0-d789-9fb817179408"
      },
      "source": [
        "# visualize words and frequencies\n",
        "fig, ax = plt.subplots(nrows=1, ncols=1, figsize=(12, 15))\n",
        "\n",
        "# Plot Lemmatized word freq.\n",
        "sns.barplot(ax=ax\n",
        "            ,data=word_frequencies(df_horseforum_threads['cleaned_document_tm'], top_n = 100)\n",
        "            ,x=\"count\"\n",
        "            ,y=\"word\")\n",
        "\n",
        "ax.set_title(\"Lemmatized\") \n",
        "ax.set_xlabel(\"word\")\n",
        "ax.set_ylabel(\"count\")\n",
        "\n",
        "# Display plot\n",
        "plt.show()"
      ],
      "execution_count": null,
      "outputs": [
        {
          "output_type": "display_data",
          "data": {
            "image/png": "[encoded data removed]",
            "text/plain": [
              "<Figure size 864x1080 with 1 Axes>"
            ]
          },
          "metadata": {
            "needs_background": "light"
          }
        }
      ]
    },
    {
      "cell_type": "markdown",
      "metadata": {
        "id": "L4oqCPbKdTY6"
      },
      "source": [
        "### Save processed corpus (optional)"
      ]
    },
    {
      "cell_type": "markdown",
      "metadata": {
        "id": "AkyObAWmJvWh"
      },
      "source": [
        "The following code cells creates as a \"check-point\" in this data-project's workflow, due to the time required to clean the corpus."
      ]
    },
    {
      "cell_type": "code",
      "metadata": {
        "id": "xOYNT5bKdYNh"
      },
      "source": [
        "# Save dataframe locally\n",
        "df_horseforum_threads[['thread_url_path', 'thread_document', 'cleaned_document', 'cleaned_document_tm']].to_csv(os.path.join(filepath_data, filename_horseforum_threads_cleaned_df), index=False)"
      ],
      "execution_count": null,
      "outputs": []
    },
    {
      "cell_type": "markdown",
      "metadata": {
        "id": "JkxIWrihJ_oZ"
      },
      "source": [
        "**Reload cleaned corpus**"
      ]
    },
    {
      "cell_type": "code",
      "metadata": {
        "id": "inALkfkP8bZA"
      },
      "source": [
        "#df_horseforum_threads = pd.read_csv(os.path.join(filepath_data, filename_horseforum_threads_cleaned_df))\n",
        "#df_horseforum_threads.fillna('', inplace=True)\n",
        "#df_horseforum_threads.shape"
      ],
      "execution_count": null,
      "outputs": []
    },
    {
      "cell_type": "markdown",
      "metadata": {
        "id": "f1W5ZPbXEspG"
      },
      "source": [
        "### Term weights"
      ]
    },
    {
      "cell_type": "markdown",
      "metadata": {
        "id": "DNfSZ55hODVo"
      },
      "source": [
        "Term weights were calculated as *term frequency-inverse document frequency* (TF-IDF).\n",
        "\n",
        "* Bigrams were also determined and included."
      ]
    },
    {
      "cell_type": "markdown",
      "metadata": {
        "id": "zlYwoLUGQY68"
      },
      "source": [
        "#### Bigrams"
      ]
    },
    {
      "cell_type": "code",
      "metadata": {
        "colab": {
          "base_uri": "https://localhost:8080/"
        },
        "id": "CvEYFHHoUy5f",
        "outputId": "7d3f37d4-2265-4702-b978-aa9425136ff3"
      },
      "source": [
        "%%time\n",
        "\n",
        "# Convert each thread's document into a list of words\n",
        "corpus_documents = df_horseforum_threads['cleaned_document_tm'].values.tolist()\n",
        "corpus_documents = [word_tokenize(document) for document in corpus_documents]\n",
        "\n",
        "# Build the bigram model\n",
        "bigram_phrases = gensim.models.Phrases(corpus_documents, min_count=5, threshold=100) # higher threshold fewer phrases.\n",
        "bigram_phraser = gensim.models.phrases.Phraser(bigram_phrases)\n",
        "def set_bigrams(corpus):\n",
        "    return [bigram_phraser[document] for document in corpus]\n",
        "\n",
        "# Add bigrams\n",
        "corpus_document_tokens = set_bigrams(corpus_documents)"
      ],
      "execution_count": null,
      "outputs": [
        {
          "output_type": "stream",
          "name": "stdout",
          "text": [
            "CPU times: user 2min 9s, sys: 1.82 s, total: 2min 11s\n",
            "Wall time: 2min 11s\n"
          ]
        }
      ]
    },
    {
      "cell_type": "markdown",
      "metadata": {
        "id": "FYmxxf8jQcyf"
      },
      "source": [
        "#### TF-IDF"
      ]
    },
    {
      "cell_type": "code",
      "metadata": {
        "colab": {
          "base_uri": "https://localhost:8080/"
        },
        "id": "42x-H5o7L4jc",
        "outputId": "ce101dab-d9e9-4c5e-ec61-53215f339f75"
      },
      "source": [
        "%%time\n",
        "#LDA topic model requires two things: the dictionary(id2word) and the corpus\n",
        "# Create Dictionary\n",
        "corpus_dict = corpora.Dictionary(corpus_document_tokens)\n",
        "\n",
        "#filtering words less frequent and high frequent\n",
        "corpus_dict.filter_extremes(no_below=100, no_above=0.75, keep_n=150000)\n",
        "\n",
        "# Term Document Frequency (Bag of Words Approach)\n",
        "corpus_bow = [corpus_dict.doc2bow(document) for document in corpus_document_tokens]\n",
        "tfidf = gensim.models.TfidfModel(corpus_bow)\n",
        "corpus_tfidf = tfidf[corpus_bow]"
      ],
      "execution_count": null,
      "outputs": [
        {
          "output_type": "stream",
          "name": "stdout",
          "text": [
            "CPU times: user 16.3 s, sys: 360 ms, total: 16.7 s\n",
            "Wall time: 16.7 s\n"
          ]
        }
      ]
    },
    {
      "cell_type": "code",
      "metadata": {
        "id": "UsOZPDaCtPYC",
        "colab": {
          "base_uri": "https://localhost:8080/"
        },
        "outputId": "8a387663-1c52-48a6-faa4-6fe073f77b67"
      },
      "source": [
        "# Inspect some of the dictionary entries\n",
        "count = 0\n",
        "for key, value in corpus_dict.iteritems():\n",
        "    print(key, value)\n",
        "    count += 1\n",
        "    if count > 10:\n",
        "        break"
      ],
      "execution_count": null,
      "outputs": [
        {
          "output_type": "stream",
          "name": "stdout",
          "text": [
            "0 abuse\n",
            "1 add\n",
            "2 added\n",
            "3 adding\n",
            "4 allow\n",
            "5 allowed\n",
            "6 allows\n",
            "7 answer\n",
            "8 approach\n",
            "9 ask\n",
            "10 aware\n"
          ]
        }
      ]
    },
    {
      "cell_type": "markdown",
      "metadata": {
        "id": "fEU1RaESOYuN"
      },
      "source": [
        "### LDA Model"
      ]
    },
    {
      "cell_type": "markdown",
      "metadata": {
        "id": "sDtYRRStPbfc"
      },
      "source": [
        "The following was a preliminary fit of an LDA model to the corpus, to understanding its working, and observe some of the topics modelled.\n",
        "\n",
        "It was later superseded by a subsequent LDA model (produced in the section below), derived via tuning of hyperparameters."
      ]
    },
    {
      "cell_type": "code",
      "metadata": {
        "colab": {
          "base_uri": "https://localhost:8080/"
        },
        "id": "GjfJDEJEfBvq",
        "outputId": "9daa7140-56d8-49cc-f273-2c54d726f2f1"
      },
      "source": [
        "%%time\n",
        "# Building the LDA topic model\n",
        "lda_model = gensim.models.LdaMulticore(\n",
        "    corpus=corpus_tfidf\n",
        "    ,id2word=corpus_dict    \n",
        "    ,num_topics=20\n",
        "    ,passes=4\n",
        "    ,random_state=987\n",
        "    ,per_word_topics=True\n",
        "    ,workers=4\n",
        "    )"
      ],
      "execution_count": null,
      "outputs": [
        {
          "output_type": "stream",
          "name": "stdout",
          "text": [
            "CPU times: user 3min 47s, sys: 8.75 s, total: 3min 55s\n",
            "Wall time: 4min 34s\n"
          ]
        }
      ]
    },
    {
      "cell_type": "code",
      "metadata": {
        "colab": {
          "base_uri": "https://localhost:8080/"
        },
        "id": "yLqMS7q4a_C0",
        "outputId": "80bdbf85-9628-4bb2-e206-3ab145cf6de3"
      },
      "source": [
        "%%time\n",
        "# Print the Keywords in the topics\n",
        "pprint(lda_model.print_topics())\n",
        "doc_lda = lda_model[corpus_tfidf]"
      ],
      "execution_count": null,
      "outputs": [
        {
          "output_type": "stream",
          "name": "stdout",
          "text": [
            "[(0,\n",
            "  '0.034*\"blanket\" + 0.013*\"water\" + 0.013*\"cold\" + 0.011*\"winter\" + '\n",
            "  '0.010*\"coat\" + 0.009*\"drink\" + 0.008*\"sweat\" + 0.007*\"shelter\" + '\n",
            "  '0.007*\"sheet\" + 0.007*\"warm\"'),\n",
            " (1,\n",
            "  '0.003*\"ocd\" + 0.003*\"crippled\" + 0.002*\"laminitis\" + 0.002*\"leg\" + '\n",
            "  '0.001*\"vet\" + 0.001*\"farrier\" + 0.001*\"hay\" + 0.001*\"teeth\" + '\n",
            "  '0.001*\"muscle\" + 0.001*\"shoe\"'),\n",
            " (2,\n",
            "  '0.002*\"sarcoid\" + 0.002*\"supplement\" + 0.002*\"tick\" + 0.002*\"loving\" + '\n",
            "  '0.002*\"joint\" + 0.002*\"pony\" + 0.002*\"msm\" + 0.002*\"udder\" + '\n",
            "  '0.002*\"wondering\" + 0.002*\"feed\"'),\n",
            " (3,\n",
            "  '0.033*\"cribbing\" + 0.022*\"crib\" + 0.012*\"collar\" + 0.011*\"cribber\" + '\n",
            "  '0.010*\"wood\" + 0.007*\"chew\" + 0.007*\"chewing\" + 0.007*\"wart\" + 0.007*\"salt\" '\n",
            "  '+ 0.007*\"boredom\"'),\n",
            " (4,\n",
            "  '0.013*\"feed\" + 0.011*\"hay\" + 0.008*\"weight\" + 0.006*\"grain\" + '\n",
            "  '0.006*\"alfalfa\" + 0.005*\"feeding\" + 0.005*\"supplement\" + 0.005*\"grass\" + '\n",
            "  '0.005*\"pellet\" + 0.005*\"beet_pulp\"'),\n",
            " (5,\n",
            "  '0.006*\"height\" + 0.004*\"string\" + 0.003*\"elbow\" + 0.003*\"measure\" + '\n",
            "  '0.002*\"growing\" + 0.002*\"measurement\" + 0.002*\"grow\" + 0.002*\"inch\" + '\n",
            "  '0.002*\"measured\" + 0.002*\"ohio\"'),\n",
            " (6,\n",
            "  '0.025*\"hoof\" + 0.015*\"thrush\" + 0.015*\"foot\" + 0.013*\"farrier\" + '\n",
            "  '0.011*\"frog\" + 0.010*\"shoe\" + 0.008*\"sole\" + 0.008*\"trim\" + 0.008*\"abscess\" '\n",
            "  '+ 0.007*\"crack\"'),\n",
            " (7,\n",
            "  '0.004*\"fracture\" + 0.004*\"hypp\" + 0.002*\"bone\" + 0.002*\"yall\" + '\n",
            "  '0.002*\"impressive\" + 0.002*\"poisonous\" + 0.002*\"hoof\" + 0.002*\"topically\" + '\n",
            "  '0.002*\"protruding\" + 0.002*\"sinus\"'),\n",
            " (8,\n",
            "  '0.002*\"leg\" + 0.002*\"swollen\" + 0.002*\"vet\" + 0.001*\"fetlock\" + '\n",
            "  '0.001*\"tail\" + 0.001*\"hoof\" + 0.001*\"stocked\" + 0.001*\"wrap\" + '\n",
            "  '0.001*\"swelling\" + 0.001*\"saddle\"'),\n",
            " (9,\n",
            "  '0.011*\"hernia\" + 0.005*\"nelson\" + 0.003*\"title\" + 0.003*\"vaccine\" + '\n",
            "  '0.002*\"vet\" + 0.002*\"barbed_wire\" + 0.002*\"fly\" + 0.001*\"leg\" + '\n",
            "  '0.001*\"posted_mobile\" + 0.001*\"device\"'),\n",
            " (10,\n",
            "  '0.029*\"proud_flesh\" + 0.023*\"wound\" + 0.015*\"insurance\" + 0.015*\"wrap\" + '\n",
            "  '0.012*\"bandage\" + 0.006*\"underwood\" + 0.006*\"hematoma\" + '\n",
            "  '0.006*\"wonder_dust\" + 0.005*\"pigeon_fever\" + 0.005*\"healing\"'),\n",
            " (11,\n",
            "  '0.003*\"clover\" + 0.002*\"feed\" + 0.002*\"hay\" + 0.002*\"wound\" + 0.002*\"ulcer\" '\n",
            "  '+ 0.002*\"sand\" + 0.001*\"yearling\" + 0.001*\"tick\" + 0.001*\"technical\" + '\n",
            "  '0.001*\"vet\"'),\n",
            " (12,\n",
            "  '0.012*\"sunscreen\" + 0.012*\"ear\" + 0.012*\"fly\" + 0.012*\"tick\" + 0.012*\"nose\" '\n",
            "  '+ 0.011*\"sunburn\" + 0.011*\"fly_mask\" + 0.009*\"garlic\" + 0.008*\"eye\" + '\n",
            "  '0.008*\"pink\"'),\n",
            " (13,\n",
            "  '0.022*\"shoe\" + 0.014*\"farrier\" + 0.012*\"foot\" + 0.011*\"hoof\" + '\n",
            "  '0.011*\"barefoot\" + 0.008*\"trim\" + 0.007*\"heel\" + 0.007*\"navicular\" + '\n",
            "  '0.007*\"boot\" + 0.007*\"toe\"'),\n",
            " (14,\n",
            "  '0.009*\"fly\" + 0.007*\"hair\" + 0.007*\"skin\" + 0.007*\"spray\" + '\n",
            "  '0.006*\"rain_rot\" + 0.005*\"scab\" + 0.004*\"wound\" + 0.003*\"use\" + '\n",
            "  '0.003*\"allergy\" + 0.003*\"scratch\"'),\n",
            " (15,\n",
            "  '0.002*\"eye\" + 0.002*\"fish\" + 0.002*\"everyones\" + 0.001*\"abs\" + '\n",
            "  '0.001*\"wound\" + 0.001*\"hay\" + 0.001*\"vet\" + 0.001*\"thought\" + 0.001*\"fly\" + '\n",
            "  '0.001*\"feed\"'),\n",
            " (16,\n",
            "  '0.013*\"worm\" + 0.008*\"deworming\" + 0.007*\"parasite\" + 0.006*\"wormer\" + '\n",
            "  '0.006*\"worming\" + 0.006*\"ivermectin\" + 0.005*\"grass\" + 0.005*\"dewormer\" + '\n",
            "  '0.005*\"deworm\" + 0.004*\"wormed\"'),\n",
            " (17,\n",
            "  '0.010*\"saddle\" + 0.008*\"joint\" + 0.006*\"muscle\" + 0.006*\"chiro\" + '\n",
            "  '0.005*\"chiropractor\" + 0.005*\"arthritis\" + 0.005*\"supplement\" + '\n",
            "  '0.004*\"hock\" + 0.004*\"injection\" + 0.004*\"back\"'),\n",
            " (18,\n",
            "  '0.003*\"vet\" + 0.002*\"leg\" + 0.002*\"mare\" + 0.002*\"eye\" + 0.002*\"stall\" + '\n",
            "  '0.002*\"teeth\" + 0.002*\"call\" + 0.002*\"back\" + 0.001*\"said\" + '\n",
            "  '0.001*\"swelling\"'),\n",
            " (19,\n",
            "  '0.044*\"vaccine\" + 0.019*\"rabies\" + 0.019*\"vaccination\" + 0.018*\"shot\" + '\n",
            "  '0.017*\"strangles\" + 0.011*\"west_nile\" + 0.010*\"vaccinated\" + '\n",
            "  '0.010*\"coggins\" + 0.010*\"vaccinate\" + 0.008*\"tetanus\"')]\n",
            "CPU times: user 17.7 ms, sys: 2 ms, total: 19.8 ms\n",
            "Wall time: 19 ms\n"
          ]
        }
      ]
    },
    {
      "cell_type": "code",
      "metadata": {
        "colab": {
          "base_uri": "https://localhost:8080/"
        },
        "id": "K4NN3Z_nbGg6",
        "outputId": "ff5bf118-533f-4f03-a6b8-78a2c5462163"
      },
      "source": [
        "%%time\n",
        "#Model perplexity and topic coherence provide a convenient measure to judge how good a given topic model is\n",
        "# Compute Perplexity\n",
        "print('\\nPerplexity: ', lda_model.log_perplexity(corpus_tfidf))  # a measure of how good the model is. lower the better.\n",
        "\n",
        "# Compute Coherence Score\n",
        "coherence_model_lda = CoherenceModel(model=lda_model, texts=corpus_document_tokens, dictionary=corpus_dict, coherence='c_v')\n",
        "coherence_lda = coherence_model_lda.get_coherence()\n",
        "print('\\nCoherence Score: ', coherence_lda)\n",
        "print()"
      ],
      "execution_count": null,
      "outputs": [
        {
          "output_type": "stream",
          "name": "stdout",
          "text": [
            "\n",
            "Perplexity:  -8.955375551637859\n",
            "\n",
            "Coherence Score:  0.5471759586203258\n",
            "\n",
            "CPU times: user 6min 24s, sys: 1min 12s, total: 7min 37s\n",
            "Wall time: 6min 16s\n"
          ]
        }
      ]
    },
    {
      "cell_type": "code",
      "metadata": {
        "colab": {
          "base_uri": "https://localhost:8080/"
        },
        "id": "glVkNv1kv0nN",
        "outputId": "58089501-c24d-420f-d845-e0a2c773d8c5"
      },
      "source": [
        "# Demonstrate model output\n",
        "for c in lda_model[corpus_tfidf[200:203]]:\n",
        "    print(\"Document Topics      : \", c[0])      # [(Topics, Perc Contrib)]\n",
        "    print(\"Word id, Topics      : \", c[1][:3])  # [(Word id, [Topics])]\n",
        "    print(\"Phi Values (word id) : \", c[2][:2])  # [(Word id, [(Topic, Phi Value)])]\n",
        "    print(\"Word, Topics         : \", [(corpus_dict[wd], topic) for wd, topic in c[1][:2]])   # [(Word, [Topics])]\n",
        "    print(\"Phi Values (word)    : \", [(corpus_dict[wd], topic) for wd, topic in c[2][:2]])  # [(Word, [(Topic, Phi Value)])]\n",
        "    print(\"------------------------------------------------------\\n\")"
      ],
      "execution_count": null,
      "outputs": [
        {
          "output_type": "stream",
          "name": "stdout",
          "text": [
            "Document Topics      :  [(17, 0.62209195), (18, 0.2876175)]\n",
            "Word id, Topics      :  [(7, [17, 18]), (15, [17, 18]), (44, [])]\n",
            "Phi Values (word id) :  [(7, [(17, 0.023446219), (18, 0.0115382075)]), (15, [(17, 0.013043274), (18, 0.012053266)])]\n",
            "Word, Topics         :  [('answer', [17, 18]), ('called', [17, 18])]\n",
            "Phi Values (word)    :  [('answer', [(17, 0.023446219), (18, 0.0115382075)]), ('called', [(17, 0.013043274), (18, 0.012053266)])]\n",
            "------------------------------------------------------\n",
            "\n",
            "Document Topics      :  [(18, 0.93796796)]\n",
            "Word id, Topics      :  [(12, [18]), (13, [18]), (17, [])]\n",
            "Phi Values (word id) :  [(12, [(18, 0.022659974)]), (13, [(18, 0.03943657)])]\n",
            "Word, Topics         :  [('beneficial', [18]), ('better', [18])]\n",
            "Phi Values (word)    :  [('beneficial', [(18, 0.022659974)]), ('better', [(18, 0.03943657)])]\n",
            "------------------------------------------------------\n",
            "\n",
            "Document Topics      :  [(18, 0.89130056)]\n",
            "Word id, Topics      :  [(5, [18]), (19, [18]), (37, [18])]\n",
            "Phi Values (word id) :  [(5, [(18, 0.058798127)]), (19, [(18, 0.091913134)])]\n",
            "Word, Topics         :  [('allowed', [18]), ('clarify', [18])]\n",
            "Phi Values (word)    :  [('allowed', [(18, 0.058798127)]), ('clarify', [(18, 0.091913134)])]\n",
            "------------------------------------------------------\n",
            "\n"
          ]
        }
      ]
    },
    {
      "cell_type": "code",
      "metadata": {
        "colab": {
          "base_uri": "https://localhost:8080/"
        },
        "id": "UkSmEM1Vv_OQ",
        "outputId": "c8eb3381-67d1-4e45-9020-1d02e785214c"
      },
      "source": [
        "# Display top 'n' words for a specific topic\n",
        "lda_model.show_topic(15,topn=15)"
      ],
      "execution_count": null,
      "outputs": [
        {
          "output_type": "execute_result",
          "data": {
            "text/plain": [
              "[('eye', 0.0024417036),\n",
              " ('fish', 0.0018604682),\n",
              " ('everyones', 0.0016634893),\n",
              " ('abs', 0.0014639957),\n",
              " ('wound', 0.0013550447),\n",
              " ('hay', 0.0012605097),\n",
              " ('vet', 0.0012604508),\n",
              " ('thought', 0.0012409256),\n",
              " ('fly', 0.0011621524),\n",
              " ('feed', 0.0010895176),\n",
              " ('skin', 0.0010209617),\n",
              " ('uveitis', 0.0009766361),\n",
              " ('wondering', 0.0009614488),\n",
              " ('water', 0.0009073765),\n",
              " ('look', 0.00088214705)]"
            ]
          },
          "metadata": {},
          "execution_count": 39
        }
      ]
    },
    {
      "cell_type": "markdown",
      "metadata": {
        "id": "5G_ohKGeYejq"
      },
      "source": [
        "### Hypertune LDA"
      ]
    },
    {
      "cell_type": "markdown",
      "metadata": {
        "id": "1wwijIMgTZFx"
      },
      "source": [
        "This sections runs multiple LDA models to determine the best selection for the number of topcis (i.e., `num_topics`)."
      ]
    },
    {
      "cell_type": "code",
      "metadata": {
        "id": "M6mInBBcYej2",
        "colab": {
          "base_uri": "https://localhost:8080/"
        },
        "outputId": "9d90946b-3c43-493e-917f-4ff970972d54"
      },
      "source": [
        "%%time\n",
        "# Hypertune number of topics\n",
        "num_topics_seq = [x for x in range(4, 25, 2)]\n",
        "print(\"Hypertune `num_topics`, seqeunce:\", num_topics_seq)\n",
        "model_list, coherence_values = hypertune_LDA_num_topics(dictionary=corpus_dict, corpus=corpus_tfidf, texts=corpus_document_tokens, num_topics_seq = num_topics_seq)\n",
        "print()"
      ],
      "execution_count": null,
      "outputs": [
        {
          "output_type": "stream",
          "name": "stdout",
          "text": [
            "Hypertune `num_topics`, seqeunce: [4, 6, 8, 10, 12, 14, 16, 18, 20, 22, 24]\n",
            "Modeling 4 topics...\n",
            "Modeling 6 topics...\n",
            "Modeling 8 topics...\n",
            "Modeling 10 topics...\n",
            "Modeling 12 topics...\n",
            "Modeling 14 topics...\n",
            "Modeling 16 topics...\n",
            "Modeling 18 topics...\n",
            "Modeling 20 topics...\n",
            "Modeling 22 topics...\n",
            "Modeling 24 topics...\n",
            "...completed\n",
            "\n",
            "CPU times: user 1h 1min 55s, sys: 42.5 s, total: 1h 2min 37s\n",
            "Wall time: 1h 5min 24s\n"
          ]
        }
      ]
    },
    {
      "cell_type": "code",
      "metadata": {
        "id": "wggV_1V9Yej2",
        "colab": {
          "base_uri": "https://localhost:8080/",
          "height": 487
        },
        "outputId": "983aca0a-3887-4424-8a99-f7ac92d93665"
      },
      "source": [
        "# Select best model trialed\n",
        "max_coherence = max(coherence_values)\n",
        "index_max_coherence = coherence_values.index(max_coherence)\n",
        "best_num_topics = num_topics_seq[index_max_coherence]\n",
        "best_model = model_list[index_max_coherence]\n",
        "print(\"Best model: {} topics (coherence = {})\".format(best_num_topics, round(max_coherence, 4)))\n",
        "\n",
        "# Show model results\n",
        "plt.plot(num_topics_seq, coherence_values)\n",
        "plt.xlabel(\"Num Topics\")\n",
        "plt.ylabel(\"Coherence score\")\n",
        "plt.legend((\"coherence_values\"), loc='best')\n",
        "plt.show()\n",
        "\n",
        "# Print the coherence scores\n",
        "for n, coherence in zip(num_topics_seq, coherence_values):\n",
        "    print(\"{} topics: coherence = {}\".format(n, round(coherence, 4)))"
      ],
      "execution_count": null,
      "outputs": [
        {
          "output_type": "stream",
          "name": "stdout",
          "text": [
            "Best model: 16 topics (coherence = 0.5448)\n"
          ]
        },
        {
          "output_type": "display_data",
          "data": {
            "image/png": "[encoded data removed]",
            "text/plain": [
              "<Figure size 432x288 with 1 Axes>"
            ]
          },
          "metadata": {
            "needs_background": "light"
          }
        },
        {
          "output_type": "stream",
          "name": "stdout",
          "text": [
            "4 topics: coherance = 0.5218\n",
            "6 topics: coherance = 0.4829\n",
            "8 topics: coherance = 0.5259\n",
            "10 topics: coherance = 0.4657\n",
            "12 topics: coherance = 0.464\n",
            "14 topics: coherance = 0.522\n",
            "16 topics: coherance = 0.5448\n",
            "18 topics: coherance = 0.4926\n",
            "20 topics: coherance = 0.517\n",
            "22 topics: coherance = 0.4979\n",
            "24 topics: coherance = 0.4563\n"
          ]
        }
      ]
    },
    {
      "cell_type": "code",
      "metadata": {
        "id": "l_Ii0BLTYej3",
        "colab": {
          "base_uri": "https://localhost:8080/"
        },
        "outputId": "d20e363a-a17b-42fd-e22c-4b0afc4208c7"
      },
      "source": [
        "# Select best model trialed and print the topics\n",
        "model_topics = best_model.show_topics(formatted=False)\n",
        "pprint(best_model.print_topics(num_words=10))"
      ],
      "execution_count": null,
      "outputs": [
        {
          "output_type": "stream",
          "name": "stdout",
          "text": [
            "[(0,\n",
            "  '0.009*\"feed\" + 0.006*\"hay\" + 0.005*\"supplement\" + 0.005*\"weight\" + '\n",
            "  '0.004*\"grain\" + 0.004*\"alfalfa\" + 0.003*\"beet_pulp\" + 0.003*\"feeding\" + '\n",
            "  '0.003*\"pellet\" + 0.003*\"ulcer\"'),\n",
            " (1,\n",
            "  '0.012*\"teeth\" + 0.007*\"dentist\" + 0.005*\"wolf_teeth\" + 0.004*\"mouth\" + '\n",
            "  '0.004*\"tooth\" + 0.004*\"sedation\" + 0.004*\"equine_dentist\" + 0.003*\"float\" + '\n",
            "  '0.003*\"canine\" + 0.003*\"dental\"'),\n",
            " (2,\n",
            "  '0.004*\"farrier\" + 0.003*\"hoof\" + 0.003*\"shoe\" + 0.003*\"foot\" + 0.002*\"vet\" '\n",
            "  '+ 0.002*\"animal\" + 0.002*\"people\" + 0.002*\"owner\" + 0.002*\"care\" + '\n",
            "  '0.002*\"feed\"'),\n",
            " (3,\n",
            "  '0.010*\"hay\" + 0.007*\"grass\" + 0.006*\"feed\" + 0.005*\"weight\" + '\n",
            "  '0.004*\"alfalfa\" + 0.004*\"pasture\" + 0.004*\"bale\" + 0.003*\"grain\" + '\n",
            "  '0.003*\"feeding\" + 0.003*\"eat\"'),\n",
            " (4,\n",
            "  '0.013*\"hoof\" + 0.010*\"shoe\" + 0.009*\"farrier\" + 0.009*\"foot\" + '\n",
            "  '0.006*\"thrush\" + 0.006*\"trim\" + 0.006*\"barefoot\" + 0.005*\"frog\" + '\n",
            "  '0.005*\"boot\" + 0.004*\"heel\"'),\n",
            " (5,\n",
            "  '0.005*\"cribbing\" + 0.003*\"crib\" + 0.003*\"muscle\" + 0.003*\"weight\" + '\n",
            "  '0.003*\"blanket\" + 0.003*\"foal\" + 0.002*\"mare\" + 0.002*\"collar\" + '\n",
            "  '0.002*\"teeth\" + 0.002*\"winter\"'),\n",
            " (6,\n",
            "  '0.008*\"worm\" + 0.006*\"vaccine\" + 0.006*\"deworming\" + 0.005*\"parasite\" + '\n",
            "  '0.004*\"wormer\" + 0.004*\"ivermectin\" + 0.004*\"worming\" + 0.004*\"shot\" + '\n",
            "  '0.003*\"rabies\" + 0.003*\"coggins\"'),\n",
            " (7,\n",
            "  '0.003*\"duck\" + 0.003*\"insurance\" + 0.003*\"hoof\" + 0.003*\"foot\" + '\n",
            "  '0.002*\"farrier\" + 0.002*\"leg\" + 0.002*\"shoe\" + 0.002*\"vet\" + 0.002*\"heel\" + '\n",
            "  '0.002*\"injury\"'),\n",
            " (8,\n",
            "  '0.002*\"leg\" + 0.002*\"shoe\" + 0.002*\"hoof\" + 0.002*\"vet\" + 0.002*\"sway\" + '\n",
            "  '0.002*\"back\" + 0.002*\"saddle\" + 0.002*\"hay\" + 0.002*\"foot\" + 0.002*\"tail\"'),\n",
            " (9,\n",
            "  '0.006*\"saddle\" + 0.006*\"hair\" + 0.004*\"skin\" + 0.003*\"tail\" + '\n",
            "  '0.003*\"vaccine\" + 0.003*\"fly\" + 0.003*\"ear\" + 0.003*\"mane\" + 0.003*\"louse\" '\n",
            "  '+ 0.003*\"vet\"'),\n",
            " (10,\n",
            "  '0.007*\"wound\" + 0.004*\"leg\" + 0.003*\"clean\" + 0.003*\"sheath\" + '\n",
            "  '0.003*\"proud_flesh\" + 0.003*\"cut\" + 0.003*\"water\" + 0.003*\"wrap\" + '\n",
            "  '0.003*\"skin\" + 0.003*\"vet\"'),\n",
            " (11,\n",
            "  '0.005*\"feed\" + 0.004*\"hay\" + 0.004*\"oil\" + 0.004*\"weight\" + 0.003*\"ulcer\" + '\n",
            "  '0.003*\"supplement\" + 0.003*\"fat\" + 0.003*\"alfalfa\" + 0.003*\"cup\" + '\n",
            "  '0.002*\"rice_bran\"'),\n",
            " (12,\n",
            "  '0.003*\"vet\" + 0.003*\"eye\" + 0.002*\"leg\" + 0.002*\"water\" + 0.002*\"colic\" + '\n",
            "  '0.002*\"call\" + 0.002*\"mare\" + 0.002*\"swelling\" + 0.002*\"back\" + '\n",
            "  '0.002*\"stall\"'),\n",
            " (13,\n",
            "  '0.005*\"leg\" + 0.005*\"lame\" + 0.005*\"joint\" + 0.004*\"lameness\" + '\n",
            "  '0.004*\"arthritis\" + 0.004*\"hock\" + 0.004*\"vet\" + 0.003*\"injury\" + '\n",
            "  '0.003*\"stifle\" + 0.003*\"foot\"'),\n",
            " (14,\n",
            "  '0.008*\"fly\" + 0.007*\"blanket\" + 0.005*\"spray\" + 0.003*\"skin\" + 0.003*\"eye\" '\n",
            "  '+ 0.003*\"hair\" + 0.003*\"rain_rot\" + 0.003*\"tick\" + 0.003*\"cough\" + '\n",
            "  '0.003*\"cold\"'),\n",
            " (15,\n",
            "  '0.004*\"eye\" + 0.003*\"worm\" + 0.002*\"vet\" + 0.002*\"sweat\" + 0.002*\"hay\" + '\n",
            "  '0.002*\"sweating\" + 0.002*\"wound\" + 0.002*\"feed\" + 0.002*\"fly\" + '\n",
            "  '0.001*\"look\"')]\n"
          ]
        }
      ]
    },
    {
      "cell_type": "code",
      "metadata": {
        "colab": {
          "base_uri": "https://localhost:8080/"
        },
        "id": "TbeTyZpV9x_5",
        "outputId": "a0e10a4b-8e6f-4379-e4ea-230969b5b84a"
      },
      "source": [
        "# Demonstrate model output\n",
        "for c in best_model[corpus_tfidf[200:203]]:\n",
        "    print(\"Document Topics      : \", c[0])      # [(Topics, Perc Contrib)]\n",
        "    print(\"Word id, Topics      : \", c[1][:3])  # [(Word id, [Topics])]\n",
        "    print(\"Phi Values (word id) : \", c[2][:2])  # [(Word id, [(Topic, Phi Value)])]\n",
        "    print(\"Word, Topics         : \", [(corpus_dict[wd], topic) for wd, topic in c[1][:2]])   # [(Word, [Topics])]\n",
        "    print(\"Phi Values (word)    : \", [(corpus_dict[wd], topic) for wd, topic in c[2][:2]])  # [(Word, [(Topic, Phi Value)])]\n",
        "    print(\"------------------------------------------------------\\n\")"
      ],
      "execution_count": null,
      "outputs": [
        {
          "output_type": "stream",
          "name": "stdout",
          "text": [
            "Document Topics      :  [(13, 0.9059472)]\n",
            "Word id, Topics      :  [(7, [13]), (15, [13]), (44, [])]\n",
            "Phi Values (word id) :  [(7, [(13, 0.034984425)]), (15, [(13, 0.025096538)])]\n",
            "Word, Topics         :  [('answer', [13]), ('called', [13])]\n",
            "Phi Values (word)    :  [('answer', [(13, 0.034984425)]), ('called', [(13, 0.025096538)])]\n",
            "------------------------------------------------------\n",
            "\n",
            "Document Topics      :  [(2, 0.93878406)]\n",
            "Word id, Topics      :  [(12, [2]), (13, [2]), (17, [])]\n",
            "Phi Values (word id) :  [(12, [(2, 0.022659972)]), (13, [(2, 0.039436575)])]\n",
            "Word, Topics         :  [('beneficial', [2]), ('better', [2])]\n",
            "Phi Values (word)    :  [('beneficial', [(2, 0.022659972)]), ('better', [(2, 0.039436575)])]\n",
            "------------------------------------------------------\n",
            "\n",
            "Document Topics      :  [(0, 0.41844097), (12, 0.4814411)]\n",
            "Word id, Topics      :  [(5, [12, 0]), (19, [0, 12]), (37, [12, 0])]\n",
            "Phi Values (word id) :  [(5, [(0, 0.02312895), (12, 0.03566917)]), (19, [(0, 0.06939795), (12, 0.02251518)])]\n",
            "Word, Topics         :  [('allowed', [12, 0]), ('clarify', [0, 12])]\n",
            "Phi Values (word)    :  [('allowed', [(0, 0.02312895), (12, 0.03566917)]), ('clarify', [(0, 0.06939795), (12, 0.02251518)])]\n",
            "------------------------------------------------------\n",
            "\n"
          ]
        }
      ]
    },
    {
      "cell_type": "markdown",
      "metadata": {
        "id": "_cwlHe6Udbaj"
      },
      "source": [
        "### Label thread topics"
      ]
    },
    {
      "cell_type": "markdown",
      "metadata": {
        "id": "8Miz-QL4U-Y_"
      },
      "source": [
        "For each thread, identify the dominant topic(s)."
      ]
    },
    {
      "cell_type": "code",
      "metadata": {
        "colab": {
          "base_uri": "https://localhost:8080/"
        },
        "id": "aVh94rakncwF",
        "outputId": "18370265-cdd3-4fb3-9a23-5971c8718065"
      },
      "source": [
        "%%time\n",
        "df_thread_topic_labels = get_lda_dominant_topics(best_model, corpus_tfidf, top_n_words=10, delim_words=', ')"
      ],
      "execution_count": null,
      "outputs": [
        {
          "output_type": "stream",
          "name": "stdout",
          "text": [
            "CPU times: user 7min 14s, sys: 1min 44s, total: 8min 58s\n",
            "Wall time: 7min 11s\n"
          ]
        }
      ]
    },
    {
      "cell_type": "code",
      "metadata": {
        "colab": {
          "base_uri": "https://localhost:8080/",
          "height": 423
        },
        "id": "hwHsJeTGvHDT",
        "outputId": "171cb3e1-6396-45da-c92d-125fb64a129e"
      },
      "source": [
        "# Display topic labels for each thread\n",
        "df_thread_topic_labels"
      ],
      "execution_count": null,
      "outputs": [
        {
          "output_type": "execute_result",
          "data": {
            "text/html": [
              "<div>\n",
              "<style scoped>\n",
              "    .dataframe tbody tr th:only-of-type {\n",
              "        vertical-align: middle;\n",
              "    }\n",
              "\n",
              "    .dataframe tbody tr th {\n",
              "        vertical-align: top;\n",
              "    }\n",
              "\n",
              "    .dataframe thead th {\n",
              "        text-align: right;\n",
              "    }\n",
              "</style>\n",
              "<table border=\"1\" class=\"dataframe\">\n",
              "  <thead>\n",
              "    <tr style=\"text-align: right;\">\n",
              "      <th></th>\n",
              "      <th>index_doc</th>\n",
              "      <th>Primary_topic</th>\n",
              "      <th>Primary_topic_contribution</th>\n",
              "      <th>Primary_topic_keywords</th>\n",
              "      <th>Secondary_topic</th>\n",
              "      <th>Secondary_topic_contribution</th>\n",
              "      <th>Secondary_topic_keywords</th>\n",
              "    </tr>\n",
              "  </thead>\n",
              "  <tbody>\n",
              "    <tr>\n",
              "      <th>0</th>\n",
              "      <td>0</td>\n",
              "      <td>2</td>\n",
              "      <td>0.900392</td>\n",
              "      <td>farrier, hoof, shoe, foot, vet, animal, people...</td>\n",
              "      <td>-1</td>\n",
              "      <td>0.000000</td>\n",
              "      <td></td>\n",
              "    </tr>\n",
              "    <tr>\n",
              "      <th>1</th>\n",
              "      <td>1</td>\n",
              "      <td>2</td>\n",
              "      <td>0.669324</td>\n",
              "      <td>farrier, hoof, shoe, foot, vet, animal, people...</td>\n",
              "      <td>3</td>\n",
              "      <td>0.247640</td>\n",
              "      <td>hay, grass, feed, weight, alfalfa, pasture, ba...</td>\n",
              "    </tr>\n",
              "    <tr>\n",
              "      <th>2</th>\n",
              "      <td>2</td>\n",
              "      <td>2</td>\n",
              "      <td>0.967960</td>\n",
              "      <td>farrier, hoof, shoe, foot, vet, animal, people...</td>\n",
              "      <td>-1</td>\n",
              "      <td>0.000000</td>\n",
              "      <td></td>\n",
              "    </tr>\n",
              "    <tr>\n",
              "      <th>3</th>\n",
              "      <td>3</td>\n",
              "      <td>14</td>\n",
              "      <td>0.552667</td>\n",
              "      <td>fly, blanket, spray, skin, eye, hair, rain_rot...</td>\n",
              "      <td>10</td>\n",
              "      <td>0.406370</td>\n",
              "      <td>wound, leg, clean, sheath, proud_flesh, cut, w...</td>\n",
              "    </tr>\n",
              "    <tr>\n",
              "      <th>4</th>\n",
              "      <td>4</td>\n",
              "      <td>2</td>\n",
              "      <td>0.479670</td>\n",
              "      <td>farrier, hoof, shoe, foot, vet, animal, people...</td>\n",
              "      <td>0</td>\n",
              "      <td>0.472672</td>\n",
              "      <td>feed, hay, supplement, weight, grain, alfalfa,...</td>\n",
              "    </tr>\n",
              "    <tr>\n",
              "      <th>...</th>\n",
              "      <td>...</td>\n",
              "      <td>...</td>\n",
              "      <td>...</td>\n",
              "      <td>...</td>\n",
              "      <td>...</td>\n",
              "      <td>...</td>\n",
              "      <td>...</td>\n",
              "    </tr>\n",
              "    <tr>\n",
              "      <th>20949</th>\n",
              "      <td>20949</td>\n",
              "      <td>13</td>\n",
              "      <td>0.898715</td>\n",
              "      <td>leg, lame, joint, lameness, arthritis, hock, v...</td>\n",
              "      <td>-1</td>\n",
              "      <td>0.000000</td>\n",
              "      <td></td>\n",
              "    </tr>\n",
              "    <tr>\n",
              "      <th>20950</th>\n",
              "      <td>20950</td>\n",
              "      <td>0</td>\n",
              "      <td>0.934872</td>\n",
              "      <td>feed, hay, supplement, weight, grain, alfalfa,...</td>\n",
              "      <td>-1</td>\n",
              "      <td>0.000000</td>\n",
              "      <td></td>\n",
              "    </tr>\n",
              "    <tr>\n",
              "      <th>20951</th>\n",
              "      <td>20951</td>\n",
              "      <td>2</td>\n",
              "      <td>0.899379</td>\n",
              "      <td>farrier, hoof, shoe, foot, vet, animal, people...</td>\n",
              "      <td>-1</td>\n",
              "      <td>0.000000</td>\n",
              "      <td></td>\n",
              "    </tr>\n",
              "    <tr>\n",
              "      <th>20952</th>\n",
              "      <td>20952</td>\n",
              "      <td>0</td>\n",
              "      <td>0.911793</td>\n",
              "      <td>feed, hay, supplement, weight, grain, alfalfa,...</td>\n",
              "      <td>-1</td>\n",
              "      <td>0.000000</td>\n",
              "      <td></td>\n",
              "    </tr>\n",
              "    <tr>\n",
              "      <th>20953</th>\n",
              "      <td>20953</td>\n",
              "      <td>12</td>\n",
              "      <td>0.658053</td>\n",
              "      <td>vet, eye, leg, water, colic, call, mare, swell...</td>\n",
              "      <td>4</td>\n",
              "      <td>0.250333</td>\n",
              "      <td>hoof, shoe, farrier, foot, thrush, trim, baref...</td>\n",
              "    </tr>\n",
              "  </tbody>\n",
              "</table>\n",
              "<p>20954 rows × 7 columns</p>\n",
              "</div>"
            ],
            "text/plain": [
              "       index_doc  ...                           Secondary_topic_keywords\n",
              "0              0  ...                                                   \n",
              "1              1  ...  hay, grass, feed, weight, alfalfa, pasture, ba...\n",
              "2              2  ...                                                   \n",
              "3              3  ...  wound, leg, clean, sheath, proud_flesh, cut, w...\n",
              "4              4  ...  feed, hay, supplement, weight, grain, alfalfa,...\n",
              "...          ...  ...                                                ...\n",
              "20949      20949  ...                                                   \n",
              "20950      20950  ...                                                   \n",
              "20951      20951  ...                                                   \n",
              "20952      20952  ...                                                   \n",
              "20953      20953  ...  hoof, shoe, farrier, foot, thrush, trim, baref...\n",
              "\n",
              "[20954 rows x 7 columns]"
            ]
          },
          "metadata": {},
          "execution_count": 46
        }
      ]
    },
    {
      "cell_type": "code",
      "metadata": {
        "id": "7TGdMG11HXRA",
        "colab": {
          "base_uri": "https://localhost:8080/",
          "height": 521
        },
        "outputId": "a65903b7-4960-4200-cefe-4ec131dee800"
      },
      "source": [
        "# Combine with main dataset\n",
        "df_horseforum_threads = df_horseforum_threads.join(df_thread_topic_labels.drop(['index_doc'], axis=1))\n",
        "df_horseforum_threads.head()"
      ],
      "execution_count": null,
      "outputs": [
        {
          "output_type": "execute_result",
          "data": {
            "text/html": [
              "<div>\n",
              "<style scoped>\n",
              "    .dataframe tbody tr th:only-of-type {\n",
              "        vertical-align: middle;\n",
              "    }\n",
              "\n",
              "    .dataframe tbody tr th {\n",
              "        vertical-align: top;\n",
              "    }\n",
              "\n",
              "    .dataframe thead th {\n",
              "        text-align: right;\n",
              "    }\n",
              "</style>\n",
              "<table border=\"1\" class=\"dataframe\">\n",
              "  <thead>\n",
              "    <tr style=\"text-align: right;\">\n",
              "      <th></th>\n",
              "      <th>thread_title</th>\n",
              "      <th>thread_url_path</th>\n",
              "      <th>thread_created_date</th>\n",
              "      <th>thread_created_by</th>\n",
              "      <th>thread_created_by_url_path</th>\n",
              "      <th>thread_view_count</th>\n",
              "      <th>thread_reply_count</th>\n",
              "      <th>thread_last_replied_date</th>\n",
              "      <th>thread_last_replied_by</th>\n",
              "      <th>thread_last_replied_by_url_path</th>\n",
              "      <th>participant_count</th>\n",
              "      <th>post_text</th>\n",
              "      <th>thread_document</th>\n",
              "      <th>cleaned_document</th>\n",
              "      <th>cleaned_document_tm</th>\n",
              "      <th>Primary_topic</th>\n",
              "      <th>Primary_topic_contribution</th>\n",
              "      <th>Primary_topic_keywords</th>\n",
              "      <th>Secondary_topic</th>\n",
              "      <th>Secondary_topic_contribution</th>\n",
              "      <th>Secondary_topic_keywords</th>\n",
              "    </tr>\n",
              "  </thead>\n",
              "  <tbody>\n",
              "    <tr>\n",
              "      <th>0</th>\n",
              "      <td>PLEASE READ BEFORE POSTING (both older and new...</td>\n",
              "      <td>/threads/please-read-before-posting-both-older...</td>\n",
              "      <td>2020-12-27T19:19:33-0500</td>\n",
              "      <td>TaMMa89</td>\n",
              "      <td>/members/tamma89.3542/</td>\n",
              "      <td>1076</td>\n",
              "      <td>0</td>\n",
              "      <td>2020-12-27T19:19:33-0500</td>\n",
              "      <td>TaMMa89</td>\n",
              "      <td>/members/tamma89.3542/</td>\n",
              "      <td>1</td>\n",
              "      <td>[New Horseforum.com format was launched in Nov...</td>\n",
              "      <td>PLEASE READ BEFORE POSTING (both older and new...</td>\n",
              "      <td>PLEASE READ BEFORE POSTING (both older and new...</td>\n",
              "      <td>please read posting older newer horseforum com...</td>\n",
              "      <td>2</td>\n",
              "      <td>0.900392</td>\n",
              "      <td>farrier, hoof, shoe, foot, vet, animal, people...</td>\n",
              "      <td>-1</td>\n",
              "      <td>0.000000</td>\n",
              "      <td></td>\n",
              "    </tr>\n",
              "    <tr>\n",
              "      <th>1</th>\n",
              "      <td>poisonous plants from HF member locations</td>\n",
              "      <td>/threads/poisonous-plants-from-hf-member-locat...</td>\n",
              "      <td>2018-01-01T22:03:05-0500</td>\n",
              "      <td>Smilie</td>\n",
              "      <td>/members/smilie.18361/</td>\n",
              "      <td>2151</td>\n",
              "      <td>5</td>\n",
              "      <td>2020-12-08T16:29:12-0500</td>\n",
              "      <td>stevenson</td>\n",
              "      <td>/members/stevenson.26572/</td>\n",
              "      <td>5</td>\n",
              "      <td>[MOD NOTE (Jaydee)\\n\\nPlease could we keep thi...</td>\n",
              "      <td>poisonous plants from HF member locations\\nMOD...</td>\n",
              "      <td>poisonous plants from HF member locations MOD ...</td>\n",
              "      <td>poisonous plant hf member location mod note ja...</td>\n",
              "      <td>2</td>\n",
              "      <td>0.669324</td>\n",
              "      <td>farrier, hoof, shoe, foot, vet, animal, people...</td>\n",
              "      <td>3</td>\n",
              "      <td>0.247640</td>\n",
              "      <td>hay, grass, feed, weight, alfalfa, pasture, ba...</td>\n",
              "    </tr>\n",
              "    <tr>\n",
              "      <th>2</th>\n",
              "      <td>The Care of an Emaciated Horse</td>\n",
              "      <td>/threads/the-care-of-an-emaciated-horse.100412/</td>\n",
              "      <td>2011-10-14T09:02:04-0400</td>\n",
              "      <td>xxBarry Godden</td>\n",
              "      <td>/members/xxbarry-godden.9451/</td>\n",
              "      <td>48970</td>\n",
              "      <td>54</td>\n",
              "      <td>2020-11-26T10:09:30-0500</td>\n",
              "      <td>horselovinguy</td>\n",
              "      <td>/members/horselovinguy.79162/</td>\n",
              "      <td>31</td>\n",
              "      <td>[My friend and I, both experienced horse peopl...</td>\n",
              "      <td>The Care of an Emaciated Horse\\nMy friend and ...</td>\n",
              "      <td>The Care of an Emaciated Horse My friend and I...</td>\n",
              "      <td>care emaciated horse friend experienced horse ...</td>\n",
              "      <td>2</td>\n",
              "      <td>0.967960</td>\n",
              "      <td>farrier, hoof, shoe, foot, vet, animal, people...</td>\n",
              "      <td>-1</td>\n",
              "      <td>0.000000</td>\n",
              "      <td></td>\n",
              "    </tr>\n",
              "    <tr>\n",
              "      <th>3</th>\n",
              "      <td>Making a Vet Kit</td>\n",
              "      <td>/threads/making-a-vet-kit.251/</td>\n",
              "      <td>2007-01-07T02:14:09-0500</td>\n",
              "      <td>Skippy!</td>\n",
              "      <td>/members/skippy.157/</td>\n",
              "      <td>2091441</td>\n",
              "      <td>277</td>\n",
              "      <td>2019-08-26T04:44:59-0400</td>\n",
              "      <td>AmiraAchek</td>\n",
              "      <td>/members/amiraachek.280747/</td>\n",
              "      <td>215</td>\n",
              "      <td>[Hey guys! I am posting this thread primarily ...</td>\n",
              "      <td>Making a Vet Kit\\nHey guys! I am posting this ...</td>\n",
              "      <td>Making a Vet Kit Hey guys! I am posting this t...</td>\n",
              "      <td>making vet kit hey guy posting thread primaril...</td>\n",
              "      <td>14</td>\n",
              "      <td>0.552667</td>\n",
              "      <td>fly, blanket, spray, skin, eye, hair, rain_rot...</td>\n",
              "      <td>10</td>\n",
              "      <td>0.406370</td>\n",
              "      <td>wound, leg, clean, sheath, proud_flesh, cut, w...</td>\n",
              "    </tr>\n",
              "    <tr>\n",
              "      <th>4</th>\n",
              "      <td>Information on Myopathies - PSSM1, PSSM2, MFM,...</td>\n",
              "      <td>/threads/information-on-myopathies-pssm1-pssm2...</td>\n",
              "      <td>2017-08-17T20:06:14-0400</td>\n",
              "      <td>Espy</td>\n",
              "      <td>/members/espy.168162/</td>\n",
              "      <td>17546</td>\n",
              "      <td>5</td>\n",
              "      <td>2018-09-17T16:44:33-0400</td>\n",
              "      <td>Espy</td>\n",
              "      <td>/members/espy.168162/</td>\n",
              "      <td>2</td>\n",
              "      <td>[PSSM1, PSSM2, MFM, and RER\\n\\n\\n\\n\\n\\nThe sym...</td>\n",
              "      <td>Information on Myopathies - PSSM1, PSSM2, MFM,...</td>\n",
              "      <td>Information on Myopathies - PSSM1, PSSM2, MFM,...</td>\n",
              "      <td>information myopathy pssm1 pssm2 mfm rer pssm1...</td>\n",
              "      <td>2</td>\n",
              "      <td>0.479670</td>\n",
              "      <td>farrier, hoof, shoe, foot, vet, animal, people...</td>\n",
              "      <td>0</td>\n",
              "      <td>0.472672</td>\n",
              "      <td>feed, hay, supplement, weight, grain, alfalfa,...</td>\n",
              "    </tr>\n",
              "  </tbody>\n",
              "</table>\n",
              "</div>"
            ],
            "text/plain": [
              "                                        thread_title  ...                           Secondary_topic_keywords\n",
              "0  PLEASE READ BEFORE POSTING (both older and new...  ...                                                   \n",
              "1          poisonous plants from HF member locations  ...  hay, grass, feed, weight, alfalfa, pasture, ba...\n",
              "2                     The Care of an Emaciated Horse  ...                                                   \n",
              "3                                   Making a Vet Kit  ...  wound, leg, clean, sheath, proud_flesh, cut, w...\n",
              "4  Information on Myopathies - PSSM1, PSSM2, MFM,...  ...  feed, hay, supplement, weight, grain, alfalfa,...\n",
              "\n",
              "[5 rows x 21 columns]"
            ]
          },
          "metadata": {},
          "execution_count": 47
        }
      ]
    },
    {
      "cell_type": "code",
      "metadata": {
        "colab": {
          "base_uri": "https://localhost:8080/",
          "height": 499
        },
        "id": "7G6vK8zAIahq",
        "outputId": "7030e1bb-3259-4f55-93bb-e8d39e8f2cf0"
      },
      "source": [
        "# Generate frequnecy plots\n",
        "fig, ax = plt.subplots(nrows=1, ncols=2, figsize=(16, 8))\n",
        "\n",
        "# Primary topic\n",
        "tmp_df = df_horseforum_threads['Primary_topic'].value_counts().to_frame('count of threads').sort_values('count of threads', ascending=True)\n",
        "if tmp_df.shape[0] <= 20:\n",
        "    tmp_df.plot.barh(ax=ax[0], title = 'Primary_topic', xlabel = \"Topic identifier\", ylabel=\"Number of threads\")\n",
        "else:\n",
        "    tmp_df.tail(20).plot.barh(ax=ax[0], title = 'Primary_topic' + ' (top 20 of ' + str(tmp_df.shape[0]) + ' only)', xlabel = \"Topic identifier\", ylabel=\"Number of threads\")\n",
        "\n",
        "# Secondary topic\n",
        "tmp_df = df_horseforum_threads[df_horseforum_threads['Secondary_topic'] !=-1]['Secondary_topic'].value_counts().to_frame('count of threads').sort_values('count of threads', ascending=True)\n",
        "if tmp_df.shape[0] <= 20:\n",
        "    tmp_df.plot.barh(ax=ax[1], title = 'Secondary_topic', xlabel = \"Topic identifier\", ylabel=\"Number of threads\")\n",
        "else:\n",
        "    tmp_df.tail(20).plot.barh(ax=ax[1], title = 'Secondary_topic' + ' (top 20 of ' + str(tmp_df.shape[0]) + ' only)', xlabel = \"Topic identifier\", ylabel=\"Number of threads\") \n",
        "\n",
        "plt.show()"
      ],
      "execution_count": null,
      "outputs": [
        {
          "output_type": "display_data",
          "data": {
            "image/png": "[encoded data removed]",
            "text/plain": [
              "<Figure size 1152x576 with 2 Axes>"
            ]
          },
          "metadata": {
            "needs_background": "light"
          }
        }
      ]
    },
    {
      "cell_type": "code",
      "metadata": {
        "colab": {
          "base_uri": "https://localhost:8080/",
          "height": 551
        },
        "id": "efqRQ9WNYbIu",
        "outputId": "1e455467-ba59-49f8-921a-6641a728bf1a"
      },
      "source": [
        "df_horseforum_threads['Primary_topic'].value_counts().to_frame('count of threads').sort_values('count of threads', ascending=False)"
      ],
      "execution_count": null,
      "outputs": [
        {
          "output_type": "execute_result",
          "data": {
            "text/html": [
              "<div>\n",
              "<style scoped>\n",
              "    .dataframe tbody tr th:only-of-type {\n",
              "        vertical-align: middle;\n",
              "    }\n",
              "\n",
              "    .dataframe tbody tr th {\n",
              "        vertical-align: top;\n",
              "    }\n",
              "\n",
              "    .dataframe thead th {\n",
              "        text-align: right;\n",
              "    }\n",
              "</style>\n",
              "<table border=\"1\" class=\"dataframe\">\n",
              "  <thead>\n",
              "    <tr style=\"text-align: right;\">\n",
              "      <th></th>\n",
              "      <th>count of threads</th>\n",
              "    </tr>\n",
              "  </thead>\n",
              "  <tbody>\n",
              "    <tr>\n",
              "      <th>12</th>\n",
              "      <td>4795</td>\n",
              "    </tr>\n",
              "    <tr>\n",
              "      <th>0</th>\n",
              "      <td>3435</td>\n",
              "    </tr>\n",
              "    <tr>\n",
              "      <th>13</th>\n",
              "      <td>2818</td>\n",
              "    </tr>\n",
              "    <tr>\n",
              "      <th>2</th>\n",
              "      <td>2726</td>\n",
              "    </tr>\n",
              "    <tr>\n",
              "      <th>14</th>\n",
              "      <td>1833</td>\n",
              "    </tr>\n",
              "    <tr>\n",
              "      <th>9</th>\n",
              "      <td>1160</td>\n",
              "    </tr>\n",
              "    <tr>\n",
              "      <th>3</th>\n",
              "      <td>1123</td>\n",
              "    </tr>\n",
              "    <tr>\n",
              "      <th>10</th>\n",
              "      <td>1072</td>\n",
              "    </tr>\n",
              "    <tr>\n",
              "      <th>4</th>\n",
              "      <td>694</td>\n",
              "    </tr>\n",
              "    <tr>\n",
              "      <th>6</th>\n",
              "      <td>690</td>\n",
              "    </tr>\n",
              "    <tr>\n",
              "      <th>5</th>\n",
              "      <td>354</td>\n",
              "    </tr>\n",
              "    <tr>\n",
              "      <th>1</th>\n",
              "      <td>180</td>\n",
              "    </tr>\n",
              "    <tr>\n",
              "      <th>11</th>\n",
              "      <td>36</td>\n",
              "    </tr>\n",
              "    <tr>\n",
              "      <th>7</th>\n",
              "      <td>26</td>\n",
              "    </tr>\n",
              "    <tr>\n",
              "      <th>15</th>\n",
              "      <td>7</td>\n",
              "    </tr>\n",
              "    <tr>\n",
              "      <th>8</th>\n",
              "      <td>5</td>\n",
              "    </tr>\n",
              "  </tbody>\n",
              "</table>\n",
              "</div>"
            ],
            "text/plain": [
              "    count of threads\n",
              "12              4795\n",
              "0               3435\n",
              "13              2818\n",
              "2               2726\n",
              "14              1833\n",
              "9               1160\n",
              "3               1123\n",
              "10              1072\n",
              "4                694\n",
              "6                690\n",
              "5                354\n",
              "1                180\n",
              "11                36\n",
              "7                 26\n",
              "15                 7\n",
              "8                  5"
            ]
          },
          "metadata": {},
          "execution_count": 49
        }
      ]
    },
    {
      "cell_type": "markdown",
      "metadata": {
        "id": "1cQ74QWE-V38"
      },
      "source": [
        "## NLP - Sentiment analysis"
      ]
    },
    {
      "cell_type": "markdown",
      "metadata": {
        "id": "RgH-Kfw5-aSe"
      },
      "source": [
        "### Polarity scores per thread\n",
        "\n",
        "Calculate sentiment polarity scores for each thread."
      ]
    },
    {
      "cell_type": "code",
      "metadata": {
        "id": "exh91EyT-Au3",
        "colab": {
          "base_uri": "https://localhost:8080/"
        },
        "outputId": "c1bac4aa-2a32-4e96-f7ad-1b3976d0e396"
      },
      "source": [
        "%%time\n",
        "sid = SentimentIntensityAnalyzer()\n",
        "thread_sentiment = df_horseforum_threads['cleaned_document'].apply(sid.polarity_scores)"
      ],
      "execution_count": null,
      "outputs": [
        {
          "output_type": "stream",
          "name": "stdout",
          "text": [
            "CPU times: user 10min 7s, sys: 2.72 s, total: 10min 10s\n",
            "Wall time: 10min 11s\n"
          ]
        }
      ]
    },
    {
      "cell_type": "markdown",
      "metadata": {
        "id": "LGuj2XQfj53R"
      },
      "source": [
        "### Sentiment by thread"
      ]
    },
    {
      "cell_type": "markdown",
      "metadata": {
        "id": "LwKtFKAGC0cI"
      },
      "source": [
        "Convert `compound` metric into a categorical variable for sentiment (based on nominated criteria):\n",
        "\n",
        "* if `compound` >= 0.05 then: *'positive'*\n",
        "* else if `compound` <= -0.05 then: *'negative'*\n",
        "* else: *'neutral'*"
      ]
    },
    {
      "cell_type": "code",
      "metadata": {
        "colab": {
          "base_uri": "https://localhost:8080/",
          "height": 441
        },
        "id": "_1c0go87DbMh",
        "outputId": "c31aed2d-c461-491d-ee02-2c24c6e50dee"
      },
      "source": [
        "# Get sentiment values\n",
        "senitments = list(sentiment_colours().keys())\n",
        "print(\"sentiments:\", senitments)\n",
        "\n",
        "df_thread_sentiment = pd.DataFrame(list(thread_sentiment))\n",
        "df_thread_sentiment['sentiment'] = np.select(\n",
        "    [\n",
        "        df_thread_sentiment['compound'].ge(0.05)\n",
        "        ,df_thread_sentiment['compound'].le(-0.05)\n",
        "    ],\n",
        "    [\n",
        "        senitments[0] # \"positive\"\n",
        "        ,senitments[2] # \"negative\"\n",
        "    ], \n",
        "    default = senitments[1] # \"neutral\"\n",
        ")\n",
        "df_thread_sentiment"
      ],
      "execution_count": null,
      "outputs": [
        {
          "output_type": "stream",
          "name": "stdout",
          "text": [
            "sentiments: ['positive', 'neutral', 'negative']\n"
          ]
        },
        {
          "output_type": "execute_result",
          "data": {
            "text/html": [
              "<div>\n",
              "<style scoped>\n",
              "    .dataframe tbody tr th:only-of-type {\n",
              "        vertical-align: middle;\n",
              "    }\n",
              "\n",
              "    .dataframe tbody tr th {\n",
              "        vertical-align: top;\n",
              "    }\n",
              "\n",
              "    .dataframe thead th {\n",
              "        text-align: right;\n",
              "    }\n",
              "</style>\n",
              "<table border=\"1\" class=\"dataframe\">\n",
              "  <thead>\n",
              "    <tr style=\"text-align: right;\">\n",
              "      <th></th>\n",
              "      <th>neg</th>\n",
              "      <th>neu</th>\n",
              "      <th>pos</th>\n",
              "      <th>compound</th>\n",
              "      <th>sentiment</th>\n",
              "    </tr>\n",
              "  </thead>\n",
              "  <tbody>\n",
              "    <tr>\n",
              "      <th>0</th>\n",
              "      <td>0.088</td>\n",
              "      <td>0.800</td>\n",
              "      <td>0.111</td>\n",
              "      <td>0.5739</td>\n",
              "      <td>positive</td>\n",
              "    </tr>\n",
              "    <tr>\n",
              "      <th>1</th>\n",
              "      <td>0.087</td>\n",
              "      <td>0.824</td>\n",
              "      <td>0.089</td>\n",
              "      <td>-0.6919</td>\n",
              "      <td>negative</td>\n",
              "    </tr>\n",
              "    <tr>\n",
              "      <th>2</th>\n",
              "      <td>0.095</td>\n",
              "      <td>0.751</td>\n",
              "      <td>0.155</td>\n",
              "      <td>1.0000</td>\n",
              "      <td>positive</td>\n",
              "    </tr>\n",
              "    <tr>\n",
              "      <th>3</th>\n",
              "      <td>0.053</td>\n",
              "      <td>0.773</td>\n",
              "      <td>0.174</td>\n",
              "      <td>1.0000</td>\n",
              "      <td>positive</td>\n",
              "    </tr>\n",
              "    <tr>\n",
              "      <th>4</th>\n",
              "      <td>0.126</td>\n",
              "      <td>0.798</td>\n",
              "      <td>0.076</td>\n",
              "      <td>-0.9997</td>\n",
              "      <td>negative</td>\n",
              "    </tr>\n",
              "    <tr>\n",
              "      <th>...</th>\n",
              "      <td>...</td>\n",
              "      <td>...</td>\n",
              "      <td>...</td>\n",
              "      <td>...</td>\n",
              "      <td>...</td>\n",
              "    </tr>\n",
              "    <tr>\n",
              "      <th>20949</th>\n",
              "      <td>0.103</td>\n",
              "      <td>0.798</td>\n",
              "      <td>0.099</td>\n",
              "      <td>-0.4244</td>\n",
              "      <td>negative</td>\n",
              "    </tr>\n",
              "    <tr>\n",
              "      <th>20950</th>\n",
              "      <td>0.054</td>\n",
              "      <td>0.754</td>\n",
              "      <td>0.192</td>\n",
              "      <td>0.9997</td>\n",
              "      <td>positive</td>\n",
              "    </tr>\n",
              "    <tr>\n",
              "      <th>20951</th>\n",
              "      <td>0.045</td>\n",
              "      <td>0.790</td>\n",
              "      <td>0.165</td>\n",
              "      <td>0.9927</td>\n",
              "      <td>positive</td>\n",
              "    </tr>\n",
              "    <tr>\n",
              "      <th>20952</th>\n",
              "      <td>0.053</td>\n",
              "      <td>0.738</td>\n",
              "      <td>0.209</td>\n",
              "      <td>0.9990</td>\n",
              "      <td>positive</td>\n",
              "    </tr>\n",
              "    <tr>\n",
              "      <th>20953</th>\n",
              "      <td>0.062</td>\n",
              "      <td>0.816</td>\n",
              "      <td>0.121</td>\n",
              "      <td>0.9877</td>\n",
              "      <td>positive</td>\n",
              "    </tr>\n",
              "  </tbody>\n",
              "</table>\n",
              "<p>20954 rows × 5 columns</p>\n",
              "</div>"
            ],
            "text/plain": [
              "         neg    neu    pos  compound sentiment\n",
              "0      0.088  0.800  0.111    0.5739  positive\n",
              "1      0.087  0.824  0.089   -0.6919  negative\n",
              "2      0.095  0.751  0.155    1.0000  positive\n",
              "3      0.053  0.773  0.174    1.0000  positive\n",
              "4      0.126  0.798  0.076   -0.9997  negative\n",
              "...      ...    ...    ...       ...       ...\n",
              "20949  0.103  0.798  0.099   -0.4244  negative\n",
              "20950  0.054  0.754  0.192    0.9997  positive\n",
              "20951  0.045  0.790  0.165    0.9927  positive\n",
              "20952  0.053  0.738  0.209    0.9990  positive\n",
              "20953  0.062  0.816  0.121    0.9877  positive\n",
              "\n",
              "[20954 rows x 5 columns]"
            ]
          },
          "metadata": {},
          "execution_count": 51
        }
      ]
    },
    {
      "cell_type": "markdown",
      "metadata": {
        "id": "wsctE8FDlNFv"
      },
      "source": [
        "#### Frequency plot"
      ]
    },
    {
      "cell_type": "code",
      "metadata": {
        "colab": {
          "base_uri": "https://localhost:8080/",
          "height": 315
        },
        "id": "Erxj3e6TD2Ix",
        "outputId": "930b4712-6a12-4c42-d051-cb1de2ea6101"
      },
      "source": [
        "color_sentiment = sentiment_colours()\n",
        "fig, ax = plt.subplots(nrows=1,ncols=1)\n",
        "df_thread_sentiment['sentiment'].value_counts().reindex(color_sentiment.keys()).plot(ax = ax, kind='bar',title=\"thread sentiment\", color = color_sentiment.values())\n",
        "plt.show()"
      ],
      "execution_count": null,
      "outputs": [
        {
          "output_type": "display_data",
          "data": {
            "image/png": "[encoded data removed]",
            "text/plain": [
              "<Figure size 432x288 with 1 Axes>"
            ]
          },
          "metadata": {
            "needs_background": "light"
          }
        }
      ]
    },
    {
      "cell_type": "markdown",
      "metadata": {
        "id": "zSSnoebIlV4X"
      },
      "source": [
        "### Sentiment by topics"
      ]
    },
    {
      "cell_type": "code",
      "metadata": {
        "id": "rTFd7PKqCR74"
      },
      "source": [
        "# turn the result into a data frame and add as columns to the original data\n",
        "df_horseforum_threads = df_horseforum_threads.join(df_thread_sentiment)"
      ],
      "execution_count": null,
      "outputs": []
    },
    {
      "cell_type": "code",
      "metadata": {
        "colab": {
          "base_uri": "https://localhost:8080/",
          "height": 521
        },
        "id": "oDSLs_V3C9LP",
        "outputId": "0622e8dc-c2e4-4ca1-b461-6c9103780e23"
      },
      "source": [
        "df_horseforum_threads.head()"
      ],
      "execution_count": null,
      "outputs": [
        {
          "output_type": "execute_result",
          "data": {
            "text/html": [
              "<div>\n",
              "<style scoped>\n",
              "    .dataframe tbody tr th:only-of-type {\n",
              "        vertical-align: middle;\n",
              "    }\n",
              "\n",
              "    .dataframe tbody tr th {\n",
              "        vertical-align: top;\n",
              "    }\n",
              "\n",
              "    .dataframe thead th {\n",
              "        text-align: right;\n",
              "    }\n",
              "</style>\n",
              "<table border=\"1\" class=\"dataframe\">\n",
              "  <thead>\n",
              "    <tr style=\"text-align: right;\">\n",
              "      <th></th>\n",
              "      <th>thread_title</th>\n",
              "      <th>thread_url_path</th>\n",
              "      <th>thread_created_date</th>\n",
              "      <th>thread_created_by</th>\n",
              "      <th>thread_created_by_url_path</th>\n",
              "      <th>thread_view_count</th>\n",
              "      <th>thread_reply_count</th>\n",
              "      <th>thread_last_replied_date</th>\n",
              "      <th>thread_last_replied_by</th>\n",
              "      <th>thread_last_replied_by_url_path</th>\n",
              "      <th>participant_count</th>\n",
              "      <th>post_text</th>\n",
              "      <th>thread_document</th>\n",
              "      <th>cleaned_document</th>\n",
              "      <th>cleaned_document_tm</th>\n",
              "      <th>Primary_topic</th>\n",
              "      <th>Primary_topic_contribution</th>\n",
              "      <th>Primary_topic_keywords</th>\n",
              "      <th>Secondary_topic</th>\n",
              "      <th>Secondary_topic_contribution</th>\n",
              "      <th>Secondary_topic_keywords</th>\n",
              "      <th>neg</th>\n",
              "      <th>neu</th>\n",
              "      <th>pos</th>\n",
              "      <th>compound</th>\n",
              "      <th>sentiment</th>\n",
              "    </tr>\n",
              "  </thead>\n",
              "  <tbody>\n",
              "    <tr>\n",
              "      <th>0</th>\n",
              "      <td>PLEASE READ BEFORE POSTING (both older and new...</td>\n",
              "      <td>/threads/please-read-before-posting-both-older...</td>\n",
              "      <td>2020-12-27T19:19:33-0500</td>\n",
              "      <td>TaMMa89</td>\n",
              "      <td>/members/tamma89.3542/</td>\n",
              "      <td>1076</td>\n",
              "      <td>0</td>\n",
              "      <td>2020-12-27T19:19:33-0500</td>\n",
              "      <td>TaMMa89</td>\n",
              "      <td>/members/tamma89.3542/</td>\n",
              "      <td>1</td>\n",
              "      <td>[New Horseforum.com format was launched in Nov...</td>\n",
              "      <td>PLEASE READ BEFORE POSTING (both older and new...</td>\n",
              "      <td>PLEASE READ BEFORE POSTING (both older and new...</td>\n",
              "      <td>please read posting older newer horseforum com...</td>\n",
              "      <td>2</td>\n",
              "      <td>0.900392</td>\n",
              "      <td>farrier, hoof, shoe, foot, vet, animal, people...</td>\n",
              "      <td>-1</td>\n",
              "      <td>0.000000</td>\n",
              "      <td></td>\n",
              "      <td>0.088</td>\n",
              "      <td>0.800</td>\n",
              "      <td>0.111</td>\n",
              "      <td>0.5739</td>\n",
              "      <td>positive</td>\n",
              "    </tr>\n",
              "    <tr>\n",
              "      <th>1</th>\n",
              "      <td>poisonous plants from HF member locations</td>\n",
              "      <td>/threads/poisonous-plants-from-hf-member-locat...</td>\n",
              "      <td>2018-01-01T22:03:05-0500</td>\n",
              "      <td>Smilie</td>\n",
              "      <td>/members/smilie.18361/</td>\n",
              "      <td>2151</td>\n",
              "      <td>5</td>\n",
              "      <td>2020-12-08T16:29:12-0500</td>\n",
              "      <td>stevenson</td>\n",
              "      <td>/members/stevenson.26572/</td>\n",
              "      <td>5</td>\n",
              "      <td>[MOD NOTE (Jaydee)\\n\\nPlease could we keep thi...</td>\n",
              "      <td>poisonous plants from HF member locations\\nMOD...</td>\n",
              "      <td>poisonous plants from HF member locations MOD ...</td>\n",
              "      <td>poisonous plant hf member location mod note ja...</td>\n",
              "      <td>2</td>\n",
              "      <td>0.669324</td>\n",
              "      <td>farrier, hoof, shoe, foot, vet, animal, people...</td>\n",
              "      <td>3</td>\n",
              "      <td>0.247640</td>\n",
              "      <td>hay, grass, feed, weight, alfalfa, pasture, ba...</td>\n",
              "      <td>0.087</td>\n",
              "      <td>0.824</td>\n",
              "      <td>0.089</td>\n",
              "      <td>-0.6919</td>\n",
              "      <td>negative</td>\n",
              "    </tr>\n",
              "    <tr>\n",
              "      <th>2</th>\n",
              "      <td>The Care of an Emaciated Horse</td>\n",
              "      <td>/threads/the-care-of-an-emaciated-horse.100412/</td>\n",
              "      <td>2011-10-14T09:02:04-0400</td>\n",
              "      <td>xxBarry Godden</td>\n",
              "      <td>/members/xxbarry-godden.9451/</td>\n",
              "      <td>48970</td>\n",
              "      <td>54</td>\n",
              "      <td>2020-11-26T10:09:30-0500</td>\n",
              "      <td>horselovinguy</td>\n",
              "      <td>/members/horselovinguy.79162/</td>\n",
              "      <td>31</td>\n",
              "      <td>[My friend and I, both experienced horse peopl...</td>\n",
              "      <td>The Care of an Emaciated Horse\\nMy friend and ...</td>\n",
              "      <td>The Care of an Emaciated Horse My friend and I...</td>\n",
              "      <td>care emaciated horse friend experienced horse ...</td>\n",
              "      <td>2</td>\n",
              "      <td>0.967960</td>\n",
              "      <td>farrier, hoof, shoe, foot, vet, animal, people...</td>\n",
              "      <td>-1</td>\n",
              "      <td>0.000000</td>\n",
              "      <td></td>\n",
              "      <td>0.095</td>\n",
              "      <td>0.751</td>\n",
              "      <td>0.155</td>\n",
              "      <td>1.0000</td>\n",
              "      <td>positive</td>\n",
              "    </tr>\n",
              "    <tr>\n",
              "      <th>3</th>\n",
              "      <td>Making a Vet Kit</td>\n",
              "      <td>/threads/making-a-vet-kit.251/</td>\n",
              "      <td>2007-01-07T02:14:09-0500</td>\n",
              "      <td>Skippy!</td>\n",
              "      <td>/members/skippy.157/</td>\n",
              "      <td>2091441</td>\n",
              "      <td>277</td>\n",
              "      <td>2019-08-26T04:44:59-0400</td>\n",
              "      <td>AmiraAchek</td>\n",
              "      <td>/members/amiraachek.280747/</td>\n",
              "      <td>215</td>\n",
              "      <td>[Hey guys! I am posting this thread primarily ...</td>\n",
              "      <td>Making a Vet Kit\\nHey guys! I am posting this ...</td>\n",
              "      <td>Making a Vet Kit Hey guys! I am posting this t...</td>\n",
              "      <td>making vet kit hey guy posting thread primaril...</td>\n",
              "      <td>14</td>\n",
              "      <td>0.552667</td>\n",
              "      <td>fly, blanket, spray, skin, eye, hair, rain_rot...</td>\n",
              "      <td>10</td>\n",
              "      <td>0.406370</td>\n",
              "      <td>wound, leg, clean, sheath, proud_flesh, cut, w...</td>\n",
              "      <td>0.053</td>\n",
              "      <td>0.773</td>\n",
              "      <td>0.174</td>\n",
              "      <td>1.0000</td>\n",
              "      <td>positive</td>\n",
              "    </tr>\n",
              "    <tr>\n",
              "      <th>4</th>\n",
              "      <td>Information on Myopathies - PSSM1, PSSM2, MFM,...</td>\n",
              "      <td>/threads/information-on-myopathies-pssm1-pssm2...</td>\n",
              "      <td>2017-08-17T20:06:14-0400</td>\n",
              "      <td>Espy</td>\n",
              "      <td>/members/espy.168162/</td>\n",
              "      <td>17546</td>\n",
              "      <td>5</td>\n",
              "      <td>2018-09-17T16:44:33-0400</td>\n",
              "      <td>Espy</td>\n",
              "      <td>/members/espy.168162/</td>\n",
              "      <td>2</td>\n",
              "      <td>[PSSM1, PSSM2, MFM, and RER\\n\\n\\n\\n\\n\\nThe sym...</td>\n",
              "      <td>Information on Myopathies - PSSM1, PSSM2, MFM,...</td>\n",
              "      <td>Information on Myopathies - PSSM1, PSSM2, MFM,...</td>\n",
              "      <td>information myopathy pssm1 pssm2 mfm rer pssm1...</td>\n",
              "      <td>2</td>\n",
              "      <td>0.479670</td>\n",
              "      <td>farrier, hoof, shoe, foot, vet, animal, people...</td>\n",
              "      <td>0</td>\n",
              "      <td>0.472672</td>\n",
              "      <td>feed, hay, supplement, weight, grain, alfalfa,...</td>\n",
              "      <td>0.126</td>\n",
              "      <td>0.798</td>\n",
              "      <td>0.076</td>\n",
              "      <td>-0.9997</td>\n",
              "      <td>negative</td>\n",
              "    </tr>\n",
              "  </tbody>\n",
              "</table>\n",
              "</div>"
            ],
            "text/plain": [
              "                                        thread_title  ... sentiment\n",
              "0  PLEASE READ BEFORE POSTING (both older and new...  ...  positive\n",
              "1          poisonous plants from HF member locations  ...  negative\n",
              "2                     The Care of an Emaciated Horse  ...  positive\n",
              "3                                   Making a Vet Kit  ...  positive\n",
              "4  Information on Myopathies - PSSM1, PSSM2, MFM,...  ...  negative\n",
              "\n",
              "[5 rows x 26 columns]"
            ]
          },
          "metadata": {},
          "execution_count": 54
        }
      ]
    },
    {
      "cell_type": "markdown",
      "metadata": {
        "id": "rG6_dwOAltH4"
      },
      "source": [
        "#### Plot sentiment ratios by topic"
      ]
    },
    {
      "cell_type": "code",
      "metadata": {
        "colab": {
          "base_uri": "https://localhost:8080/",
          "height": 1000
        },
        "id": "eTx0HSUCYKjO",
        "outputId": "4b93d5ca-fefc-4633-e57e-56490967242a"
      },
      "source": [
        "# Show relative sentiment proportion for each topic\n",
        "tmp_df = df_horseforum_threads['Primary_topic'].value_counts().to_frame('count of threads').sort_values('count of threads', ascending=False)\n",
        "\n",
        "color_sentiment = sentiment_colours()\n",
        "n = len(tmp_df.index)\n",
        "fig, ax = plt.subplots(nrows=n, ncols=1, figsize=(8, 2*n))\n",
        "for i, topic_id in enumerate(tmp_df.index):\n",
        "    tmp = df_horseforum_threads[df_horseforum_threads['Primary_topic']==topic_id]['sentiment'].value_counts().reindex(color_sentiment.keys()).fillna(0).to_frame('topic {}'.format(topic_id)).apply(lambda x: x / sum(x))\n",
        "    tmp.transpose().plot(ax = ax[i], kind='barh',stacked = True, color = color_sentiment.values())\n",
        "    if i != 0 and i != (n-1):\n",
        "        ax[i].get_legend().remove()\n",
        "plt.show()"
      ],
      "execution_count": null,
      "outputs": [
        {
          "output_type": "display_data",
          "data": {
            "image/png": "[encoded data removed]",
            "text/plain": [
              "<Figure size 576x2304 with 16 Axes>"
            ]
          },
          "metadata": {
            "needs_background": "light"
          }
        }
      ]
    },
    {
      "cell_type": "markdown",
      "metadata": {
        "id": "NUodw-uOl8KU"
      },
      "source": [
        "By observation, Topic Id = `13` was amongst the topics with the largest proportion of negative sentiment."
      ]
    },
    {
      "cell_type": "code",
      "metadata": {
        "colab": {
          "base_uri": "https://localhost:8080/"
        },
        "id": "guW_Sj-HYMlo",
        "outputId": "71bcbe02-1e10-4673-f088-50f4a4397c8a"
      },
      "source": [
        "best_model.show_topic(topicid=13 ,topn=10)"
      ],
      "execution_count": null,
      "outputs": [
        {
          "output_type": "execute_result",
          "data": {
            "text/plain": [
              "[('leg', 0.0054481574),\n",
              " ('lame', 0.004644456),\n",
              " ('joint', 0.004512162),\n",
              " ('lameness', 0.004149157),\n",
              " ('arthritis', 0.0037241387),\n",
              " ('hock', 0.0036727479),\n",
              " ('vet', 0.0036025518),\n",
              " ('injury', 0.0034467615),\n",
              " ('stifle', 0.0031788195),\n",
              " ('foot', 0.0030942804)]"
            ]
          },
          "metadata": {},
          "execution_count": 56
        }
      ]
    },
    {
      "cell_type": "markdown",
      "metadata": {
        "id": "KMzmTHlcI3JB"
      },
      "source": [
        "## Python notebook (.ipynb) conversion\n"
      ]
    },
    {
      "cell_type": "code",
      "metadata": {
        "id": "AtrDfAiNVaUV"
      },
      "source": [
        "# Set notebooks full filename & path\n",
        "filename_Notebook_ipynb = 'A3_Deliverable_3_Lachlan_Sharp.ipynb'\n",
        "filename_Notebook_ipynb = '\\\"' + os.path.join(filepath_root, filename_Notebook_ipynb) + '\\\"'"
      ],
      "execution_count": 50,
      "outputs": []
    },
    {
      "cell_type": "markdown",
      "metadata": {
        "id": "UCdwvvgCmsCi"
      },
      "source": [
        "### Convert to HTML\n",
        "\n",
        "The following code cell was for converting this Python notebook (.ipynb) to HTML (.html)."
      ]
    },
    {
      "cell_type": "code",
      "metadata": {
        "colab": {
          "base_uri": "https://localhost:8080/"
        },
        "id": "xjv0JTJ1H7Yl",
        "outputId": "5bde76b5-f55b-4114-ce0b-46239882af16"
      },
      "source": [
        "# Conversion of notebook to html (Google Colab):\n",
        "!jupyter nbconvert --to html $filename_Notebook_ipynb"
      ],
      "execution_count": 60,
      "outputs": [
        {
          "output_type": "stream",
          "name": "stdout",
          "text": [
            "[NbConvertApp] Converting notebook /content/drive/MyDrive/Colab Notebooks/MA5851/Assessment 3/A3_Deliverable_3_Lachlan_Sharp.ipynb to html\n",
            "[NbConvertApp] Writing 713758 bytes to /content/drive/MyDrive/Colab Notebooks/MA5851/Assessment 3/A3_Deliverable_3_Lachlan_Sharp.html\n"
          ]
        }
      ]
    },
    {
      "cell_type": "markdown",
      "metadata": {
        "id": "HShV7WR-mzaw"
      },
      "source": [
        "### Convert to PDF\n",
        "\n",
        "The following code cell was for converting this Python notebook (.ipynb) to PDF (.pdf).\n",
        "\n"
      ]
    },
    {
      "cell_type": "code",
      "metadata": {
        "id": "oqd9I0nrnD2b"
      },
      "source": [
        "# Install pandoc in order to render PDF (suppress output)\n",
        "%%capture\n",
        "!apt-get install texlive texlive-xetex texlive-latex-extra pandoc\n",
        "!pip install pypandoc"
      ],
      "execution_count": 53,
      "outputs": []
    },
    {
      "cell_type": "code",
      "metadata": {
        "id": "aytN6S5FJOI8",
        "colab": {
          "base_uri": "https://localhost:8080/"
        },
        "outputId": "f24d3788-537d-468e-943c-77cfdc001397"
      },
      "source": [
        "# Conversion of notebook to pdf (Google Colab):\n",
        "!jupyter nbconvert --to PDF A3_Deliverable_3_Lachlan_Sharp.ipynb"
      ],
      "execution_count": 59,
      "outputs": [
        {
          "output_type": "stream",
          "name": "stdout",
          "text": [
            "[NbConvertApp] Converting notebook A3_Deliverable_3_Lachlan_Sharp.ipynb to PDF\n",
            "[NbConvertApp] Support files will be in A3_Deliverable_3_Lachlan_Sharp_files/\n",
            "[NbConvertApp] Making directory ./A3_Deliverable_3_Lachlan_Sharp_files\n",
            "[NbConvertApp] Making directory ./A3_Deliverable_3_Lachlan_Sharp_files\n",
            "[NbConvertApp] Making directory ./A3_Deliverable_3_Lachlan_Sharp_files\n",
            "[NbConvertApp] Making directory ./A3_Deliverable_3_Lachlan_Sharp_files\n",
            "[NbConvertApp] Making directory ./A3_Deliverable_3_Lachlan_Sharp_files\n",
            "[NbConvertApp] Writing 183667 bytes to ./notebook.tex\n",
            "[NbConvertApp] Building PDF\n",
            "[NbConvertApp] Running xelatex 3 times: [u'xelatex', u'./notebook.tex', '-quiet']\n",
            "[NbConvertApp] Running bibtex 1 time: [u'bibtex', u'./notebook']\n",
            "[NbConvertApp] WARNING | bibtex had problems, most likely because there were no citations\n",
            "[NbConvertApp] PDF successfully created\n",
            "[NbConvertApp] Writing 378129 bytes to A3_Deliverable_3_Lachlan_Sharp.pdf\n"
          ]
        }
      ]
    }
  ]
}