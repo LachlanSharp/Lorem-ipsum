{
  "nbformat": 4,
  "nbformat_minor": 0,
  "metadata": {
    "colab": {
      "name": "A3_Deliverable_2_Lachlan_Sharp.ipynb",
      "provenance": [],
      "collapsed_sections": [],
      "toc_visible": true,
      "mount_file_id": "1tyLwJlF9R8NL8hTh-VDMURq9OVqQOX4b",
      "authorship_tag": "ABX9TyP/pW2wdqkkGkhM4lfLIooc",
      "include_colab_link": true
    },
    "kernelspec": {
      "name": "python3",
      "display_name": "Python 3"
    },
    "language_info": {
      "name": "python"
    }
  },
  "cells": [
    {
      "cell_type": "markdown",
      "metadata": {
        "id": "view-in-github",
        "colab_type": "text"
      },
      "source": [
        "<a href=\"https://colab.research.google.com/github/LachlanSharp/Lorem-ipsum/blob/main/A3_Deliverable_2_Lachlan_Sharp.ipynb\" target=\"_parent\"><img src=\"https://colab.research.google.com/assets/colab-badge.svg\" alt=\"Open In Colab\"/></a>"
      ]
    },
    {
      "cell_type": "markdown",
      "metadata": {
        "id": "cb1PvzncnGBd"
      },
      "source": [
        "# MA5851 - Assessment 3: WebCrawler and NLP System\n",
        "\n",
        "---\n",
        "\n",
        "* **Task 2**: WebCrawler\n",
        "* **Author**: Lachlan Sharp\n",
        "* **Due Date**: 2021-12-08\n",
        "\n",
        "The following was the second deliverable for the WebCrawler and NLP System, outlining the WebCralwer component.\n",
        "\n",
        "* *Note*: due to issues encountered rendering the notebook to a PDF files, images have been included twice: one to support the PDF render, and the other to support notebook (.ipynb) and HTML.\n",
        "\n",
        "Artefacts of this project were published on GitHub: https://github.com/LachlanSharp/Lorem-ipsum.git \n",
        "\n",
        "---\n",
        "\n"
      ]
    },
    {
      "cell_type": "markdown",
      "metadata": {
        "id": "46NAyPsmIhxL"
      },
      "source": [
        "## Target site for Web Crawling\n"
      ]
    },
    {
      "cell_type": "markdown",
      "metadata": {
        "id": "DPqRQGImJdjI"
      },
      "source": [
        "Data for the project was scraped from the “Horse Health” forum, accessible via the following URL: https://www.horseforum.com/forums/horse-health.17/. \n",
        "\n",
        "The forum was started by horse enthusiasts in the United States, and has grown to over 81,000 members with 3.2 million posts (refer www.horseforum.com/about/). As of December 2021, the “Horse Health” forum reports over 318,000 posts and 87.4 million views. From the forum’s description:\n",
        "\n",
        "> “Discuss all aspects of horse health including horse injury and lameness, horse medications, parasites, horse diseases and more.”— www.horseforum.com/forums/horse-health.17/ \n"
      ]
    },
    {
      "cell_type": "markdown",
      "metadata": {
        "id": "GxexpepuI5-j"
      },
      "source": [
        "## Rationale for target choice"
      ]
    },
    {
      "cell_type": "markdown",
      "metadata": {
        "id": "p2IqSpEbJeIf"
      },
      "source": [
        "The *Horse Health* forum was selected for the following reasons:\n",
        "\n",
        "* **Relevant content**: the forum deals directly with horse health issues (and not the perception of horse welfare).\n",
        "* **Volume of data**: the forum contains tens of thousands of conversation “threads” and millions of posts.\n",
        "* **No authentication**: the website is publicly accessible for the purpose of reading content.\n",
        "* **Static HTML content**: the website’s pages are “static” HTML (i.e., not dynamically generated content via JavaScript). This allowed for scraping of content via Python library, `BeautifulSoup`.\n",
        "* **User reactions**: For the benefit of sentiment analysis, the forum allows users to “react” (e.g., “Like”) other user’s posts.\n",
        "* **Extensibility**: There were more than fifty other forums besides *Horse Health* at www.horseforum.com, plus there are many more forum-type sites at other domains. Hence development of the WebCrawler would allow access to much other data.\n"
      ]
    },
    {
      "cell_type": "markdown",
      "metadata": {
        "id": "mJ10F-vcI51W"
      },
      "source": [
        "## Complexity of content\n"
      ]
    },
    {
      "cell_type": "markdown",
      "metadata": {
        "id": "NwclHLdQJek_"
      },
      "source": [
        "The complexity of the website was relatively straight forward, as characterised by the following aspects:\n",
        "\n",
        "* Conceptual hierarchy of information.\n",
        "* Logical page design.\n",
        "\n",
        "\\  \n",
        "\n",
        "**Conceptual hierarchy of information**\n",
        "\n",
        "Good conceptual design to the website allowed for good conceptual design of the WebCrawler. In lieu of an entity relationship diagram, the concepts for the website were as follows:\n",
        "\n",
        "* The ***domain*** (www.horseforum.com) has many ***forums***, and each ***forum*** belongs to that single ***domain***.\n",
        "* A ***forum*** (i.e., *Horse Health*, https://www.horseforum.com/forums/horse-health.17/) contains many conversation ***threads***, and each ***thread*** belongs to a single ***forum***.\n",
        "* A ***thread*** consists of multiple ***posts*** (i.e., messages), and each ***post*** belongs to a single ***thread***.\n",
        "* A ***forum*** has multiple ***forum-pages***, and each ***forum-page*** contains multiple ***threads*** belonging to the ***forum***.\n",
        "* A ***thread*** has multiple ***thread-pages***, and each ***thread-page*** contains multiple ***posts*** belonging to the ***thread***.\n",
        "* A ***thread*** is created by a single ***user***, starting with an initial ***post***.\n",
        "* A reply ***post*** can be made by any ***user*** (including the originator).\n",
        "* Multiple ***users*** can ***react*** (e.g., “Like”) a ***post*** but not all ***posts*** have a ***reaction***.\n",
        "\n",
        "\\  \n",
        "\n",
        "***Logical page design***\n",
        "\n",
        "In the opinion of this project, the website had a consistent and logical design. This made the repetitive tasks of the WebCrawler straight forward. Additionally, elements within web pages were also consistently and thoroughly identified (via class or attribute). That made identification of the required elements using `BeautifulSoup` easy, typically requiring no more than two levels of searching to home in on the required element.\n"
      ]
    },
    {
      "cell_type": "markdown",
      "metadata": {
        "id": "-QnRYtyFI5tP"
      },
      "source": [
        "## Fair use of data\n"
      ]
    },
    {
      "cell_type": "markdown",
      "metadata": {
        "id": "Fylkb495JfAN"
      },
      "source": [
        "The terms of use for the website (https://www.horseforum.com/help/terms/) did not explicitly forbade or even reference web scraping. In section *Disclaimer and Limitation of Liability* (para. 5) it states: “The Web Site is provided for informational purposes only, and is not intended for trading or investing purposes, or for commercial use.”. Also pertinent from the terms of use was section *Limited Licence* which grants a limited licence to use information from the site free of charge for “non-commercial, personal, or educational purposes only”.\n",
        "\n",
        "As this project was also for academic purposes, no conflict (i.e., copyright) was perceived to be created in Web Crawling the site. Additionally, the only “personal” information that was intentionally scraped were pseudonymous usernames, hence there were no perceived issues of privacy or confidential information. Users on the forum have ability to “lock” posts to specific users, and hence keep them away from general view.\n",
        "\n",
        "As an attempted courtesy, and as enabled by the difference in time zone between the United States and Australia, the site was only crawled outside of US business hours. This was done in an attempt to minimise impact on accessibility of the site to other users.\n"
      ]
    },
    {
      "cell_type": "markdown",
      "metadata": {
        "id": "GIHgFMhhI5iI"
      },
      "source": [
        "## Metadata supplementation and rationale"
      ]
    },
    {
      "cell_type": "markdown",
      "metadata": {
        "id": "csV-PchDJfoh"
      },
      "source": [
        "The *Horse Health* forum was not the first website to be crawled by this project, that instead being site https://www.tophorse.com.au/horses-for-sale/. “TopHorse Sales” is a much smaller site, listing less than 200 horses for sale. \n",
        "\n",
        "The rationale in scraping *TopHorse Sales* was to investigate whether any topics of health modelled from the Horse Health forum could be identified in the purchasing of a new horse. However, the *TopHorse Sales* data was never incorporated in the NLP system developed, even though the dataset was provided by this project. Ultimately that site just provided an easier development opportunity for the WebCrawler.\n"
      ]
    },
    {
      "cell_type": "markdown",
      "metadata": {
        "id": "LJNSum9zI5Po"
      },
      "source": [
        "## Content extraction"
      ]
    },
    {
      "cell_type": "markdown",
      "metadata": {
        "id": "1M4zzi3mJgH8"
      },
      "source": [
        "The WebCrawler was implemented in Python using the `BeautifulSoup` library. It was given a website forum URL as its starting page, then proceeded in two passes:\n",
        "\n",
        "* First, it crawled the forum pages to extract details of each conversation thread.\n",
        "* Secondly, for each thread, it crawled all pages of the thread to retrieve all posts.\n",
        "\n",
        "This data was then saved to file (.csv) as source data for the NLP system.\n",
        "\n",
        "Best effort was made to make the WebCrawler as generic as possible. While the identification of elements extracted were specific to the design of the Horse Health forum pages, the framework for crawling was abstracted.\n",
        "\n",
        "The core WebCrawler was coded in user defined function (UDF) `web_crawler()` (refer Appendix – ‘UDF WebCrawler’). The function accepted the following parameters:\n",
        "\n",
        "* `url_domain`: the base URL domain (including protocol) to be crawled (e.g., https://www.horseforum.com)\n",
        "* `url_path`: The URL path for the first page to be crawled (e.g., /forums/horse-health.17/)\n",
        "* `fx_get_ResultSet`: A UDF that returns a collection of repeating elements within the page (i.e., threads on the forum, or posts in a thread, etc.).\n",
        "* `fx_get_ResultSet_data`: A UDF that returns scraped data from the ResultSet (i.e., scrapes data for a single post etc.).\n",
        "* `fx_get_next_page_url`: a UDF that returns the URL for the next page (of the forum or thread).\n",
        "* `fx_get_page_data`: An optional UDF that can be used to scrape data specific to a page (as opposed to the collection of items being scraped within the page).\n",
        "* `max_pages`: An optional limit to the maximum number of pages to iterate (handy for when testing code)\n",
        "* `echo_every_n`: controls the frequency of output updates from the crawler.\n",
        "* `wait_page_sec`: An optional duration to wait between requesting pages being crawled.\n",
        "\n",
        "This function was used of itself to perform the “first pass” across the forum-pages to extract URL paths for its threads. This was illustrated in Figure 1, where elements on the forum page are identified against the data extracted. Implementation was reasonably concise, as included in the Appendix (section ‘Crawl horseforum – health’).\n",
        "\n",
        "However, the “second pass” required iterating through all the threads, and in turn all their posts. This necessitated need for a “wrapper” function around `web_crawler()`. That function was eponymously named `wrapper_web_crawler()` (refer Appendix, section ‘UDF crawler wrapper’). Inputs to the wrapper were similar to the crawler, though instead of accepting a single URL path as a parameter it would accept a list of them. It also had additional parameters to control program output and wait times between cycles.\n",
        "\n",
        "Figure 2 illustrated the elements on a thread’s page that were extracted and how they were mapped to features within the “thread-pages” dataset. Similarly, Figure 3 showed a similar mapping for a thread’s post to the “thread-posts” dataset.\n",
        "\n",
        "The only additional complexity was extracting the number of reactions for a post (refer Figure 3). While the example included was simple, only the first few usernames that reacted would be explicitly shown against the post. To view the full list of users that reacted, a further URL path needed to be followed. This additional “pass” was accommodated within the `wrapper_web_crawler()` function by passing the parameter `get_ResultSet_data` as a lambda function as follows: \n",
        "\n",
        "```\n",
        "lambda post: scrape_thread_post_details_horseforum(page_posts=post, url_domain=url_domain)\n",
        "```\n",
        "\n",
        "This allowed the WebCrawler to “step down” an additional level for each post, without having to wrap a further loop of iteration within the wrapper or the core WebCrawler function.\n"
      ]
    },
    {
      "cell_type": "markdown",
      "metadata": {
        "id": "HDacoBTSovG2"
      },
      "source": [
        "---\n",
        "\n",
        "#### Figure 1: Horse-health forum"
      ]
    },
    {
      "cell_type": "markdown",
      "metadata": {
        "id": "xVLsw1gvZvj-"
      },
      "source": [
        "![Fig. 1: Horse Health forum](horse-health_forum.png)"
      ]
    },
    {
      "cell_type": "code",
      "metadata": {
        "colab": {
          "base_uri": "https://localhost:8080/",
          "height": 651
        },
        "id": "DReC04ikgpOp",
        "outputId": "e8099bd7-5afb-42f1-804f-052524e1a7cc"
      },
      "source": [
        "%%html\n",
        "<img src='https://drive.google.com/uc?export=view&id=1q3sYfrqNVupckg_4xx5yxCyuTCF0ZJhg' alt=\"horse-health forum\" width=\"1200\"/>"
      ],
      "execution_count": null,
      "outputs": [
        {
          "output_type": "display_data",
          "data": {
            "text/html": [
              "<img src='https://drive.google.com/uc?export=view&id=1q3sYfrqNVupckg_4xx5yxCyuTCF0ZJhg' alt=\"horse-health forum\" width=\"1200\"/>"
            ],
            "text/plain": [
              "<IPython.core.display.HTML object>"
            ]
          },
          "metadata": {}
        }
      ]
    },
    {
      "cell_type": "markdown",
      "metadata": {
        "id": "0aX5OOPxpzmb"
      },
      "source": [
        "| id | Feature                       | Example value                                     |\n",
        "|:--:|-------------------------------|---------------------------------------------------|\n",
        "|  A | item_title                    | poisonous plants from HF member locations         |\n",
        "|  A | item_url_path                 | /threads/poisonous-plants-from-hf-member-locat... |\n",
        "|  B | item_created_date             | 2018-01-01T22:03:05-0500                          |\n",
        "|  C | item_created_by               | Smilie                                            |\n",
        "|  C | item_created_by_url_path      | /members/smilie.18361/                            |\n",
        "|  D | item_view_count               | 2151                                              |\n",
        "|  E | item_reply_count              | 5                                                 |\n",
        "|  F | item_last_replied_date        | 2020-12-08T16:29:12-0500                          |\n",
        "|  G | item_last_replied_by          | stevenson                                         |\n",
        "|  G | item_last_replied_by_url_path | /members/stevenson.26572/                         |"
      ]
    },
    {
      "cell_type": "markdown",
      "metadata": {
        "id": "u5AR4YSgpsp2"
      },
      "source": [
        "---\n",
        "\n",
        "#### Figure 2: Forum thread's page"
      ]
    },
    {
      "cell_type": "markdown",
      "metadata": {
        "id": "TyhBVmLWob6R"
      },
      "source": [
        "![Fig. 2: Thread's pages](thread_page.png)"
      ]
    },
    {
      "cell_type": "code",
      "metadata": {
        "colab": {
          "base_uri": "https://localhost:8080/",
          "height": 652
        },
        "id": "sO5QZs4vpa_1",
        "outputId": "9ace1bc7-da2b-4bca-c2fd-58d9cf6a2633"
      },
      "source": [
        "%%html\n",
        "<img src='https://drive.google.com/uc?export=view&id=1Xv6BflRx8DvbezYCUTqPmUhMm5Nb9-E3' alt=\"Thread's pages\" width=\"1200\"/>"
      ],
      "execution_count": null,
      "outputs": [
        {
          "output_type": "display_data",
          "data": {
            "text/html": [
              "<img src='https://drive.google.com/uc?export=view&id=1Xv6BflRx8DvbezYCUTqPmUhMm5Nb9-E3' alt=\"horse-health forum\" width=\"1200\"/>"
            ],
            "text/plain": [
              "<IPython.core.display.HTML object>"
            ]
          },
          "metadata": {}
        }
      ]
    },
    {
      "cell_type": "markdown",
      "metadata": {
        "id": "3QWpczN5rANh"
      },
      "source": [
        "| thread_url_path                                 | participant_count [A] | page_url_path [B]                                        |\n",
        "|-------------------------------------------------|:-----------------:|-------------------------------------------------------|\n",
        "| /threads/the-care-of-an-emaciated-horse.100412/ |         31        | /threads/the-care-of-an-emaciated-horse.100412/       |\n",
        "| /threads/the-care-of-an-emaciated-horse.100412/ |         31        | /threads/the-care-of-an-emaciated-horse.100412/page-2 |\n",
        "| /threads/the-care-of-an-emaciated-horse.100412/ |         31        | /threads/the-care-of-an-emaciated-horse.100412/page-3 |"
      ]
    },
    {
      "cell_type": "markdown",
      "metadata": {
        "id": "nBBUVXqnrr4E"
      },
      "source": [
        "---\n",
        "\n",
        "#### Figure 3: Thread's posts"
      ]
    },
    {
      "cell_type": "markdown",
      "metadata": {
        "id": "BUa5ee4jpAgP"
      },
      "source": [
        "![Fig. 3: Thread's posts](thread_posts.png)"
      ]
    },
    {
      "cell_type": "code",
      "metadata": {
        "colab": {
          "base_uri": "https://localhost:8080/",
          "height": 531
        },
        "id": "Jy8HXHdlqx1A",
        "outputId": "81717f88-4e95-4bd3-812f-06d51bd29883"
      },
      "source": [
        "%%html\n",
        "<img src='https://drive.google.com/uc?export=view&id=1nel3yHA9jID36bcTv6-hju9AN7VUSB9J' alt=\"Thread's posts\" width=\"1200\"/>"
      ],
      "execution_count": null,
      "outputs": [
        {
          "output_type": "display_data",
          "data": {
            "text/html": [
              "<img src='https://drive.google.com/uc?export=view&id=1nel3yHA9jID36bcTv6-hju9AN7VUSB9J' alt=\"Thread's posts\" width=\"1200\"/>"
            ],
            "text/plain": [
              "<IPython.core.display.HTML object>"
            ]
          },
          "metadata": {}
        }
      ]
    },
    {
      "cell_type": "markdown",
      "metadata": {
        "id": "POPbq54zqfaD"
      },
      "source": [
        "| id |         Feature         |               Example value              |\n",
        "|:--:|-------------------------|------------------------------------------|\n",
        "| A  | thread_url_path         | /threads/making-a-vet-kit.251/           |\n",
        "| B  | post_id                 | post-14941                               |\n",
        "| B  | post_number             | 14                                       |\n",
        "| -  | post_url_path           | /threads/making-a-vet-kit.251/post-14941 |\n",
        "| C  | post_reactions_url_path | /posts/14941/reactions/                  |\n",
        "| D  | post_reactions          | Like (2)                                 |\n",
        "| E  | post_datetime           | 2007-05-16T18:45:35-0400                 |\n",
        "| F  | post_username           | hanse004                                 |\n",
        "| F  | post_userid             | 1071                                     |\n",
        "| F  | post_user_url_path      | /members/hanse004.1071/                  |\n",
        "| G  | post_text               | I just wanted to thank the creator ...   |"
      ]
    },
    {
      "cell_type": "markdown",
      "metadata": {
        "id": "2dZQ3VlRqfQo"
      },
      "source": [
        "---"
      ]
    },
    {
      "cell_type": "markdown",
      "metadata": {
        "id": "0RFX6eVhI1jU"
      },
      "source": [
        "## Methodology for processing, cleaning and storing harvested data"
      ]
    },
    {
      "cell_type": "markdown",
      "metadata": {
        "id": "iWicmj5d-u4z"
      },
      "source": [
        "The *Horse Health* forum contains a lot of data and scraping all that data took a long time (approximately six hours). As such it is pragmatic to perform the crawl over multiple sessions. Furthermore, the consequences of losing data during or after a session needed to be minimised. For these reasons, the methodology below was followed:\n",
        "\n",
        "* **Be robust to failures**: the approach to extracting data was to be robust to failures, and return empty values (i.e., empty strings) if elements were unable to be found within a page. This allowed the crawler to progress without interruptions.\n",
        "* **Break the web crawl into “chunks” (batches)**: As incorporated in section ‘Crawl forum’ (refer Appendix), the ` wrapper_web_crawler()` function was wrapped in an outer control loop that allowed all thread URL paths to be broken into even chunks, such that the start and end chunks for a web crawl could be nominated. In total, the web crawl for this project was accomplished over 20 “chunks” (approx. 1000 thread URL paths per chunk).\n",
        "* **Save data often**: data for each chunk was written to local (.csv) files. The chunks were then later combined into complete datasets. Data scraped by the WebCrawler was returned as `pandas` data frames, for subsequent use in the NLP system.\n",
        "\n",
        "The only other aspect of note in processing the scraped data was that emoji within posts were image tags and not Unicode characters. This was illustrated in Figure 3, with the commensurate HTML tag for that emoji included below:\n",
        "\n",
        "```\n",
        "<img src=\"data:image/gif;base64,R0lGODlhAQABAIAAAAAAAP///yH5BAEAAAAALAAAAAABAAEAAAIBRAA7\" \n",
        "    class=\"smilie smilie--sprite smilie--sprite10\" alt=\":oops:\" \n",
        "    title=\"Oops!    :oops:\" data-shortname=\":oops:\">\n",
        "```\n",
        "\n",
        "By default (and design), the `BeautifulSoup` library would “loose” the emoji’s when using the `get_text()` method (as `img` tags do not have “text”). But as emoji were pertinent for sentiment analysis, the text of message posts was instead extracted via a UDF called `get_horseforum_post_text()`. This function would retain the `img` tags “title” attribute (which for the example above would be “Ooops!    :oops:”).\n"
      ]
    },
    {
      "cell_type": "markdown",
      "metadata": {
        "id": "kl9t_tYfIv_Y"
      },
      "source": [
        "## Summary and visualisation of the harvested data"
      ]
    },
    {
      "cell_type": "markdown",
      "metadata": {
        "id": "WvZE2BaJBDdb"
      },
      "source": [
        "A summary of data scraped by the WebCralwer was provided below."
      ]
    },
    {
      "cell_type": "markdown",
      "metadata": {
        "id": "0AWKC2ctJhmE"
      },
      "source": [
        "### Horse Health forum:"
      ]
    },
    {
      "cell_type": "markdown",
      "metadata": {
        "id": "J0ZXKjzWHIJd"
      },
      "source": [
        "WebCrawling Summary:\n",
        "\n",
        "* Approx. WebCrawl time: `6 hours`\n",
        "* Number or theads crawled: `20,954`\n",
        "    + Number of \"chunks\" used to batch the WebCrawl: `20`\n",
        "    + Avg. number of thread URLs crawled per \"chunk\" (batch): `1047`\n",
        "* Number of thread-pages crawled: `24,627`\n",
        "* Number of thread-posts crawled: `232,763`\n",
        "* Earliest thread scraped: `2006-11-14T23:17:30-0500`\n",
        "* Latest thread scraped: `2021-11-29T11:45:42-0500`"
      ]
    },
    {
      "cell_type": "code",
      "metadata": {
        "colab": {
          "base_uri": "https://localhost:8080/",
          "height": 294
        },
        "id": "48h9JCTEJIEM",
        "outputId": "47a87402-48bc-47f6-ce03-39ef0bf41120"
      },
      "source": [
        "# Histogream: posts per thread\n",
        "tmpseries = df_horseforum_threads['item_reply_count'] + 1\n",
        "tmpseries.hist(bins=50)\n",
        "plt.suptitle(\"Histogram: posts per thread\")\n",
        "plt.show()"
      ],
      "execution_count": 58,
      "outputs": [
        {
          "output_type": "display_data",
          "data": {
            "image/png": "[encoded data removed]",
            "text/plain": [
              "<Figure size 432x288 with 1 Axes>"
            ]
          },
          "metadata": {
            "needs_background": "light"
          }
        }
      ]
    },
    {
      "cell_type": "markdown",
      "metadata": {
        "id": "SRSEvBgNGReH"
      },
      "source": [
        "Dataset sizes:"
      ]
    },
    {
      "cell_type": "code",
      "metadata": {
        "colab": {
          "base_uri": "https://localhost:8080/"
        },
        "id": "mV0o0ECDB88D",
        "outputId": "33c4da7e-67f5-4a00-e725-5b796d9a5953"
      },
      "source": [
        "print(\"Thread items: {x[0]} rows × {x[1]} cols\".format(x = df_horseforum_threads.shape))\n",
        "print(\"Page items: {x[0]} rows × {x[1]} cols\".format(x = df_horseforum_thread_pages.shape))\n",
        "print(\"Post items: {x[0]} rows × {x[1]} cols\".format(x = df_horseforum_thread_posts.shape))"
      ],
      "execution_count": 38,
      "outputs": [
        {
          "output_type": "stream",
          "name": "stdout",
          "text": [
            "Thread items: 20954 rows × 10 cols\n",
            "Page items: 24627 rows × 3 cols\n",
            "Post items: 232763 rows × 11 cols\n"
          ]
        }
      ]
    },
    {
      "cell_type": "code",
      "metadata": {
        "colab": {
          "base_uri": "https://localhost:8080/"
        },
        "id": "dyplcWtBL3zx",
        "outputId": "0390ffd1-36a2-4e70-d288-981dae9a557e"
      },
      "source": [
        "print(\"Earliest thread scraped: {}\".format(min(df_horseforum_threads['item_created_date'])))\n",
        "print(\"Lastest thread scraped: {}\".format(max(df_horseforum_threads['item_created_date'])))"
      ],
      "execution_count": 62,
      "outputs": [
        {
          "output_type": "stream",
          "name": "stdout",
          "text": [
            "Earliest thread scraped: 2006-11-14T23:17:30-0500\n",
            "Lastest thread scraped: 2021-11-29T11:45:42-0500\n"
          ]
        }
      ]
    },
    {
      "cell_type": "code",
      "metadata": {
        "colab": {
          "base_uri": "https://localhost:8080/"
        },
        "id": "n73lxFvOG4qa",
        "outputId": "135fd876-8e7a-4528-9613-0d6faeb2f12e"
      },
      "source": [
        "df_horseforum_threads.info()"
      ],
      "execution_count": 39,
      "outputs": [
        {
          "output_type": "stream",
          "name": "stdout",
          "text": [
            "<class 'pandas.core.frame.DataFrame'>\n",
            "RangeIndex: 20954 entries, 0 to 20953\n",
            "Data columns (total 10 columns):\n",
            " #   Column                         Non-Null Count  Dtype \n",
            "---  ------                         --------------  ----- \n",
            " 0   item_title                     20954 non-null  object\n",
            " 1   item_url_path                  20954 non-null  object\n",
            " 2   item_created_date              20954 non-null  object\n",
            " 3   item_created_by                20953 non-null  object\n",
            " 4   item_created_by_url_path       20953 non-null  object\n",
            " 5   item_view_count                20954 non-null  int64 \n",
            " 6   item_reply_count               20954 non-null  int64 \n",
            " 7   item_last_replied_date         20954 non-null  object\n",
            " 8   item_last_replied_by           20948 non-null  object\n",
            " 9   item_last_replied_by_url_path  20948 non-null  object\n",
            "dtypes: int64(2), object(8)\n",
            "memory usage: 1.6+ MB\n"
          ]
        }
      ]
    },
    {
      "cell_type": "code",
      "metadata": {
        "colab": {
          "base_uri": "https://localhost:8080/"
        },
        "id": "XoU-d6D7G_RO",
        "outputId": "86e8a54b-fbe1-49f4-c967-faa2285ade2c"
      },
      "source": [
        "df_horseforum_thread_pages.info()"
      ],
      "execution_count": 40,
      "outputs": [
        {
          "output_type": "stream",
          "name": "stdout",
          "text": [
            "<class 'pandas.core.frame.DataFrame'>\n",
            "RangeIndex: 24627 entries, 0 to 24626\n",
            "Data columns (total 3 columns):\n",
            " #   Column             Non-Null Count  Dtype  \n",
            "---  ------             --------------  -----  \n",
            " 0   thread_url_path    24627 non-null  object \n",
            " 1   participant_count  24622 non-null  float64\n",
            " 2   page_url_path      24627 non-null  object \n",
            "dtypes: float64(1), object(2)\n",
            "memory usage: 577.3+ KB\n"
          ]
        }
      ]
    },
    {
      "cell_type": "code",
      "metadata": {
        "colab": {
          "base_uri": "https://localhost:8080/"
        },
        "id": "nBT_XDJ7HDnG",
        "outputId": "76ac88a3-80cc-47f6-ab22-7566d6bceaa6"
      },
      "source": [
        "df_horseforum_thread_posts.info()"
      ],
      "execution_count": 41,
      "outputs": [
        {
          "output_type": "stream",
          "name": "stdout",
          "text": [
            "<class 'pandas.core.frame.DataFrame'>\n",
            "RangeIndex: 232763 entries, 0 to 232762\n",
            "Data columns (total 11 columns):\n",
            " #   Column                   Non-Null Count   Dtype  \n",
            "---  ------                   --------------   -----  \n",
            " 0   thread_url_path          232763 non-null  object \n",
            " 1   post_id                  232763 non-null  object \n",
            " 2   post_number              232763 non-null  float64\n",
            " 3   post_url_path            232763 non-null  object \n",
            " 4   post_reactions_url_path  45707 non-null   object \n",
            " 5   post_reactions           45707 non-null   object \n",
            " 6   post_datetime            232763 non-null  object \n",
            " 7   post_username            232760 non-null  object \n",
            " 8   post_userid              232760 non-null  float64\n",
            " 9   post_user_url_path       232760 non-null  object \n",
            " 10  post_text                232750 non-null  object \n",
            "dtypes: float64(2), object(9)\n",
            "memory usage: 19.5+ MB\n"
          ]
        }
      ]
    },
    {
      "cell_type": "markdown",
      "metadata": {
        "id": "sT232YTYB9gU"
      },
      "source": [
        "### TopHorse Sales"
      ]
    },
    {
      "cell_type": "markdown",
      "metadata": {
        "id": "zxFN-qpNCJif"
      },
      "source": [
        "**Listings**"
      ]
    },
    {
      "cell_type": "code",
      "metadata": {
        "colab": {
          "base_uri": "https://localhost:8080/"
        },
        "id": "qNEU8y-FB-BI",
        "outputId": "2c56dc87-7d49-4a2d-bfe1-ec62ed1443e5"
      },
      "source": [
        "df_tophorse_items.info()"
      ],
      "execution_count": 23,
      "outputs": [
        {
          "output_type": "stream",
          "name": "stdout",
          "text": [
            "<class 'pandas.core.frame.DataFrame'>\n",
            "RangeIndex: 165 entries, 0 to 164\n",
            "Data columns (total 4 columns):\n",
            " #   Column             Non-Null Count  Dtype \n",
            "---  ------             --------------  ----- \n",
            " 0   item_title         165 non-null    object\n",
            " 1   item_url_path      165 non-null    object\n",
            " 2   item_created_date  165 non-null    object\n",
            " 3   item_img_url_path  165 non-null    object\n",
            "dtypes: object(4)\n",
            "memory usage: 5.3+ KB\n"
          ]
        }
      ]
    },
    {
      "cell_type": "code",
      "metadata": {
        "colab": {
          "base_uri": "https://localhost:8080/",
          "height": 206
        },
        "id": "OzinYXpYCWd1",
        "outputId": "a5a269b1-a256-4638-bb02-8f1e6df6669e"
      },
      "source": [
        "df_tophorse_items.head()"
      ],
      "execution_count": 24,
      "outputs": [
        {
          "output_type": "execute_result",
          "data": {
            "text/html": [
              "<div>\n",
              "<style scoped>\n",
              "    .dataframe tbody tr th:only-of-type {\n",
              "        vertical-align: middle;\n",
              "    }\n",
              "\n",
              "    .dataframe tbody tr th {\n",
              "        vertical-align: top;\n",
              "    }\n",
              "\n",
              "    .dataframe thead th {\n",
              "        text-align: right;\n",
              "    }\n",
              "</style>\n",
              "<table border=\"1\" class=\"dataframe\">\n",
              "  <thead>\n",
              "    <tr style=\"text-align: right;\">\n",
              "      <th></th>\n",
              "      <th>item_title</th>\n",
              "      <th>item_url_path</th>\n",
              "      <th>item_created_date</th>\n",
              "      <th>item_img_url_path</th>\n",
              "    </tr>\n",
              "  </thead>\n",
              "  <tbody>\n",
              "    <tr>\n",
              "      <th>0</th>\n",
              "      <td>Treasure perfect kids pony club pony</td>\n",
              "      <td>/horses-for-sale/first-and-second-pony/Treasur...</td>\n",
              "      <td>06/12/2021</td>\n",
              "      <td>/images/ResizedImages/6-12-21-884293Image1_w22...</td>\n",
              "    </tr>\n",
              "    <tr>\n",
              "      <th>1</th>\n",
              "      <td>Vee Rock (Dwayne)</td>\n",
              "      <td>/horses-for-sale/endurance-and-trail/Vee-Rock-...</td>\n",
              "      <td>30/11/2021</td>\n",
              "      <td>/images/ResizedImages/30-11-21-488434Image1_w2...</td>\n",
              "    </tr>\n",
              "    <tr>\n",
              "      <th>2</th>\n",
              "      <td>Tory</td>\n",
              "      <td>/horses-for-sale/ponies/Tory__27-11-21-563432</td>\n",
              "      <td>27/11/2021</td>\n",
              "      <td>/images/ResizedImages/27-11-21-586832Image1_w2...</td>\n",
              "    </tr>\n",
              "    <tr>\n",
              "      <th>3</th>\n",
              "      <td>Johnny</td>\n",
              "      <td>/horses-for-sale/australian-stock-horse/Johnny...</td>\n",
              "      <td>27/11/2021</td>\n",
              "      <td>/images/ResizedImages/27-11-21-562895Image1_w2...</td>\n",
              "    </tr>\n",
              "    <tr>\n",
              "      <th>4</th>\n",
              "      <td>Wanted - Riding Pony Mare</td>\n",
              "      <td>/horses-for-sale/broodmare/Wanted---Riding-Pon...</td>\n",
              "      <td>26/11/2021</td>\n",
              "      <td>/images/ResizedImages/24-11-21-231789Image1_w2...</td>\n",
              "    </tr>\n",
              "  </tbody>\n",
              "</table>\n",
              "</div>"
            ],
            "text/plain": [
              "                             item_title  ...                                  item_img_url_path\n",
              "0  Treasure perfect kids pony club pony  ...  /images/ResizedImages/6-12-21-884293Image1_w22...\n",
              "1                     Vee Rock (Dwayne)  ...  /images/ResizedImages/30-11-21-488434Image1_w2...\n",
              "2                                  Tory  ...  /images/ResizedImages/27-11-21-586832Image1_w2...\n",
              "3                                Johnny  ...  /images/ResizedImages/27-11-21-562895Image1_w2...\n",
              "4             Wanted - Riding Pony Mare  ...  /images/ResizedImages/24-11-21-231789Image1_w2...\n",
              "\n",
              "[5 rows x 4 columns]"
            ]
          },
          "metadata": {},
          "execution_count": 24
        }
      ]
    },
    {
      "cell_type": "markdown",
      "metadata": {
        "id": "ptt_wcezCgTL"
      },
      "source": [
        "**Listing-deails**"
      ]
    },
    {
      "cell_type": "code",
      "metadata": {
        "colab": {
          "base_uri": "https://localhost:8080/"
        },
        "id": "KB1we01mCk2o",
        "outputId": "5245276b-0940-448f-d8bc-1d479de3c30a"
      },
      "source": [
        "df_tophorse_item_details.info()"
      ],
      "execution_count": 25,
      "outputs": [
        {
          "output_type": "stream",
          "name": "stdout",
          "text": [
            "<class 'pandas.core.frame.DataFrame'>\n",
            "RangeIndex: 165 entries, 0 to 164\n",
            "Data columns (total 21 columns):\n",
            " #   Column               Non-Null Count  Dtype \n",
            "---  ------               --------------  ----- \n",
            " 0   url_path             165 non-null    object\n",
            " 1   Description          165 non-null    object\n",
            " 2   index                165 non-null    object\n",
            " 3   Height               165 non-null    object\n",
            " 4   Age                  165 non-null    object\n",
            " 5   Colour               165 non-null    object\n",
            " 6   Sex                  165 non-null    object\n",
            " 7   Breed                165 non-null    object\n",
            " 8   Terms                165 non-null    object\n",
            " 9   Location             165 non-null    object\n",
            " 10  P/Trade              165 non-null    object\n",
            " 11  Price                165 non-null    object\n",
            " 12  Ad Code              165 non-null    object\n",
            " 13  image_count          165 non-null    int64 \n",
            " 14  main_image_url_path  165 non-null    object\n",
            " 15  video_url            165 non-null    object\n",
            " 16  Seller_Id            165 non-null    object\n",
            " 17  parents              165 non-null    object\n",
            " 18  grand_parents        165 non-null    object\n",
            " 19  great_grand_parents  165 non-null    object\n",
            " 20  category             165 non-null    object\n",
            "dtypes: int64(1), object(20)\n",
            "memory usage: 27.2+ KB\n"
          ]
        }
      ]
    },
    {
      "cell_type": "code",
      "metadata": {
        "colab": {
          "base_uri": "https://localhost:8080/",
          "height": 499
        },
        "id": "PjLo6JH6Cj3y",
        "outputId": "122b5b04-a394-4cba-cb93-0179dd153c74"
      },
      "source": [
        "# Horse listings by category\n",
        "# * Note: category was determined by parsing from the listing's URL\n",
        "fig, ax = plt.subplots(figsize=(11, 8))\n",
        "columnName = 'category'\n",
        "tmp_df = df_tophorse_item_details[columnName].value_counts().to_frame('count').sort_values('count', ascending=True)\n",
        "tmp_df.plot.barh(ax = ax, title = columnName)\n",
        "plt.show()"
      ],
      "execution_count": 33,
      "outputs": [
        {
          "output_type": "display_data",
          "data": {
            "image/png": "[encoded data removed]",
            "text/plain": [
              "<Figure size 792x576 with 1 Axes>"
            ]
          },
          "metadata": {
            "needs_background": "light"
          }
        }
      ]
    },
    {
      "cell_type": "markdown",
      "metadata": {
        "id": "RgAAT-v7H6UR"
      },
      "source": [
        "---\n",
        "\n",
        "# Appendix - Python Coding"
      ]
    },
    {
      "cell_type": "markdown",
      "metadata": {
        "id": "1Ad7FyAZ1WZn"
      },
      "source": [
        "This section includes all relevant code for the WebCralwer. This Python notebook was created using Google Colab (https://research.google.com/colaboratory/faq.html)."
      ]
    },
    {
      "cell_type": "markdown",
      "metadata": {
        "id": "txHzM7fKzhak"
      },
      "source": [
        "## Setup of data-project "
      ]
    },
    {
      "cell_type": "markdown",
      "metadata": {
        "id": "nfad1tSKhvzj"
      },
      "source": [
        "### Import Dependencies"
      ]
    },
    {
      "cell_type": "code",
      "metadata": {
        "id": "IgmbsYikhoE6",
        "colab": {
          "base_uri": "https://localhost:8080/"
        },
        "outputId": "97a53e9a-ad84-449a-f347-20c51978404b"
      },
      "source": [
        "import os.path # Operating system interface\n",
        "from time import time, sleep # Time access and conversions\n",
        "from datetime import datetime # Basic date and time types\n",
        "import glob # Unix style pathname pattern expansio\n",
        "\n",
        "import numpy as np # array/matrices support\n",
        "import pandas as pd # data analaysis\n",
        "import matplotlib.pyplot as plt\n",
        "%matplotlib inline\n",
        "\n",
        "import requests # HTTP library\n",
        "from bs4 import BeautifulSoup # HTML/XML document parser\n",
        "import html # HyperText Markup Language support\n",
        "\n",
        "import re # regular expressions\n",
        "\n",
        "\n",
        "# Get python version\n",
        "import platform # Platform’s identifying data\n",
        "print('\\nPython version {}'.format(platform.python_version()))"
      ],
      "execution_count": 52,
      "outputs": [
        {
          "output_type": "stream",
          "name": "stdout",
          "text": [
            "\n",
            "Python version 3.7.12\n"
          ]
        }
      ]
    },
    {
      "cell_type": "markdown",
      "metadata": {
        "id": "jxOxDSnfgIEO"
      },
      "source": [
        "### User defined functions (non-Crawler)\n"
      ]
    },
    {
      "cell_type": "markdown",
      "metadata": {
        "id": "8pDm_R3r3jg5"
      },
      "source": [
        "The following was for user-defined functions distinct from the WebCrawler."
      ]
    },
    {
      "cell_type": "code",
      "metadata": {
        "id": "k0pnvgT9oHUi"
      },
      "source": [
        "def mk_dir(path):\n",
        "    \"\"\"\n",
        "    Creates a directory if it doesn't exist\n",
        "\n",
        "    Parameters:\n",
        "    -----------\n",
        "    str : path\n",
        "        The full directory path for the folder to be created.\n",
        "        Note: the path should not terminate with a '/'\n",
        "\n",
        "    Returns:\n",
        "    --------\n",
        "    bool\n",
        "        If folder exists, True, otherwise, False\n",
        "    \"\"\"\n",
        "    if not os.path.exists(path):\n",
        "        try:\n",
        "            os.makedirs(path)\n",
        "        except:\n",
        "            pass\n",
        "    return os.path.exists(path)"
      ],
      "execution_count": 1,
      "outputs": []
    },
    {
      "cell_type": "markdown",
      "metadata": {
        "id": "XQhVyeQjws3J"
      },
      "source": [
        "### Set directory paths\n",
        "\n",
        "This section sets pertinent file paths and names. The expected folder structure for this assessment was documented below.\n",
        "\n",
        "```\n",
        "working-dir/\n",
        "├─ data/\n",
        "│  ├─ {DateTime}/                          {generated by data-project for \"chunks\"}\n",
        "│  ├─ df_horseforum_thread_pages.csv       {generated by data-project}\n",
        "│  ├─ df_horseforum_thread_posts.csv       {generated by data-project}\n",
        "│  ├─ df_horseforum_threads.csv            {generated by data-project}\n",
        "│  ├─ df_tophorse_item_details.csv         {generated by data-project}\n",
        "│  ├─ df_tophorse_items.csv                {generated by data-project}\n",
        "├─ A3_Deliverable_2_Lachlan_Sharp.ipynb    {Python Jupyter notebook}\n",
        "\n",
        "```"
      ]
    },
    {
      "cell_type": "markdown",
      "metadata": {
        "id": "gqg9KLiezoUg"
      },
      "source": [
        "#### Mount Google Drive\n",
        "\n",
        "This section applies to use of this Python notebook within Google Colab."
      ]
    },
    {
      "cell_type": "code",
      "metadata": {
        "id": "-BOZaHKeyQr_",
        "colab": {
          "base_uri": "https://localhost:8080/"
        },
        "outputId": "65c19fdd-b3d4-41ad-ffa2-754a05ccc676"
      },
      "source": [
        "# Mount Google Drive\n",
        "from google.colab import drive\n",
        "drive.mount('/content/drive')"
      ],
      "execution_count": 3,
      "outputs": [
        {
          "output_type": "stream",
          "name": "stdout",
          "text": [
            "Drive already mounted at /content/drive; to attempt to forcibly remount, call drive.mount(\"/content/drive\", force_remount=True).\n"
          ]
        }
      ]
    },
    {
      "cell_type": "markdown",
      "metadata": {
        "id": "K1ThXe1I69ga"
      },
      "source": [
        "#### Set file paths"
      ]
    },
    {
      "cell_type": "code",
      "metadata": {
        "id": "vYqAA03QiNjg",
        "colab": {
          "base_uri": "https://localhost:8080/"
        },
        "outputId": "48157be6-7978-4f4a-8f36-3ce36b09407c"
      },
      "source": [
        "# Set directory paths root filepath for data-project\n",
        "filepath_root = '/content/drive/MyDrive/Colab Notebooks/MA5851/Assessment 3' # data-project root\n",
        "filepath_data = os.path.join(filepath_root, 'data') # data folder\n",
        "print(\"Directory 'data' exists?: {}\".format(mk_dir(filepath_data)))\n",
        "\n",
        "# Set filenames\n",
        "filename_tophorse_items_df = \"df_tophorse_items.csv\"\n",
        "filename_tophorse_item_details_df = \"df_tophorse_item_details.csv\"\n",
        "\n",
        "filename_horseforum_threads_df = \"df_horseforum_threads.csv\" \n",
        "filename_horseforum_thread_posts_df = \"df_horseforum_thread_posts.csv\"\n",
        "filename_horseforum_thread_pages_df = \"df_horseforum_thread_pages.csv\""
      ],
      "execution_count": 4,
      "outputs": [
        {
          "output_type": "stream",
          "name": "stdout",
          "text": [
            "Directory 'data' exists?: True\n"
          ]
        }
      ]
    },
    {
      "cell_type": "markdown",
      "metadata": {
        "id": "XpKPBwDMsy0G"
      },
      "source": [
        "## WebCrawler"
      ]
    },
    {
      "cell_type": "markdown",
      "metadata": {
        "id": "mQ0NLQnw5Rv1"
      },
      "source": [
        "The following section performs a web crawl across to seperate sites:\n",
        "\n",
        "* *TopHorse Sales*: https://www.tophorse.com.au/horses-for-sale/\n",
        "* *Horse Health*: https://www.horseforum.com/forums/horse-health.17/"
      ]
    },
    {
      "cell_type": "markdown",
      "metadata": {
        "id": "EBQ5B8ZphUYH"
      },
      "source": [
        "#### UDF WebCrawler"
      ]
    },
    {
      "cell_type": "markdown",
      "metadata": {
        "id": "H3iuCPTr9rQD"
      },
      "source": [
        "Core WebCrawler function: finds \"repeating\" elements on the specified page, and returns the details of those elements."
      ]
    },
    {
      "cell_type": "code",
      "metadata": {
        "id": "EqNe84mpxAgu"
      },
      "source": [
        "def web_crawler(\n",
        "    url_domain\n",
        "    ,url_path\n",
        "    ,fx_get_ResultSet\n",
        "    ,fx_get_ResultSet_data\n",
        "    ,fx_get_next_page_url    \n",
        "    ,fx_get_page_data = None\n",
        "    ,max_pages = None\n",
        "    ,echo_every_n = 1\n",
        "    ,wait_page_sec = 0\n",
        "    ):\n",
        "    \"\"\"\n",
        "    Generic web crawler\n",
        "\n",
        "    Parameters:\n",
        "    -----------\n",
        "    str : url_domain\n",
        "        The base URL domain (including protocol) to be crawled (e.g., https://www.tophorse.com.au)\n",
        "    str : url_path\n",
        "        The URL path for the first page to be crawled (e.g. /horses-for-sale/)\n",
        "        Note that the full URL is formed via concatenation with url_domain, hence\n",
        "        care should be taken to provide the correct prefixing & suffixing '/'\n",
        "    function : fx_get_ResultSet\n",
        "        A function to return a BeautifulSoup ResultSet object; \n",
        "        this will be  a collection of items (i.e., tags) within the page being crawled.\n",
        "    function : fx_get_ResultSet_data\n",
        "        A function that returns scraped data from a ResultSet, as a list;\n",
        "        this will be data from the collection of items (i.e., tags) returned by `fx_get_ResultSet()`.\n",
        "    function : fx_get_next_page_url\n",
        "        A function that returns the \"next\" page's url path as a string; \n",
        "        this will be specific for the page being crawled.\n",
        "    function : fx_get_page_data\n",
        "        An optional function that returns scraped data from the page being crawled, as a dictionary;\n",
        "        this will be data of the page itself, as opposed to data from the collection of items within\n",
        "        the page returned by `fx_get_ResultSet_data()`.        \n",
        "    int : max_pages\n",
        "        The maximum number of pages to iterate (handy for when testing code)\n",
        "    int : echo_every_n\n",
        "        prints output every n iterations, where n = echo_every_n.\n",
        "    int : wait_page_sec\n",
        "        Duration in seconds to wait between requesting pages\n",
        "    \"\"\"\n",
        "    # Initialise\n",
        "    if max_pages is None:\n",
        "        max_pages = float('inf') \n",
        "    data_pages = [] \n",
        "    data_items = []\n",
        "    count_page = 1\n",
        "\n",
        "    # Crawl through pages until `url_path` is an empty string.\n",
        "    while (url_path != \"\") and (count_page <= max_pages):\n",
        "        response = requests.get(url_domain + url_path)\n",
        "\n",
        "        # Echo progress\n",
        "        if (echo_every_n > 0) and (count_page % echo_every_n == 0): # lazy evaluation\n",
        "            print('Page {}, HTTP response status: {}'.format(count_page, response.status_code))\n",
        "\n",
        "        if response.status_code == 200:\n",
        "            # Scrape page\n",
        "\n",
        "            soup = BeautifulSoup(response.text, 'html.parser')\n",
        " \n",
        "            # Get data of the page itself (optional)\n",
        "            if fx_get_page_data is not None:\n",
        "                page_data = fx_get_page_data(soup)\n",
        "                page_data['page_url_path'] = url_path # Add key\n",
        "                # Append results\n",
        "                data_pages.extend([page_data])\n",
        "\n",
        "            # Get data from a collection of items within the page\n",
        "            tags = fx_get_ResultSet(soup)\n",
        "            item_data = fx_get_ResultSet_data(tags)\n",
        "\n",
        "            # Append results\n",
        "            data_items.extend(item_data)\n",
        "            if (echo_every_n > 0) and (count_page % echo_every_n == 0): # lazy evaluation\n",
        "                print(\"\\t{} items...\".format(len(item_data)))\n",
        "\n",
        "            # Get next page url\n",
        "            url_path = fx_get_next_page_url(soup)\n",
        "            #print(url_path)\n",
        "        else:\n",
        "            # force condition to exit loop\n",
        "            url_path = \"\"\n",
        "\n",
        "        count_page += 1\n",
        "        sleep(wait_page_sec)\n",
        "    \n",
        "    return data_items, data_pages"
      ],
      "execution_count": 16,
      "outputs": []
    },
    {
      "cell_type": "markdown",
      "metadata": {
        "id": "mWLfQ4iBeDWw"
      },
      "source": [
        "#### UDF WebCrawler Wrapper"
      ]
    },
    {
      "cell_type": "markdown",
      "metadata": {
        "id": "MqcJjzmh-Dbg"
      },
      "source": [
        "A \"wrapper\" function for the WebCrawler function: given a list of URL paths it iterates across each, returning the data from the \"repeating\" elements specifc to each URL path."
      ]
    },
    {
      "cell_type": "code",
      "metadata": {
        "id": "ZF_OplNgeGgk"
      },
      "source": [
        "def wrapper_web_crawler(\n",
        "    url_domain\n",
        "    ,list_url_path\n",
        "    ,fx_get_ResultSet\n",
        "    ,fx_get_ResultSet_data\n",
        "    ,fx_get_next_page_url\n",
        "    ,fx_get_page_data = None\n",
        "    ,max_pages = None\n",
        "    ,echo_every_n = 1\n",
        "    ,echo_page_crawl_every_n = 0\n",
        "    ,wait_thread_sec = 0\n",
        "    ,wait_page_sec = 0\n",
        "):\n",
        "\n",
        "    # Initialise\n",
        "    count_max = len(list_url_path)\n",
        "    df_forum_thread_posts = pd.DataFrame()\n",
        "    df_forum_thread_pages = pd.DataFrame()\n",
        "\n",
        "    # Crawl threads and scrape\n",
        "    start_time = time()\n",
        "    print('Crawl start UTC: {}'.format(datetime.fromtimestamp(start_time)))\n",
        "    for count, thread_url_path in enumerate(list_url_path):\n",
        "        # Show progress\n",
        "        if (echo_every_n > 0) and (count % echo_every_n == 0): # lazy evaluation\n",
        "            print(\"item {} of {}:\".format(count + 1, count_max))\n",
        "            print(\"\\t{}\".format(thread_url_path))\n",
        "\n",
        "        # Crawl pages and scrape\n",
        "        data_thread_posts, data_thread_pages = web_crawler(\n",
        "            url_domain =  url_domain\n",
        "            ,url_path = thread_url_path\n",
        "            ,fx_get_ResultSet = fx_get_ResultSet\n",
        "            ,fx_get_ResultSet_data = fx_get_ResultSet_data\n",
        "            ,fx_get_next_page_url = fx_get_next_page_url\n",
        "            ,fx_get_page_data = fx_get_page_data \n",
        "            ,max_pages = max_pages\n",
        "            ,echo_every_n = echo_page_crawl_every_n\n",
        "            ,wait_page_sec = wait_page_sec\n",
        "        )\n",
        "\n",
        "        # Convert thread's data to dataframe\n",
        "        df_thread_posts = pd.DataFrame(data_thread_posts)\n",
        "        df_thread_pages = pd.DataFrame(data_thread_pages)\n",
        "\n",
        "        # Add thread's url_path as unique key    \n",
        "        df_thread_posts.insert(0, 'thread_url_path', thread_url_path)\n",
        "        df_thread_pages.insert(0, 'thread_url_path', thread_url_path)\n",
        "\n",
        "        # Append to forum's dataframe\n",
        "        df_forum_thread_posts = pd.concat([df_forum_thread_posts, df_thread_posts])\n",
        "        df_forum_thread_pages = pd.concat([df_forum_thread_pages, df_thread_pages])\n",
        "\n",
        "        # Wait until crawling next thread\n",
        "        sleep(wait_thread_sec)\n",
        "\n",
        "    # Reset forum dataframe's index\n",
        "    df_forum_thread_posts.reset_index(inplace=True, drop=True)\n",
        "    df_forum_thread_pages.reset_index(inplace=True, drop=True)\n",
        "\n",
        "    end_time = time()\n",
        "    print(\"---crawl complete---\")\n",
        "    print()\n",
        "    print(\"Posts scraped: {}\".format(len(df_forum_thread_posts.index))) \n",
        "    print(\"Crawl time (sec): {0}\".format(end_time - start_time))\n",
        "    print('Crawl end UTC: {}'.format(datetime.fromtimestamp(end_time))) \n",
        "\n",
        "    return [df_forum_thread_posts, df_forum_thread_pages]"
      ],
      "execution_count": null,
      "outputs": []
    },
    {
      "cell_type": "markdown",
      "metadata": {
        "id": "Oyi6mvJgqxAK"
      },
      "source": [
        "### TopHorse Sales"
      ]
    },
    {
      "cell_type": "markdown",
      "metadata": {
        "id": "L2JCKG6g8CC8"
      },
      "source": [
        "This section was for the scraping of the *TopHorse Sales* website. \n",
        "\n",
        "* *TopHorse Sales*: https://www.tophorse.com.au/horses-for-sale/\n",
        "\n",
        "It proved an informative step in the process of subsequently scraping the *Horse Health* forum (refer later section)."
      ]
    },
    {
      "cell_type": "markdown",
      "metadata": {
        "id": "LviqjvGcHJBC"
      },
      "source": [
        "#### UDF: TopHorse Sales"
      ]
    },
    {
      "cell_type": "markdown",
      "metadata": {
        "id": "dlDSlAPD75Vv"
      },
      "source": [
        "The following UDF are specific to scraping the *TopHorse Sales* website."
      ]
    },
    {
      "cell_type": "code",
      "metadata": {
        "id": "4TbZXpgBqvxU"
      },
      "source": [
        "def get_next_page_url_tophorse(tophorse_soup):\n",
        "    \"\"\"\n",
        "    Gets the 'next page' url path from the www.tophorse.com.au main page.\n",
        "\n",
        "    Parameters:\n",
        "    -----------\n",
        "    bs4.BeautifulSoup : tophorse_soup\n",
        "        A BeautifulSoup object for the web page.\n",
        "\n",
        "    Returns:\n",
        "    --------\n",
        "    str\n",
        "        the relative url path for the 'next page' if successful, otherwise an empty string.\n",
        "    \"\"\"\n",
        "    soup = tophorse_soup\n",
        "    url_path = \"\"\n",
        "    try:\n",
        "        url_path = soup.find(\n",
        "            'div'\n",
        "            ,id = 'catalogueMidCol'\n",
        "            ).find(\n",
        "                'a'\n",
        "                ,class_='redLink'\n",
        "                ,string=re.compile(\"^Next\")\n",
        "                )['href']\n",
        "    except:\n",
        "        pass\n",
        "\n",
        "    return url_path\n",
        "\n",
        "\n",
        "\n",
        "def get_listings_tophorse(tophorse_soup):\n",
        "    \"\"\"\n",
        "    Parameters:\n",
        "    -----------\n",
        "    bs4.BeautifulSoup : tophorse_soup\n",
        "        A BeautifulSoup object for the web page.\n",
        "\n",
        "    Returns:\n",
        "    --------\n",
        "    bs4.element.ResultSet\n",
        "        An iterable collection of advert listings, as returned by BeautifulSoup\n",
        "    \"\"\"\n",
        "    soup = tophorse_soup\n",
        "    return soup.find_all('div', class_='listAdvert hd')\n",
        "\n",
        "\n",
        "\n",
        "\n",
        "def scrape_listing_details_tophorse(advert_listings):\n",
        "    \"\"\"\n",
        "    Iterates a bs4 ResultSet of horse advert (i.e., www.tophorse.com.au) listings \n",
        "    to get predefined values.\n",
        "\n",
        "    Parameters:\n",
        "    -----------\n",
        "    bs4.element.ResultSet : advert_listings\n",
        "        An iterable collection of advert listings, as returned by BeautifulSoup\n",
        "\n",
        "\n",
        "    Returns:\n",
        "    --------\n",
        "    list of dict {str, Any}\n",
        "        the predefined details of each advert\n",
        "            + item_title\n",
        "            + item_url_path\n",
        "            + item_created_date\n",
        "            + item_img_url_path\n",
        "    \"\"\"\n",
        "    listings = advert_listings\n",
        "    data_items=[]\n",
        "    if listings is not None:\n",
        "        for item in listings:\n",
        "            # initialise\n",
        "            item_title = \"\"\n",
        "            item_url_path = \"\"\n",
        "            item_created_date = \"\"\n",
        "            item_img_url_path = \"\"\n",
        "\n",
        "            # Get items's listing title and url path\n",
        "            try:\n",
        "                tag1 = item.find('h2', class_='listAdvertTitle')\n",
        "                tag_url = tag1.find('a')\n",
        "                item_title = tag_url.get_text()\n",
        "                item_url_path = tag_url['href']\n",
        "            except:\n",
        "                pass\n",
        "\n",
        "            # Get items's image\n",
        "            try:\n",
        "                item_img_url_path = item.find('div', class_='advertImage').find('a').img['src']\n",
        "            except:\n",
        "                pass\n",
        "\n",
        "            # Get items's created date\n",
        "            try:\n",
        "                item_created_date = tag1.find('span').get_text()\n",
        "            except:\n",
        "                pass\n",
        "\n",
        "            # Save result\n",
        "            dict_item = {\n",
        "                'item_title' : item_title\n",
        "                ,'item_url_path' : item_url_path\n",
        "                ,'item_created_date' : item_created_date\n",
        "                ,'item_img_url_path' : item_img_url_path\n",
        "                }\n",
        "            data_items.append(dict_item.copy())\n",
        "\n",
        "    return data_items"
      ],
      "execution_count": 17,
      "outputs": []
    },
    {
      "cell_type": "markdown",
      "metadata": {
        "id": "YSlZ51o37N9j"
      },
      "source": [
        "#### Crawl 1: TopHorse Sales listings"
      ]
    },
    {
      "cell_type": "markdown",
      "metadata": {
        "id": "eHXOQxBt8rDK"
      },
      "source": [
        "This section performed the WebCrawl on the main page of the *TopHorse Sales* site, to extract all individual horse listings (i.e., adverts)."
      ]
    },
    {
      "cell_type": "code",
      "metadata": {
        "id": "UJzUj3KlLlGL",
        "colab": {
          "base_uri": "https://localhost:8080/"
        },
        "outputId": "73b6e7aa-ea6d-4ac8-b036-a82548036a27"
      },
      "source": [
        "# Specify which web page should be crawled\n",
        "url_domain =  \"https://www.tophorse.com.au\"\n",
        "url_path = \"/horses-for-sale/\" # note terminating '/'\n",
        "\n",
        "# Set functions relevant to scraping the web page\n",
        "get_ResultSet = get_listings_tophorse\n",
        "get_ResultSet_data = scrape_listing_details_tophorse\n",
        "get_next_page_url = get_next_page_url_tophorse\n",
        "\n",
        "# Crawl pages and scrape\n",
        "start_time = time()\n",
        "print('Crawl start UTC: {}'.format(datetime.fromtimestamp(start_time)))\n",
        "data_tophorse_items, _ = web_crawler(\n",
        "    url_domain =  url_domain\n",
        "    ,url_path = url_path\n",
        "    ,fx_get_ResultSet = get_ResultSet\n",
        "    ,fx_get_ResultSet_data = get_ResultSet_data\n",
        "    ,fx_get_next_page_url = get_next_page_url \n",
        "    ,echo_every_n = 1   \n",
        ")\n",
        "end_time = time()\n",
        "print(\"---crawl complete---\")\n",
        "print()\n",
        "print(\"Listings count: {}\".format(len(data_tophorse_items)))\n",
        "print(\"Crawl time (sec): {0}\".format(end_time - start_time))\n",
        "print('Crawl end UTC: {}'.format(datetime.fromtimestamp(end_time)))"
      ],
      "execution_count": 18,
      "outputs": [
        {
          "output_type": "stream",
          "name": "stdout",
          "text": [
            "Crawl start UTC: 2021-12-06 23:20:48.985931\n",
            "Page 1, HTTP response status: 200\n",
            "\t15 items...\n",
            "Page 2, HTTP response status: 200\n",
            "\t15 items...\n",
            "Page 3, HTTP response status: 200\n",
            "\t15 items...\n",
            "Page 4, HTTP response status: 200\n",
            "\t14 items...\n",
            "Page 5, HTTP response status: 200\n",
            "\t12 items...\n",
            "Page 6, HTTP response status: 200\n",
            "\t15 items...\n",
            "Page 7, HTTP response status: 200\n",
            "\t13 items...\n",
            "Page 8, HTTP response status: 200\n",
            "\t14 items...\n",
            "Page 9, HTTP response status: 200\n",
            "\t13 items...\n",
            "Page 10, HTTP response status: 200\n",
            "\t14 items...\n",
            "Page 11, HTTP response status: 200\n",
            "\t15 items...\n",
            "Page 12, HTTP response status: 200\n",
            "\t10 items...\n",
            "Page 13, HTTP response status: 200\n",
            "\t0 items...\n",
            "---crawl complete---\n",
            "\n",
            "Listings count: 165\n",
            "Crawl time (sec): 11.630311489105225\n",
            "Crawl end UTC: 2021-12-06 23:21:00.616242\n"
          ]
        }
      ]
    },
    {
      "cell_type": "code",
      "metadata": {
        "colab": {
          "base_uri": "https://localhost:8080/",
          "height": 423
        },
        "id": "QNS26v5Y1kCQ",
        "outputId": "74b61d42-2b62-4297-8059-c389742fd84d"
      },
      "source": [
        "# Convert to data frame and save result locally\n",
        "df_tophorse_items = pd.DataFrame(data_tophorse_items)\n",
        "\n",
        "# Save dataframe locally\n",
        "df_tophorse_items.to_csv(os.path.join(filepath_data, filename_tophorse_items_df), index=False)\n",
        "\n",
        "df_tophorse_items"
      ],
      "execution_count": 22,
      "outputs": [
        {
          "output_type": "execute_result",
          "data": {
            "text/html": [
              "<div>\n",
              "<style scoped>\n",
              "    .dataframe tbody tr th:only-of-type {\n",
              "        vertical-align: middle;\n",
              "    }\n",
              "\n",
              "    .dataframe tbody tr th {\n",
              "        vertical-align: top;\n",
              "    }\n",
              "\n",
              "    .dataframe thead th {\n",
              "        text-align: right;\n",
              "    }\n",
              "</style>\n",
              "<table border=\"1\" class=\"dataframe\">\n",
              "  <thead>\n",
              "    <tr style=\"text-align: right;\">\n",
              "      <th></th>\n",
              "      <th>item_title</th>\n",
              "      <th>item_url_path</th>\n",
              "      <th>item_created_date</th>\n",
              "      <th>item_img_url_path</th>\n",
              "    </tr>\n",
              "  </thead>\n",
              "  <tbody>\n",
              "    <tr>\n",
              "      <th>0</th>\n",
              "      <td>Treasure perfect kids pony club pony</td>\n",
              "      <td>/horses-for-sale/first-and-second-pony/Treasur...</td>\n",
              "      <td>06/12/2021</td>\n",
              "      <td>/images/ResizedImages/6-12-21-884293Image1_w22...</td>\n",
              "    </tr>\n",
              "    <tr>\n",
              "      <th>1</th>\n",
              "      <td>Vee Rock (Dwayne)</td>\n",
              "      <td>/horses-for-sale/endurance-and-trail/Vee-Rock-...</td>\n",
              "      <td>30/11/2021</td>\n",
              "      <td>/images/ResizedImages/30-11-21-488434Image1_w2...</td>\n",
              "    </tr>\n",
              "    <tr>\n",
              "      <th>2</th>\n",
              "      <td>Tory</td>\n",
              "      <td>/horses-for-sale/ponies/Tory__27-11-21-563432</td>\n",
              "      <td>27/11/2021</td>\n",
              "      <td>/images/ResizedImages/27-11-21-586832Image1_w2...</td>\n",
              "    </tr>\n",
              "    <tr>\n",
              "      <th>3</th>\n",
              "      <td>Johnny</td>\n",
              "      <td>/horses-for-sale/australian-stock-horse/Johnny...</td>\n",
              "      <td>27/11/2021</td>\n",
              "      <td>/images/ResizedImages/27-11-21-562895Image1_w2...</td>\n",
              "    </tr>\n",
              "    <tr>\n",
              "      <th>4</th>\n",
              "      <td>Wanted - Riding Pony Mare</td>\n",
              "      <td>/horses-for-sale/broodmare/Wanted---Riding-Pon...</td>\n",
              "      <td>26/11/2021</td>\n",
              "      <td>/images/ResizedImages/24-11-21-231789Image1_w2...</td>\n",
              "    </tr>\n",
              "    <tr>\n",
              "      <th>...</th>\n",
              "      <td>...</td>\n",
              "      <td>...</td>\n",
              "      <td>...</td>\n",
              "      <td>...</td>\n",
              "    </tr>\n",
              "    <tr>\n",
              "      <th>160</th>\n",
              "      <td>Heritage ASH Broodmare</td>\n",
              "      <td>/horses-for-sale/broodmare/Heritage-ASH-Broodm...</td>\n",
              "      <td>31/12/2019</td>\n",
              "      <td>/images/ResizedImages/31-12-19-458752Image2_w2...</td>\n",
              "    </tr>\n",
              "    <tr>\n",
              "      <th>161</th>\n",
              "      <td>Chestnut Gelding</td>\n",
              "      <td>/horses-for-sale/allrounder-horse/Chestnut-Gel...</td>\n",
              "      <td>25/12/2019</td>\n",
              "      <td>/images/ResizedImages/25-12-19-316222Image1_w2...</td>\n",
              "    </tr>\n",
              "    <tr>\n",
              "      <th>162</th>\n",
              "      <td>Beautiful patient first horse</td>\n",
              "      <td>/horses-for-sale/allrounder-horse/Beautiful-pa...</td>\n",
              "      <td>19/12/2019</td>\n",
              "      <td>/images/ResizedImages/19-12-19-156723Image1_w2...</td>\n",
              "    </tr>\n",
              "    <tr>\n",
              "      <th>163</th>\n",
              "      <td>registered overo paint gelding</td>\n",
              "      <td>/horses-for-sale/paint-horse/registered-overo-...</td>\n",
              "      <td>19/12/2019</td>\n",
              "      <td>/images/ResizedImages/19-12-19-626437Image7_w2...</td>\n",
              "    </tr>\n",
              "    <tr>\n",
              "      <th>164</th>\n",
              "      <td>Tilly</td>\n",
              "      <td>/horses-for-sale/allrounder-pony/Tilly__16-12-...</td>\n",
              "      <td>17/12/2019</td>\n",
              "      <td>/images/ResizedImages/16-12-19-224877Image7_w2...</td>\n",
              "    </tr>\n",
              "  </tbody>\n",
              "</table>\n",
              "<p>165 rows × 4 columns</p>\n",
              "</div>"
            ],
            "text/plain": [
              "                               item_title  ...                                  item_img_url_path\n",
              "0    Treasure perfect kids pony club pony  ...  /images/ResizedImages/6-12-21-884293Image1_w22...\n",
              "1                       Vee Rock (Dwayne)  ...  /images/ResizedImages/30-11-21-488434Image1_w2...\n",
              "2                                    Tory  ...  /images/ResizedImages/27-11-21-586832Image1_w2...\n",
              "3                                  Johnny  ...  /images/ResizedImages/27-11-21-562895Image1_w2...\n",
              "4               Wanted - Riding Pony Mare  ...  /images/ResizedImages/24-11-21-231789Image1_w2...\n",
              "..                                    ...  ...                                                ...\n",
              "160               Heritage ASH Broodmare   ...  /images/ResizedImages/31-12-19-458752Image2_w2...\n",
              "161                      Chestnut Gelding  ...  /images/ResizedImages/25-12-19-316222Image1_w2...\n",
              "162         Beautiful patient first horse  ...  /images/ResizedImages/19-12-19-156723Image1_w2...\n",
              "163       registered overo paint gelding   ...  /images/ResizedImages/19-12-19-626437Image7_w2...\n",
              "164                                 Tilly  ...  /images/ResizedImages/16-12-19-224877Image7_w2...\n",
              "\n",
              "[165 rows x 4 columns]"
            ]
          },
          "metadata": {},
          "execution_count": 22
        }
      ]
    },
    {
      "cell_type": "markdown",
      "metadata": {
        "id": "uBflpXuNAcnL"
      },
      "source": [
        "##### Reload listing data"
      ]
    },
    {
      "cell_type": "markdown",
      "metadata": {
        "id": "Es_XDMlo8d3r"
      },
      "source": [
        "This section was to reload saved data from a previous WebCrawling sesession."
      ]
    },
    {
      "cell_type": "code",
      "metadata": {
        "colab": {
          "base_uri": "https://localhost:8080/"
        },
        "id": "hvjQcpH3Kljr",
        "outputId": "25a4759b-8cd4-426b-d220-45f9608d3ba8"
      },
      "source": [
        "# Reload tophorse listings\n",
        "df_tophorse_items = pd.read_csv(os.path.join(filepath_data, filename_tophorse_items_df))\n",
        "df_tophorse_items.shape"
      ],
      "execution_count": 13,
      "outputs": [
        {
          "output_type": "execute_result",
          "data": {
            "text/plain": [
              "(170, 4)"
            ]
          },
          "metadata": {},
          "execution_count": 13
        }
      ]
    },
    {
      "cell_type": "markdown",
      "metadata": {
        "id": "NEJK_WvY7TqF"
      },
      "source": [
        "#### Crawl 2: TopHorse Sales listing details"
      ]
    },
    {
      "cell_type": "markdown",
      "metadata": {
        "id": "C9ty09Oj9HjA"
      },
      "source": [
        "Having extracted the URLs for each horse listing, the following loops through to scrape each one.\n",
        "\n",
        "* *Note*: This was implemented prior to the creation of the UDF `wrapper_web_crawler()` lare used on the *Horse Health* forum."
      ]
    },
    {
      "cell_type": "code",
      "metadata": {
        "colab": {
          "base_uri": "https://localhost:8080/"
        },
        "id": "gx_0bypoOecj",
        "outputId": "55fcfe4c-9a30-4fd3-d334-25399d689819"
      },
      "source": [
        "# Crawl pages and scrape\n",
        "start_time = time()\n",
        "print('Crawl start UTC: {}'.format(datetime.fromtimestamp(start_time)))\n",
        "\n",
        "df_item_details = pd.DataFrame()\n",
        "count_max = df_tophorse_items.shape[0]\n",
        "echo_every_n = 10\n",
        "for count, url_path in enumerate(df_tophorse_items['item_url_path']):\n",
        "    # Requeste advert details\n",
        "    url_item = url_domain + url_path\n",
        "    status_code = 0\n",
        "    try:\n",
        "        response = requests.get(url_item)\n",
        "        status_code = response.status_code\n",
        "        soup = BeautifulSoup(response.text, 'html.parser')\n",
        "    except requests.exceptions.ConnectionError:\n",
        "        # Target machine actively refused connection\n",
        "        status_code = \"connection refused\"\n",
        "    except:\n",
        "        pass\n",
        "\n",
        "    # Show progress\n",
        "    if (echo_every_n > 0) and (count % echo_every_n == 0): # lazy evaluation\n",
        "        print(\"item {} of {}:\".format(count + 1, count_max))\n",
        "        print(\"\\t{}\".format(url_item))\n",
        "        print('\\tHTTP response status: {}'.format(status_code))\n",
        "\n",
        "    df_item = pd.DataFrame({ 'url_path':  [url_path] })\n",
        "\n",
        "    if status_code == 200:\n",
        "        # Initialsie\n",
        "        item_description, main_image_url_path, video_url, Seller_Id = \"\", \"\", \"\", \"\"\n",
        "        df_table_details = pd.DataFrame()\n",
        "        image_count = 0\n",
        "        parents = [ '', '']\n",
        "        grand_parents = [ '', '', '', '']\n",
        "        great_grand_parents = [ '', '', '', '']     \n",
        "\n",
        "        try: # Item description\n",
        "            item_description = soup.find('div', class_='itemDescription').get_text()\n",
        "        except:\n",
        "            pass\n",
        "\n",
        "        try: # Details table\n",
        "            table_details = soup.find('table', class_='productPageItemDetails')\n",
        "            df_table_details = pd.read_html(table_details.prettify())[0]\n",
        "            df_table_details.rename(columns={0: 'key', 1: 'value'}, inplace=True)\n",
        "            df_table_details = df_table_details.iloc[:df_table_details[df_table_details['key'].str.contains('(?i)^contact', regex= True)].index[0], ]\n",
        "            df_table_details['key'] = df_table_details['key'].str.replace(':','')\n",
        "            df_table_details.set_index('key', inplace=True)\n",
        "            df_table_details = df_table_details.transpose()\n",
        "            df_table_details.reset_index(inplace=True)\n",
        "            df_table_details            \n",
        "        except:\n",
        "            pass\n",
        "\n",
        "        try: # Breeding Tree\n",
        "            table_breeding_tree = soup.find('table', class_='breedingTree')\n",
        "            df_table_breeding_tree = pd.read_html(table_breeding_tree.prettify())[0]\n",
        "            df_table_breeding_tree.rename(columns={0: 'parents', 1: 'grand_parents', 2: 'great_grand_parents'}, inplace=True)\n",
        "            df_table_breeding_tree.fillna('', inplace=True)\n",
        "            parents = df_table_breeding_tree[df_table_breeding_tree.index % 4 == 0]['parents'].tolist()\n",
        "            grand_parents = df_table_breeding_tree[df_table_breeding_tree.index % 2 == 0]['grand_parents'].tolist()\n",
        "            great_grand_parents = df_table_breeding_tree['great_grand_parents'].tolist()\n",
        "        except:\n",
        "            pass\n",
        "\n",
        "        try: # Number of images\n",
        "            image_count = len(soup.find('div', class_='contentBlock').find_all('img'))\n",
        "        except:\n",
        "            pass\n",
        "\n",
        "        try: # Main image url_path\n",
        "            main_image_url_path = soup.find('div', class_='mainImage').find('img')['src']\n",
        "        except:\n",
        "            pass\n",
        "\n",
        "        try: # Video url\n",
        "            video_url = soup.find('div', id='videoContent').find('iframe')['src']\n",
        "        except:\n",
        "            pass\n",
        "\n",
        "        try: # Seller Id\n",
        "            Seller_Id = soup.find('div', class_='productPageRightCol').find('a', id=re.compile(r'SellersOtherAdverts$'))['href']\n",
        "            Seller_Id = re.findall(r'[^/]+$', Seller_Id)[0]\n",
        "        except:\n",
        "            pass\n",
        "\n",
        "        # Set item results\n",
        "        df_item = pd.DataFrame({ 'url_path':  [url_path] })\n",
        "        df_item['Description'] = item_description\n",
        "        df_item = pd.concat([df_item.reset_index(drop=True), df_table_details], axis=1)\n",
        "        df_item['image_count'] = image_count\n",
        "        df_item['main_image_url_path'] = main_image_url_path\n",
        "        df_item['video_url'] = video_url\n",
        "        df_item['Seller_Id'] = Seller_Id\n",
        "        df_item['parents'] = \";\".join(parents)\n",
        "        df_item['grand_parents'] = \";\".join(grand_parents)\n",
        "        df_item['great_grand_parents'] = \";\".join(great_grand_parents)\n",
        "\n",
        "    df_item_details = pd.concat([df_item_details, df_item])\n",
        "\n",
        "df_item_details.reset_index(inplace=True)\n",
        "df_tophorse_item_details = df_item_details.drop(df_item_details.columns[0], axis=1).copy()\n",
        "\n",
        "# A horses category on the sight is hard-coded into its URL path e.g., \n",
        "#    https://www.tophorse.com.au/horses-for-sale/ --> `performance-horse` <-- /Super-quiet-educated-gelding-__9-1-20-596629\n",
        "df_tophorse_item_details['category'] = df_tophorse_item_details['url_path'].replace({ r'/horses-for-sale/([^/]+)/.*' : r'\\1' }, regex = True, inplace=False)\n",
        "del df_item_details\n",
        "\n",
        "end_time = time()\n",
        "print(\"---crawl complete---\")\n",
        "print()\n",
        "print(\"Listings count: {}\".format(len(df_tophorse_item_details.index)))\n",
        "print(\"Crawl time (sec): {0}\".format(end_time - start_time))\n",
        "print('Crawl end UTC: {}'.format(datetime.fromtimestamp(end_time)))"
      ],
      "execution_count": 20,
      "outputs": [
        {
          "output_type": "stream",
          "name": "stdout",
          "text": [
            "Crawl start UTC: 2021-12-06 23:22:32.450146\n",
            "item 1 of 165:\n",
            "\thttps://www.tophorse.com.au/horses-for-sale/first-and-second-pony/Treasure-perfect-kids-pony-club-pony__6-12-21-885493\n",
            "\tHTTP response status: 200\n",
            "item 11 of 165:\n",
            "\thttps://www.tophorse.com.au/horses-for-sale/endurance-and-trail/Tommy__18-11-21-116857\n",
            "\tHTTP response status: 200\n",
            "item 21 of 165:\n",
            "\thttps://www.tophorse.com.au/horses-for-sale/allrounder-horse/Looking-for-partnership-__12-11-21-791226\n",
            "\tHTTP response status: 200\n",
            "item 31 of 165:\n",
            "\thttps://www.tophorse.com.au/horses-for-sale/allrounder-horse/Groover__19-10-21-652758\n",
            "\tHTTP response status: 200\n",
            "item 41 of 165:\n",
            "\thttps://www.tophorse.com.au/horses-for-sale/performance-horse/WB-Mare__19-9-21-189538\n",
            "\tHTTP response status: 200\n",
            "item 51 of 165:\n",
            "\thttps://www.tophorse.com.au/horses-for-sale/allrounder-horse/Kind-TB-Gelding-__3-8-21-739851\n",
            "\tHTTP response status: 200\n",
            "item 61 of 165:\n",
            "\thttps://www.tophorse.com.au/horses-for-sale/performance-horse/F-rst-Love-x-Royal-Hit-Filly__15-7-21-345676\n",
            "\tHTTP response status: 200\n",
            "item 71 of 165:\n",
            "\thttps://www.tophorse.com.au/horses-for-sale/broodmare/beautiful-mare__19-5-21-359616\n",
            "\tHTTP response status: 200\n",
            "item 81 of 165:\n",
            "\thttps://www.tophorse.com.au/horses-for-sale/dressage-pony/Australian-riding-pony__9-3-21-871273\n",
            "\tHTTP response status: 200\n",
            "item 91 of 165:\n",
            "\thttps://www.tophorse.com.au/horses-for-sale/miniature/Stormy---Miniature-Stallion__7-1-21-247383\n",
            "\tHTTP response status: 200\n",
            "item 101 of 165:\n",
            "\thttps://www.tophorse.com.au/horses-for-sale/allrounder-pony/Outstanding-Small-Pony-Gelding__19-11-20-725915\n",
            "\tHTTP response status: 200\n",
            "item 111 of 165:\n",
            "\thttps://www.tophorse.com.au/horses-for-sale/allrounder-pony/Marena-Sky-Dancer__25-9-20-923932\n",
            "\tHTTP response status: 200\n",
            "item 121 of 165:\n",
            "\thttps://www.tophorse.com.au/horses-for-sale/cobs/Beinn-Kaldy-Mareeba__14-8-20-332169\n",
            "\tHTTP response status: 200\n",
            "item 131 of 165:\n",
            "\thttps://www.tophorse.com.au/horses-for-sale/arabian/Quality-RHR-Heir-of-Marwan-Filly__26-5-20-213696\n",
            "\tHTTP response status: 200\n",
            "item 141 of 165:\n",
            "\thttps://www.tophorse.com.au/horses-for-sale/show-pony/Bay-Arabian-Riding-Pony-Gelding__12-4-20-769637\n",
            "\tHTTP response status: 200\n",
            "item 151 of 165:\n",
            "\thttps://www.tophorse.com.au/horses-for-sale/performance-pony/Quality-Part-Welsh-Show-FIlly__5-3-20-312285\n",
            "\tHTTP response status: 200\n",
            "item 161 of 165:\n",
            "\thttps://www.tophorse.com.au/horses-for-sale/broodmare/Heritage-ASH-Broodmare-__31-12-19-461478\n",
            "\tHTTP response status: 200\n",
            "---crawl complete---\n",
            "\n",
            "Listings count: 165\n",
            "Crawl time (sec): 133.08444356918335\n",
            "Crawl end UTC: 2021-12-06 23:24:45.534590\n"
          ]
        }
      ]
    },
    {
      "cell_type": "code",
      "metadata": {
        "colab": {
          "base_uri": "https://localhost:8080/",
          "height": 825
        },
        "id": "A9pbe5bne6F3",
        "outputId": "a3c2a2d3-b7bf-49f9-b86a-182a33f35295"
      },
      "source": [
        "# Save dataframe locally\n",
        "df_tophorse_item_details.to_csv(os.path.join(filepath_data, filename_tophorse_item_details_df), index=False)\n",
        "df_tophorse_item_details"
      ],
      "execution_count": 21,
      "outputs": [
        {
          "output_type": "execute_result",
          "data": {
            "text/html": [
              "<div>\n",
              "<style scoped>\n",
              "    .dataframe tbody tr th:only-of-type {\n",
              "        vertical-align: middle;\n",
              "    }\n",
              "\n",
              "    .dataframe tbody tr th {\n",
              "        vertical-align: top;\n",
              "    }\n",
              "\n",
              "    .dataframe thead th {\n",
              "        text-align: right;\n",
              "    }\n",
              "</style>\n",
              "<table border=\"1\" class=\"dataframe\">\n",
              "  <thead>\n",
              "    <tr style=\"text-align: right;\">\n",
              "      <th></th>\n",
              "      <th>url_path</th>\n",
              "      <th>Description</th>\n",
              "      <th>index</th>\n",
              "      <th>Height</th>\n",
              "      <th>Age</th>\n",
              "      <th>Colour</th>\n",
              "      <th>Sex</th>\n",
              "      <th>Breed</th>\n",
              "      <th>Terms</th>\n",
              "      <th>Location</th>\n",
              "      <th>P/Trade</th>\n",
              "      <th>Price</th>\n",
              "      <th>Ad Code</th>\n",
              "      <th>image_count</th>\n",
              "      <th>main_image_url_path</th>\n",
              "      <th>video_url</th>\n",
              "      <th>Seller_Id</th>\n",
              "      <th>parents</th>\n",
              "      <th>grand_parents</th>\n",
              "      <th>great_grand_parents</th>\n",
              "      <th>category</th>\n",
              "    </tr>\n",
              "  </thead>\n",
              "  <tbody>\n",
              "    <tr>\n",
              "      <th>0</th>\n",
              "      <td>/horses-for-sale/first-and-second-pony/Treasur...</td>\n",
              "      <td>\\r\\n                PLEASE READ FULL ADD.\\r Tr...</td>\n",
              "      <td>value</td>\n",
              "      <td>11.1 hh</td>\n",
              "      <td>13 yrs</td>\n",
              "      <td>White</td>\n",
              "      <td>Mare</td>\n",
              "      <td>Welsh Section B</td>\n",
              "      <td>For Sale</td>\n",
              "      <td>Dean, Victoria</td>\n",
              "      <td>Private</td>\n",
              "      <td>$ 1234.00  ONO</td>\n",
              "      <td>6-12-21-885493</td>\n",
              "      <td>6</td>\n",
              "      <td>/images/ResizedImages/6-12-21-884293Image1_w57...</td>\n",
              "      <td></td>\n",
              "      <td></td>\n",
              "      <td>;</td>\n",
              "      <td>;;;</td>\n",
              "      <td>;;;</td>\n",
              "      <td>first-and-second-pony</td>\n",
              "    </tr>\n",
              "    <tr>\n",
              "      <th>1</th>\n",
              "      <td>/horses-for-sale/endurance-and-trail/Vee-Rock-...</td>\n",
              "      <td>\\r\\n                75 starts, $136,562 Prize ...</td>\n",
              "      <td>value</td>\n",
              "      <td>16.0 hh</td>\n",
              "      <td>12 yrs</td>\n",
              "      <td>Bay</td>\n",
              "      <td>Gelding</td>\n",
              "      <td>Standardbred</td>\n",
              "      <td>For Sale</td>\n",
              "      <td>Oaklands Junction, Victoria</td>\n",
              "      <td>Trade</td>\n",
              "      <td>$ 2500.00</td>\n",
              "      <td>30-11-21-497655</td>\n",
              "      <td>6</td>\n",
              "      <td>/images/ResizedImages/30-11-21-488434Image1_w5...</td>\n",
              "      <td></td>\n",
              "      <td>HERO__9-6-20-752499</td>\n",
              "      <td>;</td>\n",
              "      <td>;;;</td>\n",
              "      <td>;;;</td>\n",
              "      <td>endurance-and-trail</td>\n",
              "    </tr>\n",
              "    <tr>\n",
              "      <th>2</th>\n",
              "      <td>/horses-for-sale/ponies/Tory__27-11-21-563432</td>\n",
              "      <td>\\r\\n                The most sweetest pony I h...</td>\n",
              "      <td>value</td>\n",
              "      <td>11.0 hh</td>\n",
              "      <td>10 yrs</td>\n",
              "      <td>Grey</td>\n",
              "      <td>Mare</td>\n",
              "      <td>Other</td>\n",
              "      <td>For Sale</td>\n",
              "      <td>Yamba, New South Wales</td>\n",
              "      <td>Private</td>\n",
              "      <td>$ 3500.00  ONO</td>\n",
              "      <td>27-11-21-563432</td>\n",
              "      <td>4</td>\n",
              "      <td>/images/ResizedImages/27-11-21-586832Image1_w5...</td>\n",
              "      <td>https://www.youtube.com/embed/lUedBJKyWAk</td>\n",
              "      <td></td>\n",
              "      <td>;</td>\n",
              "      <td>;;;</td>\n",
              "      <td>;;;</td>\n",
              "      <td>ponies</td>\n",
              "    </tr>\n",
              "    <tr>\n",
              "      <th>3</th>\n",
              "      <td>/horses-for-sale/australian-stock-horse/Johnny...</td>\n",
              "      <td>\\r\\n                A real sweetheart who enjo...</td>\n",
              "      <td>value</td>\n",
              "      <td>14.3 hh</td>\n",
              "      <td>10 yrs</td>\n",
              "      <td>Bay</td>\n",
              "      <td>Gelding</td>\n",
              "      <td>Australian Stock Horse</td>\n",
              "      <td>For Sale</td>\n",
              "      <td>Yamba, New South Wales</td>\n",
              "      <td>Private</td>\n",
              "      <td>$ 4500.00  ONO</td>\n",
              "      <td>27-11-21-191667</td>\n",
              "      <td>4</td>\n",
              "      <td>/images/ResizedImages/27-11-21-562895Image1_w5...</td>\n",
              "      <td>https://www.youtube.com/embed/wIFXwr6xACE</td>\n",
              "      <td></td>\n",
              "      <td>;</td>\n",
              "      <td>;;;</td>\n",
              "      <td>;;;</td>\n",
              "      <td>australian-stock-horse</td>\n",
              "    </tr>\n",
              "    <tr>\n",
              "      <th>4</th>\n",
              "      <td>/horses-for-sale/broodmare/Wanted---Riding-Pon...</td>\n",
              "      <td>\\r\\n                Looking for a registered r...</td>\n",
              "      <td>value</td>\n",
              "      <td>13.0 hh</td>\n",
              "      <td>7 yrs</td>\n",
              "      <td>Black</td>\n",
              "      <td>Mare</td>\n",
              "      <td>Riding Pony</td>\n",
              "      <td>Wanted</td>\n",
              "      <td>Currawang, New South Wales</td>\n",
              "      <td>Private</td>\n",
              "      <td>$ 500.00</td>\n",
              "      <td>24-11-21-697984</td>\n",
              "      <td>1</td>\n",
              "      <td>/images/ResizedImages/24-11-21-231789Image1_w5...</td>\n",
              "      <td></td>\n",
              "      <td></td>\n",
              "      <td>;</td>\n",
              "      <td>;;;</td>\n",
              "      <td>;;;</td>\n",
              "      <td>broodmare</td>\n",
              "    </tr>\n",
              "    <tr>\n",
              "      <th>...</th>\n",
              "      <td>...</td>\n",
              "      <td>...</td>\n",
              "      <td>...</td>\n",
              "      <td>...</td>\n",
              "      <td>...</td>\n",
              "      <td>...</td>\n",
              "      <td>...</td>\n",
              "      <td>...</td>\n",
              "      <td>...</td>\n",
              "      <td>...</td>\n",
              "      <td>...</td>\n",
              "      <td>...</td>\n",
              "      <td>...</td>\n",
              "      <td>...</td>\n",
              "      <td>...</td>\n",
              "      <td>...</td>\n",
              "      <td>...</td>\n",
              "      <td>...</td>\n",
              "      <td>...</td>\n",
              "      <td>...</td>\n",
              "      <td>...</td>\n",
              "    </tr>\n",
              "    <tr>\n",
              "      <th>160</th>\n",
              "      <td>/horses-for-sale/broodmare/Heritage-ASH-Broodm...</td>\n",
              "      <td>\\r\\n                \\t \\t\\tNABINABAH GUNNER - ...</td>\n",
              "      <td>value</td>\n",
              "      <td>15.1 hh</td>\n",
              "      <td>17 yrs</td>\n",
              "      <td>Chestnut</td>\n",
              "      <td>Mare</td>\n",
              "      <td>Australian Stock Horse</td>\n",
              "      <td>For Sale</td>\n",
              "      <td>Armidale, New South Wales</td>\n",
              "      <td>Private</td>\n",
              "      <td>$ 2500.00</td>\n",
              "      <td>31-12-19-461478</td>\n",
              "      <td>4</td>\n",
              "      <td>/images/ResizedImages/31-12-19-458752Image2_w5...</td>\n",
              "      <td></td>\n",
              "      <td></td>\n",
              "      <td>;</td>\n",
              "      <td>;;;</td>\n",
              "      <td>;;;</td>\n",
              "      <td>broodmare</td>\n",
              "    </tr>\n",
              "    <tr>\n",
              "      <th>161</th>\n",
              "      <td>/horses-for-sale/allrounder-horse/Chestnut-Gel...</td>\n",
              "      <td>\\r\\n                Attractive chestnut Arabia...</td>\n",
              "      <td>value</td>\n",
              "      <td>14.3 hh</td>\n",
              "      <td>5 yrs</td>\n",
              "      <td>Chestnut</td>\n",
              "      <td>Gelding</td>\n",
              "      <td>Arabian</td>\n",
              "      <td>For Sale</td>\n",
              "      <td>Murwillumbah, New South Wales</td>\n",
              "      <td>Private</td>\n",
              "      <td>$ 2000.00  ONO</td>\n",
              "      <td>25-12-19-261619</td>\n",
              "      <td>6</td>\n",
              "      <td>/images/ResizedImages/25-12-19-316222Image1_w5...</td>\n",
              "      <td></td>\n",
              "      <td></td>\n",
              "      <td>;</td>\n",
              "      <td>;;;</td>\n",
              "      <td>;;;</td>\n",
              "      <td>allrounder-horse</td>\n",
              "    </tr>\n",
              "    <tr>\n",
              "      <th>162</th>\n",
              "      <td>/horses-for-sale/allrounder-horse/Beautiful-pa...</td>\n",
              "      <td>\\r\\n                Biggs began his career in ...</td>\n",
              "      <td>value</td>\n",
              "      <td>16.3 hh</td>\n",
              "      <td>16 yrs</td>\n",
              "      <td>Chestnut</td>\n",
              "      <td>Gelding</td>\n",
              "      <td>Thoroughbred</td>\n",
              "      <td>For Sale</td>\n",
              "      <td>Parkerville, Western Australia</td>\n",
              "      <td>Private</td>\n",
              "      <td>$ 4000.00  ONO</td>\n",
              "      <td>19-12-19-491476</td>\n",
              "      <td>5</td>\n",
              "      <td>/images/ResizedImages/19-12-19-156723Image1_w5...</td>\n",
              "      <td></td>\n",
              "      <td></td>\n",
              "      <td>;</td>\n",
              "      <td>;;;</td>\n",
              "      <td>;;;</td>\n",
              "      <td>allrounder-horse</td>\n",
              "    </tr>\n",
              "    <tr>\n",
              "      <th>163</th>\n",
              "      <td>/horses-for-sale/paint-horse/registered-overo-...</td>\n",
              "      <td>\\r\\n                Prairie spinner doc this h...</td>\n",
              "      <td>value</td>\n",
              "      <td>14.3 hh</td>\n",
              "      <td>3 yrs</td>\n",
              "      <td>Chestnut</td>\n",
              "      <td>Gelding</td>\n",
              "      <td>Paint Horse</td>\n",
              "      <td>For Sale</td>\n",
              "      <td>Black Head, New South Wales</td>\n",
              "      <td>Private</td>\n",
              "      <td>$ 3500.00  ONO</td>\n",
              "      <td>19-12-19-626437</td>\n",
              "      <td>6</td>\n",
              "      <td>/images/ResizedImages/19-12-19-626437Image7_w5...</td>\n",
              "      <td></td>\n",
              "      <td></td>\n",
              "      <td>;</td>\n",
              "      <td>;;;</td>\n",
              "      <td>;;;</td>\n",
              "      <td>paint-horse</td>\n",
              "    </tr>\n",
              "    <tr>\n",
              "      <th>164</th>\n",
              "      <td>/horses-for-sale/allrounder-pony/Tilly__16-12-...</td>\n",
              "      <td>\\r\\n                12 year old Australian sto...</td>\n",
              "      <td>value</td>\n",
              "      <td>12.0 hh</td>\n",
              "      <td>12 yrs</td>\n",
              "      <td>Brown</td>\n",
              "      <td>Mare</td>\n",
              "      <td>Australian Pony</td>\n",
              "      <td>For Sale</td>\n",
              "      <td>Mcgraths Hill, New South Wales</td>\n",
              "      <td>Private</td>\n",
              "      <td>$ 3500.00  Inc GST</td>\n",
              "      <td>16-12-19-224877</td>\n",
              "      <td>6</td>\n",
              "      <td>/images/ResizedImages/16-12-19-224877Image7_w5...</td>\n",
              "      <td></td>\n",
              "      <td></td>\n",
              "      <td>;</td>\n",
              "      <td>;;;</td>\n",
              "      <td>;;;</td>\n",
              "      <td>allrounder-pony</td>\n",
              "    </tr>\n",
              "  </tbody>\n",
              "</table>\n",
              "<p>165 rows × 21 columns</p>\n",
              "</div>"
            ],
            "text/plain": [
              "                                              url_path  ...                category\n",
              "0    /horses-for-sale/first-and-second-pony/Treasur...  ...   first-and-second-pony\n",
              "1    /horses-for-sale/endurance-and-trail/Vee-Rock-...  ...     endurance-and-trail\n",
              "2        /horses-for-sale/ponies/Tory__27-11-21-563432  ...                  ponies\n",
              "3    /horses-for-sale/australian-stock-horse/Johnny...  ...  australian-stock-horse\n",
              "4    /horses-for-sale/broodmare/Wanted---Riding-Pon...  ...               broodmare\n",
              "..                                                 ...  ...                     ...\n",
              "160  /horses-for-sale/broodmare/Heritage-ASH-Broodm...  ...               broodmare\n",
              "161  /horses-for-sale/allrounder-horse/Chestnut-Gel...  ...        allrounder-horse\n",
              "162  /horses-for-sale/allrounder-horse/Beautiful-pa...  ...        allrounder-horse\n",
              "163  /horses-for-sale/paint-horse/registered-overo-...  ...             paint-horse\n",
              "164  /horses-for-sale/allrounder-pony/Tilly__16-12-...  ...         allrounder-pony\n",
              "\n",
              "[165 rows x 21 columns]"
            ]
          },
          "metadata": {},
          "execution_count": 21
        }
      ]
    },
    {
      "cell_type": "code",
      "metadata": {
        "colab": {
          "base_uri": "https://localhost:8080/",
          "height": 840
        },
        "id": "Z8VhhpaojJFu",
        "outputId": "00b90b3c-cb9f-4137-c81c-ce19d7d2bd3f"
      },
      "source": [
        "df_tophorse_item_details[df_tophorse_item_details['parents'] != \";\"]"
      ],
      "execution_count": null,
      "outputs": [
        {
          "output_type": "execute_result",
          "data": {
            "text/html": [
              "<div>\n",
              "<style scoped>\n",
              "    .dataframe tbody tr th:only-of-type {\n",
              "        vertical-align: middle;\n",
              "    }\n",
              "\n",
              "    .dataframe tbody tr th {\n",
              "        vertical-align: top;\n",
              "    }\n",
              "\n",
              "    .dataframe thead th {\n",
              "        text-align: right;\n",
              "    }\n",
              "</style>\n",
              "<table border=\"1\" class=\"dataframe\">\n",
              "  <thead>\n",
              "    <tr style=\"text-align: right;\">\n",
              "      <th></th>\n",
              "      <th>url_path</th>\n",
              "      <th>Description</th>\n",
              "      <th>index</th>\n",
              "      <th>Height</th>\n",
              "      <th>Age</th>\n",
              "      <th>Colour</th>\n",
              "      <th>Sex</th>\n",
              "      <th>Breed</th>\n",
              "      <th>Terms</th>\n",
              "      <th>Location</th>\n",
              "      <th>P/Trade</th>\n",
              "      <th>Price</th>\n",
              "      <th>Ad Code</th>\n",
              "      <th>image_count</th>\n",
              "      <th>main_image_url_path</th>\n",
              "      <th>video_url</th>\n",
              "      <th>Seller_Id</th>\n",
              "      <th>parents</th>\n",
              "      <th>grand_parents</th>\n",
              "      <th>great_grand_parents</th>\n",
              "      <th>category</th>\n",
              "    </tr>\n",
              "  </thead>\n",
              "  <tbody>\n",
              "    <tr>\n",
              "      <th>0</th>\n",
              "      <td>/horses-for-sale/paint-horse/Buckskin-Paint-Co...</td>\n",
              "      <td>\\r\\n                Phaa Rego pending - DECKAL...</td>\n",
              "      <td>value</td>\n",
              "      <td>16.0 hh</td>\n",
              "      <td>0 yrs</td>\n",
              "      <td>Buckskin</td>\n",
              "      <td>Colt</td>\n",
              "      <td>Paint Horse</td>\n",
              "      <td>For Sale</td>\n",
              "      <td>Beechwood, New South Wales</td>\n",
              "      <td>Private</td>\n",
              "      <td>$ 0  ONO</td>\n",
              "      <td>30-11-21-178636</td>\n",
              "      <td>4</td>\n",
              "      <td>/images/ResizedImages/30-11-21-296166Image1_w5...</td>\n",
              "      <td></td>\n",
              "      <td></td>\n",
              "      <td>QL RIGHTON RINGER;WARRALEE APPLE DANISH</td>\n",
              "      <td>QL RIGHT ON THE MONEY;QUIRRAN LEA MISS GALAXY;...</td>\n",
              "      <td>STRAIT SMOKIN MONEY (IMP USA) 9047;QUIRRAN LEA...</td>\n",
              "      <td>paint-horse</td>\n",
              "    </tr>\n",
              "    <tr>\n",
              "      <th>5</th>\n",
              "      <td>/horses-for-sale/allrounder-horse/Sophie__25-1...</td>\n",
              "      <td>\\r\\n                Racename: Mamzelle Sophie\\...</td>\n",
              "      <td>value</td>\n",
              "      <td>16.1 hh</td>\n",
              "      <td>6 yrs</td>\n",
              "      <td>Chestnut</td>\n",
              "      <td>Mare</td>\n",
              "      <td>Thoroughbred</td>\n",
              "      <td>For Sale</td>\n",
              "      <td>Barnawartha, Victoria</td>\n",
              "      <td>Private</td>\n",
              "      <td>POA</td>\n",
              "      <td>25-11-21-919693</td>\n",
              "      <td>3</td>\n",
              "      <td>/images/ResizedImages/25-11-21-896767Image46_w...</td>\n",
              "      <td></td>\n",
              "      <td>JW-Equestrian__24-6-21-819416</td>\n",
              "      <td>Choisir;Sophielicious</td>\n",
              "      <td>;;;</td>\n",
              "      <td>;;;;;;;</td>\n",
              "      <td>allrounder-horse</td>\n",
              "    </tr>\n",
              "    <tr>\n",
              "      <th>6</th>\n",
              "      <td>/horses-for-sale/allrounder-horse/Manny__25-11...</td>\n",
              "      <td>\\r\\n                Racename: All Starr Courag...</td>\n",
              "      <td>value</td>\n",
              "      <td>16.1 hh</td>\n",
              "      <td>7 yrs</td>\n",
              "      <td>Chestnut</td>\n",
              "      <td>Gelding</td>\n",
              "      <td>Thoroughbred</td>\n",
              "      <td>For Sale</td>\n",
              "      <td>Barnawartha, Victoria</td>\n",
              "      <td>Private</td>\n",
              "      <td>POA</td>\n",
              "      <td>25-11-21-149549</td>\n",
              "      <td>6</td>\n",
              "      <td>/images/ResizedImages/25-11-21-318156Image41_w...</td>\n",
              "      <td></td>\n",
              "      <td>JW-Equestrian__24-6-21-819416</td>\n",
              "      <td>Strategic Maneuver;Caseys Courage</td>\n",
              "      <td>;;;</td>\n",
              "      <td>;;;;;;;</td>\n",
              "      <td>allrounder-horse</td>\n",
              "    </tr>\n",
              "    <tr>\n",
              "      <th>7</th>\n",
              "      <td>/horses-for-sale/allrounder-horse/Alex__25-11-...</td>\n",
              "      <td>\\r\\n                Racename: Ajyaal\\r DOB: 13...</td>\n",
              "      <td>value</td>\n",
              "      <td>16.2 hh</td>\n",
              "      <td>5 yrs</td>\n",
              "      <td>Bay</td>\n",
              "      <td>Gelding</td>\n",
              "      <td>Thoroughbred</td>\n",
              "      <td>For Sale</td>\n",
              "      <td>Barnawartha, Victoria</td>\n",
              "      <td>Private</td>\n",
              "      <td>POA</td>\n",
              "      <td>25-11-21-227556</td>\n",
              "      <td>6</td>\n",
              "      <td>/images/ResizedImages/25-11-21-256712Image36_w...</td>\n",
              "      <td></td>\n",
              "      <td>JW-Equestrian__24-6-21-819416</td>\n",
              "      <td>Deep Field;Albakoor</td>\n",
              "      <td>;;;</td>\n",
              "      <td>;;;;;;;</td>\n",
              "      <td>allrounder-horse</td>\n",
              "    </tr>\n",
              "    <tr>\n",
              "      <th>8</th>\n",
              "      <td>/horses-for-sale/allrounder-horse/Prince__25-1...</td>\n",
              "      <td>\\r\\n                Price enjoys going slow, t...</td>\n",
              "      <td>value</td>\n",
              "      <td>16.0 hh</td>\n",
              "      <td>4 yrs</td>\n",
              "      <td>Chestnut</td>\n",
              "      <td>Gelding</td>\n",
              "      <td>Thoroughbred</td>\n",
              "      <td>For Sale</td>\n",
              "      <td>Barnawartha, Victoria</td>\n",
              "      <td>Private</td>\n",
              "      <td>$ 2500.00</td>\n",
              "      <td>25-11-21-732997</td>\n",
              "      <td>6</td>\n",
              "      <td>/images/ResizedImages/25-11-21-682328Image31_w...</td>\n",
              "      <td></td>\n",
              "      <td>JW-Equestrian__24-6-21-819416</td>\n",
              "      <td>Snitzle;Star Of Sydney</td>\n",
              "      <td>;;;</td>\n",
              "      <td>;;;;;;;</td>\n",
              "      <td>allrounder-horse</td>\n",
              "    </tr>\n",
              "    <tr>\n",
              "      <th>...</th>\n",
              "      <td>...</td>\n",
              "      <td>...</td>\n",
              "      <td>...</td>\n",
              "      <td>...</td>\n",
              "      <td>...</td>\n",
              "      <td>...</td>\n",
              "      <td>...</td>\n",
              "      <td>...</td>\n",
              "      <td>...</td>\n",
              "      <td>...</td>\n",
              "      <td>...</td>\n",
              "      <td>...</td>\n",
              "      <td>...</td>\n",
              "      <td>...</td>\n",
              "      <td>...</td>\n",
              "      <td>...</td>\n",
              "      <td>...</td>\n",
              "      <td>...</td>\n",
              "      <td>...</td>\n",
              "      <td>...</td>\n",
              "      <td>...</td>\n",
              "    </tr>\n",
              "    <tr>\n",
              "      <th>150</th>\n",
              "      <td>/horses-for-sale/mountain-and-moorland/BAMBORO...</td>\n",
              "      <td>\\r\\n                Welsh Mountain Pony\\r Grey...</td>\n",
              "      <td>value</td>\n",
              "      <td>11.1 hh</td>\n",
              "      <td>1 yrs</td>\n",
              "      <td>Grey</td>\n",
              "      <td>Gelding</td>\n",
              "      <td>Other</td>\n",
              "      <td>For Sale</td>\n",
              "      <td>Cowra, New South Wales</td>\n",
              "      <td>Private</td>\n",
              "      <td>POA</td>\n",
              "      <td>5-3-20-363618</td>\n",
              "      <td>3</td>\n",
              "      <td>/images/ResizedImages/5-3-20-811358Image1_w577...</td>\n",
              "      <td></td>\n",
              "      <td></td>\n",
              "      <td>Llangollen Top of the Pops;Bamborough Pou Pi Du</td>\n",
              "      <td>;;;</td>\n",
              "      <td>;;;;;;;</td>\n",
              "      <td>mountain-and-moorland</td>\n",
              "    </tr>\n",
              "    <tr>\n",
              "      <th>151</th>\n",
              "      <td>/horses-for-sale/performance-pony/Quality-Part...</td>\n",
              "      <td>\\r\\n                BAMBOROUGH GOSPEL\\r DOB: 2...</td>\n",
              "      <td>value</td>\n",
              "      <td>13.1 hh</td>\n",
              "      <td>7 yrs</td>\n",
              "      <td>Chestnut</td>\n",
              "      <td>Filly</td>\n",
              "      <td>Other</td>\n",
              "      <td>For Sale</td>\n",
              "      <td>Cowra, New South Wales</td>\n",
              "      <td>Private</td>\n",
              "      <td>POA</td>\n",
              "      <td>5-3-20-312285</td>\n",
              "      <td>1</td>\n",
              "      <td>/images/ResizedImages/5-3-20-312285Image1_w577...</td>\n",
              "      <td></td>\n",
              "      <td></td>\n",
              "      <td>Rathowen Paragon;Bamborough Graceful</td>\n",
              "      <td>;;;</td>\n",
              "      <td>;;;;;;;</td>\n",
              "      <td>performance-pony</td>\n",
              "    </tr>\n",
              "    <tr>\n",
              "      <th>152</th>\n",
              "      <td>/horses-for-sale/broodmare/Bamborough-Royal-Me...</td>\n",
              "      <td>\\r\\n                DOB: 25.11.08\\r Lovely bro...</td>\n",
              "      <td>value</td>\n",
              "      <td>13.0 hh</td>\n",
              "      <td>12 yrs</td>\n",
              "      <td>Chestnut</td>\n",
              "      <td>Mare</td>\n",
              "      <td>Other</td>\n",
              "      <td>For Sale</td>\n",
              "      <td>Cowra, New South Wales</td>\n",
              "      <td>Private</td>\n",
              "      <td>POA</td>\n",
              "      <td>5-3-20-727149</td>\n",
              "      <td>1</td>\n",
              "      <td>/images/ResizedImages/5-3-20-525165Image6_w577...</td>\n",
              "      <td></td>\n",
              "      <td></td>\n",
              "      <td>Naruni Park Taylor Made;Bamborough Royal Rhapsody</td>\n",
              "      <td>;;;</td>\n",
              "      <td>;;;;;;;</td>\n",
              "      <td>broodmare</td>\n",
              "    </tr>\n",
              "    <tr>\n",
              "      <th>153</th>\n",
              "      <td>/horses-for-sale/broodmare/Lovely-Part-Welsh-B...</td>\n",
              "      <td>\\r\\n                SILKWOOD SUPERNATURAL\\r DO...</td>\n",
              "      <td>value</td>\n",
              "      <td>14.1 hh</td>\n",
              "      <td>14 yrs</td>\n",
              "      <td>Chestnut</td>\n",
              "      <td>Mare</td>\n",
              "      <td>Other</td>\n",
              "      <td>For Sale</td>\n",
              "      <td>Cowra, New South Wales</td>\n",
              "      <td>Private</td>\n",
              "      <td>POA</td>\n",
              "      <td>5-3-20-953732</td>\n",
              "      <td>1</td>\n",
              "      <td>/images/ResizedImages/5-3-20-312145Image7_w577...</td>\n",
              "      <td></td>\n",
              "      <td></td>\n",
              "      <td>Silkwood Puss N Boots;Silkwood Sweet Charity</td>\n",
              "      <td>;;;</td>\n",
              "      <td>;;;;;;;</td>\n",
              "      <td>broodmare</td>\n",
              "    </tr>\n",
              "    <tr>\n",
              "      <th>157</th>\n",
              "      <td>/horses-for-sale/racing/Pluck-Colt__9-2-20-699229</td>\n",
              "      <td>\\r\\n                Two year old Pluck colt, o...</td>\n",
              "      <td>value</td>\n",
              "      <td>15.0 hh</td>\n",
              "      <td>2 yrs</td>\n",
              "      <td>Dark Bay</td>\n",
              "      <td>Colt</td>\n",
              "      <td>Thoroughbred</td>\n",
              "      <td>For Sale</td>\n",
              "      <td>Camp Mountain, Queensland</td>\n",
              "      <td>Private</td>\n",
              "      <td>$ 4999.00</td>\n",
              "      <td>9-2-20-699229</td>\n",
              "      <td>1</td>\n",
              "      <td>/images/ResizedImages/9-2-20-699229Image1_w577...</td>\n",
              "      <td></td>\n",
              "      <td></td>\n",
              "      <td>Pluck;Miss Aviatrix</td>\n",
              "      <td>;;;</td>\n",
              "      <td>;;;;;;;</td>\n",
              "      <td>racing</td>\n",
              "    </tr>\n",
              "  </tbody>\n",
              "</table>\n",
              "<p>78 rows × 21 columns</p>\n",
              "</div>"
            ],
            "text/plain": [
              "                                              url_path  ...               category\n",
              "0    /horses-for-sale/paint-horse/Buckskin-Paint-Co...  ...            paint-horse\n",
              "5    /horses-for-sale/allrounder-horse/Sophie__25-1...  ...       allrounder-horse\n",
              "6    /horses-for-sale/allrounder-horse/Manny__25-11...  ...       allrounder-horse\n",
              "7    /horses-for-sale/allrounder-horse/Alex__25-11-...  ...       allrounder-horse\n",
              "8    /horses-for-sale/allrounder-horse/Prince__25-1...  ...       allrounder-horse\n",
              "..                                                 ...  ...                    ...\n",
              "150  /horses-for-sale/mountain-and-moorland/BAMBORO...  ...  mountain-and-moorland\n",
              "151  /horses-for-sale/performance-pony/Quality-Part...  ...       performance-pony\n",
              "152  /horses-for-sale/broodmare/Bamborough-Royal-Me...  ...              broodmare\n",
              "153  /horses-for-sale/broodmare/Lovely-Part-Welsh-B...  ...              broodmare\n",
              "157  /horses-for-sale/racing/Pluck-Colt__9-2-20-699229  ...                 racing\n",
              "\n",
              "[78 rows x 21 columns]"
            ]
          },
          "metadata": {},
          "execution_count": 160
        }
      ]
    },
    {
      "cell_type": "markdown",
      "metadata": {
        "id": "U2I7cukRBenw"
      },
      "source": [
        "##### Reload listing-details data"
      ]
    },
    {
      "cell_type": "markdown",
      "metadata": {
        "id": "l4t9_BagBmVH"
      },
      "source": [
        "This section was to reload saved data from a previous WebCrawling sesession."
      ]
    },
    {
      "cell_type": "code",
      "metadata": {
        "colab": {
          "base_uri": "https://localhost:8080/"
        },
        "id": "t7PFdzrLBmVH",
        "outputId": "8e9c03c9-6be7-4f0d-8a1b-41e2c82261cf"
      },
      "source": [
        "# Reload tophorse listings\n",
        "df_tophorse_item_details = pd.read_csv(os.path.join(filepath_data, filename_tophorse_item_details_df))\n",
        "df_tophorse_item_details.shape"
      ],
      "execution_count": 12,
      "outputs": [
        {
          "output_type": "execute_result",
          "data": {
            "text/plain": [
              "(170, 21)"
            ]
          },
          "metadata": {},
          "execution_count": 12
        }
      ]
    },
    {
      "cell_type": "markdown",
      "metadata": {
        "id": "Mx_4bnfqCN2H"
      },
      "source": [
        "### Horse Health forum"
      ]
    },
    {
      "cell_type": "markdown",
      "metadata": {
        "id": "XKIXYDY4Bg5h"
      },
      "source": [
        ""
      ]
    },
    {
      "cell_type": "markdown",
      "metadata": {
        "id": "xopedueI-7UT"
      },
      "source": [
        "This section was for the scraping of the *Horse Health* forum website.\n",
        "\n",
        "* *Horse Health*: https://www.horseforum.com/forums/horse-health.17/"
      ]
    },
    {
      "cell_type": "markdown",
      "metadata": {
        "id": "KlQWnn9LHNGL"
      },
      "source": [
        "#### UDF: Horse Health forum-pages"
      ]
    },
    {
      "cell_type": "markdown",
      "metadata": {
        "id": "86FISTBr_LwV"
      },
      "source": [
        "The following function were for the scraping of data from the forum's pages."
      ]
    },
    {
      "cell_type": "code",
      "metadata": {
        "id": "NYGPkAK8HHIr"
      },
      "source": [
        "def get_next_page_url_horseforum(horseforum_soup):\n",
        "    \"\"\"\n",
        "    Gets the 'next page' url path from the www.horseforum.com forum page.\n",
        "\n",
        "    Parameters:\n",
        "    -----------\n",
        "    bs4.BeautifulSoup : horseforum_soup\n",
        "        A BeautifulSoup object for the web page.\n",
        "\n",
        "    Returns:\n",
        "    --------\n",
        "    str\n",
        "        the relative url path for the 'next page' if successful, otherwise an empty string.\n",
        "    \"\"\"\n",
        "    soup = horseforum_soup\n",
        "    url_path = \"\"\n",
        "    try:\n",
        "        url_path = soup.find('a', { \"aria-label\" : \"Next Page\" })['href']\n",
        "    except:\n",
        "        pass\n",
        "\n",
        "    return url_path\n",
        "\n",
        "\n",
        "\n",
        "def get_threads_horseforum(horseforum_soup):\n",
        "    \"\"\"\n",
        "    Parameters:\n",
        "    -----------\n",
        "    bs4.BeautifulSoup : horseforum_soup\n",
        "        A BeautifulSoup object for the web page.\n",
        "\n",
        "    Returns:\n",
        "    --------\n",
        "    bs4.element.ResultSet\n",
        "        An iterable collection of advert listings, as returned by BeautifulSoup\n",
        "    \"\"\"\n",
        "    soup = horseforum_soup\n",
        "    return soup.find_all('div', class_=\"california-thread-item\")\n",
        "\n",
        "\n",
        "\n",
        "\n",
        "def scrape_thread_details_horseforum(forum_listings):\n",
        "    \"\"\"\n",
        "    Iterates a bs4 ResultSet of horse forum (i.e., https://www.horseforum.com/forums/horse-health.17/)\n",
        "    listings to get predefined values.\n",
        "\n",
        "    Parameters:\n",
        "    -----------\n",
        "    bs4.element.ResultSet : forum_listings\n",
        "        An iterable collection of forum listings, as returned by BeautifulSoup\n",
        "\n",
        "\n",
        "    Returns:\n",
        "    --------\n",
        "    list of dict {str, Any}\n",
        "        the predefined details of each forum-post:\n",
        "            + item_title\n",
        "            + item_url_path\n",
        "            + item_created_date\n",
        "            + item_created_by\n",
        "            + item_created_by_url_path\n",
        "            + item_view_count\n",
        "            + item_reply_count\n",
        "            + item_last_replied_date\n",
        "            + item_last_replied_by\n",
        "            + item_last_replied_by_url_path\n",
        "\n",
        "    \"\"\"\n",
        "    listings = forum_listings\n",
        "    data_items=[]\n",
        "    if listings is not None:\n",
        "        for item in listings:\n",
        "            # initialise\n",
        "            item_title = \"\"\n",
        "            item_url_path = \"\"\n",
        "            item_created_date = \"\"\n",
        "            item_created_by = \"\"\n",
        "            item_created_by_url_path = \"\"\n",
        "            item_view_count = \"\"\n",
        "            item_reply_count = \"\"\n",
        "            item_last_replied_date = \"\"\n",
        "            item_last_replied_by = \"\"\n",
        "            item_last_replied_by_url_path = \"\"\n",
        "\n",
        "            # Get item's listing title and details URL\n",
        "            try:\n",
        "                tag = item.find('div', class_=\"structItem-title\").find('a', { 'qid' : \"thread-item-title\"})\n",
        "                item_title = tag.get_text()\n",
        "                item_url_path = tag['href']\n",
        "            except:\n",
        "                pass\n",
        "\n",
        "            # Get item's created date\n",
        "            try:\n",
        "                item_created_date = item.find(\n",
        "                    'div', class_=\"structItem-minor\"\n",
        "                    ).find('a', { 'qid' : \"thread-item-start-date\"}).find('time')['datetime']\n",
        "            except:\n",
        "                pass\n",
        "\n",
        "            # Get item's created by\n",
        "            try:\n",
        "                tag = item.find(class_=\"structItem-username\").find('a', class_=\"username\")\n",
        "                item_created_by = tag.get_text()\n",
        "                item_created_by_url_path = tag['href']\n",
        "            except:\n",
        "                pass\n",
        "\n",
        "            # Get item's view count\n",
        "            try:\n",
        "                item_view_count = item.find('div', class_=\"view-count\").find('span')['title']\n",
        "            except:\n",
        "                pass\n",
        "\n",
        "            # Get item's reply count\n",
        "            try:\n",
        "                item_reply_count = item.find('div', class_=\"reply-count\").find('span').get_text()\n",
        "            except:\n",
        "                pass            \n",
        "\n",
        "            # Get item's last replied date\n",
        "            try:\n",
        "                item_last_replied_date = item.find('div', class_=\"last-poster\").find('time')['datetime']\n",
        "            except:\n",
        "                pass            \n",
        "\n",
        "            # Get item's last replied by\n",
        "            try:\n",
        "                tag = item.find('div', class_=\"last-poster\").find('a', class_=\"username\")\n",
        "                item_last_replied_by = tag.get_text()\n",
        "                item_last_replied_by_url_path = tag['href']\n",
        "            except:\n",
        "                pass            \n",
        "\n",
        "            # Save result\n",
        "            dict_item = {\n",
        "                'item_title' : item_title\n",
        "                ,'item_url_path' : item_url_path\n",
        "                ,'item_created_date' : item_created_date\n",
        "                ,'item_created_by' : item_created_by\n",
        "                ,'item_created_by_url_path' : item_created_by_url_path\n",
        "                ,'item_view_count' : item_view_count\n",
        "                ,'item_reply_count' : item_reply_count\n",
        "                ,'item_last_replied_date' : item_last_replied_date\n",
        "                ,'item_last_replied_by' : item_last_replied_by\n",
        "                ,'item_last_replied_by_url_path' : item_last_replied_by_url_path\n",
        "                }\n",
        "\n",
        "            data_items.append(dict_item.copy())\n",
        "\n",
        "    return data_items"
      ],
      "execution_count": null,
      "outputs": []
    },
    {
      "cell_type": "markdown",
      "metadata": {
        "id": "ApBqnLH0fezF"
      },
      "source": [
        "#### Crawl 1: Horse Health forum pages"
      ]
    },
    {
      "cell_type": "markdown",
      "metadata": {
        "id": "WrggoC69_XGe"
      },
      "source": [
        "The following caused the WebCrawler to go across the forum's pages and return all the its threads."
      ]
    },
    {
      "cell_type": "code",
      "metadata": {
        "colab": {
          "base_uri": "https://localhost:8080/"
        },
        "id": "ewdNiHSPfnAh",
        "outputId": "921b0611-3920-4287-da84-831e54efe5d9"
      },
      "source": [
        "# Specify which web page should be crawled\n",
        "url_domain =  \"https://www.horseforum.com\"\n",
        "url_path = \"/forums/horse-health.17/\" # note terminating '/'\n",
        "\n",
        "# Set functions relevant to scraping the web page\n",
        "get_ResultSet = get_threads_horseforum\n",
        "get_ResultSet_data = scrape_thread_details_horseforum\n",
        "get_next_page_url = get_next_page_url_horseforum\n",
        "\n",
        "# Crawl pages and scrape\n",
        "start_time = time()\n",
        "print('Crawl start UTC: {}'.format(datetime.fromtimestamp(start_time)))\n",
        "data_horseforum_threads, _ = web_crawler(\n",
        "    url_domain =  url_domain\n",
        "    ,url_path = url_path\n",
        "    ,fx_get_ResultSet = get_ResultSet\n",
        "    ,fx_get_ResultSet_data = get_ResultSet_data\n",
        "    ,fx_get_next_page_url = get_next_page_url    \n",
        "    #,max_pages = 2\n",
        "    ,echo_every_n = 25\n",
        ")\n",
        "end_time = time()\n",
        "print(\"---crawl complete---\")\n",
        "print()\n",
        "print(\"Thread count: {}\".format(len(data_horseforum_threads)))\n",
        "print(\"Crawl time (sec): {0}\".format(end_time - start_time))\n",
        "print('Crawl end UTC: {}'.format(datetime.fromtimestamp(end_time)))"
      ],
      "execution_count": null,
      "outputs": [
        {
          "output_type": "stream",
          "name": "stdout",
          "text": [
            "Crawl start UTC: 2021-11-30 13:28:37.212199\n",
            "Page 25, HTTP response status: 200\n",
            "\t35 items...\n",
            "Page 50, HTTP response status: 200\n",
            "\t35 items...\n",
            "Page 75, HTTP response status: 200\n",
            "\t35 items...\n",
            "Page 100, HTTP response status: 200\n",
            "\t35 items...\n",
            "Page 125, HTTP response status: 200\n",
            "\t35 items...\n",
            "Page 150, HTTP response status: 200\n",
            "\t35 items...\n",
            "Page 175, HTTP response status: 200\n",
            "\t35 items...\n",
            "Page 200, HTTP response status: 200\n",
            "\t35 items...\n",
            "Page 225, HTTP response status: 200\n",
            "\t35 items...\n",
            "Page 250, HTTP response status: 200\n",
            "\t35 items...\n",
            "Page 275, HTTP response status: 200\n",
            "\t35 items...\n",
            "Page 300, HTTP response status: 200\n",
            "\t35 items...\n",
            "Page 325, HTTP response status: 200\n",
            "\t35 items...\n",
            "Page 350, HTTP response status: 200\n",
            "\t35 items...\n",
            "Page 375, HTTP response status: 200\n",
            "\t35 items...\n",
            "Page 400, HTTP response status: 200\n",
            "\t35 items...\n",
            "Page 425, HTTP response status: 200\n",
            "\t35 items...\n",
            "Page 450, HTTP response status: 200\n",
            "\t35 items...\n",
            "Page 475, HTTP response status: 200\n",
            "\t35 items...\n",
            "Page 500, HTTP response status: 200\n",
            "\t35 items...\n",
            "Page 525, HTTP response status: 200\n",
            "\t35 items...\n",
            "Page 550, HTTP response status: 200\n",
            "\t35 items...\n",
            "Page 575, HTTP response status: 200\n",
            "\t35 items...\n",
            "---crawl complete---\n",
            "\n",
            "Thread count: 20954\n",
            "Crawl time (sec): 408.14657640457153\n",
            "Crawl end UTC: 2021-11-30 13:35:25.358776\n"
          ]
        }
      ]
    },
    {
      "cell_type": "code",
      "metadata": {
        "colab": {
          "base_uri": "https://localhost:8080/",
          "height": 597
        },
        "id": "uuBtCnZRkKDo",
        "outputId": "53eaa5e7-ff80-450f-ba14-642d3ec54d22"
      },
      "source": [
        "# Convert to data frame and save result locally\n",
        "df_horseforum_threads = pd.DataFrame(data_horseforum_threads)\n",
        "\n",
        "# Save dataframe locally\n",
        "df_horseforum_threads.to_csv(os.path.join(filepath_data, filename_horseforum_threads_df), index=False)\n",
        "\n",
        "df_horseforum_threads"
      ],
      "execution_count": null,
      "outputs": [
        {
          "output_type": "execute_result",
          "data": {
            "text/html": [
              "<div>\n",
              "<style scoped>\n",
              "    .dataframe tbody tr th:only-of-type {\n",
              "        vertical-align: middle;\n",
              "    }\n",
              "\n",
              "    .dataframe tbody tr th {\n",
              "        vertical-align: top;\n",
              "    }\n",
              "\n",
              "    .dataframe thead th {\n",
              "        text-align: right;\n",
              "    }\n",
              "</style>\n",
              "<table border=\"1\" class=\"dataframe\">\n",
              "  <thead>\n",
              "    <tr style=\"text-align: right;\">\n",
              "      <th></th>\n",
              "      <th>item_title</th>\n",
              "      <th>item_url_path</th>\n",
              "      <th>item_created_date</th>\n",
              "      <th>item_created_by</th>\n",
              "      <th>item_created_by_url_path</th>\n",
              "      <th>item_view_count</th>\n",
              "      <th>item_reply_count</th>\n",
              "      <th>item_last_replied_date</th>\n",
              "      <th>item_last_replied_by</th>\n",
              "      <th>item_last_replied_by_url_path</th>\n",
              "    </tr>\n",
              "  </thead>\n",
              "  <tbody>\n",
              "    <tr>\n",
              "      <th>0</th>\n",
              "      <td>PLEASE READ BEFORE POSTING (both older and new...</td>\n",
              "      <td>/threads/please-read-before-posting-both-older...</td>\n",
              "      <td>2020-12-27T19:19:33-0500</td>\n",
              "      <td>TaMMa89</td>\n",
              "      <td>/members/tamma89.3542/</td>\n",
              "      <td>1076</td>\n",
              "      <td>0</td>\n",
              "      <td>2020-12-27T19:19:33-0500</td>\n",
              "      <td>TaMMa89</td>\n",
              "      <td>/members/tamma89.3542/</td>\n",
              "    </tr>\n",
              "    <tr>\n",
              "      <th>1</th>\n",
              "      <td>poisonous plants from HF member locations</td>\n",
              "      <td>/threads/poisonous-plants-from-hf-member-locat...</td>\n",
              "      <td>2018-01-01T22:03:05-0500</td>\n",
              "      <td>Smilie</td>\n",
              "      <td>/members/smilie.18361/</td>\n",
              "      <td>2151</td>\n",
              "      <td>5</td>\n",
              "      <td>2020-12-08T16:29:12-0500</td>\n",
              "      <td>stevenson</td>\n",
              "      <td>/members/stevenson.26572/</td>\n",
              "    </tr>\n",
              "    <tr>\n",
              "      <th>2</th>\n",
              "      <td>The Care of an Emaciated Horse</td>\n",
              "      <td>/threads/the-care-of-an-emaciated-horse.100412/</td>\n",
              "      <td>2011-10-14T09:02:04-0400</td>\n",
              "      <td>xxBarry Godden</td>\n",
              "      <td>/members/xxbarry-godden.9451/</td>\n",
              "      <td>48970</td>\n",
              "      <td>54</td>\n",
              "      <td>2020-11-26T10:09:30-0500</td>\n",
              "      <td>horselovinguy</td>\n",
              "      <td>/members/horselovinguy.79162/</td>\n",
              "    </tr>\n",
              "    <tr>\n",
              "      <th>3</th>\n",
              "      <td>Making a Vet Kit</td>\n",
              "      <td>/threads/making-a-vet-kit.251/</td>\n",
              "      <td>2007-01-07T02:14:09-0500</td>\n",
              "      <td>Skippy!</td>\n",
              "      <td>/members/skippy.157/</td>\n",
              "      <td>2091441</td>\n",
              "      <td>277</td>\n",
              "      <td>2019-08-26T04:44:59-0400</td>\n",
              "      <td>AmiraAchek</td>\n",
              "      <td>/members/amiraachek.280747/</td>\n",
              "    </tr>\n",
              "    <tr>\n",
              "      <th>4</th>\n",
              "      <td>Information on Myopathies - PSSM1, PSSM2, MFM,...</td>\n",
              "      <td>/threads/information-on-myopathies-pssm1-pssm2...</td>\n",
              "      <td>2017-08-17T20:06:14-0400</td>\n",
              "      <td>Espy</td>\n",
              "      <td>/members/espy.168162/</td>\n",
              "      <td>17546</td>\n",
              "      <td>5</td>\n",
              "      <td>2018-09-17T16:44:33-0400</td>\n",
              "      <td>Espy</td>\n",
              "      <td>/members/espy.168162/</td>\n",
              "    </tr>\n",
              "    <tr>\n",
              "      <th>...</th>\n",
              "      <td>...</td>\n",
              "      <td>...</td>\n",
              "      <td>...</td>\n",
              "      <td>...</td>\n",
              "      <td>...</td>\n",
              "      <td>...</td>\n",
              "      <td>...</td>\n",
              "      <td>...</td>\n",
              "      <td>...</td>\n",
              "      <td>...</td>\n",
              "    </tr>\n",
              "    <tr>\n",
              "      <th>20949</th>\n",
              "      <td>Recovery from Torn Rear Suspensory Ligament</td>\n",
              "      <td>/threads/recovery-from-torn-rear-suspensory-li...</td>\n",
              "      <td>2006-12-22T05:26:11-0500</td>\n",
              "      <td>trusspt</td>\n",
              "      <td>/members/trusspt.170/</td>\n",
              "      <td>6106</td>\n",
              "      <td>1</td>\n",
              "      <td>2006-12-30T04:51:20-0500</td>\n",
              "      <td>stacyh</td>\n",
              "      <td>/members/stacyh.186/</td>\n",
              "    </tr>\n",
              "    <tr>\n",
              "      <th>20950</th>\n",
              "      <td>how to get horses to gaine weight</td>\n",
              "      <td>/threads/how-to-get-horses-to-gaine-weight.99/</td>\n",
              "      <td>2006-12-05T11:54:51-0500</td>\n",
              "      <td>nybarrelracer</td>\n",
              "      <td>/members/nybarrelracer.121/</td>\n",
              "      <td>4988</td>\n",
              "      <td>14</td>\n",
              "      <td>2006-12-21T07:55:03-0500</td>\n",
              "      <td>brandig</td>\n",
              "      <td>/members/brandig.57/</td>\n",
              "    </tr>\n",
              "    <tr>\n",
              "      <th>20951</th>\n",
              "      <td>PAXIL?</td>\n",
              "      <td>/threads/paxil.102/</td>\n",
              "      <td>2006-12-06T10:09:20-0500</td>\n",
              "      <td>tuffstuff</td>\n",
              "      <td>/members/tuffstuff.123/</td>\n",
              "      <td>3240</td>\n",
              "      <td>3</td>\n",
              "      <td>2006-12-11T20:29:12-0500</td>\n",
              "      <td>kristy</td>\n",
              "      <td>/members/kristy.132/</td>\n",
              "    </tr>\n",
              "    <tr>\n",
              "      <th>20952</th>\n",
              "      <td>Loose stool</td>\n",
              "      <td>/threads/loose-stool.101/</td>\n",
              "      <td>2006-12-05T18:42:31-0500</td>\n",
              "      <td>Cedarsgirl</td>\n",
              "      <td>/members/cedarsgirl.120/</td>\n",
              "      <td>5694</td>\n",
              "      <td>10</td>\n",
              "      <td>2006-12-10T21:52:11-0500</td>\n",
              "      <td>Cedarsgirl</td>\n",
              "      <td>/members/cedarsgirl.120/</td>\n",
              "    </tr>\n",
              "    <tr>\n",
              "      <th>20953</th>\n",
              "      <td>Quietex</td>\n",
              "      <td>/threads/quietex.49/</td>\n",
              "      <td>2006-11-14T23:17:30-0500</td>\n",
              "      <td>KristyMarie87</td>\n",
              "      <td>/members/kristymarie87.65/</td>\n",
              "      <td>5970</td>\n",
              "      <td>2</td>\n",
              "      <td>2006-11-20T11:19:12-0500</td>\n",
              "      <td>OhSnapItsRoxy</td>\n",
              "      <td>/members/ohsnapitsroxy.77/</td>\n",
              "    </tr>\n",
              "  </tbody>\n",
              "</table>\n",
              "<p>20954 rows × 10 columns</p>\n",
              "</div>"
            ],
            "text/plain": [
              "                                              item_title  ...  item_last_replied_by_url_path\n",
              "0      PLEASE READ BEFORE POSTING (both older and new...  ...         /members/tamma89.3542/\n",
              "1              poisonous plants from HF member locations  ...      /members/stevenson.26572/\n",
              "2                         The Care of an Emaciated Horse  ...  /members/horselovinguy.79162/\n",
              "3                                       Making a Vet Kit  ...    /members/amiraachek.280747/\n",
              "4      Information on Myopathies - PSSM1, PSSM2, MFM,...  ...          /members/espy.168162/\n",
              "...                                                  ...  ...                            ...\n",
              "20949        Recovery from Torn Rear Suspensory Ligament  ...           /members/stacyh.186/\n",
              "20950                  how to get horses to gaine weight  ...           /members/brandig.57/\n",
              "20951                                             PAXIL?  ...           /members/kristy.132/\n",
              "20952                                        Loose stool  ...       /members/cedarsgirl.120/\n",
              "20953                                            Quietex  ...     /members/ohsnapitsroxy.77/\n",
              "\n",
              "[20954 rows x 10 columns]"
            ]
          },
          "metadata": {},
          "execution_count": 161
        }
      ]
    },
    {
      "cell_type": "markdown",
      "metadata": {
        "id": "-HS02wtyEIdg"
      },
      "source": [
        "##### Reload previous crawl: horseforum threads"
      ]
    },
    {
      "cell_type": "code",
      "metadata": {
        "colab": {
          "base_uri": "https://localhost:8080/",
          "height": 597
        },
        "id": "88XuAV39ENMl",
        "outputId": "daa9d07f-6588-432e-ddc5-9ac9fb781031"
      },
      "source": [
        "# Reload  horseforum threads\n",
        "df_horseforum_threads = pd.read_csv(os.path.join(filepath_data, filename_horseforum_threads_df))\n",
        "df_horseforum_threads"
      ],
      "execution_count": 37,
      "outputs": [
        {
          "output_type": "execute_result",
          "data": {
            "text/html": [
              "<div>\n",
              "<style scoped>\n",
              "    .dataframe tbody tr th:only-of-type {\n",
              "        vertical-align: middle;\n",
              "    }\n",
              "\n",
              "    .dataframe tbody tr th {\n",
              "        vertical-align: top;\n",
              "    }\n",
              "\n",
              "    .dataframe thead th {\n",
              "        text-align: right;\n",
              "    }\n",
              "</style>\n",
              "<table border=\"1\" class=\"dataframe\">\n",
              "  <thead>\n",
              "    <tr style=\"text-align: right;\">\n",
              "      <th></th>\n",
              "      <th>item_title</th>\n",
              "      <th>item_url_path</th>\n",
              "      <th>item_created_date</th>\n",
              "      <th>item_created_by</th>\n",
              "      <th>item_created_by_url_path</th>\n",
              "      <th>item_view_count</th>\n",
              "      <th>item_reply_count</th>\n",
              "      <th>item_last_replied_date</th>\n",
              "      <th>item_last_replied_by</th>\n",
              "      <th>item_last_replied_by_url_path</th>\n",
              "    </tr>\n",
              "  </thead>\n",
              "  <tbody>\n",
              "    <tr>\n",
              "      <th>0</th>\n",
              "      <td>PLEASE READ BEFORE POSTING (both older and new...</td>\n",
              "      <td>/threads/please-read-before-posting-both-older...</td>\n",
              "      <td>2020-12-27T19:19:33-0500</td>\n",
              "      <td>TaMMa89</td>\n",
              "      <td>/members/tamma89.3542/</td>\n",
              "      <td>1076</td>\n",
              "      <td>0</td>\n",
              "      <td>2020-12-27T19:19:33-0500</td>\n",
              "      <td>TaMMa89</td>\n",
              "      <td>/members/tamma89.3542/</td>\n",
              "    </tr>\n",
              "    <tr>\n",
              "      <th>1</th>\n",
              "      <td>poisonous plants from HF member locations</td>\n",
              "      <td>/threads/poisonous-plants-from-hf-member-locat...</td>\n",
              "      <td>2018-01-01T22:03:05-0500</td>\n",
              "      <td>Smilie</td>\n",
              "      <td>/members/smilie.18361/</td>\n",
              "      <td>2151</td>\n",
              "      <td>5</td>\n",
              "      <td>2020-12-08T16:29:12-0500</td>\n",
              "      <td>stevenson</td>\n",
              "      <td>/members/stevenson.26572/</td>\n",
              "    </tr>\n",
              "    <tr>\n",
              "      <th>2</th>\n",
              "      <td>The Care of an Emaciated Horse</td>\n",
              "      <td>/threads/the-care-of-an-emaciated-horse.100412/</td>\n",
              "      <td>2011-10-14T09:02:04-0400</td>\n",
              "      <td>xxBarry Godden</td>\n",
              "      <td>/members/xxbarry-godden.9451/</td>\n",
              "      <td>48970</td>\n",
              "      <td>54</td>\n",
              "      <td>2020-11-26T10:09:30-0500</td>\n",
              "      <td>horselovinguy</td>\n",
              "      <td>/members/horselovinguy.79162/</td>\n",
              "    </tr>\n",
              "    <tr>\n",
              "      <th>3</th>\n",
              "      <td>Making a Vet Kit</td>\n",
              "      <td>/threads/making-a-vet-kit.251/</td>\n",
              "      <td>2007-01-07T02:14:09-0500</td>\n",
              "      <td>Skippy!</td>\n",
              "      <td>/members/skippy.157/</td>\n",
              "      <td>2091441</td>\n",
              "      <td>277</td>\n",
              "      <td>2019-08-26T04:44:59-0400</td>\n",
              "      <td>AmiraAchek</td>\n",
              "      <td>/members/amiraachek.280747/</td>\n",
              "    </tr>\n",
              "    <tr>\n",
              "      <th>4</th>\n",
              "      <td>Information on Myopathies - PSSM1, PSSM2, MFM,...</td>\n",
              "      <td>/threads/information-on-myopathies-pssm1-pssm2...</td>\n",
              "      <td>2017-08-17T20:06:14-0400</td>\n",
              "      <td>Espy</td>\n",
              "      <td>/members/espy.168162/</td>\n",
              "      <td>17546</td>\n",
              "      <td>5</td>\n",
              "      <td>2018-09-17T16:44:33-0400</td>\n",
              "      <td>Espy</td>\n",
              "      <td>/members/espy.168162/</td>\n",
              "    </tr>\n",
              "    <tr>\n",
              "      <th>...</th>\n",
              "      <td>...</td>\n",
              "      <td>...</td>\n",
              "      <td>...</td>\n",
              "      <td>...</td>\n",
              "      <td>...</td>\n",
              "      <td>...</td>\n",
              "      <td>...</td>\n",
              "      <td>...</td>\n",
              "      <td>...</td>\n",
              "      <td>...</td>\n",
              "    </tr>\n",
              "    <tr>\n",
              "      <th>20949</th>\n",
              "      <td>Recovery from Torn Rear Suspensory Ligament</td>\n",
              "      <td>/threads/recovery-from-torn-rear-suspensory-li...</td>\n",
              "      <td>2006-12-22T05:26:11-0500</td>\n",
              "      <td>trusspt</td>\n",
              "      <td>/members/trusspt.170/</td>\n",
              "      <td>6106</td>\n",
              "      <td>1</td>\n",
              "      <td>2006-12-30T04:51:20-0500</td>\n",
              "      <td>stacyh</td>\n",
              "      <td>/members/stacyh.186/</td>\n",
              "    </tr>\n",
              "    <tr>\n",
              "      <th>20950</th>\n",
              "      <td>how to get horses to gaine weight</td>\n",
              "      <td>/threads/how-to-get-horses-to-gaine-weight.99/</td>\n",
              "      <td>2006-12-05T11:54:51-0500</td>\n",
              "      <td>nybarrelracer</td>\n",
              "      <td>/members/nybarrelracer.121/</td>\n",
              "      <td>4988</td>\n",
              "      <td>14</td>\n",
              "      <td>2006-12-21T07:55:03-0500</td>\n",
              "      <td>brandig</td>\n",
              "      <td>/members/brandig.57/</td>\n",
              "    </tr>\n",
              "    <tr>\n",
              "      <th>20951</th>\n",
              "      <td>PAXIL?</td>\n",
              "      <td>/threads/paxil.102/</td>\n",
              "      <td>2006-12-06T10:09:20-0500</td>\n",
              "      <td>tuffstuff</td>\n",
              "      <td>/members/tuffstuff.123/</td>\n",
              "      <td>3240</td>\n",
              "      <td>3</td>\n",
              "      <td>2006-12-11T20:29:12-0500</td>\n",
              "      <td>kristy</td>\n",
              "      <td>/members/kristy.132/</td>\n",
              "    </tr>\n",
              "    <tr>\n",
              "      <th>20952</th>\n",
              "      <td>Loose stool</td>\n",
              "      <td>/threads/loose-stool.101/</td>\n",
              "      <td>2006-12-05T18:42:31-0500</td>\n",
              "      <td>Cedarsgirl</td>\n",
              "      <td>/members/cedarsgirl.120/</td>\n",
              "      <td>5694</td>\n",
              "      <td>10</td>\n",
              "      <td>2006-12-10T21:52:11-0500</td>\n",
              "      <td>Cedarsgirl</td>\n",
              "      <td>/members/cedarsgirl.120/</td>\n",
              "    </tr>\n",
              "    <tr>\n",
              "      <th>20953</th>\n",
              "      <td>Quietex</td>\n",
              "      <td>/threads/quietex.49/</td>\n",
              "      <td>2006-11-14T23:17:30-0500</td>\n",
              "      <td>KristyMarie87</td>\n",
              "      <td>/members/kristymarie87.65/</td>\n",
              "      <td>5970</td>\n",
              "      <td>2</td>\n",
              "      <td>2006-11-20T11:19:12-0500</td>\n",
              "      <td>OhSnapItsRoxy</td>\n",
              "      <td>/members/ohsnapitsroxy.77/</td>\n",
              "    </tr>\n",
              "  </tbody>\n",
              "</table>\n",
              "<p>20954 rows × 10 columns</p>\n",
              "</div>"
            ],
            "text/plain": [
              "                                              item_title  ...  item_last_replied_by_url_path\n",
              "0      PLEASE READ BEFORE POSTING (both older and new...  ...         /members/tamma89.3542/\n",
              "1              poisonous plants from HF member locations  ...      /members/stevenson.26572/\n",
              "2                         The Care of an Emaciated Horse  ...  /members/horselovinguy.79162/\n",
              "3                                       Making a Vet Kit  ...    /members/amiraachek.280747/\n",
              "4      Information on Myopathies - PSSM1, PSSM2, MFM,...  ...          /members/espy.168162/\n",
              "...                                                  ...  ...                            ...\n",
              "20949        Recovery from Torn Rear Suspensory Ligament  ...           /members/stacyh.186/\n",
              "20950                  how to get horses to gaine weight  ...           /members/brandig.57/\n",
              "20951                                             PAXIL?  ...           /members/kristy.132/\n",
              "20952                                        Loose stool  ...       /members/cedarsgirl.120/\n",
              "20953                                            Quietex  ...     /members/ohsnapitsroxy.77/\n",
              "\n",
              "[20954 rows x 10 columns]"
            ]
          },
          "metadata": {},
          "execution_count": 37
        }
      ]
    },
    {
      "cell_type": "markdown",
      "metadata": {
        "id": "iBD-BR9Iez8s"
      },
      "source": [
        "#### UDF: Thread-page scrape"
      ]
    },
    {
      "cell_type": "markdown",
      "metadata": {
        "id": "fMnrgW67_mtY"
      },
      "source": [
        "The following functions were specific to scraping data from a Thread's page (excluding its posts)."
      ]
    },
    {
      "cell_type": "code",
      "metadata": {
        "id": "anSMXuWge4Kd"
      },
      "source": [
        "def get_horseforum_thread_participant_count(horseforum_soup):\n",
        "    \"\"\"\n",
        "    Parameters:\n",
        "    -----------\n",
        "    bs4.BeautifulSoup : horseforum_soup\n",
        "        A BeautifulSoup object for the web page, being a 'page' of a 'thread'\n",
        "        on the forum.\n",
        "\n",
        "    Returns:\n",
        "    --------\n",
        "    int\n",
        "        the number of users who have posted against the thread, otherwise np.nan.\n",
        "    \"\"\"\n",
        "    soup = horseforum_soup\n",
        "    participant_count = np.nan\n",
        "    try:\n",
        "        participant_count = soup.find(\n",
        "            'div', class_=\"stats-container\"\n",
        "            ).find('span', { 'qid' : 'thread-about-discussion-participant-count' }).get_text()\n",
        "        participant_count = int(participant_count)\n",
        "    except:\n",
        "        pass\n",
        "\n",
        "    return participant_count\n",
        "\n",
        "\n",
        "\n",
        "def scrape_thread_page_details_horseforum(horseforum_soup):\n",
        "    \"\"\"\n",
        "    Iterates a bs4 ResultSet of a horse forum thread (i.e., https://www.horseforum.com/forums/horse-health.17/)\n",
        "    listings to get predefined values.\n",
        "\n",
        "    Parameters:\n",
        "    -----------\n",
        "    bs4.BeautifulSoup : horseforum_soup\n",
        "        A BeautifulSoup object for the web page, being the first 'page'\n",
        "        of posts for a 'thread' on the forum.\n",
        "\n",
        "\n",
        "    Returns:\n",
        "    --------\n",
        "    dict {str, Any}\n",
        "        the predefined details of a thread's page:\n",
        "            + participant_count\n",
        "\n",
        "    \"\"\"\n",
        "    soup = horseforum_soup\n",
        "    participant_count = get_horseforum_thread_participant_count(soup)\n",
        "\n",
        "    # Save result\n",
        "    dict_page = {\n",
        "        'participant_count' : participant_count\n",
        "        }\n",
        "       \n",
        "    return dict_page\n",
        "\n",
        "\n",
        "\n",
        "\n",
        "\n",
        "\n",
        "def get_horseforum_thread_page_next(horseforum_soup):\n",
        "    \"\"\"\n",
        "    Parameters:\n",
        "    -----------\n",
        "    bs4.BeautifulSoup : horseforum_soup\n",
        "        A BeautifulSoup object for the web page, being a 'page' of posts for \n",
        "        a 'thread' on the forum.\n",
        "\n",
        "    Returns:\n",
        "    --------\n",
        "    str\n",
        "        the relative url path for the 'next page' if successful, otherwise an empty string.\n",
        "    \"\"\"\n",
        "    soup = horseforum_soup\n",
        "    url_path = \"\"\n",
        "    try:\n",
        "        url_path = soup.find('a', { 'qid' : 'page-nav-next-button'})['href']\n",
        "    except:\n",
        "        pass\n",
        "\n",
        "    return url_path\n",
        "\n",
        "\n",
        "def get_horseforum_thread_page_last(horseforum_soup):\n",
        "    \"\"\"\n",
        "    Parameters:\n",
        "    -----------\n",
        "    bs4.BeautifulSoup : horseforum_soup\n",
        "        A BeautifulSoup object for the web page, being a 'page' of posts for \n",
        "        a 'thread' on the forum.\n",
        "\n",
        "    Returns:\n",
        "    --------\n",
        "    str\n",
        "        the relative url path for the 'last page' if successful, otherwise an empty string.\n",
        "    \"\"\"\n",
        "    soup = horseforum_soup\n",
        "    url_path = \"\"\n",
        "    try:\n",
        "        url_path = soup.find('a', { 'qid' : \"thread-jump-to-latest\"})['href']\n",
        "    except:\n",
        "        pass\n",
        "\n",
        "    return url_path\n",
        "\n",
        "\n",
        "\n",
        "def get_horseforum_thread_page_posts(horseforum_soup):\n",
        "    \"\"\"\n",
        "    Parameters:\n",
        "    -----------\n",
        "    bs4.BeautifulSoup : horseforum_soup\n",
        "        A BeautifulSoup object for the web page.\n",
        "\n",
        "    Returns:\n",
        "    --------\n",
        "    bs4.element.ResultSet\n",
        "        An iterable collection of posts (for the thread on the current page), \n",
        "        as returned by BeautifulSoup.\n",
        "    \"\"\"\n",
        "    soup = horseforum_soup\n",
        "    post_items = None\n",
        "    try:\n",
        "        post_items = soup.find('div', { 'qid' : 'thread-box-parent'}).find_all('article', { 'qid' : 'post-item'})\n",
        "\n",
        "    except:\n",
        "        pass\n",
        "\n",
        "    return post_items\n",
        "\n",
        "\n",
        "\n",
        "def scrape_thread_post_details_horseforum(page_posts, url_domain):\n",
        "    \"\"\"\n",
        "    Iterates a bs4 ResultSet of a horse forum thread (i.e., https://www.horseforum.com/forums/horse-health.17/)\n",
        "    listings to get predefined values.\n",
        "\n",
        "    Parameters:\n",
        "    -----------\n",
        "    bs4.element.ResultSet : page_posts\n",
        "        An iterable collection of forum listings, as returned by BeautifulSoup\n",
        "\n",
        "\n",
        "    Returns:\n",
        "    --------\n",
        "    list of dict {str, Any}\n",
        "        the predefined details of each forum-post:\n",
        "            + item_title\n",
        "            + item_url_path\n",
        "            + item_created_date\n",
        "            + item_created_by\n",
        "            + item_created_by_url_path\n",
        "            + item_view_count\n",
        "            + item_reply_count\n",
        "            + item_last_replied_date\n",
        "            + item_last_replied_by\n",
        "            + item_last_replied_by_url_path\n",
        "\n",
        "    \"\"\"\n",
        "    listings = page_posts\n",
        "    data_items=[]\n",
        "    if listings is not None:\n",
        "        for item in listings:   \n",
        "            # Get result\n",
        "            dict_item = scrape_horseforum_post(item, url_domain)\n",
        "\n",
        "            data_items.append(dict_item.copy())\n",
        "\n",
        "    return data_items"
      ],
      "execution_count": null,
      "outputs": []
    },
    {
      "cell_type": "markdown",
      "metadata": {
        "id": "Dd7FbfwDTeLP"
      },
      "source": [
        "#### UDF: Thread's Post scrape"
      ]
    },
    {
      "cell_type": "markdown",
      "metadata": {
        "id": "NJ0MDi60_x5Z"
      },
      "source": [
        "The following functions were specific to scraping data from a thread's post"
      ]
    },
    {
      "cell_type": "code",
      "metadata": {
        "id": "ZNfj8hWZS0J_"
      },
      "source": [
        "def get_horseforum_post_id(post):\n",
        "    \"\"\"\n",
        "    Parameters:\n",
        "    -----------\n",
        "    bs4.BeautifulSoup : post\n",
        "        A BeautifulSoup object for the web page, being a 'post' within a \n",
        "        'thread' on the forum.\n",
        "\n",
        "    Returns:\n",
        "    --------\n",
        "    str\n",
        "        The identifier for the post, if successful, otherwise \"\"\n",
        "    \"\"\"\n",
        "    soup = post\n",
        "    post_id = \"\"\n",
        "    try:\n",
        "        post_id = post['data-content']\n",
        "\n",
        "    except:\n",
        "        pass\n",
        "\n",
        "    return post_id\n",
        "\n",
        "\n",
        "def get_horseforum_post_number(post):\n",
        "    \"\"\"\n",
        "    Parameters:\n",
        "    -----------\n",
        "    bs4.BeautifulSoup : post\n",
        "        A BeautifulSoup object for the web page, being a 'post' within a \n",
        "        'thread' on the forum.\n",
        "\n",
        "    Returns:\n",
        "    --------\n",
        "    int\n",
        "        The post number (relative to the thread), if successful, otherwise np.nan\n",
        "    \"\"\"\n",
        "    soup = post\n",
        "    post_number = np.nan\n",
        "    try:\n",
        "        post_number = post.find('a', { 'qid' : \"post-number\"}).get_text()\n",
        "        post_number = int(re.findall(r'\\d+', post_number)[0])\n",
        "    except:\n",
        "        pass\n",
        "\n",
        "    return post_number\n",
        "\n",
        "\n",
        "def get_horseforum_post_url_path(post):\n",
        "    \"\"\"\n",
        "    Parameters:\n",
        "    -----------\n",
        "    bs4.BeautifulSoup : post\n",
        "        A BeautifulSoup object for the web page, being a 'post' within a \n",
        "        'thread' on the forum.\n",
        "\n",
        "    Returns:\n",
        "    --------\n",
        "    str\n",
        "        The url path to the post, if successful, otherwise \"\"\n",
        "    \"\"\"\n",
        "    soup = post\n",
        "    post_url_path = \"\"\n",
        "    try:\n",
        "        post_url_path = post.find('a', { 'qid' : \"post-number\"})['href']\n",
        "    except:\n",
        "        pass\n",
        "\n",
        "    return post_url_path\n",
        "\n",
        "\n",
        "def get_horseforum_post_reactions_url_path(post):\n",
        "    \"\"\"\n",
        "    Parameters:\n",
        "    -----------\n",
        "    bs4.BeautifulSoup : post\n",
        "        A BeautifulSoup object for the web page, being a 'post' within a \n",
        "        'thread' on the forum.\n",
        "\n",
        "    Returns:\n",
        "    --------\n",
        "    str\n",
        "        The url path to the post's reactions, if successful, otherwise \"\"\n",
        "    \"\"\"\n",
        "    soup = post\n",
        "    post_reactions_url_path = \"\"\n",
        "    try:\n",
        "        post_reactions_url_path = post.find('a', class_=\"reactionsBar-link\")['href']\n",
        "        if post_reactions_url_path[-1] != '/':\n",
        "            post_reactions_url_path = post_reactions_url_path + '/'\n",
        "    except:\n",
        "        pass\n",
        "\n",
        "    return post_reactions_url_path\n",
        "\n",
        "\n",
        "\n",
        "def get_horseforum_post_reactions(post, url_domain):\n",
        "    \"\"\"\n",
        "    Parameters:\n",
        "    -----------\n",
        "    bs4.BeautifulSoup : post\n",
        "        A BeautifulSoup object for the web page, being a 'post' within a \n",
        "        'thread' on the forum.\n",
        "    str : url_domain\n",
        "        The base URL domain (including protocol) to be crawled (e.g., https://www.horseforum.com)\n",
        "\n",
        "    Returns:\n",
        "    --------\n",
        "    str\n",
        "        The post's reactions, if successful, otherwise \"\"\n",
        "    \"\"\"\n",
        "    soup = post\n",
        "    post_reactions = \"\"\n",
        "    url_path = get_horseforum_post_reactions_url_path(soup)\n",
        "    if url_path != \"\":\n",
        "        response = requests.get(url_domain + url_path)\n",
        "        if response.status_code == 200:\n",
        "            reactions_soup = BeautifulSoup(response.text, 'html.parser')\n",
        "            try:\n",
        "                post_reactions = reactions_soup.find('span', class_=re.compile(r'reaction-text')).get_text()\n",
        "            except:\n",
        "                pass\n",
        "\n",
        "    return post_reactions\n",
        "\n",
        "\n",
        "def get_horseforum_post_datetime(post):\n",
        "    \"\"\"\n",
        "    Parameters:\n",
        "    -----------\n",
        "    bs4.BeautifulSoup : post\n",
        "        A BeautifulSoup object for the web page, being a 'post' within a \n",
        "        'thread' on the forum.\n",
        "\n",
        "    Returns:\n",
        "    --------\n",
        "    str\n",
        "        The datetime for the post, if successful, otherwise \"\"\n",
        "    \"\"\"\n",
        "    soup = post\n",
        "    post_datetime = \"\"\n",
        "    try:\n",
        "        post_datetime = post.find('div', class_=\"message-attribution-main\").find('time')['datetime']\n",
        "    except:\n",
        "        pass\n",
        "\n",
        "    return post_datetime\n",
        "\n",
        "\n",
        "def get_horseforum_post_username(post):\n",
        "    \"\"\"\n",
        "    Parameters:\n",
        "    -----------\n",
        "    bs4.BeautifulSoup : post\n",
        "        A BeautifulSoup object for the web page, being a 'post' within a \n",
        "        'thread' on the forum.\n",
        "\n",
        "    Returns:\n",
        "    --------\n",
        "    str\n",
        "        The username for the post, if successful, otherwise \"\"\n",
        "    \"\"\"\n",
        "    soup = post\n",
        "    post_username = \"\"\n",
        "    try:\n",
        "        post_username = post.find('div', class_=\"message-userDetails\").find('a', class_=\"username\").get_text()\n",
        "    except:\n",
        "        pass\n",
        "\n",
        "    return post_username\n",
        "\n",
        "\n",
        "\n",
        "\n",
        "def get_horseforum_post_userid(post):\n",
        "    \"\"\"\n",
        "    Parameters:\n",
        "    -----------\n",
        "    bs4.BeautifulSoup : post\n",
        "        A BeautifulSoup object for the web page, being a 'post' within a \n",
        "        'thread' on the forum.\n",
        "\n",
        "    Returns:\n",
        "    --------\n",
        "    str\n",
        "        The userid for the post, if successful, otherwise \"\"\n",
        "    \"\"\"\n",
        "    soup = post\n",
        "    post_username = \"\"\n",
        "    try:\n",
        "        post_username = post.find('div', class_=\"message-userDetails\").find('a', class_=\"username\")['data-user-id']\n",
        "    except:\n",
        "        pass\n",
        "\n",
        "    return post_username\n",
        "\n",
        "\n",
        "\n",
        "\n",
        "def get_horseforum_post_user_url_path(post):\n",
        "    \"\"\"\n",
        "    Parameters:\n",
        "    -----------\n",
        "    bs4.BeautifulSoup : post\n",
        "        A BeautifulSoup object for the web page, being a 'post' within a \n",
        "        'thread' on the forum.\n",
        "\n",
        "    Returns:\n",
        "    --------\n",
        "    str\n",
        "        The url path to the user for the post, if successful, otherwise \"\"\n",
        "    \"\"\"\n",
        "    soup = post\n",
        "    post_user_url_path = \"\"\n",
        "    try:\n",
        "        post_user_url_path = post.find('div', class_=\"message-userDetails\").find('a', class_=\"username\")['href']\n",
        "    except:\n",
        "        pass\n",
        "\n",
        "    return post_user_url_path\n",
        "\n",
        "\n",
        "def get_horseforum_post_text(post):\n",
        "    \"\"\"\n",
        "    Returns the message text of a post.\n",
        "\n",
        "    Note:\n",
        "    ----\n",
        "    Support for emoji within a post's text is done using image tags <img>, not characters.\n",
        "    However, the `get_text()` method of BeautifulSoup ignores image tags and hence the enoji are lost.\n",
        "    Hence the post's text is manually wrangled from the tag object of the post.\n",
        "\n",
        "    Parameters:\n",
        "    -----------\n",
        "    bs4.BeautifulSoup : post\n",
        "        A BeautifulSoup object for the web page.\n",
        "\n",
        "    Returns:\n",
        "    --------\n",
        "    str\n",
        "        The message text for the post, if successful, otherwise \"\"\n",
        "    \"\"\"\n",
        "    soup = post\n",
        "    post_text = \"\"\n",
        "    try:\n",
        "        post_text = post.find('article', { 'qid' : 'post-text'}).find('div')\n",
        "        post_text = str(post_text)\n",
        "        post_text = re.sub(r'^<[^>]+>|<[^>]+>$', '', post_text) # remove the outer div tags \n",
        "        post_text = re.sub(r'<img [^>]+ title=\"([^\"]+)\"[^>]*>', r'\\1', post_text) # Extract image's title attribute\n",
        "        post_text = re.sub(r'<br/>', r'\\n', post_text) # Replace line breaks\n",
        "        post_text = re.sub(r'<[^>]+>', r'', post_text) # Remove all remaining tags\n",
        "\n",
        "    except:\n",
        "        pass\n",
        "\n",
        "    return post_text\n",
        "\n",
        "\n",
        "\n",
        "def scrape_horseforum_post(post, url_domain):\n",
        "    \"\"\"\n",
        "    Parameters:\n",
        "    -----------\n",
        "    bs4.BeautifulSoup : post\n",
        "        A BeautifulSoup object for the web page, being a 'post' within a \n",
        "        'thread' on the forum.\n",
        "    str : url_domain\n",
        "        The base URL domain (including protocol) to be crawled (e.g., https://www.horseforum.com)        \n",
        "\n",
        "    Returns:\n",
        "    --------\n",
        "    list of dict {str, Any}\n",
        "        the predefined details of each thread-post:\n",
        "            + post_id\n",
        "            + post_number\n",
        "            + post_url_path\n",
        "            + post_reactions_url_path\n",
        "            + post_reactions\n",
        "            + post_datetime\n",
        "            + post_username\n",
        "            + post_userid\n",
        "            + post_user_url_path\n",
        "            + post_text\n",
        "\n",
        "    \"\"\"\n",
        "    post_id = get_horseforum_post_id(post)\n",
        "    post_number = get_horseforum_post_number(post)\n",
        "    post_url_path = get_horseforum_post_url_path(post)\n",
        "    post_reactions_url_path = get_horseforum_post_reactions_url_path(post)\n",
        "    post_reactions = get_horseforum_post_reactions(post, url_domain)\n",
        "    post_datetime = get_horseforum_post_datetime(post)\n",
        "    post_username = get_horseforum_post_username(post)\n",
        "    post_userid = get_horseforum_post_userid(post)\n",
        "    post_user_url_path = get_horseforum_post_user_url_path(post)\n",
        "    post_text = get_horseforum_post_text(post)\n",
        "\n",
        "    # Save result\n",
        "    dict_post = {\n",
        "        'post_id' : post_id\n",
        "        ,'post_number' : post_number\n",
        "        ,'post_url_path' : post_url_path\n",
        "        ,'post_reactions_url_path' : post_reactions_url_path\n",
        "        ,'post_reactions' : post_reactions\n",
        "        ,'post_datetime' : post_datetime\n",
        "        ,'post_username' : post_username\n",
        "        ,'post_userid' : post_userid\n",
        "        ,'post_user_url_path' : post_user_url_path\n",
        "        ,'post_text' : post_text\n",
        "        }\n",
        "       \n",
        "    return dict_post"
      ],
      "execution_count": null,
      "outputs": []
    },
    {
      "cell_type": "markdown",
      "metadata": {
        "id": "_JnqurqHa9Ju"
      },
      "source": [
        "#### Test: Crawl single thread"
      ]
    },
    {
      "cell_type": "markdown",
      "metadata": {
        "id": "pCds-bt4_7Gy"
      },
      "source": [
        "The following was for testing."
      ]
    },
    {
      "cell_type": "code",
      "metadata": {
        "id": "ikhH_jKia_or",
        "colab": {
          "base_uri": "https://localhost:8080/"
        },
        "outputId": "d9f45546-7898-4f8a-b981-0fbcff2d760d"
      },
      "source": [
        "# Specify which web page should be crawled\n",
        "url_domain =  \"https://www.horseforum.com\"\n",
        "url_path = \"/threads/the-care-of-an-emaciated-horse.100412/\" # note terminating '/'\n",
        "\n",
        "# Set functions relevant to scraping the web page\n",
        "get_ResultSet = get_horseforum_thread_page_posts\n",
        "get_ResultSet_data = lambda post: scrape_thread_post_details_horseforum(page_posts=post, url_domain=url_domain)\n",
        "get_next_page_url = get_horseforum_thread_page_next\n",
        "get_page_data = scrape_thread_page_details_horseforum\n",
        "\n",
        "# Crawl pages and scrape\n",
        "start_time = time()\n",
        "print('Crawl start UTC: {}'.format(datetime.fromtimestamp(start_time)))\n",
        "data_thread_posts, data_thread_pages = web_crawler(\n",
        "    url_domain =  url_domain\n",
        "    ,url_path = url_path\n",
        "    ,fx_get_ResultSet = get_ResultSet\n",
        "    ,fx_get_ResultSet_data = get_ResultSet_data\n",
        "    ,fx_get_next_page_url = get_next_page_url\n",
        "    ,fx_get_page_data = get_page_data \n",
        "    #,max_pages = 2\n",
        "    ,echo_every_n = 2\n",
        ")\n",
        "end_time = time()\n",
        "print(\"---crawl complete---\")\n",
        "print()\n",
        "print(\"Post count: {}\".format(len(data_thread_posts)))\n",
        "print(\"Crawl time (sec): {0}\".format(end_time - start_time))\n",
        "print('Crawl end UTC: {}'.format(datetime.fromtimestamp(end_time)))"
      ],
      "execution_count": null,
      "outputs": [
        {
          "output_type": "stream",
          "name": "stdout",
          "text": [
            "Crawl start: 2021-11-30 13:07:54.593890\n",
            "Page 2, HTTP response status: 200\n",
            "\t20 items...\n",
            "---crawl complete---\n",
            "\n",
            "Post count: 55\n",
            "Crawl time (sec): 13.726727962493896\n",
            "Crawl start: 2021-11-30 13:08:08.320618\n"
          ]
        }
      ]
    },
    {
      "cell_type": "markdown",
      "metadata": {
        "id": "alvtK2OytlZd"
      },
      "source": [
        "#### Crawl 2: Horse Health posts (chunks)"
      ]
    },
    {
      "cell_type": "markdown",
      "metadata": {
        "id": "5urNbqouATD0"
      },
      "source": [
        "The following WebCrawl was across all thread's returned by \"Crawl 1\", to extract both details of a thread's page as well as its posts.\n",
        "\n",
        "The WebCrawler \"wrapper\" function  was placed within an over-arching control loop that broke the crawl into smaller \"chunks\", in oder to perform the web crawl in batches."
      ]
    },
    {
      "cell_type": "code",
      "metadata": {
        "colab": {
          "base_uri": "https://localhost:8080/"
        },
        "id": "xEp170WtOOQH",
        "outputId": "7431d4e8-1d3a-4b6b-c59b-44547854035e"
      },
      "source": [
        "# Specify which web page should be crawled\n",
        "url_domain =  \"https://www.horseforum.com\"\n",
        "list_url_threads = df_horseforum_threads['item_url_path']\n",
        "print(\"Total thread count to crawl: {}\".format(len(list_url_threads)))\n",
        "\n",
        "# Set functions relevant to scraping the web page\n",
        "get_ResultSet = get_horseforum_thread_page_posts\n",
        "get_ResultSet_data = lambda post: scrape_thread_post_details_horseforum(page_posts=post, url_domain=url_domain)\n",
        "get_next_page_url = get_horseforum_thread_page_next\n",
        "get_page_data = scrape_thread_page_details_horseforum\n",
        "\n",
        "# Batch control: define \"chunks\" to crawl\n",
        "n_chunks = 20\n",
        "start_chunk = 3 # 1-base\n",
        "end_chunk = n_chunks # 1-base\n",
        "echo_every_n = 250\n",
        "wait_chunk_sec = 0\n",
        "\n",
        "#n_chunks = 20000\n",
        "#start_chunk = 25 # 1-base\n",
        "#end_chunk = 28 # 1-base\n",
        "\n",
        "print(\"Avg. chunk size (threads): {}\".format(len(list_url_threads) // 20))\n",
        "\n",
        "# Create a location to save crawler chunks\n",
        "filepath_chunks_save = datetime.now().strftime(\"%Y%m%d-%H%M%S\")\n",
        "filepath_chunks_save = os.path.join(filepath_data, filepath_chunks_save)\n",
        "#filepath_chunks_save = '/content/drive/MyDrive/Colab Notebooks/MA5851/Assessment 3/data/20211201-014114'\n",
        "\n",
        "flag_make_chunk_folder = mk_dir(filepath_chunks_save)\n",
        "if flag_make_chunk_folder:\n",
        "    print(\"Save location created: {}\".format(filepath_chunks_save))\n",
        "    print()\n",
        "else:\n",
        "    print(\"!!!Failed to create save location: {}\".format(filepath_chunks_save))\n",
        "\n",
        "if flag_make_chunk_folder:\n",
        "    start_main = time()\n",
        "    print('~~~~~~~~ Chunks crawl start ~~~~~~~~')\n",
        "    print('Main start UTC: {}'.format(datetime.fromtimestamp(start_main)))\n",
        "    print()\n",
        "\n",
        "    # Set filenames to save locally\n",
        "    filename_horseforum_posts_chunk_df = \"df_horseforum_posts_chunk{value:{fill}{align}{width}}.csv\"\n",
        "    filename_horseforum_pages_chunk_df = \"df_horseforum_pages_chunk{value:{fill}{align}{width}}.csv\"\n",
        "    pad_chunk = len(str(n_chunks)) # used for building chunk's filename\n",
        "\n",
        "    rge = range(df_horseforum_threads.shape[0])\n",
        "    for count_chunk, chunk in enumerate(np.array_split(np.array(rge), n_chunks)):\n",
        "        if count_chunk + 1 > end_chunk:\n",
        "            break\n",
        "        elif count_chunk + 1 >= start_chunk:\n",
        "            print(\"***** Chunk: {} *****\".format(count_chunk + 1))\n",
        "\n",
        "            # Crawl chunk of forum threads\n",
        "            df_forum_thread_posts_chunk, df_forum_thread_pages_chunk = wrapper_web_crawler(\n",
        "                url_domain = url_domain\n",
        "                ,list_url_path = list_url_threads[chunk]\n",
        "                ,fx_get_ResultSet = get_ResultSet\n",
        "                ,fx_get_ResultSet_data = get_ResultSet_data\n",
        "                ,fx_get_next_page_url = get_next_page_url\n",
        "                ,fx_get_page_data = get_page_data\n",
        "                #,max_pages = None\n",
        "                ,echo_every_n = echo_every_n\n",
        "                ,echo_page_crawl_every_n = 0\n",
        "                ,wait_thread_sec = 0\n",
        "                ,wait_page_sec = 0                \n",
        "            )\n",
        "\n",
        "            # Save dataframe locally\n",
        "            df_forum_thread_posts_chunk.to_csv(\n",
        "                os.path.join(filepath_chunks_save\n",
        "                            ,filename_horseforum_posts_chunk_df.format(value=count_chunk + 1, fill=0, align=\">\", width=pad_chunk)\n",
        "                            )\n",
        "                ,index=False)\n",
        "            \n",
        "            df_forum_thread_pages_chunk.to_csv(\n",
        "                os.path.join(filepath_chunks_save\n",
        "                            ,filename_horseforum_pages_chunk_df.format(value=count_chunk + 1, fill=0, align=\">\", width=pad_chunk)\n",
        "                            )\n",
        "                ,index=False)\n",
        "\n",
        "            print(\"*************************\")\n",
        "            print()\n",
        "\n",
        "            sleep(wait_chunk_sec)\n",
        "        else:\n",
        "            # skip this chunk\n",
        "            pass\n",
        "\n",
        "\n",
        "    end_main = time()\n",
        "    print(\"~~~~~~~~ Chunks crawl complete ~~~~~~~~ \")\n",
        "    print()\n",
        "    print(\"Duration time (sec): {0}\".format(end_main - start_main))\n",
        "    print('Main end UTC: {}'.format(datetime.fromtimestamp(end_main)))"
      ],
      "execution_count": null,
      "outputs": [
        {
          "output_type": "stream",
          "name": "stdout",
          "text": [
            "Total thread count to crawl: 20954\n",
            "Avg. chunk size (threads): 1047\n",
            "Save location created: /content/drive/MyDrive/Colab Notebooks/MA5851/Assessment 3/data/20211201-014114\n",
            "\n",
            "~~~~~~~~ Chunks crawl start ~~~~~~~~\n",
            "Main start UTC: 2021-12-01 03:27:02.058748\n",
            "\n",
            "***** Chunk: 3 *****\n",
            "Crawl start UTC: 2021-12-01 03:27:02.064146\n",
            "item 1 of 1048:\n",
            "\t/threads/misdiagnosis-best-news-ever.787217/\n",
            "item 251 of 1048:\n",
            "\t/threads/orphan-weanling-care-5-6mo.727361/\n",
            "item 501 of 1048:\n",
            "\t/threads/does-soaking-grain-reduce-fiber-content.747689/\n",
            "item 751 of 1048:\n",
            "\t/threads/hemp-seed-oil.725809/\n",
            "item 1001 of 1048:\n",
            "\t/threads/vet-farrier-dentist-oh-my.704305/\n",
            "---crawl complete---\n",
            "\n",
            "Posts scraped: 13219\n",
            "Crawl time (sec): 2176.2238006591797\n",
            "Crawl end UTC: 2021-12-01 04:03:18.287946\n",
            "*************************\n",
            "\n",
            "***** Chunk: 4 *****\n",
            "Crawl start UTC: 2021-12-01 04:03:18.712484\n",
            "item 1 of 1048:\n",
            "\t/threads/can-anyone-age-this-horse.700625/\n",
            "item 251 of 1048:\n",
            "\t/threads/purdue-equine-workshop.641802/\n",
            "item 501 of 1048:\n",
            "\t/threads/cellulitis-can-i-canter.640314/\n",
            "item 751 of 1048:\n",
            "\t/threads/hair-regrowth.618185/\n",
            "item 1001 of 1048:\n",
            "\t/threads/where-to-turn-next-with-horses-navicular.583386/\n",
            "---crawl complete---\n",
            "\n",
            "Posts scraped: 11813\n",
            "Crawl time (sec): 1777.7950184345245\n",
            "Crawl end UTC: 2021-12-01 04:32:56.507502\n",
            "*************************\n",
            "\n",
            "***** Chunk: 5 *****\n",
            "Crawl start UTC: 2021-12-01 04:32:56.865320\n",
            "item 1 of 1048:\n",
            "\t/threads/new-1-year-old-donkey-has-many-health-issues.589994/\n",
            "item 251 of 1048:\n",
            "\t/threads/stifle-injury-and-beet-pulp.570482/\n",
            "item 501 of 1048:\n",
            "\t/threads/need-help-with-horse-again.546930/\n",
            "item 751 of 1048:\n",
            "\t/threads/supplement-help-please.524177/\n",
            "item 1001 of 1048:\n",
            "\t/threads/old-proud-flesh.500642/\n",
            "---crawl complete---\n",
            "\n",
            "Posts scraped: 12383\n",
            "Crawl time (sec): 1590.5361156463623\n",
            "Crawl end UTC: 2021-12-01 04:59:27.401436\n",
            "*************************\n",
            "\n",
            "***** Chunk: 6 *****\n",
            "Crawl start UTC: 2021-12-01 04:59:27.726544\n",
            "item 1 of 1048:\n",
            "\t/threads/injured-horse-on-stall-rest-how-long-before-you-would-turn-out.495257/\n",
            "item 251 of 1048:\n",
            "\t/threads/hoof-supplements-that-work.473010/\n",
            "item 501 of 1048:\n",
            "\t/threads/what-is-wrong-with-my-gelding.450538/\n",
            "item 751 of 1048:\n",
            "\t/threads/anything-to-help-healing.422650/\n",
            "item 1001 of 1048:\n",
            "\t/threads/anyone-heard-this-about-cribbing.406498/\n",
            "---crawl complete---\n",
            "\n",
            "Posts scraped: 11117\n",
            "Crawl time (sec): 1423.8838679790497\n",
            "Crawl end UTC: 2021-12-01 05:23:11.610412\n",
            "*************************\n",
            "\n",
            "***** Chunk: 7 *****\n",
            "Crawl start UTC: 2021-12-01 05:23:11.927289\n",
            "item 1 of 1048:\n",
            "\t/threads/seedy-toe.401642/\n",
            "item 251 of 1048:\n",
            "\t/threads/cough.374593/\n",
            "item 501 of 1048:\n",
            "\t/threads/sores-all-over-body-caused-by-hay.346425/\n",
            "item 751 of 1048:\n",
            "\t/threads/so-super-weird-question.321874/\n",
            "item 1001 of 1048:\n",
            "\t/threads/hock-injury.300969/\n",
            "---crawl complete---\n",
            "\n",
            "Posts scraped: 10580\n",
            "Crawl time (sec): 1170.0760316848755\n",
            "Crawl end UTC: 2021-12-01 05:42:42.003321\n",
            "*************************\n",
            "\n",
            "***** Chunk: 8 *****\n",
            "Crawl start UTC: 2021-12-01 05:42:42.340841\n",
            "item 1 of 1048:\n",
            "\t/threads/how-do-you-suppose-my-6-year-old-has-osteoarthritis-advice-for-dealing-with-this.292961/\n",
            "item 251 of 1048:\n",
            "\t/threads/too-skinny-just-right-ribby-tb-weight-need-some-opnions-and-advice.272713/\n",
            "item 501 of 1048:\n",
            "\t/threads/what-should-i-feed-a-weanling.247857/\n",
            "item 751 of 1048:\n",
            "\t/threads/its-official.225698/\n",
            "item 1001 of 1048:\n",
            "\t/threads/major-weight-problem.24244/\n",
            "---crawl complete---\n",
            "\n",
            "Posts scraped: 11588\n",
            "Crawl time (sec): 1177.3513197898865\n",
            "Crawl end UTC: 2021-12-01 06:02:19.692161\n",
            "*************************\n",
            "\n",
            "***** Chunk: 9 *****\n",
            "Crawl start UTC: 2021-12-01 06:02:19.992975\n",
            "item 1 of 1048:\n",
            "\t/threads/hear-something-when-she-breathes.194922/\n",
            "item 251 of 1048:\n",
            "\t/threads/age-determination-with-teeth.167481/\n",
            "item 501 of 1048:\n",
            "\t/threads/hind-end-off.153867/\n",
            "item 751 of 1048:\n",
            "\t/threads/hair-loss-help.151783/\n",
            "item 1001 of 1048:\n",
            "\t/threads/joint-care-for-my-barrel-every-riding-horse.148182/\n",
            "---crawl complete---\n",
            "\n",
            "Posts scraped: 12984\n",
            "Crawl time (sec): 1232.4967503547668\n",
            "Crawl end UTC: 2021-12-01 06:22:52.489725\n",
            "*************************\n",
            "\n",
            "***** Chunk: 10 *****\n",
            "Crawl start UTC: 2021-12-01 06:22:52.817101\n",
            "item 1 of 1048:\n",
            "\t/threads/rolling-in-the-mud.147256/\n",
            "item 251 of 1048:\n",
            "\t/threads/keeping-horse-with-full-winter-coat-cool-during-riding.143793/\n",
            "item 501 of 1048:\n",
            "\t/threads/oral-medications-urhg.140892/\n",
            "item 751 of 1048:\n",
            "\t/threads/bright-yellos-discharge-in-nose-wth.137655/\n",
            "item 1001 of 1048:\n",
            "\t/threads/warning.134960/\n",
            "---crawl complete---\n",
            "\n",
            "Posts scraped: 12277\n",
            "Crawl time (sec): 1067.9159452915192\n",
            "Crawl end UTC: 2021-12-01 06:40:40.733047\n",
            "*************************\n",
            "\n",
            "***** Chunk: 11 *****\n",
            "Crawl start UTC: 2021-12-01 06:40:41.100440\n",
            "item 1 of 1048:\n",
            "\t/threads/week-after-horse-trailer-rollover-check-up.134228/\n",
            "item 251 of 1048:\n",
            "\t/threads/my-horse-with-epm.131033/\n",
            "item 501 of 1048:\n",
            "\t/threads/speedy-graham-info-please.127803/\n",
            "item 751 of 1048:\n",
            "\t/threads/my-new-horse-has-a-bad-cut-on-her-front-hoof.124459/\n",
            "item 1001 of 1048:\n",
            "\t/threads/anyone-ever-buy-ulcer-meds-from-here.116692/\n",
            "---crawl complete---\n",
            "\n",
            "Posts scraped: 11548\n",
            "Crawl time (sec): 910.3778638839722\n",
            "Crawl end UTC: 2021-12-01 06:55:51.478304\n",
            "*************************\n",
            "\n",
            "***** Chunk: 12 *****\n",
            "Crawl start UTC: 2021-12-01 06:55:51.764596\n",
            "item 1 of 1048:\n",
            "\t/threads/sore-on-my-horses-withers.119911/\n",
            "item 251 of 1048:\n",
            "\t/threads/vaccination-season-and-vee.117090/\n",
            "item 501 of 1048:\n",
            "\t/threads/gelding-joints-cracking.113664/\n",
            "item 751 of 1048:\n",
            "\t/threads/my-horse-has-a-cold.109657/\n",
            "item 1001 of 1048:\n",
            "\t/threads/hoof-boots.104720/\n",
            "---crawl complete---\n",
            "\n",
            "Posts scraped: 12093\n",
            "Crawl time (sec): 893.2649867534637\n",
            "Crawl end UTC: 2021-12-01 07:10:45.029583\n",
            "*************************\n",
            "\n",
            "***** Chunk: 13 *****\n",
            "Crawl start UTC: 2021-12-01 07:10:45.359468\n",
            "item 1 of 1048:\n",
            "\t/threads/do-you-know-of-anyone-who-uses-one-of-these.105605/\n",
            "item 251 of 1048:\n",
            "\t/threads/how-is-he-lame.102673/\n",
            "item 501 of 1048:\n",
            "\t/threads/what-is-on-my-horses-eye-help.99441/\n",
            "item 751 of 1048:\n",
            "\t/threads/help-what-is-this-on-my-horses-legs.96818/\n",
            "item 1001 of 1048:\n",
            "\t/threads/tetanus-vaccines.93323/\n",
            "---crawl complete---\n",
            "\n",
            "Posts scraped: 11306\n",
            "Crawl time (sec): 691.58971118927\n",
            "Crawl end UTC: 2021-12-01 07:22:16.949179\n",
            "*************************\n",
            "\n",
            "***** Chunk: 14 *****\n",
            "Crawl start UTC: 2021-12-01 07:22:17.242468\n",
            "item 1 of 1048:\n",
            "\t/threads/got-my-horse-on-tuesday-rode-for-2nd-time-today.92977/\n",
            "item 251 of 1048:\n",
            "\t/threads/thrush.90050/\n",
            "item 501 of 1048:\n",
            "\t/threads/is-it-safe-to-ride-him.87555/\n",
            "item 751 of 1048:\n",
            "\t/threads/past-prime-horses-that-just-never-slow-down-post-your-stories.84601/\n",
            "item 1001 of 1048:\n",
            "\t/threads/fattening-up-an-older-ottb.81584/\n",
            "---crawl complete---\n",
            "\n",
            "Posts scraped: 10265\n",
            "Crawl time (sec): 462.3724834918976\n",
            "Crawl end UTC: 2021-12-01 07:29:59.614952\n",
            "*************************\n",
            "\n",
            "***** Chunk: 15 *****\n",
            "Crawl start UTC: 2021-12-01 07:29:59.879067\n",
            "item 1 of 1047:\n",
            "\t/threads/how-to-moving-horses-from-pasture-living-to-dry-lot.81087/\n",
            "item 251 of 1047:\n",
            "\t/threads/when-you-need-to-call-the-vet.77834/\n",
            "item 501 of 1047:\n",
            "\t/threads/new-to-the-forum-need-advice-on-adding-weight-to-an-old-horse.71621/\n",
            "item 751 of 1047:\n",
            "\t/threads/rugging-dilemma.70829/\n",
            "item 1001 of 1047:\n",
            "\t/threads/sunflower-seeds.62861/\n",
            "---crawl complete---\n",
            "\n",
            "Posts scraped: 11212\n",
            "Crawl time (sec): 478.9925262928009\n",
            "Crawl end UTC: 2021-12-01 07:37:58.871593\n",
            "*************************\n",
            "\n",
            "***** Chunk: 16 *****\n",
            "Crawl start UTC: 2021-12-01 07:37:59.177703\n",
            "item 1 of 1047:\n",
            "\t/threads/salt-lick-vs-loose-minerals.65933/\n",
            "item 251 of 1047:\n",
            "\t/threads/avoiding-founder-on-pasture.63060/\n",
            "item 501 of 1047:\n",
            "\t/threads/curious-about-feet-trimming.60260/\n",
            "item 751 of 1047:\n",
            "\t/threads/how-much-turnout-does-your-horse-get.57319/\n",
            "item 1001 of 1047:\n",
            "\t/threads/sheath-cleaning.54541/\n",
            "---crawl complete---\n",
            "\n",
            "Posts scraped: 11707\n",
            "Crawl time (sec): 505.7029230594635\n",
            "Crawl end UTC: 2021-12-01 07:46:24.880626\n",
            "*************************\n",
            "\n",
            "***** Chunk: 17 *****\n",
            "Crawl start UTC: 2021-12-01 07:46:25.225095\n",
            "item 1 of 1047:\n",
            "\t/threads/bump-on-leg.53713/\n",
            "item 251 of 1047:\n",
            "\t/threads/barn-sugestions.50389/\n",
            "item 501 of 1047:\n",
            "\t/threads/whats-worse-for-a-horse-opinionss.47028/\n",
            "item 751 of 1047:\n",
            "\t/threads/diet-critique-questions-suggestions.43198/\n",
            "item 1001 of 1047:\n",
            "\t/threads/abcess-blowout-question.40346/\n",
            "---crawl complete---\n",
            "\n",
            "Posts scraped: 12338\n",
            "Crawl time (sec): 515.6412038803101\n",
            "Crawl end UTC: 2021-12-01 07:55:00.866299\n",
            "*************************\n",
            "\n",
            "***** Chunk: 18 *****\n",
            "Crawl start UTC: 2021-12-01 07:55:01.208462\n",
            "item 1 of 1047:\n",
            "\t/threads/worming.39679/\n",
            "item 251 of 1047:\n",
            "\t/threads/advice-on-diet-help.36809/\n",
            "item 501 of 1047:\n",
            "\t/threads/foot-sore.33967/\n",
            "item 751 of 1047:\n",
            "\t/threads/aggressive-new-horse.30622/\n",
            "item 1001 of 1047:\n",
            "\t/threads/boas-and-coronary-rubs.27725/\n",
            "---crawl complete---\n",
            "\n",
            "Posts scraped: 10721\n",
            "Crawl time (sec): 482.01001954078674\n",
            "Crawl end UTC: 2021-12-01 08:03:03.218481\n",
            "*************************\n",
            "\n",
            "***** Chunk: 19 *****\n",
            "Crawl start UTC: 2021-12-01 08:03:03.506891\n",
            "item 1 of 1047:\n",
            "\t/threads/how-do-i-get-rid-of-a-capped-hock.27354/\n",
            "item 251 of 1047:\n",
            "\t/threads/stringhalt-epm.6199/\n",
            "item 501 of 1047:\n",
            "\t/threads/what-to-feed.20581/\n",
            "item 751 of 1047:\n",
            "\t/threads/is-abscess-often-mistaken-for-laminitis.17181/\n",
            "item 1001 of 1047:\n",
            "\t/threads/am-i-feeding-him-right.13536/\n",
            "---crawl complete---\n",
            "\n",
            "Posts scraped: 10897\n",
            "Crawl time (sec): 463.65389919281006\n",
            "Crawl end UTC: 2021-12-01 08:10:47.160790\n",
            "*************************\n",
            "\n",
            "***** Chunk: 20 *****\n",
            "Crawl start UTC: 2021-12-01 08:10:47.412803\n",
            "item 1 of 1047:\n",
            "\t/threads/horse-with-stiff-neck.13036/\n",
            "item 251 of 1047:\n",
            "\t/threads/i-need-some-information-on-teeth.9372/\n",
            "item 501 of 1047:\n",
            "\t/threads/need-help-deciphering-mysterious-tattoo.6711/\n",
            "item 751 of 1047:\n",
            "\t/threads/sweet-itch-what-is-it.3586/\n",
            "item 1001 of 1047:\n",
            "\t/threads/i-need-help-with-my-horse-he-has.859/\n",
            "---crawl complete---\n",
            "\n",
            "Posts scraped: 8870\n",
            "Crawl time (sec): 428.60627126693726\n",
            "Crawl end UTC: 2021-12-01 08:17:56.019074\n",
            "*************************\n",
            "\n",
            "~~~~~~~~ Chunks crawl complete ~~~~~~~~ \n",
            "\n",
            "Duration time (sec): 17454.211379289627\n",
            "Main end UTC: 2021-12-01 08:17:56.270128\n"
          ]
        }
      ]
    },
    {
      "cell_type": "code",
      "metadata": {
        "colab": {
          "base_uri": "https://localhost:8080/",
          "height": 597
        },
        "id": "seOjWM2aP9Ma",
        "outputId": "ac079a4a-a642-4662-d700-d982c851c2f8"
      },
      "source": [
        "# Combine hosreforum post chunks\n",
        "chunk_files = glob.glob(\n",
        "    os.path.join(filepath_chunks_save\n",
        "                 ,filename_horseforum_posts_chunk_df.format(value=\"*\", fill=\"\", align=\">\", width=1))\n",
        "    )\n",
        "\n",
        "ldf = [] # list of dataframes\n",
        "for filename in chunk_files:\n",
        "    df = pd.read_csv(filename, index_col=None, header=0)\n",
        "    ldf.append(df)\n",
        "df_horseforum_thread_posts = pd.concat(ldf, axis=0, ignore_index=True)\n",
        "\n",
        "# save combine dateframe locally\n",
        "df_horseforum_thread_posts.to_csv(os.path.join(filepath_data, filename_horseforum_thread_posts_df), index=False)\n",
        "\n",
        "# display\n",
        "df_horseforum_thread_posts"
      ],
      "execution_count": null,
      "outputs": [
        {
          "output_type": "execute_result",
          "data": {
            "text/html": [
              "<div>\n",
              "<style scoped>\n",
              "    .dataframe tbody tr th:only-of-type {\n",
              "        vertical-align: middle;\n",
              "    }\n",
              "\n",
              "    .dataframe tbody tr th {\n",
              "        vertical-align: top;\n",
              "    }\n",
              "\n",
              "    .dataframe thead th {\n",
              "        text-align: right;\n",
              "    }\n",
              "</style>\n",
              "<table border=\"1\" class=\"dataframe\">\n",
              "  <thead>\n",
              "    <tr style=\"text-align: right;\">\n",
              "      <th></th>\n",
              "      <th>thread_url_path</th>\n",
              "      <th>post_id</th>\n",
              "      <th>post_number</th>\n",
              "      <th>post_url_path</th>\n",
              "      <th>post_reactions_url_path</th>\n",
              "      <th>post_reactions</th>\n",
              "      <th>post_datetime</th>\n",
              "      <th>post_username</th>\n",
              "      <th>post_userid</th>\n",
              "      <th>post_user_url_path</th>\n",
              "      <th>post_text</th>\n",
              "    </tr>\n",
              "  </thead>\n",
              "  <tbody>\n",
              "    <tr>\n",
              "      <th>0</th>\n",
              "      <td>/threads/please-read-before-posting-both-older...</td>\n",
              "      <td>post-1970931865</td>\n",
              "      <td>1.0</td>\n",
              "      <td>/threads/please-read-before-posting-both-older...</td>\n",
              "      <td>NaN</td>\n",
              "      <td>NaN</td>\n",
              "      <td>2020-12-27T19:19:33-0500</td>\n",
              "      <td>TaMMa89</td>\n",
              "      <td>3542.0</td>\n",
              "      <td>/members/tamma89.3542/</td>\n",
              "      <td>New Horseforum.com format was launched in Nove...</td>\n",
              "    </tr>\n",
              "    <tr>\n",
              "      <th>1</th>\n",
              "      <td>/threads/poisonous-plants-from-hf-member-locat...</td>\n",
              "      <td>post-1970473609</td>\n",
              "      <td>1.0</td>\n",
              "      <td>/threads/poisonous-plants-from-hf-member-locat...</td>\n",
              "      <td>/posts/1970473609/reactions/</td>\n",
              "      <td>Like (2)</td>\n",
              "      <td>2018-01-01T22:03:05-0500</td>\n",
              "      <td>Smilie</td>\n",
              "      <td>18361.0</td>\n",
              "      <td>/members/smilie.18361/</td>\n",
              "      <td>MOD NOTE (Jaydee)\\n\\nPlease could we keep this...</td>\n",
              "    </tr>\n",
              "    <tr>\n",
              "      <th>2</th>\n",
              "      <td>/threads/poisonous-plants-from-hf-member-locat...</td>\n",
              "      <td>post-1970473615</td>\n",
              "      <td>2.0</td>\n",
              "      <td>/threads/poisonous-plants-from-hf-member-locat...</td>\n",
              "      <td>NaN</td>\n",
              "      <td>NaN</td>\n",
              "      <td>2018-01-01T22:22:01-0500</td>\n",
              "      <td>k9kenai</td>\n",
              "      <td>257833.0</td>\n",
              "      <td>/members/k9kenai.257833/</td>\n",
              "      <td>The most common around New Mexico is Braken Fe...</td>\n",
              "    </tr>\n",
              "    <tr>\n",
              "      <th>3</th>\n",
              "      <td>/threads/poisonous-plants-from-hf-member-locat...</td>\n",
              "      <td>post-1970473753</td>\n",
              "      <td>3.0</td>\n",
              "      <td>/threads/poisonous-plants-from-hf-member-locat...</td>\n",
              "      <td>NaN</td>\n",
              "      <td>NaN</td>\n",
              "      <td>2018-01-02T09:04:30-0500</td>\n",
              "      <td>QtrBel</td>\n",
              "      <td>33711.0</td>\n",
              "      <td>/members/qtrbel.33711/</td>\n",
              "      <td>http://www.aces.edu/pubs/docs/A/ANR-0975/ANR-0...</td>\n",
              "    </tr>\n",
              "    <tr>\n",
              "      <th>4</th>\n",
              "      <td>/threads/poisonous-plants-from-hf-member-locat...</td>\n",
              "      <td>post-1970473821</td>\n",
              "      <td>4.0</td>\n",
              "      <td>/threads/poisonous-plants-from-hf-member-locat...</td>\n",
              "      <td>NaN</td>\n",
              "      <td>NaN</td>\n",
              "      <td>2018-01-02T09:50:56-0500</td>\n",
              "      <td>egrogan</td>\n",
              "      <td>24027.0</td>\n",
              "      <td>/members/egrogan.24027/</td>\n",
              "      <td>The red maple is one we have to worry about a ...</td>\n",
              "    </tr>\n",
              "    <tr>\n",
              "      <th>...</th>\n",
              "      <td>...</td>\n",
              "      <td>...</td>\n",
              "      <td>...</td>\n",
              "      <td>...</td>\n",
              "      <td>...</td>\n",
              "      <td>...</td>\n",
              "      <td>...</td>\n",
              "      <td>...</td>\n",
              "      <td>...</td>\n",
              "      <td>...</td>\n",
              "      <td>...</td>\n",
              "    </tr>\n",
              "    <tr>\n",
              "      <th>232758</th>\n",
              "      <td>/threads/loose-stool.101/</td>\n",
              "      <td>post-469</td>\n",
              "      <td>10.0</td>\n",
              "      <td>/threads/loose-stool.101/post-469</td>\n",
              "      <td>NaN</td>\n",
              "      <td>NaN</td>\n",
              "      <td>2006-12-10T09:50:22-0500</td>\n",
              "      <td>child in time</td>\n",
              "      <td>118.0</td>\n",
              "      <td>/members/child-in-time.118/</td>\n",
              "      <td>Did you have called a vet?</td>\n",
              "    </tr>\n",
              "    <tr>\n",
              "      <th>232759</th>\n",
              "      <td>/threads/loose-stool.101/</td>\n",
              "      <td>post-479</td>\n",
              "      <td>11.0</td>\n",
              "      <td>/threads/loose-stool.101/post-479</td>\n",
              "      <td>NaN</td>\n",
              "      <td>NaN</td>\n",
              "      <td>2006-12-10T21:52:11-0500</td>\n",
              "      <td>Cedarsgirl</td>\n",
              "      <td>120.0</td>\n",
              "      <td>/members/cedarsgirl.120/</td>\n",
              "      <td>Yup, vets aware of her condition. First he tho...</td>\n",
              "    </tr>\n",
              "    <tr>\n",
              "      <th>232760</th>\n",
              "      <td>/threads/quietex.49/</td>\n",
              "      <td>post-170</td>\n",
              "      <td>1.0</td>\n",
              "      <td>/threads/quietex.49/post-170</td>\n",
              "      <td>NaN</td>\n",
              "      <td>NaN</td>\n",
              "      <td>2006-11-14T23:17:30-0500</td>\n",
              "      <td>KristyMarie87</td>\n",
              "      <td>65.0</td>\n",
              "      <td>/members/kristymarie87.65/</td>\n",
              "      <td>I have a 4 year old Paint Gelding who is very ...</td>\n",
              "    </tr>\n",
              "    <tr>\n",
              "      <th>232761</th>\n",
              "      <td>/threads/quietex.49/</td>\n",
              "      <td>post-172</td>\n",
              "      <td>2.0</td>\n",
              "      <td>/threads/quietex.49/post-172</td>\n",
              "      <td>NaN</td>\n",
              "      <td>NaN</td>\n",
              "      <td>2006-11-15T23:06:17-0500</td>\n",
              "      <td>sweetwaterarabians</td>\n",
              "      <td>67.0</td>\n",
              "      <td>/members/sweetwaterarabians.67/</td>\n",
              "      <td>Hi\\n\\n\\n\\nSorry your boy is so fussy with the ...</td>\n",
              "    </tr>\n",
              "    <tr>\n",
              "      <th>232762</th>\n",
              "      <td>/threads/quietex.49/</td>\n",
              "      <td>post-197</td>\n",
              "      <td>3.0</td>\n",
              "      <td>/threads/quietex.49/post-197</td>\n",
              "      <td>NaN</td>\n",
              "      <td>NaN</td>\n",
              "      <td>2006-11-20T11:19:12-0500</td>\n",
              "      <td>OhSnapItsRoxy</td>\n",
              "      <td>77.0</td>\n",
              "      <td>/members/ohsnapitsroxy.77/</td>\n",
              "      <td>Been there!\\n\\n\\n\\nWhile Quietex may help calm...</td>\n",
              "    </tr>\n",
              "  </tbody>\n",
              "</table>\n",
              "<p>232763 rows × 11 columns</p>\n",
              "</div>"
            ],
            "text/plain": [
              "                                          thread_url_path  ...                                          post_text\n",
              "0       /threads/please-read-before-posting-both-older...  ...  New Horseforum.com format was launched in Nove...\n",
              "1       /threads/poisonous-plants-from-hf-member-locat...  ...  MOD NOTE (Jaydee)\\n\\nPlease could we keep this...\n",
              "2       /threads/poisonous-plants-from-hf-member-locat...  ...  The most common around New Mexico is Braken Fe...\n",
              "3       /threads/poisonous-plants-from-hf-member-locat...  ...  http://www.aces.edu/pubs/docs/A/ANR-0975/ANR-0...\n",
              "4       /threads/poisonous-plants-from-hf-member-locat...  ...  The red maple is one we have to worry about a ...\n",
              "...                                                   ...  ...                                                ...\n",
              "232758                          /threads/loose-stool.101/  ...                         Did you have called a vet?\n",
              "232759                          /threads/loose-stool.101/  ...  Yup, vets aware of her condition. First he tho...\n",
              "232760                               /threads/quietex.49/  ...  I have a 4 year old Paint Gelding who is very ...\n",
              "232761                               /threads/quietex.49/  ...  Hi\\n\\n\\n\\nSorry your boy is so fussy with the ...\n",
              "232762                               /threads/quietex.49/  ...  Been there!\\n\\n\\n\\nWhile Quietex may help calm...\n",
              "\n",
              "[232763 rows x 11 columns]"
            ]
          },
          "metadata": {},
          "execution_count": 144
        }
      ]
    },
    {
      "cell_type": "code",
      "metadata": {
        "colab": {
          "base_uri": "https://localhost:8080/",
          "height": 423
        },
        "id": "Rj7ceujQGSxB",
        "outputId": "ddeebb5a-5779-41e7-95b1-47aece259dfc"
      },
      "source": [
        "# Combine hosreforum page chunks\n",
        "chunk_files = glob.glob(\n",
        "    os.path.join(filepath_chunks_save\n",
        "                 ,filename_horseforum_pages_chunk_df.format(value=\"*\", fill=\"\", align=\">\", width=1))\n",
        "    )\n",
        "\n",
        "ldf = [] # list of dataframes\n",
        "for filename in chunk_files:\n",
        "    df = pd.read_csv(filename, index_col=None, header=0)\n",
        "    ldf.append(df)\n",
        "df_horseforum_thread_pages = pd.concat(ldf, axis=0, ignore_index=True)\n",
        "\n",
        "# save combine dateframe locally\n",
        "df_horseforum_thread_pages.to_csv(os.path.join(filepath_data, filename_horseforum_thread_pages_df), index=False)\n",
        "\n",
        "# display\n",
        "df_horseforum_thread_pages"
      ],
      "execution_count": null,
      "outputs": [
        {
          "output_type": "execute_result",
          "data": {
            "text/html": [
              "<div>\n",
              "<style scoped>\n",
              "    .dataframe tbody tr th:only-of-type {\n",
              "        vertical-align: middle;\n",
              "    }\n",
              "\n",
              "    .dataframe tbody tr th {\n",
              "        vertical-align: top;\n",
              "    }\n",
              "\n",
              "    .dataframe thead th {\n",
              "        text-align: right;\n",
              "    }\n",
              "</style>\n",
              "<table border=\"1\" class=\"dataframe\">\n",
              "  <thead>\n",
              "    <tr style=\"text-align: right;\">\n",
              "      <th></th>\n",
              "      <th>thread_url_path</th>\n",
              "      <th>participant_count</th>\n",
              "      <th>page_url_path</th>\n",
              "    </tr>\n",
              "  </thead>\n",
              "  <tbody>\n",
              "    <tr>\n",
              "      <th>0</th>\n",
              "      <td>/threads/please-read-before-posting-both-older...</td>\n",
              "      <td>1.0</td>\n",
              "      <td>/threads/please-read-before-posting-both-older...</td>\n",
              "    </tr>\n",
              "    <tr>\n",
              "      <th>1</th>\n",
              "      <td>/threads/poisonous-plants-from-hf-member-locat...</td>\n",
              "      <td>5.0</td>\n",
              "      <td>/threads/poisonous-plants-from-hf-member-locat...</td>\n",
              "    </tr>\n",
              "    <tr>\n",
              "      <th>2</th>\n",
              "      <td>/threads/the-care-of-an-emaciated-horse.100412/</td>\n",
              "      <td>31.0</td>\n",
              "      <td>/threads/the-care-of-an-emaciated-horse.100412/</td>\n",
              "    </tr>\n",
              "    <tr>\n",
              "      <th>3</th>\n",
              "      <td>/threads/the-care-of-an-emaciated-horse.100412/</td>\n",
              "      <td>31.0</td>\n",
              "      <td>/threads/the-care-of-an-emaciated-horse.100412...</td>\n",
              "    </tr>\n",
              "    <tr>\n",
              "      <th>4</th>\n",
              "      <td>/threads/the-care-of-an-emaciated-horse.100412/</td>\n",
              "      <td>31.0</td>\n",
              "      <td>/threads/the-care-of-an-emaciated-horse.100412...</td>\n",
              "    </tr>\n",
              "    <tr>\n",
              "      <th>...</th>\n",
              "      <td>...</td>\n",
              "      <td>...</td>\n",
              "      <td>...</td>\n",
              "    </tr>\n",
              "    <tr>\n",
              "      <th>24622</th>\n",
              "      <td>/threads/recovery-from-torn-rear-suspensory-li...</td>\n",
              "      <td>2.0</td>\n",
              "      <td>/threads/recovery-from-torn-rear-suspensory-li...</td>\n",
              "    </tr>\n",
              "    <tr>\n",
              "      <th>24623</th>\n",
              "      <td>/threads/how-to-get-horses-to-gaine-weight.99/</td>\n",
              "      <td>9.0</td>\n",
              "      <td>/threads/how-to-get-horses-to-gaine-weight.99/</td>\n",
              "    </tr>\n",
              "    <tr>\n",
              "      <th>24624</th>\n",
              "      <td>/threads/paxil.102/</td>\n",
              "      <td>4.0</td>\n",
              "      <td>/threads/paxil.102/</td>\n",
              "    </tr>\n",
              "    <tr>\n",
              "      <th>24625</th>\n",
              "      <td>/threads/loose-stool.101/</td>\n",
              "      <td>4.0</td>\n",
              "      <td>/threads/loose-stool.101/</td>\n",
              "    </tr>\n",
              "    <tr>\n",
              "      <th>24626</th>\n",
              "      <td>/threads/quietex.49/</td>\n",
              "      <td>3.0</td>\n",
              "      <td>/threads/quietex.49/</td>\n",
              "    </tr>\n",
              "  </tbody>\n",
              "</table>\n",
              "<p>24627 rows × 3 columns</p>\n",
              "</div>"
            ],
            "text/plain": [
              "                                         thread_url_path  ...                                      page_url_path\n",
              "0      /threads/please-read-before-posting-both-older...  ...  /threads/please-read-before-posting-both-older...\n",
              "1      /threads/poisonous-plants-from-hf-member-locat...  ...  /threads/poisonous-plants-from-hf-member-locat...\n",
              "2        /threads/the-care-of-an-emaciated-horse.100412/  ...    /threads/the-care-of-an-emaciated-horse.100412/\n",
              "3        /threads/the-care-of-an-emaciated-horse.100412/  ...  /threads/the-care-of-an-emaciated-horse.100412...\n",
              "4        /threads/the-care-of-an-emaciated-horse.100412/  ...  /threads/the-care-of-an-emaciated-horse.100412...\n",
              "...                                                  ...  ...                                                ...\n",
              "24622  /threads/recovery-from-torn-rear-suspensory-li...  ...  /threads/recovery-from-torn-rear-suspensory-li...\n",
              "24623     /threads/how-to-get-horses-to-gaine-weight.99/  ...     /threads/how-to-get-horses-to-gaine-weight.99/\n",
              "24624                                /threads/paxil.102/  ...                                /threads/paxil.102/\n",
              "24625                          /threads/loose-stool.101/  ...                          /threads/loose-stool.101/\n",
              "24626                               /threads/quietex.49/  ...                               /threads/quietex.49/\n",
              "\n",
              "[24627 rows x 3 columns]"
            ]
          },
          "metadata": {},
          "execution_count": 145
        }
      ]
    },
    {
      "cell_type": "markdown",
      "metadata": {
        "id": "7Wh6Ty5JCaZU"
      },
      "source": [
        "##### Reload crawled data"
      ]
    },
    {
      "cell_type": "code",
      "metadata": {
        "colab": {
          "base_uri": "https://localhost:8080/"
        },
        "id": "yyvCpkcXfVYn",
        "outputId": "e073e9d4-93f1-4b10-bee7-270141b69644"
      },
      "source": [
        "df_horseforum_thread_posts = pd.read_csv(os.path.join(filepath_data, filename_horseforum_thread_posts_df))\n",
        "print(\"Re-imported posts data: {x[0]} rows × {x[1]} cols\".format(x = df_horseforum_thread_posts.shape))\n",
        "df_horseforum_thread_pages = pd.read_csv(os.path.join(filepath_data, filename_horseforum_thread_pages_df))\n",
        "print(\"Re-imported pages data {x[0]} rows × {x[1]} cols\".format(x = df_horseforum_thread_pages.shape))"
      ],
      "execution_count": 35,
      "outputs": [
        {
          "output_type": "stream",
          "name": "stdout",
          "text": [
            "Re-imported posts data: 232763 rows × 11 cols\n",
            "Re-imported pages data 24627 rows × 3 cols\n"
          ]
        }
      ]
    },
    {
      "cell_type": "markdown",
      "metadata": {
        "id": "KMzmTHlcI3JB"
      },
      "source": [
        "## Python notebook (.ipynb) conversion\n"
      ]
    },
    {
      "cell_type": "code",
      "metadata": {
        "id": "nKho7aenVw7A"
      },
      "source": [
        "# Set notebooks full filename & path\n",
        "filename_Notebook_ipynb = 'A3_Deliverable_2_Lachlan_Sharp.ipynb'\n",
        "filename_Notebook_ipynb = '\\\"' + os.path.join(filepath_root, filename_Notebook_ipynb) + '\\\"'"
      ],
      "execution_count": 63,
      "outputs": []
    },
    {
      "cell_type": "markdown",
      "metadata": {
        "id": "UCdwvvgCmsCi"
      },
      "source": [
        "### Convert to HTML\n",
        "\n",
        "The following code cell was for converting this Python notebook (.ipynb) to HTML (.html)."
      ]
    },
    {
      "cell_type": "code",
      "metadata": {
        "colab": {
          "base_uri": "https://localhost:8080/"
        },
        "id": "xjv0JTJ1H7Yl",
        "outputId": "8d191576-99c8-4fe9-a836-87850dcbad82"
      },
      "source": [
        "# Conversion of notebook to html (Google Colab):\n",
        "!jupyter nbconvert --to html $filename_Notebook_ipynb"
      ],
      "execution_count": 71,
      "outputs": [
        {
          "output_type": "stream",
          "name": "stdout",
          "text": [
            "[NbConvertApp] Converting notebook /content/drive/MyDrive/Colab Notebooks/MA5851/Assessment 3/A3_Deliverable_2_Lachlan_Sharp.ipynb to html\n",
            "[NbConvertApp] Writing 602610 bytes to /content/drive/MyDrive/Colab Notebooks/MA5851/Assessment 3/A3_Deliverable_2_Lachlan_Sharp.html\n"
          ]
        }
      ]
    },
    {
      "cell_type": "markdown",
      "metadata": {
        "id": "HShV7WR-mzaw"
      },
      "source": [
        "### Convert to PDF\n",
        "\n",
        "The following code cell was for converting this Python notebook (.ipynb) to PDF (.pdf).\n",
        "\n"
      ]
    },
    {
      "cell_type": "code",
      "metadata": {
        "id": "oqd9I0nrnD2b"
      },
      "source": [
        "# Install pandoc in order to render PDF (suppress output)\n",
        "%%capture\n",
        "!apt-get install texlive texlive-xetex texlive-latex-extra pandoc\n",
        "!pip install pypandoc"
      ],
      "execution_count": 67,
      "outputs": []
    },
    {
      "cell_type": "code",
      "metadata": {
        "id": "aytN6S5FJOI8",
        "colab": {
          "base_uri": "https://localhost:8080/"
        },
        "outputId": "1a98a196-6b80-4265-ce09-10097b3c7d83"
      },
      "source": [
        "# Conversion of notebook to pdf (Google Colab):\n",
        "!jupyter nbconvert --to PDF A3_Deliverable_2_Lachlan_Sharp.ipynb"
      ],
      "execution_count": 72,
      "outputs": [
        {
          "output_type": "stream",
          "name": "stdout",
          "text": [
            "[NbConvertApp] Converting notebook A3_Deliverable_2_Lachlan_Sharp.ipynb to PDF\n",
            "[NbConvertApp] Support files will be in A3_Deliverable_2_Lachlan_Sharp_files/\n",
            "[NbConvertApp] Making directory ./A3_Deliverable_2_Lachlan_Sharp_files\n",
            "[NbConvertApp] Making directory ./A3_Deliverable_2_Lachlan_Sharp_files\n",
            "[NbConvertApp] Writing 213168 bytes to ./notebook.tex\n",
            "[NbConvertApp] Building PDF\n",
            "[NbConvertApp] Running xelatex 3 times: [u'xelatex', u'./notebook.tex', '-quiet']\n",
            "[NbConvertApp] Running bibtex 1 time: [u'bibtex', u'./notebook']\n",
            "[NbConvertApp] WARNING | bibtex had problems, most likely because there were no citations\n",
            "[NbConvertApp] PDF successfully created\n",
            "[NbConvertApp] Writing 3255592 bytes to A3_Deliverable_2_Lachlan_Sharp.pdf\n"
          ]
        }
      ]
    }
  ]
}