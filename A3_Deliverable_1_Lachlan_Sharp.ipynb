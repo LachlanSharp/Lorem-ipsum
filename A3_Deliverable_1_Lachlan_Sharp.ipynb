{
  "nbformat": 4,
  "nbformat_minor": 0,
  "metadata": {
    "kernelspec": {
      "display_name": "Python 3",
      "language": "python",
      "name": "python3"
    },
    "language_info": {
      "codemirror_mode": {
        "name": "ipython",
        "version": 3
      },
      "file_extension": ".py",
      "mimetype": "text/x-python",
      "name": "python",
      "nbconvert_exporter": "python",
      "pygments_lexer": "ipython3",
      "version": "3.7.3"
    },
    "colab": {
      "name": "A3_Deliverable_1_Lachlan_Sharp.ipynb",
      "provenance": [],
      "collapsed_sections": [
        "UCdwvvgCmsCi"
      ],
      "toc_visible": true,
      "include_colab_link": true
    }
  },
  "cells": [
    {
      "cell_type": "markdown",
      "metadata": {
        "id": "view-in-github",
        "colab_type": "text"
      },
      "source": [
        "<a href=\"https://colab.research.google.com/github/LachlanSharp/Lorem-ipsum/blob/main/A3_Deliverable_1_Lachlan_Sharp.ipynb\" target=\"_parent\"><img src=\"https://colab.research.google.com/assets/colab-badge.svg\" alt=\"Open In Colab\"/></a>"
      ]
    },
    {
      "cell_type": "markdown",
      "metadata": {
        "id": "g1wmZs7Xhb8p"
      },
      "source": [
        "# MA5851 - Assessment 3: WebCrawler and NLP System\n",
        "\n",
        "---\n",
        "\n",
        "* **Task 1**: Overview\n",
        "* **Author**: Lachlan Sharp\n",
        "* **Due Date**: 2021-12-08\n",
        "\n",
        "---\n",
        "\n"
      ]
    },
    {
      "cell_type": "markdown",
      "metadata": {
        "id": "8TbGkePqFbY5"
      },
      "source": [
        "# Overview"
      ]
    },
    {
      "cell_type": "markdown",
      "metadata": {
        "id": "gnMbbfi8luSa"
      },
      "source": [
        "<div style=\"page-break-after: always;\"></div>"
      ]
    },
    {
      "cell_type": "markdown",
      "metadata": {
        "id": "C9KqwHPZPIjH"
      },
      "source": [
        ""
      ]
    },
    {
      "cell_type": "markdown",
      "metadata": {
        "id": "yQMno9agPJ-P"
      },
      "source": [
        "# References"
      ]
    },
    {
      "cell_type": "markdown",
      "metadata": {
        "id": "0LsdLTRpPOev"
      },
      "source": [
        "---\n",
        "\n",
        "# Appendix"
      ]
    },
    {
      "cell_type": "markdown",
      "metadata": {
        "id": "KMzmTHlcI3JB"
      },
      "source": [
        "## Python notebook (.ipynb) conversion\n"
      ]
    },
    {
      "cell_type": "code",
      "metadata": {
        "id": "AtrDfAiNVaUV"
      },
      "source": [
        "# Set notebooks full filename & path\n",
        "filename_Notebook_ipynb = 'A3_Lachlan_Sharp_NLP.ipynb'\n",
        "filename_Notebook_ipynb = '\\\"' + os.path.join(filepath_root, filename_Notebook_ipynb) + '\\\"'"
      ],
      "execution_count": null,
      "outputs": []
    },
    {
      "cell_type": "markdown",
      "metadata": {
        "id": "UCdwvvgCmsCi"
      },
      "source": [
        "### Convert to HTML\n",
        "\n",
        "The following code cell was for converting this Python notebook (.ipynb) to HTML (.html)."
      ]
    },
    {
      "cell_type": "code",
      "metadata": {
        "colab": {
          "base_uri": "https://localhost:8080/"
        },
        "id": "xjv0JTJ1H7Yl",
        "outputId": "f7313181-3384-4b33-ee07-9a1ad6695478"
      },
      "source": [
        "# Conversion of notebook to html (Google Colab):\n",
        "!jupyter nbconvert --to html $filename_Notebook_ipynb"
      ],
      "execution_count": null,
      "outputs": [
        {
          "output_type": "stream",
          "name": "stdout",
          "text": [
            "[NbConvertApp] Converting notebook /content/drive/MyDrive/Colab Notebooks/MA5851/Assessment 3/A3_Lachlan_Sharp_NLP.ipynb to html\n",
            "[NbConvertApp] Writing 665691 bytes to /content/drive/MyDrive/Colab Notebooks/MA5851/Assessment 3/A3_Lachlan_Sharp_NLP.html\n"
          ]
        }
      ]
    },
    {
      "cell_type": "markdown",
      "metadata": {
        "id": "HShV7WR-mzaw"
      },
      "source": [
        "### Convert to PDF\n",
        "\n",
        "The following code cell was for converting this Python notebook (.ipynb) to PDF (.pdf).\n",
        "\n"
      ]
    },
    {
      "cell_type": "code",
      "metadata": {
        "id": "oqd9I0nrnD2b"
      },
      "source": [
        "# Install pandoc in order to render PDF (suppress output)\n",
        "%%capture\n",
        "!apt-get install texlive texlive-xetex texlive-latex-extra pandoc\n",
        "!pip install pypandoc"
      ],
      "execution_count": null,
      "outputs": []
    },
    {
      "cell_type": "code",
      "metadata": {
        "id": "aytN6S5FJOI8",
        "colab": {
          "base_uri": "https://localhost:8080/"
        },
        "outputId": "25324f93-b6b5-4aff-a283-aec5e6d81855"
      },
      "source": [
        "# Conversion of notebook to pdf (Google Colab):\n",
        "filename_Notebook_ipynb = 'A3_Lachlan_Sharp_NLP.ipynb'\n",
        "filename_Notebook_ipynb = '\\\"' + os.path.join(filepath_root, filename_Notebook_ipynb) + '\\\"'\n",
        "\n",
        "!jupyter nbconvert --to PDF $filename_Notebook_ipynb"
      ],
      "execution_count": null,
      "outputs": [
        {
          "output_type": "stream",
          "name": "stdout",
          "text": [
            "[NbConvertApp] Converting notebook /content/drive/MyDrive/Colab Notebooks/MA5851/Assessment 3/A3_Lachlan_Sharp_NLP.ipynb to PDF\n",
            "[NbConvertApp] Support files will be in A3_Lachlan_Sharp_NLP_files/\n",
            "[NbConvertApp] Making directory ./A3_Lachlan_Sharp_NLP_files\n",
            "[NbConvertApp] Making directory ./A3_Lachlan_Sharp_NLP_files\n",
            "[NbConvertApp] Making directory ./A3_Lachlan_Sharp_NLP_files\n",
            "[NbConvertApp] Making directory ./A3_Lachlan_Sharp_NLP_files\n",
            "[NbConvertApp] Making directory ./A3_Lachlan_Sharp_NLP_files\n",
            "[NbConvertApp] Writing 156525 bytes to ./notebook.tex\n",
            "[NbConvertApp] Building PDF\n",
            "[NbConvertApp] Running xelatex 3 times: [u'xelatex', u'./notebook.tex', '-quiet']\n",
            "[NbConvertApp] Running bibtex 1 time: [u'bibtex', u'./notebook']\n",
            "[NbConvertApp] WARNING | bibtex had problems, most likely because there were no citations\n",
            "[NbConvertApp] PDF successfully created\n",
            "[NbConvertApp] Writing 234818 bytes to /content/drive/MyDrive/Colab Notebooks/MA5851/Assessment 3/A3_Lachlan_Sharp_NLP.pdf\n"
          ]
        }
      ]
    }
  ]
}