{
  "nbformat": 4,
  "nbformat_minor": 0,
  "metadata": {
    "kernelspec": {
      "display_name": "Python 3",
      "language": "python",
      "name": "python3"
    },
    "language_info": {
      "codemirror_mode": {
        "name": "ipython",
        "version": 3
      },
      "file_extension": ".py",
      "mimetype": "text/x-python",
      "name": "python",
      "nbconvert_exporter": "python",
      "pygments_lexer": "ipython3",
      "version": "3.7.3"
    },
    "colab": {
      "name": "A3_Deliverable_1_Lachlan_Sharp.ipynb",
      "provenance": [],
      "collapsed_sections": [],
      "toc_visible": true,
      "include_colab_link": true
    }
  },
  "cells": [
    {
      "cell_type": "markdown",
      "metadata": {
        "id": "view-in-github",
        "colab_type": "text"
      },
      "source": [
        "<a href=\"https://colab.research.google.com/github/LachlanSharp/Lorem-ipsum/blob/main/A3_Deliverable_1_Lachlan_Sharp.ipynb\" target=\"_parent\"><img src=\"https://colab.research.google.com/assets/colab-badge.svg\" alt=\"Open In Colab\"/></a>"
      ]
    },
    {
      "cell_type": "markdown",
      "metadata": {
        "id": "g1wmZs7Xhb8p"
      },
      "source": [
        "# MA5851 - Assessment 3: WebCrawler and NLP System\n",
        "\n",
        "---\n",
        "\n",
        "* **Task 1**: Overview\n",
        "* **Author**: Lachlan Sharp\n",
        "* **Due Date**: 2021-12-08\n",
        "\n",
        "Artefacts of this project were published on GitHub: https://github.com/LachlanSharp/Lorem-ipsum.git \n",
        "\n",
        "\n",
        "---\n",
        "\n"
      ]
    },
    {
      "cell_type": "markdown",
      "metadata": {
        "id": "8TbGkePqFbY5"
      },
      "source": [
        "# Overview"
      ]
    },
    {
      "cell_type": "markdown",
      "metadata": {
        "id": "C9KqwHPZPIjH"
      },
      "source": [
        "The equine industry contributes significantly to the global economy, estimated at \\$300 billion (Equine Business Association, n.d.):\n",
        "\n",
        "* Over USD\\$100 billion in the United States, creating 1.7 million jobs (University of Minnesota Extension, 2020), \n",
        "* More than AUD\\$5 billion to the Australian economy (NSW Government, 2007). \n",
        "* Equestrian alone was estimated to contribute more than AUD\\$1 billion to the Australian economy (Equestrian Australia, 2017). \n",
        "\n",
        "Not only are horses a significant financial investment, it was surmised (but not substantiated) that horse owners are also emotionally invested. Hence the health of horses is a topic of both value and interest. Yet animals do not have a voice of their own, and in an age of “Google Doctor” (Bouwman et al, 2010. and Wholsen, 2014), the use of internet forums to discuss issues of horse health are common.\n",
        "\n",
        "There have been numerous studies of ‘topic modelling’ in human healthcare (Prasad et al, 2021, and Valdez et al, 2021), as well as sentiment analysis (Zunic et al, 2020). However, little equivalent was found for animal health. Sentiment analysis has been applied to the human perception of animal welfare (Dalla Costa et al, 2019), and the perception of veterinarians (Widmar, 2020). Yet nothing was found on the topic modelling of animal health issues.\n",
        "\n",
        "Hence this project attempts to broaden knowledge around horse health, by investigating the open question of whether the application of natural language processing (NLP) techniques provides any insights or opportunities for further study. The solution proposed consisted of two major parts:\n",
        "\n",
        "1. WebCrawler: for extracting horse health issues from internet forum posts.\n",
        "2. NLP system: two NLP tasks were performed:\n",
        "    a. Topic modelling: to identify or group main areas of horse health issues.\n",
        "    b. Sentiment analysis: to identify whether severity of condition or outcome could be determined for each topic modelled.\n",
        "\n",
        "**WebCrawler**\n",
        "\n",
        "The WebCrawler was implemented in Python using the `BeautifulSoup` library. It was given a website forum URL as its starting page, then proceeded in two passes:\n",
        "\n",
        "* First, it crawled the forum pages to extract details of each conversation thread.\n",
        "* Secondly, for each thread, it crawled all pages of the thread to retrieve all posts.\n",
        "\n",
        "This data was then saved to file (.csv) as source data for the NLP system.\n",
        "\n",
        "\\  \n",
        "\n",
        "**NLP system**:\n",
        "\n",
        "The NLP system was also implemented in Python, and performed the following steps:\n",
        "\n",
        "* Pre-processing of the data sourced from the WebCrawler.\n",
        "* Topic modelling of each thread within the forum, utilising Latent Dirichlet Allocation (LDA) via the `gensim` library.\n",
        "* Sentiment analysis was applied to each thread using 'VADER', then aggregated with the labels applied during topic modelling.\n",
        "\n"
      ]
    },
    {
      "cell_type": "markdown",
      "metadata": {
        "id": "yQMno9agPJ-P"
      },
      "source": [
        "# References"
      ]
    },
    {
      "cell_type": "markdown",
      "metadata": {
        "id": "cDQ60_Z8sMZ9"
      },
      "source": [
        "Bouwman, M. G., Teunissen, Q. G. A., Wijburg, F. A., & Linthorst, G. E. (2010). ‘Doctor google’ ending the diagnostic odyssey in lysosomal storage disorders: Parents using internet search engines as an efficient diagnostic strategy in rare diseases. *Archives of Disease in Childhood*, 95(8), 642–644. https://doi.org/10.1136/adc.2009.171827 \n",
        "\n",
        "Dalla Costa, E., Tranquillo, V., Dai, F., Minero, M., Battini, M., Mattiello, S., Barbieri, S., Ferrante, V., Ferrari, L., Zanella, A., & Canali, E. (2019). Text mining analysis to evaluate stakeholders’ perception regarding welfare of equines, small ruminants, and turkeys. *Animals*, 9(5). https://doi.org/10.3390/ani9050225 \n",
        "\n",
        "Equestrian Australia (2017). *Equestrian brings more than $1Billion to the Economy*. Equestrian Australia. https://www.equestrian.org.au/news/equestrian-brings-more-1billion-economy \n",
        "\n",
        "Equine Business Association (n.d.). *The Equine Industry: A Global Perspective*. Equine Business Association. https://www.equinebusinessassociation.com/equine-industry-statistics/ \n",
        "\n",
        "NSW Government (2007). *Horse industry value to Australian economy*. NSW Government. https://www.dpi.nsw.gov.au/content/archive/news-releases/agriculture/2007/horse-industry-value-to-australian-economy \n",
        "\n",
        "Prasad, K., Mohammed, M., & Noorullah, R. M. (2021). Visual topic models for healthcare data clustering. *Evolutionary Intelligence*, 14. https://doi.org/10.1007/s12065-019-00300-y \n",
        "\n",
        "University of Minnesota Extension (2020). *Economic impact of the horse industry*. University of Minnesota Extension. https://extension.umn.edu/horse-ownership/economic-impact-horse-industry \n",
        "\n",
        "Valdez, D., Picket, A. C., Young, B.-R., & Golden, S. (2021). On mining words: The utility of topic models in health education research and practice. *Health Promotion Practice*, 22(3), 309–312. https://doi.org/10.1177/1524839921999050 \n",
        "\n",
        "Widmar, N., Bir, C., Lai, J., & Wolf, C. (2020). Public Perceptions of Veterinarians from Social and Online Media Listening. *Veterinary sciences*, 7(2), 75. https://doi.org/10.3390/vetsci7020075\n",
        "\n",
        "Wohlsen, M. (2014). *The Google Doctor Is a Reminder of How Badly the Internet Does Real Medicine*. Wired, https://www.wired.com/2014/10/google-doctor-reminder-badly-internet-real-medicine/ \n",
        "\n",
        "Zunic, A., Corcoran, P., & Spasic, I. (2020). Sentiment analysis in health and well-being: Systematic review. *JMIR Med Inform*, 8(1), e16023. https://doi.org/10.2196/16023 \n"
      ]
    },
    {
      "cell_type": "markdown",
      "metadata": {
        "id": "gnMbbfi8luSa"
      },
      "source": [
        "<div style=\"page-break-after: always;\"></div>"
      ]
    },
    {
      "cell_type": "markdown",
      "metadata": {
        "id": "0LsdLTRpPOev"
      },
      "source": [
        "---\n",
        "\n",
        "# Appendix"
      ]
    },
    {
      "cell_type": "markdown",
      "metadata": {
        "id": "KMzmTHlcI3JB"
      },
      "source": [
        "## Python notebook (.ipynb) conversion\n"
      ]
    },
    {
      "cell_type": "code",
      "metadata": {
        "colab": {
          "base_uri": "https://localhost:8080/"
        },
        "id": "vERA5ngitovo",
        "outputId": "fce6014b-80c2-4b98-d534-4467f5a97fba"
      },
      "source": [
        "# Mount Google Drive\n",
        "from google.colab import drive\n",
        "drive.mount('/content/drive')"
      ],
      "execution_count": 1,
      "outputs": [
        {
          "output_type": "stream",
          "name": "stdout",
          "text": [
            "Mounted at /content/drive\n"
          ]
        }
      ]
    },
    {
      "cell_type": "code",
      "metadata": {
        "id": "AtrDfAiNVaUV"
      },
      "source": [
        "import os.path # Operating system interface\n",
        "\n",
        "# Set directory paths root filepath for data-project\n",
        "filepath_root = '/content/drive/MyDrive/Colab Notebooks/MA5851/Assessment 3' # data-project root\n",
        "\n",
        "# Set notebooks full filename & path\n",
        "filename_Notebook_ipynb = 'A3_Deliverable_1_Lachlan_Sharp.ipynb'\n",
        "filename_Notebook_ipynb = '\\\"' + os.path.join(filepath_root, filename_Notebook_ipynb) + '\\\"'"
      ],
      "execution_count": 2,
      "outputs": []
    },
    {
      "cell_type": "markdown",
      "metadata": {
        "id": "UCdwvvgCmsCi"
      },
      "source": [
        "### Convert to HTML\n",
        "\n",
        "The following code cell was for converting this Python notebook (.ipynb) to HTML (.html)."
      ]
    },
    {
      "cell_type": "code",
      "metadata": {
        "colab": {
          "base_uri": "https://localhost:8080/"
        },
        "id": "xjv0JTJ1H7Yl",
        "outputId": "a4a55161-bcef-4143-a750-08441a81c3d3"
      },
      "source": [
        "# Conversion of notebook to html (Google Colab):\n",
        "!jupyter nbconvert --to html $filename_Notebook_ipynb"
      ],
      "execution_count": 3,
      "outputs": [
        {
          "output_type": "stream",
          "name": "stdout",
          "text": [
            "[NbConvertApp] Converting notebook /content/drive/MyDrive/Colab Notebooks/MA5851/Assessment 3/A3_Deliverable_1_Lachlan_Sharp.ipynb to html\n",
            "[NbConvertApp] Writing 287482 bytes to /content/drive/MyDrive/Colab Notebooks/MA5851/Assessment 3/A3_Deliverable_1_Lachlan_Sharp.html\n"
          ]
        }
      ]
    },
    {
      "cell_type": "markdown",
      "metadata": {
        "id": "HShV7WR-mzaw"
      },
      "source": [
        "### Convert to PDF\n",
        "\n",
        "The following code cell was for converting this Python notebook (.ipynb) to PDF (.pdf).\n",
        "\n"
      ]
    },
    {
      "cell_type": "code",
      "metadata": {
        "id": "oqd9I0nrnD2b"
      },
      "source": [
        "# Install pandoc in order to render PDF (suppress output)\n",
        "%%capture\n",
        "!apt-get install texlive texlive-xetex texlive-latex-extra pandoc\n",
        "!pip install pypandoc"
      ],
      "execution_count": 4,
      "outputs": []
    },
    {
      "cell_type": "code",
      "metadata": {
        "id": "aytN6S5FJOI8",
        "colab": {
          "base_uri": "https://localhost:8080/"
        },
        "outputId": "f2abcdd6-7f68-4c6d-bedd-0e44ad68d62a"
      },
      "source": [
        "# Conversion of notebook to pdf (Google Colab):\n",
        "!jupyter nbconvert --to PDF $filename_Notebook_ipynb"
      ],
      "execution_count": 5,
      "outputs": [
        {
          "output_type": "stream",
          "name": "stdout",
          "text": [
            "[NbConvertApp] Converting notebook /content/drive/MyDrive/Colab Notebooks/MA5851/Assessment 3/A3_Deliverable_1_Lachlan_Sharp.ipynb to PDF\n",
            "[NbConvertApp] Writing 30817 bytes to ./notebook.tex\n",
            "[NbConvertApp] Building PDF\n",
            "[NbConvertApp] Running xelatex 3 times: [u'xelatex', u'./notebook.tex', '-quiet']\n",
            "[NbConvertApp] Running bibtex 1 time: [u'bibtex', u'./notebook']\n",
            "[NbConvertApp] WARNING | bibtex had problems, most likely because there were no citations\n",
            "[NbConvertApp] PDF successfully created\n",
            "[NbConvertApp] Writing 46237 bytes to /content/drive/MyDrive/Colab Notebooks/MA5851/Assessment 3/A3_Deliverable_1_Lachlan_Sharp.pdf\n"
          ]
        }
      ]
    }
  ]
}